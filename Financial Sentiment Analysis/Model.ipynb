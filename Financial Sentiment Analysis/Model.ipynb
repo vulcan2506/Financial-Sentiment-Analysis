{
 "cells": [
  {
   "cell_type": "code",
   "execution_count": 25,
   "id": "49d12a87-96a5-408d-b340-7b6e2e21d8bb",
   "metadata": {},
   "outputs": [],
   "source": [
    "import pandas as pd \n",
    "import tensorflow as tf\n",
    "from tensorflow.keras.models import Sequential\n",
    "from tensorflow.keras.preprocessing.text import Tokenizer\n",
    "from tensorflow.keras.preprocessing.sequence import pad_sequences\n",
    "from tensorflow.keras.layers import LSTM,Dense,Dropout,Bidirectional,Embedding,BatchNormalization\n",
    "from keras.regularizers import l2\n",
    "from sklearn.model_selection import train_test_split\n",
    "import numpy as np\n",
    "from tensorflow.keras.optimizers import Adam"
   ]
  },
  {
   "cell_type": "code",
   "execution_count": 2,
   "id": "d643c7c4-2a31-4fbf-84aa-18fbc0bfae1c",
   "metadata": {},
   "outputs": [],
   "source": [
    "\n",
    "# Read CSV file\n",
    "df = pd.read_csv(\"Balanced_sentiments.csv\")\n",
    "\n",
    "# Convert specific column to string\n",
    "df[\"headline\"] = df[\"headline\"].astype(str)\n",
    "\n",
    "# Save the modified DataFrame to a new CSV file\n",
    "df.to_csv(\"Balanced_sentiments.csv\", index=True)\n"
   ]
  },
  {
   "cell_type": "code",
   "execution_count": 3,
   "id": "fbc4b239-5815-419a-9978-a282df67b7fc",
   "metadata": {},
   "outputs": [
    {
     "data": {
      "text/html": [
       "<div>\n",
       "<style scoped>\n",
       "    .dataframe tbody tr th:only-of-type {\n",
       "        vertical-align: middle;\n",
       "    }\n",
       "\n",
       "    .dataframe tbody tr th {\n",
       "        vertical-align: top;\n",
       "    }\n",
       "\n",
       "    .dataframe thead th {\n",
       "        text-align: right;\n",
       "    }\n",
       "</style>\n",
       "<table border=\"1\" class=\"dataframe\">\n",
       "  <thead>\n",
       "    <tr style=\"text-align: right;\">\n",
       "      <th></th>\n",
       "      <th>Unnamed: 0</th>\n",
       "      <th>headline</th>\n",
       "      <th>label</th>\n",
       "    </tr>\n",
       "  </thead>\n",
       "  <tbody>\n",
       "    <tr>\n",
       "      <th>0</th>\n",
       "      <td>0</td>\n",
       "      <td>market close mostly low rost panw report earning</td>\n",
       "      <td>negative</td>\n",
       "    </tr>\n",
       "    <tr>\n",
       "      <th>1</th>\n",
       "      <td>1</td>\n",
       "      <td>gap plummet earning miss cut fullyear forecast</td>\n",
       "      <td>negative</td>\n",
       "    </tr>\n",
       "    <tr>\n",
       "      <th>2</th>\n",
       "      <td>2</td>\n",
       "      <td>billionaire ken fisher sell 10 stock</td>\n",
       "      <td>negative</td>\n",
       "    </tr>\n",
       "    <tr>\n",
       "      <th>3</th>\n",
       "      <td>3</td>\n",
       "      <td>corn net income drop 13 share fall</td>\n",
       "      <td>negative</td>\n",
       "    </tr>\n",
       "    <tr>\n",
       "      <th>4</th>\n",
       "      <td>4</td>\n",
       "      <td>internet explorer shutdown cause japan problem...</td>\n",
       "      <td>negative</td>\n",
       "    </tr>\n",
       "    <tr>\n",
       "      <th>...</th>\n",
       "      <td>...</td>\n",
       "      <td>...</td>\n",
       "      <td>...</td>\n",
       "    </tr>\n",
       "    <tr>\n",
       "      <th>30840</th>\n",
       "      <td>30840</td>\n",
       "      <td>london marketwatch share price end low london ...</td>\n",
       "      <td>negative</td>\n",
       "    </tr>\n",
       "    <tr>\n",
       "      <th>30841</th>\n",
       "      <td>30841</td>\n",
       "      <td>rinkuskiai beer sale fall 65 per cent 416 mill...</td>\n",
       "      <td>neutral</td>\n",
       "    </tr>\n",
       "    <tr>\n",
       "      <th>30842</th>\n",
       "      <td>30842</td>\n",
       "      <td>operate profit fall our 354 in our 688 in 2007...</td>\n",
       "      <td>negative</td>\n",
       "    </tr>\n",
       "    <tr>\n",
       "      <th>30843</th>\n",
       "      <td>30843</td>\n",
       "      <td>net sale paper segment decrease our 2216 in se...</td>\n",
       "      <td>negative</td>\n",
       "    </tr>\n",
       "    <tr>\n",
       "      <th>30844</th>\n",
       "      <td>30844</td>\n",
       "      <td>sale finland decrease 105 january sale outside...</td>\n",
       "      <td>negative</td>\n",
       "    </tr>\n",
       "  </tbody>\n",
       "</table>\n",
       "<p>30845 rows × 3 columns</p>\n",
       "</div>"
      ],
      "text/plain": [
       "       Unnamed: 0                                           headline     label\n",
       "0               0   market close mostly low rost panw report earning  negative\n",
       "1               1     gap plummet earning miss cut fullyear forecast  negative\n",
       "2               2               billionaire ken fisher sell 10 stock  negative\n",
       "3               3                 corn net income drop 13 share fall  negative\n",
       "4               4  internet explorer shutdown cause japan problem...  negative\n",
       "...           ...                                                ...       ...\n",
       "30840       30840  london marketwatch share price end low london ...  negative\n",
       "30841       30841  rinkuskiai beer sale fall 65 per cent 416 mill...   neutral\n",
       "30842       30842  operate profit fall our 354 in our 688 in 2007...  negative\n",
       "30843       30843  net sale paper segment decrease our 2216 in se...  negative\n",
       "30844       30844  sale finland decrease 105 january sale outside...  negative\n",
       "\n",
       "[30845 rows x 3 columns]"
      ]
     },
     "execution_count": 3,
     "metadata": {},
     "output_type": "execute_result"
    }
   ],
   "source": [
    "df"
   ]
  },
  {
   "cell_type": "code",
   "execution_count": 4,
   "id": "2585dd54-080c-412f-9aad-aed30c4c288c",
   "metadata": {},
   "outputs": [
    {
     "data": {
      "text/plain": [
       "(13811, 3)"
      ]
     },
     "execution_count": 4,
     "metadata": {},
     "output_type": "execute_result"
    }
   ],
   "source": [
    "df1 = df[df[\"label\"]==\"positive\"]\n",
    "df1.shape"
   ]
  },
  {
   "cell_type": "code",
   "execution_count": 5,
   "id": "c3f21105-7507-4d57-9e8a-4a78dd64b96b",
   "metadata": {},
   "outputs": [
    {
     "data": {
      "text/plain": [
       "(11626, 3)"
      ]
     },
     "execution_count": 5,
     "metadata": {},
     "output_type": "execute_result"
    }
   ],
   "source": [
    "df2 = df[df[\"label\"]==\"neutral\"]\n",
    "df2.shape"
   ]
  },
  {
   "cell_type": "code",
   "execution_count": 6,
   "id": "1ada107e-fb4e-48fc-910c-a9295d653a3f",
   "metadata": {},
   "outputs": [
    {
     "data": {
      "text/plain": [
       "(5408, 3)"
      ]
     },
     "execution_count": 6,
     "metadata": {},
     "output_type": "execute_result"
    }
   ],
   "source": [
    "df3 = df[df[\"label\"]==\"negative\"]\n",
    "df3.shape"
   ]
  },
  {
   "cell_type": "code",
   "execution_count": 7,
   "id": "4629c558-3c43-4fd1-9bde-229033de0a61",
   "metadata": {},
   "outputs": [
    {
     "data": {
      "text/plain": [
       "283937"
      ]
     },
     "execution_count": 7,
     "metadata": {},
     "output_type": "execute_result"
    }
   ],
   "source": [
    "df[\"word_count\"] = df[\"headline\"].apply(lambda x:len(str(x).split()))\n",
    "total_words = df[\"word_count\"].sum()\n",
    "total_words"
   ]
  },
  {
   "cell_type": "code",
   "execution_count": 8,
   "id": "fbf8a76b-0c8c-4f6e-b168-2a626a871784",
   "metadata": {},
   "outputs": [],
   "source": [
    "input_length = 60"
   ]
  },
  {
   "cell_type": "code",
   "execution_count": 9,
   "id": "5c30f0f2-7d4d-4c1a-a875-a5ebd63d1c04",
   "metadata": {},
   "outputs": [
    {
     "data": {
      "text/plain": [
       "array([0, 0, 0, ..., 0, 0, 0])"
      ]
     },
     "execution_count": 9,
     "metadata": {},
     "output_type": "execute_result"
    }
   ],
   "source": [
    "from sklearn.preprocessing import LabelEncoder\n",
    "label_encoder = LabelEncoder()\n",
    "text_labels = [\"positive\", \"negative\",\"neutral\"]\n",
    "label_encoder.fit(text_labels)\n",
    "\n",
    "y = label_encoder.transform(df[\"label\"])\n",
    "y"
   ]
  },
  {
   "cell_type": "markdown",
   "id": "51e098e7-7288-4c1a-a9cb-b1abbdfb0f59",
   "metadata": {},
   "source": [
    "## Word2Vec Model"
   ]
  },
  {
   "cell_type": "code",
   "execution_count": 10,
   "id": "70d3105e-f85a-4032-9724-452762a42de5",
   "metadata": {},
   "outputs": [
    {
     "name": "stdout",
     "output_type": "stream",
     "text": [
      "Data Split done.\n"
     ]
    },
    {
     "data": {
      "text/plain": [
       "(24676,)"
      ]
     },
     "execution_count": 10,
     "metadata": {},
     "output_type": "execute_result"
    }
   ],
   "source": [
    "from sklearn.model_selection import train_test_split\n",
    "X_data, y_data = np.array(df['headline']), np.array(y)\n",
    "\n",
    "X_train, X_test, y_train, y_test = train_test_split(X_data, y_data,\n",
    "                                                    test_size = 0.2, random_state = 42)\n",
    "print('Data Split done.')\n",
    "X_train.shape"
   ]
  },
  {
   "cell_type": "code",
   "execution_count": 11,
   "id": "1128645c-ad3a-4252-a1ac-b840a901365d",
   "metadata": {},
   "outputs": [
    {
     "data": {
      "text/plain": [
       "24676"
      ]
     },
     "execution_count": 11,
     "metadata": {},
     "output_type": "execute_result"
    }
   ],
   "source": [
    "\n",
    "from gensim.models import Word2Vec\n",
    "\n",
    "Embedding_dimensions = 128\n",
    "\n",
    "# Creating Word2Vec training dataset.\n",
    "Word2vec_train_data = list(map(lambda x: x.split(), X_train))\n",
    "len(Word2vec_train_data)"
   ]
  },
  {
   "cell_type": "code",
   "execution_count": 12,
   "id": "b0a14c3a-bb18-4dad-996d-3f9b6db89d36",
   "metadata": {},
   "outputs": [
    {
     "name": "stdout",
     "output_type": "stream",
     "text": [
      "Vocabulary Length: 5055\n"
     ]
    }
   ],
   "source": [
    "word2vec_model = Word2Vec(Word2vec_train_data,\n",
    "                 vector_size=Embedding_dimensions,\n",
    "                 window=5,\n",
    "                 workers=6,\n",
    "                 min_count=5)\n",
    "\n",
    "print(\"Vocabulary Length:\", len(word2vec_model.wv.key_to_index))"
   ]
  },
  {
   "cell_type": "code",
   "execution_count": 13,
   "id": "3d92a103-ff3c-4059-91d9-336ddcbbb2d6",
   "metadata": {},
   "outputs": [],
   "source": [
    "tokenizer = Tokenizer(num_words=total_words)\n",
    "tokenizer.fit_on_texts(X_train)\n",
    "tokenizer.fit_on_texts(X_test)\n",
    "\n",
    "train_sequences = tokenizer.texts_to_sequences(X_train)\n",
    "test_sequences = tokenizer.texts_to_sequences(X_test)\n",
    "\n",
    "\n",
    "\n"
   ]
  },
  {
   "cell_type": "code",
   "execution_count": 14,
   "id": "205549d4-abdd-431b-8607-c766472b9d4c",
   "metadata": {},
   "outputs": [
    {
     "data": {
      "text/plain": [
       "21767"
      ]
     },
     "execution_count": 14,
     "metadata": {},
     "output_type": "execute_result"
    }
   ],
   "source": [
    "word_index = tokenizer.word_index\n",
    "vocab_size = len(word_index) + 1 \n",
    "vocab_size"
   ]
  },
  {
   "cell_type": "code",
   "execution_count": 15,
   "id": "2baa771d-e8e7-4a96-8cc2-f6d0a3d893c3",
   "metadata": {},
   "outputs": [
    {
     "name": "stdout",
     "output_type": "stream",
     "text": [
      "Embedding Matrix Shape: (21767, 128)\n"
     ]
    }
   ],
   "source": [
    "embedding_matrix = np.zeros((vocab_size, Embedding_dimensions))\n",
    "\n",
    "for word, token in tokenizer.word_index.items():\n",
    "    if word2vec_model.wv.__contains__(word):\n",
    "        embedding_matrix[token] = word2vec_model.wv.__getitem__(word)\n",
    "\n",
    "print(\"Embedding Matrix Shape:\", embedding_matrix.shape)\n",
    "\n"
   ]
  },
  {
   "cell_type": "markdown",
   "id": "0962f1a4-a6cb-4e23-8f93-609cfbb92492",
   "metadata": {},
   "source": [
    "## Creating Bi-Directioal LSTM Model"
   ]
  },
  {
   "cell_type": "code",
   "execution_count": null,
   "id": "debeb1eb-d2ca-455a-8f91-ebd2a755b96d",
   "metadata": {},
   "outputs": [],
   "source": []
  },
  {
   "cell_type": "markdown",
   "id": "36506e02-afc7-455a-ac21-020a44db76e0",
   "metadata": {},
   "source": [
    "## Training Bi-LSTM"
   ]
  },
  {
   "cell_type": "code",
   "execution_count": 16,
   "id": "70eca29e-135c-4d4f-9ee5-dde7dcd161de",
   "metadata": {},
   "outputs": [
    {
     "data": {
      "text/plain": [
       "array([   20,   624,  2939,  1508,   341,   829, 11169,  6635,   652,\n",
       "       11170,  6636,   207,     0,     0,     0,     0,     0,     0,\n",
       "           0,     0,     0,     0,     0,     0,     0,     0,     0,\n",
       "           0,     0,     0,     0,     0,     0,     0,     0,     0,\n",
       "           0,     0,     0,     0,     0,     0,     0,     0,     0,\n",
       "           0,     0,     0,     0,     0,     0,     0,     0,     0,\n",
       "           0,     0,     0,     0,     0,     0], dtype=int32)"
      ]
     },
     "execution_count": 16,
     "metadata": {},
     "output_type": "execute_result"
    }
   ],
   "source": [
    "paded_sequences = pad_sequences(train_sequences,maxlen=input_length,padding=\"post\",truncating=\"post\")\n",
    "test_paded_sequences = pad_sequences(test_sequences,maxlen=input_length,padding=\"post\",truncating=\"post\")\n",
    "paded_sequences[50]"
   ]
  },
  {
   "cell_type": "code",
   "execution_count": 17,
   "id": "bd33a600-56f5-4700-ac0d-07adebf59c5e",
   "metadata": {},
   "outputs": [
    {
     "data": {
      "text/plain": [
       "(24676,)"
      ]
     },
     "execution_count": 17,
     "metadata": {},
     "output_type": "execute_result"
    }
   ],
   "source": [
    "X_train.shape"
   ]
  },
  {
   "cell_type": "code",
   "execution_count": 18,
   "id": "7d6d2f98-f30a-4709-8886-e7e323b007ea",
   "metadata": {},
   "outputs": [
    {
     "name": "stderr",
     "output_type": "stream",
     "text": [
      "/home/vulcan/.local/lib/python3.10/site-packages/keras/src/layers/core/embedding.py:90: UserWarning: Argument `input_length` is deprecated. Just remove it.\n",
      "  warnings.warn(\n",
      "2024-09-03 14:47:33.231574: I external/local_xla/xla/stream_executor/cuda/cuda_executor.cc:998] successful NUMA node read from SysFS had negative value (-1), but there must be at least one NUMA node, so returning NUMA node zero. See more at https://github.com/torvalds/linux/blob/v6.0/Documentation/ABI/testing/sysfs-bus-pci#L344-L355\n",
      "2024-09-03 14:47:33.261410: I external/local_xla/xla/stream_executor/cuda/cuda_executor.cc:998] successful NUMA node read from SysFS had negative value (-1), but there must be at least one NUMA node, so returning NUMA node zero. See more at https://github.com/torvalds/linux/blob/v6.0/Documentation/ABI/testing/sysfs-bus-pci#L344-L355\n",
      "2024-09-03 14:47:33.265605: I external/local_xla/xla/stream_executor/cuda/cuda_executor.cc:998] successful NUMA node read from SysFS had negative value (-1), but there must be at least one NUMA node, so returning NUMA node zero. See more at https://github.com/torvalds/linux/blob/v6.0/Documentation/ABI/testing/sysfs-bus-pci#L344-L355\n",
      "2024-09-03 14:47:33.270177: I external/local_xla/xla/stream_executor/cuda/cuda_executor.cc:998] successful NUMA node read from SysFS had negative value (-1), but there must be at least one NUMA node, so returning NUMA node zero. See more at https://github.com/torvalds/linux/blob/v6.0/Documentation/ABI/testing/sysfs-bus-pci#L344-L355\n",
      "2024-09-03 14:47:33.274094: I external/local_xla/xla/stream_executor/cuda/cuda_executor.cc:998] successful NUMA node read from SysFS had negative value (-1), but there must be at least one NUMA node, so returning NUMA node zero. See more at https://github.com/torvalds/linux/blob/v6.0/Documentation/ABI/testing/sysfs-bus-pci#L344-L355\n",
      "2024-09-03 14:47:33.277892: I external/local_xla/xla/stream_executor/cuda/cuda_executor.cc:998] successful NUMA node read from SysFS had negative value (-1), but there must be at least one NUMA node, so returning NUMA node zero. See more at https://github.com/torvalds/linux/blob/v6.0/Documentation/ABI/testing/sysfs-bus-pci#L344-L355\n",
      "2024-09-03 14:47:33.391657: I external/local_xla/xla/stream_executor/cuda/cuda_executor.cc:998] successful NUMA node read from SysFS had negative value (-1), but there must be at least one NUMA node, so returning NUMA node zero. See more at https://github.com/torvalds/linux/blob/v6.0/Documentation/ABI/testing/sysfs-bus-pci#L344-L355\n",
      "2024-09-03 14:47:33.393572: I external/local_xla/xla/stream_executor/cuda/cuda_executor.cc:998] successful NUMA node read from SysFS had negative value (-1), but there must be at least one NUMA node, so returning NUMA node zero. See more at https://github.com/torvalds/linux/blob/v6.0/Documentation/ABI/testing/sysfs-bus-pci#L344-L355\n",
      "2024-09-03 14:47:33.395290: I external/local_xla/xla/stream_executor/cuda/cuda_executor.cc:998] successful NUMA node read from SysFS had negative value (-1), but there must be at least one NUMA node, so returning NUMA node zero. See more at https://github.com/torvalds/linux/blob/v6.0/Documentation/ABI/testing/sysfs-bus-pci#L344-L355\n",
      "2024-09-03 14:47:33.396995: I tensorflow/core/common_runtime/gpu/gpu_device.cc:1928] Created device /job:localhost/replica:0/task:0/device:GPU:0 with 6172 MB memory:  -> device: 0, name: NVIDIA GeForce RTX 3070 Ti Laptop GPU, pci bus id: 0000:01:00.0, compute capability: 8.6\n"
     ]
    }
   ],
   "source": [
    "model = Sequential([Embedding(input_dim=vocab_size,\n",
    "                              output_dim=128,\n",
    "                              weights=[embedding_matrix],\n",
    "                              input_length=input_length),\n",
    "                   Bidirectional(LSTM(100,return_sequences=True,kernel_regularizer=l2(0.001),recurrent_regularizer=l2(0.001),\n",
    "                                      bias_regularizer=l2(0.001),dropout=(0.2),recurrent_dropout=(0.2))),\n",
    "                   ##Dropout(0.2),\n",
    "                   Bidirectional(LSTM(100,return_sequences=False,kernel_regularizer=l2(0.001),recurrent_regularizer=l2(0.001),\n",
    "                                      bias_regularizer=l2(0.001),dropout=(0.2),recurrent_dropout=(0.2))),\n",
    "                   ##Dropout(0.2),\n",
    "                   Dense(16, activation='relu'),\n",
    "                   Dense(3,activation=\"softmax\")])\n"
   ]
  },
  {
   "cell_type": "code",
   "execution_count": 19,
   "id": "e0cb27e4-dbcb-4d11-9098-0c73326cf1a6",
   "metadata": {},
   "outputs": [
    {
     "data": {
      "text/html": [
       "<pre style=\"white-space:pre;overflow-x:auto;line-height:normal;font-family:Menlo,'DejaVu Sans Mono',consolas,'Courier New',monospace\"><span style=\"font-weight: bold\">Model: \"sequential\"</span>\n",
       "</pre>\n"
      ],
      "text/plain": [
       "\u001b[1mModel: \"sequential\"\u001b[0m\n"
      ]
     },
     "metadata": {},
     "output_type": "display_data"
    },
    {
     "data": {
      "text/html": [
       "<pre style=\"white-space:pre;overflow-x:auto;line-height:normal;font-family:Menlo,'DejaVu Sans Mono',consolas,'Courier New',monospace\">┏━━━━━━━━━━━━━━━━━━━━━━━━━━━━━━━━━┳━━━━━━━━━━━━━━━━━━━━━━━━┳━━━━━━━━━━━━━━━┓\n",
       "┃<span style=\"font-weight: bold\"> Layer (type)                    </span>┃<span style=\"font-weight: bold\"> Output Shape           </span>┃<span style=\"font-weight: bold\">       Param # </span>┃\n",
       "┡━━━━━━━━━━━━━━━━━━━━━━━━━━━━━━━━━╇━━━━━━━━━━━━━━━━━━━━━━━━╇━━━━━━━━━━━━━━━┩\n",
       "│ embedding (<span style=\"color: #0087ff; text-decoration-color: #0087ff\">Embedding</span>)           │ ?                      │     <span style=\"color: #00af00; text-decoration-color: #00af00\">2,786,176</span> │\n",
       "├─────────────────────────────────┼────────────────────────┼───────────────┤\n",
       "│ bidirectional (<span style=\"color: #0087ff; text-decoration-color: #0087ff\">Bidirectional</span>)   │ ?                      │   <span style=\"color: #00af00; text-decoration-color: #00af00\">0</span> (unbuilt) │\n",
       "├─────────────────────────────────┼────────────────────────┼───────────────┤\n",
       "│ bidirectional_1 (<span style=\"color: #0087ff; text-decoration-color: #0087ff\">Bidirectional</span>) │ ?                      │   <span style=\"color: #00af00; text-decoration-color: #00af00\">0</span> (unbuilt) │\n",
       "├─────────────────────────────────┼────────────────────────┼───────────────┤\n",
       "│ dense (<span style=\"color: #0087ff; text-decoration-color: #0087ff\">Dense</span>)                   │ ?                      │   <span style=\"color: #00af00; text-decoration-color: #00af00\">0</span> (unbuilt) │\n",
       "├─────────────────────────────────┼────────────────────────┼───────────────┤\n",
       "│ dense_1 (<span style=\"color: #0087ff; text-decoration-color: #0087ff\">Dense</span>)                 │ ?                      │   <span style=\"color: #00af00; text-decoration-color: #00af00\">0</span> (unbuilt) │\n",
       "└─────────────────────────────────┴────────────────────────┴───────────────┘\n",
       "</pre>\n"
      ],
      "text/plain": [
       "┏━━━━━━━━━━━━━━━━━━━━━━━━━━━━━━━━━┳━━━━━━━━━━━━━━━━━━━━━━━━┳━━━━━━━━━━━━━━━┓\n",
       "┃\u001b[1m \u001b[0m\u001b[1mLayer (type)                   \u001b[0m\u001b[1m \u001b[0m┃\u001b[1m \u001b[0m\u001b[1mOutput Shape          \u001b[0m\u001b[1m \u001b[0m┃\u001b[1m \u001b[0m\u001b[1m      Param #\u001b[0m\u001b[1m \u001b[0m┃\n",
       "┡━━━━━━━━━━━━━━━━━━━━━━━━━━━━━━━━━╇━━━━━━━━━━━━━━━━━━━━━━━━╇━━━━━━━━━━━━━━━┩\n",
       "│ embedding (\u001b[38;5;33mEmbedding\u001b[0m)           │ ?                      │     \u001b[38;5;34m2,786,176\u001b[0m │\n",
       "├─────────────────────────────────┼────────────────────────┼───────────────┤\n",
       "│ bidirectional (\u001b[38;5;33mBidirectional\u001b[0m)   │ ?                      │   \u001b[38;5;34m0\u001b[0m (unbuilt) │\n",
       "├─────────────────────────────────┼────────────────────────┼───────────────┤\n",
       "│ bidirectional_1 (\u001b[38;5;33mBidirectional\u001b[0m) │ ?                      │   \u001b[38;5;34m0\u001b[0m (unbuilt) │\n",
       "├─────────────────────────────────┼────────────────────────┼───────────────┤\n",
       "│ dense (\u001b[38;5;33mDense\u001b[0m)                   │ ?                      │   \u001b[38;5;34m0\u001b[0m (unbuilt) │\n",
       "├─────────────────────────────────┼────────────────────────┼───────────────┤\n",
       "│ dense_1 (\u001b[38;5;33mDense\u001b[0m)                 │ ?                      │   \u001b[38;5;34m0\u001b[0m (unbuilt) │\n",
       "└─────────────────────────────────┴────────────────────────┴───────────────┘\n"
      ]
     },
     "metadata": {},
     "output_type": "display_data"
    },
    {
     "data": {
      "text/html": [
       "<pre style=\"white-space:pre;overflow-x:auto;line-height:normal;font-family:Menlo,'DejaVu Sans Mono',consolas,'Courier New',monospace\"><span style=\"font-weight: bold\"> Total params: </span><span style=\"color: #00af00; text-decoration-color: #00af00\">2,786,176</span> (10.63 MB)\n",
       "</pre>\n"
      ],
      "text/plain": [
       "\u001b[1m Total params: \u001b[0m\u001b[38;5;34m2,786,176\u001b[0m (10.63 MB)\n"
      ]
     },
     "metadata": {},
     "output_type": "display_data"
    },
    {
     "data": {
      "text/html": [
       "<pre style=\"white-space:pre;overflow-x:auto;line-height:normal;font-family:Menlo,'DejaVu Sans Mono',consolas,'Courier New',monospace\"><span style=\"font-weight: bold\"> Trainable params: </span><span style=\"color: #00af00; text-decoration-color: #00af00\">2,786,176</span> (10.63 MB)\n",
       "</pre>\n"
      ],
      "text/plain": [
       "\u001b[1m Trainable params: \u001b[0m\u001b[38;5;34m2,786,176\u001b[0m (10.63 MB)\n"
      ]
     },
     "metadata": {},
     "output_type": "display_data"
    },
    {
     "data": {
      "text/html": [
       "<pre style=\"white-space:pre;overflow-x:auto;line-height:normal;font-family:Menlo,'DejaVu Sans Mono',consolas,'Courier New',monospace\"><span style=\"font-weight: bold\"> Non-trainable params: </span><span style=\"color: #00af00; text-decoration-color: #00af00\">0</span> (0.00 B)\n",
       "</pre>\n"
      ],
      "text/plain": [
       "\u001b[1m Non-trainable params: \u001b[0m\u001b[38;5;34m0\u001b[0m (0.00 B)\n"
      ]
     },
     "metadata": {},
     "output_type": "display_data"
    }
   ],
   "source": [
    "model.summary()"
   ]
  },
  {
   "cell_type": "code",
   "execution_count": 20,
   "id": "21af06c8-6b4d-4e52-85d4-9505ded1d7e2",
   "metadata": {},
   "outputs": [
    {
     "data": {
      "text/plain": [
       "array([0, 1, 0, ..., 0, 2, 2])"
      ]
     },
     "execution_count": 20,
     "metadata": {},
     "output_type": "execute_result"
    }
   ],
   "source": [
    "y_train"
   ]
  },
  {
   "cell_type": "code",
   "execution_count": 21,
   "id": "7a6ead5b-cdaf-4ce3-8971-54cab60ffa56",
   "metadata": {},
   "outputs": [],
   "source": [
    "model.compile(loss='sparse_categorical_crossentropy', \n",
    "              optimizer=Adam(learning_rate=0.001),  \n",
    "              metrics=['accuracy'])\n"
   ]
  },
  {
   "cell_type": "markdown",
   "id": "5525e188-9edc-41b3-afff-5a74772caa30",
   "metadata": {},
   "source": [
    "def train_class_by_class(model, X_train, y_train, class_labels, batch_size=32, epochs=5):\n",
    "    for cls in class_labels:\n",
    "        # Filter data for the current class\n",
    "        cls_data = (X_train[y_train == cls], y_train[y_train == cls])\n",
    "        \n",
    "        # Train the model on the current class data\n",
    "        model.fit(cls_data[0], cls_data[1], epochs=epochs, batch_size=batch_size,validation_split=0.2)\n",
    "        \n",
    "        # Optionally save the model after each class to avoid losing progress\n",
    "        # model.save(f'model_class_{cls}.h5')\n",
    "        \n",
    "        print(f\"Training completed for class {cls}\")\n",
    "\n",
    "# Example usage:\n",
    "# Assuming X_train and y_train are preprocessed text data and labels\n",
    "# and model is a compiled TensorFlow/Keras model\n",
    "class_labels = np.unique(y_train)\n",
    "train_class_by_class(model, paded_sequences, y_train, class_labels)"
   ]
  },
  {
   "cell_type": "code",
   "execution_count": 22,
   "id": "222e6131-e41e-4c23-92ce-4ce406573b59",
   "metadata": {},
   "outputs": [
    {
     "name": "stdout",
     "output_type": "stream",
     "text": [
      "Epoch 1/15\n",
      "\u001b[1m617/617\u001b[0m \u001b[32m━━━━━━━━━━━━━━━━━━━━\u001b[0m\u001b[37m\u001b[0m \u001b[1m66s\u001b[0m 100ms/step - accuracy: 0.5121 - loss: 1.6410 - val_accuracy: 0.6262 - val_loss: 0.9829\n",
      "Epoch 2/15\n",
      "\u001b[1m617/617\u001b[0m \u001b[32m━━━━━━━━━━━━━━━━━━━━\u001b[0m\u001b[37m\u001b[0m \u001b[1m64s\u001b[0m 103ms/step - accuracy: 0.6944 - loss: 0.8569 - val_accuracy: 0.6700 - val_loss: 0.8477\n",
      "Epoch 3/15\n",
      "\u001b[1m617/617\u001b[0m \u001b[32m━━━━━━━━━━━━━━━━━━━━\u001b[0m\u001b[37m\u001b[0m \u001b[1m65s\u001b[0m 106ms/step - accuracy: 0.8170 - loss: 0.5559 - val_accuracy: 0.6663 - val_loss: 0.8566\n",
      "Epoch 4/15\n",
      "\u001b[1m617/617\u001b[0m \u001b[32m━━━━━━━━━━━━━━━━━━━━\u001b[0m\u001b[37m\u001b[0m \u001b[1m66s\u001b[0m 108ms/step - accuracy: 0.8736 - loss: 0.4033 - val_accuracy: 0.6627 - val_loss: 1.0007\n",
      "Epoch 5/15\n",
      "\u001b[1m617/617\u001b[0m \u001b[32m━━━━━━━━━━━━━━━━━━━━\u001b[0m\u001b[37m\u001b[0m \u001b[1m67s\u001b[0m 109ms/step - accuracy: 0.8922 - loss: 0.3479 - val_accuracy: 0.6513 - val_loss: 1.0298\n",
      "Epoch 6/15\n",
      "\u001b[1m617/617\u001b[0m \u001b[32m━━━━━━━━━━━━━━━━━━━━\u001b[0m\u001b[37m\u001b[0m \u001b[1m68s\u001b[0m 110ms/step - accuracy: 0.9128 - loss: 0.2941 - val_accuracy: 0.6544 - val_loss: 1.1541\n",
      "Epoch 7/15\n",
      "\u001b[1m617/617\u001b[0m \u001b[32m━━━━━━━━━━━━━━━━━━━━\u001b[0m\u001b[37m\u001b[0m \u001b[1m68s\u001b[0m 110ms/step - accuracy: 0.9174 - loss: 0.2767 - val_accuracy: 0.6503 - val_loss: 1.0939\n",
      "Epoch 8/15\n",
      "\u001b[1m617/617\u001b[0m \u001b[32m━━━━━━━━━━━━━━━━━━━━\u001b[0m\u001b[37m\u001b[0m \u001b[1m68s\u001b[0m 111ms/step - accuracy: 0.9304 - loss: 0.2453 - val_accuracy: 0.6499 - val_loss: 1.1454\n",
      "Epoch 9/15\n",
      "\u001b[1m617/617\u001b[0m \u001b[32m━━━━━━━━━━━━━━━━━━━━\u001b[0m\u001b[37m\u001b[0m \u001b[1m68s\u001b[0m 110ms/step - accuracy: 0.9375 - loss: 0.2250 - val_accuracy: 0.6461 - val_loss: 1.2405\n",
      "Epoch 10/15\n",
      "\u001b[1m617/617\u001b[0m \u001b[32m━━━━━━━━━━━━━━━━━━━━\u001b[0m\u001b[37m\u001b[0m \u001b[1m68s\u001b[0m 110ms/step - accuracy: 0.9416 - loss: 0.2103 - val_accuracy: 0.6420 - val_loss: 1.2835\n",
      "Epoch 11/15\n",
      "\u001b[1m617/617\u001b[0m \u001b[32m━━━━━━━━━━━━━━━━━━━━\u001b[0m\u001b[37m\u001b[0m \u001b[1m68s\u001b[0m 111ms/step - accuracy: 0.9430 - loss: 0.2088 - val_accuracy: 0.6390 - val_loss: 1.3357\n",
      "Epoch 12/15\n",
      "\u001b[1m617/617\u001b[0m \u001b[32m━━━━━━━━━━━━━━━━━━━━\u001b[0m\u001b[37m\u001b[0m \u001b[1m68s\u001b[0m 111ms/step - accuracy: 0.9424 - loss: 0.2072 - val_accuracy: 0.6422 - val_loss: 1.3251\n",
      "Epoch 13/15\n",
      "\u001b[1m617/617\u001b[0m \u001b[32m━━━━━━━━━━━━━━━━━━━━\u001b[0m\u001b[37m\u001b[0m \u001b[1m68s\u001b[0m 111ms/step - accuracy: 0.9474 - loss: 0.1905 - val_accuracy: 0.6374 - val_loss: 1.4226\n",
      "Epoch 14/15\n",
      "\u001b[1m617/617\u001b[0m \u001b[32m━━━━━━━━━━━━━━━━━━━━\u001b[0m\u001b[37m\u001b[0m \u001b[1m68s\u001b[0m 111ms/step - accuracy: 0.9513 - loss: 0.1783 - val_accuracy: 0.6374 - val_loss: 1.3157\n",
      "Epoch 15/15\n",
      "\u001b[1m617/617\u001b[0m \u001b[32m━━━━━━━━━━━━━━━━━━━━\u001b[0m\u001b[37m\u001b[0m \u001b[1m69s\u001b[0m 111ms/step - accuracy: 0.9534 - loss: 0.1704 - val_accuracy: 0.6404 - val_loss: 1.6631\n"
     ]
    },
    {
     "data": {
      "text/plain": [
       "<keras.src.callbacks.history.History at 0x7837c37c19c0>"
      ]
     },
     "execution_count": 22,
     "metadata": {},
     "output_type": "execute_result"
    }
   ],
   "source": [
    "##\n",
    "model.fit(paded_sequences, y_train, epochs=15, batch_size=32,validation_split=0.2)\n"
   ]
  },
  {
   "cell_type": "code",
   "execution_count": 23,
   "id": "5c2048f3-ebe9-4b3b-8158-f4237858fc81",
   "metadata": {},
   "outputs": [
    {
     "data": {
      "text/html": [
       "<div>\n",
       "<style scoped>\n",
       "    .dataframe tbody tr th:only-of-type {\n",
       "        vertical-align: middle;\n",
       "    }\n",
       "\n",
       "    .dataframe tbody tr th {\n",
       "        vertical-align: top;\n",
       "    }\n",
       "\n",
       "    .dataframe thead th {\n",
       "        text-align: right;\n",
       "    }\n",
       "</style>\n",
       "<table border=\"1\" class=\"dataframe\">\n",
       "  <thead>\n",
       "    <tr style=\"text-align: right;\">\n",
       "      <th></th>\n",
       "      <th>Unnamed: 0</th>\n",
       "      <th>headline</th>\n",
       "      <th>label</th>\n",
       "      <th>word_count</th>\n",
       "    </tr>\n",
       "  </thead>\n",
       "  <tbody>\n",
       "    <tr>\n",
       "      <th>0</th>\n",
       "      <td>0</td>\n",
       "      <td>market close mostly low rost panw report earning</td>\n",
       "      <td>negative</td>\n",
       "      <td>8</td>\n",
       "    </tr>\n",
       "    <tr>\n",
       "      <th>1</th>\n",
       "      <td>1</td>\n",
       "      <td>gap plummet earning miss cut fullyear forecast</td>\n",
       "      <td>negative</td>\n",
       "      <td>7</td>\n",
       "    </tr>\n",
       "    <tr>\n",
       "      <th>2</th>\n",
       "      <td>2</td>\n",
       "      <td>billionaire ken fisher sell 10 stock</td>\n",
       "      <td>negative</td>\n",
       "      <td>6</td>\n",
       "    </tr>\n",
       "    <tr>\n",
       "      <th>3</th>\n",
       "      <td>3</td>\n",
       "      <td>corn net income drop 13 share fall</td>\n",
       "      <td>negative</td>\n",
       "      <td>7</td>\n",
       "    </tr>\n",
       "    <tr>\n",
       "      <th>4</th>\n",
       "      <td>4</td>\n",
       "      <td>internet explorer shutdown cause japan problem...</td>\n",
       "      <td>negative</td>\n",
       "      <td>7</td>\n",
       "    </tr>\n",
       "    <tr>\n",
       "      <th>...</th>\n",
       "      <td>...</td>\n",
       "      <td>...</td>\n",
       "      <td>...</td>\n",
       "      <td>...</td>\n",
       "    </tr>\n",
       "    <tr>\n",
       "      <th>30840</th>\n",
       "      <td>30840</td>\n",
       "      <td>london marketwatch share price end low london ...</td>\n",
       "      <td>negative</td>\n",
       "      <td>17</td>\n",
       "    </tr>\n",
       "    <tr>\n",
       "      <th>30841</th>\n",
       "      <td>30841</td>\n",
       "      <td>rinkuskiai beer sale fall 65 per cent 416 mill...</td>\n",
       "      <td>neutral</td>\n",
       "      <td>21</td>\n",
       "    </tr>\n",
       "    <tr>\n",
       "      <th>30842</th>\n",
       "      <td>30842</td>\n",
       "      <td>operate profit fall our 354 in our 688 in 2007...</td>\n",
       "      <td>negative</td>\n",
       "      <td>17</td>\n",
       "    </tr>\n",
       "    <tr>\n",
       "      <th>30843</th>\n",
       "      <td>30843</td>\n",
       "      <td>net sale paper segment decrease our 2216 in se...</td>\n",
       "      <td>negative</td>\n",
       "      <td>29</td>\n",
       "    </tr>\n",
       "    <tr>\n",
       "      <th>30844</th>\n",
       "      <td>30844</td>\n",
       "      <td>sale finland decrease 105 january sale outside...</td>\n",
       "      <td>negative</td>\n",
       "      <td>10</td>\n",
       "    </tr>\n",
       "  </tbody>\n",
       "</table>\n",
       "<p>30845 rows × 4 columns</p>\n",
       "</div>"
      ],
      "text/plain": [
       "       Unnamed: 0                                           headline  \\\n",
       "0               0   market close mostly low rost panw report earning   \n",
       "1               1     gap plummet earning miss cut fullyear forecast   \n",
       "2               2               billionaire ken fisher sell 10 stock   \n",
       "3               3                 corn net income drop 13 share fall   \n",
       "4               4  internet explorer shutdown cause japan problem...   \n",
       "...           ...                                                ...   \n",
       "30840       30840  london marketwatch share price end low london ...   \n",
       "30841       30841  rinkuskiai beer sale fall 65 per cent 416 mill...   \n",
       "30842       30842  operate profit fall our 354 in our 688 in 2007...   \n",
       "30843       30843  net sale paper segment decrease our 2216 in se...   \n",
       "30844       30844  sale finland decrease 105 january sale outside...   \n",
       "\n",
       "          label  word_count  \n",
       "0      negative           8  \n",
       "1      negative           7  \n",
       "2      negative           6  \n",
       "3      negative           7  \n",
       "4      negative           7  \n",
       "...         ...         ...  \n",
       "30840  negative          17  \n",
       "30841   neutral          21  \n",
       "30842  negative          17  \n",
       "30843  negative          29  \n",
       "30844  negative          10  \n",
       "\n",
       "[30845 rows x 4 columns]"
      ]
     },
     "execution_count": 23,
     "metadata": {},
     "output_type": "execute_result"
    }
   ],
   "source": [
    "df"
   ]
  },
  {
   "cell_type": "code",
   "execution_count": 24,
   "id": "1d78f55a-f459-4623-a53a-028bd3be6fb3",
   "metadata": {},
   "outputs": [
    {
     "data": {
      "text/plain": [
       "array([0, 2, 2, ..., 0, 2, 2])"
      ]
     },
     "execution_count": 24,
     "metadata": {},
     "output_type": "execute_result"
    }
   ],
   "source": [
    "y_test"
   ]
  },
  {
   "cell_type": "markdown",
   "id": "b8a2dcb5-43d8-4fe2-bc94-ecb4fbea259b",
   "metadata": {},
   "source": [
    "## 1 for Neutral\n",
    "## 0 For Negative\n",
    "## 2 For Positive\n"
   ]
  },
  {
   "cell_type": "code",
   "execution_count": 25,
   "id": "051148df-0294-47e4-a5b3-2a84e7464bad",
   "metadata": {},
   "outputs": [
    {
     "name": "stdout",
     "output_type": "stream",
     "text": [
      "\u001b[1m193/193\u001b[0m \u001b[32m━━━━━━━━━━━━━━━━━━━━\u001b[0m\u001b[37m\u001b[0m \u001b[1m5s\u001b[0m 24ms/step\n",
      "Predictions: [0, 2, 2, 0, 1, 2, 2, 2, 2, 0, 0, 1, 2, 1, 1, 2, 2, 0, 2, 2, 0, 2, 0, 2, 0, 2, 2, 2, 2, 2, 1, 0, 1, 1, 2, 2, 1, 1, 0, 1, 0, 1, 2, 1, 2, 2, 2, 0, 1, 0, 2, 0, 2, 1, 2, 1, 1, 2, 1, 2, 1, 2, 1, 2, 2, 1, 2, 2, 0, 2, 2, 1, 1, 0, 2, 1, 0, 2, 1, 1, 1, 0, 1, 2, 2, 2, 2, 0, 1, 1, 2, 1, 2, 1, 2, 2, 1, 2, 2, 2, 1, 2, 1, 2, 2, 1, 1, 1, 2, 2, 1, 0, 1, 2, 2, 1, 1, 1, 2, 1, 0, 0, 1, 1, 1, 1, 2, 2, 2, 2, 2, 1, 1, 1, 1, 2, 1, 1, 1, 2, 2, 2, 0, 1, 0, 1, 0, 2, 0, 1, 1, 2, 1, 0, 1, 0, 0, 1, 0, 2, 2, 2, 2, 1, 0, 0, 0, 1, 2, 2, 2, 2, 1, 1, 0, 2, 2, 2, 2, 2, 2, 2, 2, 2, 2, 2, 1, 1, 1, 2, 1, 1, 1, 2, 1, 1, 0, 0, 2, 1, 0, 0, 1, 1, 2, 2, 1, 0, 1, 0, 1, 2, 1, 2, 2, 1, 2, 0, 2, 2, 1, 2, 1, 2, 1, 0, 0, 0, 2, 1, 1, 1, 0, 1, 2, 2, 2, 1, 0, 1, 2, 1, 1, 2, 2, 0, 1, 1, 0, 2, 2, 2, 0, 2, 2, 0, 1, 1, 2, 2, 1, 0, 1, 1, 0, 0, 1, 1, 1, 1, 1, 2, 2, 1, 2, 0, 1, 0, 2, 2, 1, 0, 2, 1, 0, 0, 2, 1, 1, 1, 1, 2, 1, 2, 1, 2, 1, 2, 2, 0, 0, 2, 1, 2, 1, 2, 1, 1, 2, 2, 2, 2, 2, 1, 1, 2, 0, 1, 1, 0, 1, 2, 2, 2, 2, 2, 2, 1, 1, 2, 0, 1, 2, 2, 0, 2, 2, 2, 1, 1, 0, 1, 2, 2, 1, 2, 1, 2, 1, 1, 1, 2, 0, 1, 2, 1, 2, 1, 0, 2, 2, 2, 2, 2, 1, 1, 0, 1, 1, 2, 1, 2, 2, 0, 1, 1, 2, 2, 2, 2, 1, 1, 1, 1, 2, 1, 2, 2, 1, 1, 2, 1, 2, 1, 1, 2, 2, 2, 2, 1, 2, 2, 2, 0, 0, 1, 2, 1, 2, 1, 2, 2, 0, 2, 1, 2, 1, 2, 2, 1, 2, 1, 2, 1, 2, 2, 1, 1, 2, 2, 1, 2, 2, 0, 2, 1, 2, 1, 2, 0, 1, 0, 2, 1, 1, 1, 1, 2, 1, 0, 2, 1, 2, 1, 2, 0, 0, 2, 1, 0, 1, 2, 2, 1, 2, 1, 1, 2, 2, 1, 2, 2, 0, 1, 2, 1, 0, 1, 0, 2, 1, 0, 2, 2, 1, 2, 1, 2, 0, 2, 2, 1, 2, 1, 2, 1, 2, 1, 2, 2, 2, 2, 1, 2, 2, 2, 1, 2, 0, 1, 1, 1, 1, 0, 1, 0, 2, 2, 1, 2, 2, 1, 0, 1, 0, 1, 1, 2, 2, 1, 0, 1, 1, 1, 2, 1, 1, 2, 2, 2, 1, 2, 1, 2, 1, 1, 2, 2, 1, 2, 1, 0, 0, 1, 2, 1, 1, 2, 2, 1, 0, 2, 1, 1, 2, 1, 1, 1, 2, 1, 1, 1, 1, 1, 1, 1, 2, 2, 1, 1, 2, 0, 1, 2, 2, 2, 2, 1, 1, 0, 1, 1, 1, 0, 2, 1, 2, 2, 2, 1, 0, 2, 2, 1, 2, 0, 2, 1, 2, 1, 2, 2, 2, 1, 2, 0, 1, 1, 1, 1, 1, 2, 0, 2, 1, 2, 1, 1, 2, 1, 1, 1, 0, 2, 1, 2, 2, 1, 2, 2, 1, 1, 1, 2, 1, 1, 1, 1, 1, 2, 1, 2, 1, 1, 2, 0, 2, 2, 2, 0, 2, 1, 1, 1, 1, 2, 2, 1, 2, 2, 2, 1, 2, 0, 2, 1, 1, 2, 2, 2, 0, 2, 2, 1, 2, 2, 1, 0, 2, 2, 2, 2, 1, 0, 0, 2, 2, 1, 2, 1, 2, 2, 1, 0, 1, 1, 1, 1, 1, 2, 1, 1, 1, 2, 2, 2, 0, 2, 2, 0, 1, 1, 1, 1, 2, 1, 1, 0, 1, 2, 1, 0, 2, 2, 0, 2, 1, 2, 1, 2, 2, 1, 2, 2, 2, 2, 2, 1, 1, 1, 1, 1, 2, 2, 0, 2, 2, 1, 1, 1, 2, 1, 1, 2, 2, 2, 0, 1, 2, 1, 1, 0, 1, 2, 1, 2, 2, 2, 1, 1, 2, 2, 2, 2, 2, 2, 2, 2, 2, 2, 1, 1, 2, 2, 2, 1, 2, 1, 2, 0, 1, 2, 1, 1, 2, 0, 2, 1, 0, 0, 1, 2, 2, 1, 2, 1, 1, 1, 2, 0, 1, 1, 2, 1, 2, 2, 2, 2, 1, 2, 1, 1, 2, 0, 2, 2, 2, 0, 0, 2, 1, 2, 0, 2, 1, 2, 2, 1, 1, 2, 1, 2, 1, 1, 2, 1, 2, 1, 1, 1, 1, 1, 1, 1, 1, 1, 2, 1, 2, 1, 2, 2, 1, 1, 1, 2, 0, 1, 0, 2, 1, 2, 2, 0, 0, 1, 1, 2, 1, 1, 2, 0, 1, 1, 1, 2, 2, 1, 2, 2, 2, 2, 1, 0, 2, 2, 2, 2, 1, 1, 1, 2, 1, 1, 2, 0, 2, 2, 1, 0, 1, 1, 1, 2, 1, 1, 2, 1, 1, 2, 2, 1, 2, 0, 1, 1, 2, 2, 1, 2, 2, 0, 1, 2, 0, 2, 1, 2, 1, 1, 0, 1, 0, 1, 2, 2, 1, 1, 0, 2, 1, 1, 1, 2, 2, 1, 2, 2, 1, 2, 2, 2, 1, 1, 1, 0, 2, 2, 1, 1, 2, 1, 1, 2, 1, 0, 0, 1, 2, 2, 2, 2, 1, 1, 1, 1, 1, 1, 2, 2, 1, 2, 1, 2, 2, 1, 1, 2, 2, 0, 1, 2, 0, 2, 2, 1, 2, 1, 0, 2, 2, 2, 0, 1, 2, 2, 2, 2, 2, 0, 2, 2, 1, 2, 2, 1, 1, 1, 2, 1, 2, 1, 1, 1, 1, 1, 2, 1, 1, 2, 1, 1, 2, 0, 0, 1, 1, 2, 0, 2, 2, 2, 1, 1, 1, 2, 0, 2, 2, 0, 0, 2, 2, 2, 2, 1, 2, 1, 1, 2, 1, 1, 1, 1, 0, 2, 1, 1, 1, 0, 2, 1, 1, 0, 2, 0, 1, 2, 2, 2, 1, 2, 2, 1, 0, 2, 1, 1, 2, 1, 2, 2, 0, 2, 1, 1, 2, 2, 2, 1, 1, 1, 0, 1, 2, 2, 2, 1, 1, 0, 0, 0, 1, 2, 0, 1, 1, 1, 2, 2, 2, 2, 1, 2, 1, 1, 1, 0, 1, 0, 2, 2, 2, 2, 2, 2, 1, 1, 2, 2, 0, 2, 2, 1, 1, 1, 0, 0, 2, 0, 2, 0, 2, 1, 2, 0, 2, 1, 0, 1, 1, 2, 2, 1, 1, 2, 2, 1, 1, 0, 2, 2, 2, 2, 2, 2, 0, 2, 1, 2, 2, 1, 1, 1, 2, 2, 2, 1, 2, 2, 1, 2, 0, 2, 0, 0, 0, 2, 2, 2, 1, 2, 2, 2, 1, 0, 1, 1, 0, 1, 1, 1, 2, 2, 0, 0, 0, 0, 0, 1, 2, 2, 2, 2, 1, 2, 1, 1, 1, 1, 2, 2, 0, 2, 2, 0, 2, 1, 2, 2, 1, 2, 1, 1, 2, 1, 2, 1, 2, 2, 2, 2, 1, 1, 1, 2, 1, 2, 0, 1, 2, 2, 2, 1, 2, 2, 1, 0, 2, 1, 2, 1, 2, 1, 0, 1, 2, 2, 1, 1, 2, 1, 2, 2, 1, 2, 2, 1, 1, 1, 2, 1, 1, 2, 2, 1, 0, 1, 2, 2, 2, 1, 2, 0, 2, 1, 2, 2, 2, 1, 1, 2, 2, 2, 2, 1, 1, 1, 1, 1, 0, 2, 1, 0, 0, 2, 2, 0, 1, 2, 1, 2, 2, 2, 2, 0, 2, 0, 1, 1, 2, 2, 2, 1, 2, 2, 0, 2, 2, 2, 2, 1, 2, 1, 0, 2, 1, 1, 2, 2, 2, 2, 1, 2, 1, 1, 1, 1, 1, 2, 1, 0, 1, 0, 1, 2, 1, 2, 2, 1, 2, 1, 2, 2, 1, 2, 1, 1, 1, 1, 2, 2, 1, 1, 2, 1, 1, 2, 1, 0, 2, 2, 1, 2, 2, 0, 1, 2, 1, 1, 0, 2, 2, 2, 0, 2, 2, 2, 1, 1, 0, 1, 2, 1, 2, 1, 1, 2, 1, 0, 2, 2, 2, 2, 1, 1, 2, 2, 2, 2, 1, 1, 2, 2, 2, 0, 1, 1, 2, 0, 2, 2, 2, 1, 2, 1, 2, 1, 1, 1, 2, 2, 1, 2, 2, 0, 2, 1, 2, 0, 2, 1, 2, 2, 0, 2, 1, 1, 1, 2, 1, 1, 0, 2, 1, 1, 2, 2, 2, 1, 1, 2, 1, 2, 2, 1, 1, 2, 2, 2, 2, 2, 1, 2, 1, 1, 1, 1, 2, 2, 1, 1, 1, 0, 2, 2, 1, 1, 0, 2, 2, 1, 2, 2, 2, 1, 2, 1, 2, 2, 1, 0, 1, 0, 1, 1, 2, 1, 1, 1, 1, 1, 1, 2, 1, 1, 2, 0, 0, 2, 2, 2, 0, 0, 2, 1, 1, 2, 1, 1, 2, 2, 1, 1, 2, 0, 2, 2, 0, 2, 1, 0, 1, 1, 1, 1, 1, 1, 0, 1, 2, 2, 2, 1, 1, 1, 1, 2, 2, 1, 1, 1, 2, 2, 1, 0, 1, 1, 1, 2, 2, 2, 1, 2, 1, 1, 2, 1, 1, 1, 2, 0, 2, 2, 1, 1, 1, 2, 1, 1, 2, 2, 2, 2, 0, 1, 0, 0, 2, 2, 2, 2, 0, 2, 2, 2, 2, 0, 1, 1, 2, 1, 2, 2, 1, 2, 2, 2, 1, 1, 2, 2, 2, 0, 0, 1, 2, 2, 1, 2, 1, 2, 1, 1, 1, 2, 1, 0, 0, 2, 2, 1, 1, 0, 0, 2, 1, 2, 1, 2, 2, 2, 2, 2, 1, 1, 1, 2, 2, 2, 1, 1, 2, 0, 1, 2, 2, 0, 2, 1, 2, 2, 1, 1, 2, 2, 1, 2, 1, 2, 1, 2, 2, 1, 2, 1, 2, 2, 1, 2, 0, 2, 0, 0, 2, 2, 2, 2, 0, 1, 2, 1, 1, 1, 2, 1, 1, 2, 1, 1, 1, 1, 0, 1, 2, 1, 2, 0, 1, 1, 1, 1, 2, 2, 2, 1, 2, 2, 2, 2, 0, 1, 2, 2, 2, 2, 2, 1, 1, 2, 2, 1, 1, 1, 2, 0, 1, 0, 1, 2, 2, 2, 1, 2, 2, 0, 2, 2, 1, 1, 2, 2, 0, 1, 2, 1, 2, 1, 2, 0, 2, 1, 0, 2, 1, 1, 1, 1, 1, 2, 2, 0, 0, 2, 1, 2, 1, 2, 1, 1, 2, 2, 2, 0, 2, 1, 2, 2, 2, 1, 2, 1, 0, 2, 1, 2, 1, 1, 2, 1, 1, 0, 2, 0, 1, 1, 0, 0, 2, 1, 2, 0, 1, 2, 0, 1, 2, 2, 1, 1, 1, 2, 2, 1, 2, 2, 0, 1, 2, 2, 2, 2, 2, 1, 0, 2, 1, 1, 2, 2, 1, 1, 2, 2, 1, 2, 2, 2, 0, 2, 1, 2, 2, 2, 1, 2, 2, 2, 1, 0, 1, 0, 2, 2, 2, 2, 2, 1, 0, 1, 1, 2, 2, 0, 2, 2, 0, 1, 2, 2, 1, 2, 1, 2, 2, 1, 2, 1, 2, 2, 2, 0, 1, 1, 1, 1, 1, 2, 1, 2, 2, 2, 2, 2, 2, 2, 2, 2, 2, 2, 1, 1, 1, 1, 2, 2, 1, 0, 2, 1, 2, 1, 0, 0, 1, 0, 2, 1, 2, 2, 2, 1, 1, 2, 1, 2, 1, 0, 1, 2, 0, 2, 1, 2, 1, 2, 0, 1, 0, 1, 1, 1, 1, 2, 1, 1, 2, 1, 2, 1, 1, 2, 1, 0, 2, 1, 1, 2, 2, 1, 2, 0, 2, 2, 1, 2, 2, 1, 2, 1, 2, 1, 2, 2, 0, 1, 2, 2, 2, 0, 1, 1, 1, 2, 1, 1, 1, 1, 2, 0, 0, 1, 2, 1, 2, 2, 0, 2, 1, 0, 2, 2, 1, 1, 2, 0, 1, 1, 0, 1, 1, 2, 2, 1, 1, 1, 1, 0, 2, 0, 2, 0, 1, 1, 0, 1, 1, 1, 2, 0, 0, 1, 2, 1, 2, 2, 2, 1, 2, 1, 1, 2, 1, 2, 2, 2, 2, 1, 2, 2, 1, 2, 1, 2, 2, 2, 0, 2, 2, 1, 1, 2, 1, 2, 2, 1, 2, 1, 2, 1, 2, 1, 2, 0, 1, 2, 1, 2, 1, 1, 2, 0, 1, 0, 2, 1, 1, 2, 2, 0, 1, 1, 2, 2, 2, 1, 2, 1, 1, 2, 2, 2, 0, 0, 1, 2, 2, 1, 2, 1, 2, 1, 2, 2, 2, 1, 0, 1, 1, 1, 0, 2, 2, 2, 1, 2, 2, 2, 1, 0, 1, 2, 2, 0, 1, 1, 1, 0, 1, 1, 1, 0, 2, 2, 1, 1, 0, 2, 2, 2, 0, 2, 2, 0, 2, 2, 0, 1, 1, 2, 2, 1, 1, 2, 2, 1, 1, 2, 1, 1, 1, 2, 1, 2, 1, 2, 2, 1, 0, 2, 2, 2, 1, 2, 0, 1, 1, 1, 1, 2, 2, 2, 1, 1, 1, 2, 2, 1, 1, 1, 0, 0, 1, 0, 2, 1, 1, 0, 2, 1, 0, 2, 1, 2, 1, 0, 0, 0, 2, 2, 1, 2, 1, 0, 2, 2, 0, 2, 2, 2, 0, 0, 0, 1, 1, 2, 1, 1, 2, 2, 2, 0, 1, 1, 1, 2, 2, 1, 1, 2, 1, 1, 2, 1, 1, 1, 2, 1, 2, 2, 1, 0, 2, 1, 2, 2, 0, 1, 1, 0, 2, 1, 1, 1, 0, 2, 0, 2, 1, 2, 1, 1, 1, 1, 2, 1, 2, 2, 1, 0, 2, 1, 2, 2, 2, 2, 2, 2, 1, 1, 1, 2, 0, 2, 1, 1, 2, 1, 2, 2, 1, 2, 1, 2, 1, 2, 2, 2, 0, 2, 1, 2, 1, 2, 0, 0, 2, 2, 1, 2, 2, 2, 1, 2, 0, 1, 2, 1, 2, 2, 2, 2, 2, 2, 1, 1, 2, 1, 2, 1, 1, 2, 1, 2, 1, 1, 2, 2, 1, 2, 1, 1, 2, 2, 2, 2, 1, 0, 1, 1, 1, 1, 1, 1, 1, 1, 2, 2, 1, 0, 2, 1, 1, 1, 2, 2, 1, 2, 0, 1, 1, 1, 2, 2, 2, 1, 1, 1, 1, 1, 0, 1, 2, 2, 2, 1, 1, 1, 2, 2, 2, 2, 2, 0, 2, 2, 0, 2, 0, 2, 1, 2, 2, 1, 1, 2, 0, 2, 1, 1, 0, 2, 2, 2, 1, 1, 2, 2, 1, 0, 2, 1, 2, 1, 0, 2, 0, 2, 2, 1, 2, 0, 1, 2, 2, 1, 1, 0, 2, 1, 2, 0, 2, 2, 1, 2, 0, 0, 1, 2, 1, 1, 1, 2, 0, 2, 0, 2, 2, 1, 2, 2, 0, 0, 2, 1, 2, 2, 2, 2, 0, 2, 2, 1, 2, 0, 1, 1, 1, 1, 2, 0, 2, 2, 2, 2, 1, 2, 2, 1, 1, 2, 1, 2, 1, 2, 0, 2, 2, 1, 0, 1, 2, 2, 2, 0, 2, 1, 1, 2, 0, 2, 1, 1, 1, 0, 0, 1, 1, 1, 1, 1, 1, 2, 2, 0, 1, 2, 2, 1, 2, 2, 1, 2, 1, 2, 2, 2, 1, 0, 0, 0, 1, 2, 2, 0, 2, 2, 2, 1, 2, 0, 1, 2, 2, 1, 2, 0, 1, 2, 2, 1, 0, 2, 1, 1, 1, 2, 2, 2, 2, 1, 2, 2, 2, 2, 1, 2, 0, 2, 2, 1, 2, 2, 1, 0, 2, 1, 1, 0, 1, 2, 1, 2, 2, 1, 2, 0, 1, 0, 2, 2, 2, 1, 0, 2, 2, 2, 1, 1, 2, 2, 1, 1, 2, 2, 1, 1, 2, 1, 1, 2, 0, 0, 2, 2, 1, 1, 2, 2, 1, 2, 1, 2, 1, 0, 1, 1, 2, 2, 1, 1, 2, 1, 0, 2, 2, 2, 2, 1, 2, 1, 1, 1, 0, 2, 2, 2, 0, 2, 2, 1, 2, 2, 2, 2, 2, 1, 1, 1, 2, 2, 2, 1, 2, 0, 2, 1, 1, 2, 0, 1, 2, 2, 0, 1, 1, 2, 1, 2, 0, 0, 1, 2, 0, 2, 1, 0, 2, 2, 2, 2, 2, 1, 1, 2, 0, 1, 1, 2, 0, 2, 2, 2, 2, 2, 2, 0, 2, 1, 0, 2, 2, 2, 2, 1, 0, 0, 0, 1, 1, 0, 2, 2, 2, 1, 0, 1, 2, 1, 1, 1, 2, 1, 0, 2, 0, 2, 0, 0, 1, 2, 2, 0, 0, 2, 2, 1, 2, 0, 0, 2, 2, 2, 1, 2, 2, 1, 2, 1, 1, 2, 2, 2, 2, 1, 1, 2, 0, 1, 1, 2, 1, 1, 1, 1, 2, 1, 1, 2, 1, 2, 1, 1, 0, 2, 2, 0, 0, 1, 1, 2, 2, 2, 2, 0, 2, 1, 2, 2, 1, 2, 2, 2, 1, 2, 2, 0, 1, 1, 1, 2, 1, 1, 1, 0, 1, 0, 2, 2, 1, 2, 0, 1, 1, 2, 1, 1, 2, 1, 2, 2, 0, 0, 0, 1, 2, 1, 2, 2, 0, 1, 1, 1, 1, 1, 0, 2, 2, 2, 2, 2, 2, 0, 2, 1, 2, 2, 2, 0, 0, 1, 2, 1, 1, 0, 2, 2, 2, 2, 2, 2, 0, 1, 2, 1, 1, 1, 0, 1, 2, 1, 2, 2, 1, 0, 2, 1, 1, 2, 1, 2, 0, 2, 0, 2, 2, 1, 0, 2, 2, 2, 1, 2, 2, 1, 1, 0, 2, 1, 2, 1, 2, 1, 1, 2, 0, 0, 1, 1, 1, 2, 1, 2, 0, 0, 1, 2, 1, 2, 0, 1, 1, 1, 2, 0, 0, 1, 1, 2, 0, 2, 2, 1, 2, 1, 2, 1, 1, 2, 2, 2, 2, 0, 1, 2, 2, 2, 2, 0, 2, 2, 2, 1, 0, 0, 2, 2, 1, 2, 1, 1, 2, 1, 2, 0, 2, 1, 1, 1, 1, 1, 1, 2, 0, 2, 2, 1, 2, 1, 1, 2, 2, 2, 2, 1, 1, 1, 2, 1, 2, 2, 0, 2, 2, 1, 2, 0, 0, 1, 0, 1, 0, 1, 1, 2, 1, 2, 1, 1, 1, 1, 2, 1, 2, 0, 0, 2, 1, 2, 1, 2, 1, 1, 1, 1, 1, 0, 0, 2, 0, 2, 1, 2, 2, 1, 2, 2, 1, 2, 1, 2, 2, 1, 2, 2, 0, 2, 2, 0, 1, 2, 2, 2, 2, 2, 1, 1, 2, 0, 1, 0, 2, 0, 2, 0, 1, 1, 2, 1, 1, 2, 1, 0, 2, 1, 1, 1, 0, 2, 2, 2, 2, 1, 2, 1, 1, 1, 1, 1, 1, 1, 0, 1, 1, 1, 0, 2, 2, 1, 0, 2, 1, 1, 2, 1, 1, 1, 1, 1, 1, 1, 2, 1, 2, 1, 2, 0, 2, 1, 2, 0, 1, 2, 2, 1, 0, 0, 1, 2, 1, 1, 1, 1, 1, 2, 0, 1, 1, 1, 1, 0, 2, 1, 2, 0, 1, 2, 2, 2, 1, 1, 1, 2, 2, 2, 1, 1, 1, 1, 2, 1, 1, 2, 1, 2, 2, 1, 1, 2, 1, 1, 2, 0, 2, 2, 1, 2, 2, 1, 2, 0, 2, 1, 1, 2, 1, 0, 2, 1, 0, 1, 2, 1, 2, 1, 2, 1, 2, 2, 1, 1, 2, 2, 1, 1, 2, 1, 1, 2, 1, 1, 2, 1, 2, 2, 1, 0, 1, 0, 2, 2, 2, 2, 1, 2, 1, 0, 1, 2, 1, 2, 1, 1, 2, 2, 2, 1, 2, 2, 1, 2, 2, 0, 1, 2, 1, 2, 1, 0, 2, 2, 1, 2, 2, 0, 2, 2, 1, 2, 1, 0, 2, 1, 2, 0, 2, 1, 1, 0, 0, 2, 1, 1, 1, 2, 1, 1, 1, 1, 2, 1, 2, 2, 1, 1, 1, 0, 2, 2, 1, 1, 1, 1, 0, 2, 2, 1, 0, 1, 1, 2, 1, 1, 1, 2, 2, 1, 1, 1, 2, 2, 1, 2, 1, 2, 2, 2, 2, 2, 2, 0, 2, 2, 1, 0, 1, 1, 1, 2, 2, 1, 1, 1, 2, 1, 1, 2, 2, 1, 0, 1, 2, 1, 1, 1, 2, 2, 1, 2, 1, 1, 2, 0, 2, 2, 2, 2, 2, 2, 1, 2, 2, 0, 2, 1, 2, 1, 0, 2, 2, 2, 1, 2, 2, 0, 1, 1, 1, 2, 2, 1, 2, 2, 1, 1, 2, 2, 2, 1, 0, 1, 2, 2, 2, 1, 1, 0, 2, 0, 2, 1, 2, 2, 2, 2, 1, 1, 1, 2, 2, 2, 0, 2, 1, 2, 1, 0, 0, 1, 1, 2, 2, 1, 1, 2, 2, 0, 2, 1, 2, 2, 2, 1, 1, 1, 2, 1, 2, 2, 2, 2, 2, 1, 2, 1, 1, 2, 2, 1, 1, 1, 1, 1, 1, 2, 0, 2, 1, 2, 0, 2, 1, 2, 0, 0, 2, 2, 2, 1, 2, 2, 2, 2, 2, 0, 1, 0, 1, 2, 2, 1, 0, 2, 2, 1, 1, 2, 2, 2, 2, 2, 2, 2, 2, 1, 2, 2, 2, 1, 1, 2, 2, 2, 2, 2, 0, 2, 2, 2, 1, 1, 1, 1, 2, 1, 1, 2, 2, 0, 2, 2, 0, 0, 2, 1, 2, 1, 2, 2, 1, 2, 1, 2, 1, 2, 1, 1, 2, 1, 2, 0, 0, 1, 1, 0, 0, 0, 2, 1, 2, 2, 2, 1, 2, 1, 1, 1, 0, 2, 2, 1, 1, 2, 2, 2, 1, 1, 1, 0, 2, 1, 1, 2, 1, 1, 1, 1, 2, 2, 2, 0, 2, 1, 2, 2, 2, 2, 1, 1, 0, 2, 0, 1, 1, 2, 2, 2, 1, 1, 1, 1, 2, 1, 2, 2, 2, 0, 2, 2, 2, 0, 1, 2, 1, 2, 2, 2, 1, 2, 1, 1, 2, 1, 2, 2, 2, 1, 1, 0, 2, 1, 0, 0, 1, 2, 2, 2, 2, 1, 1, 1, 2, 0, 1, 1, 0, 1, 2, 2, 0, 1, 1, 2, 1, 2, 2, 1, 1, 0, 1, 1, 0, 2, 2, 1, 2, 2, 2, 2, 1, 0, 2, 1, 2, 2, 0, 2, 1, 2, 2, 1, 1, 1, 2, 0, 1, 2, 2, 1, 0, 2, 1, 2, 0, 1, 2, 2, 2, 1, 2, 2, 2, 1, 1, 2, 1, 2, 1, 0, 0, 1, 2, 2, 1, 2, 0, 0, 2, 1, 1, 1, 2, 1, 0, 1, 2, 1, 0, 1, 2, 1, 2, 2, 2, 1, 1, 2, 2, 2, 2, 1, 1, 0, 2, 1, 1, 1, 2, 1, 1, 1, 1, 1, 2, 1, 2, 2, 1, 1, 1, 1, 2, 2, 0, 2, 1, 2, 0, 1, 2, 1, 1, 2, 2, 1, 0, 2, 2, 2, 0, 2, 1, 2, 1, 2, 0, 1, 1, 2, 1, 2, 1, 2, 0, 1, 0, 2, 1, 1, 0, 1, 2, 2, 1, 2, 2, 2, 1, 0, 2, 0, 2, 2, 0, 2, 2, 1, 2, 1, 2, 2, 0, 2, 1, 2, 2, 1, 2, 2, 1, 2, 1, 2, 1, 0, 1, 2, 2, 2, 2, 1, 1, 2, 1, 0, 1, 2, 1, 2, 2, 2, 2, 2, 2, 1, 2, 1, 1, 1, 2, 2, 1, 0, 1, 1, 1, 0, 1, 2, 1, 2, 0, 2, 1, 2, 1, 0, 2, 1, 0, 0, 0, 1, 2, 2, 0, 1, 1, 2, 1, 2, 2, 2, 2, 2, 2, 1, 0, 1, 1, 2, 1, 2, 2, 1, 1, 2, 1, 1, 1, 2, 2, 2, 2, 2, 2, 0, 2, 2, 0, 1, 0, 1, 1, 1, 1, 2, 1, 1, 2, 1, 2, 1, 0, 2, 2, 1, 2, 1, 0, 2, 2, 2, 2, 2, 1, 1, 1, 2, 0, 2, 1, 1, 1, 1, 2, 2, 0, 2, 1, 1, 1, 1, 2, 1, 0, 0, 2, 2, 1, 0, 2, 1, 0, 2, 2, 1, 0, 1, 1, 0, 1, 2, 2, 1, 0, 1, 1, 1, 0, 1, 2, 2, 2, 2, 1, 2, 1, 1, 2, 2, 0, 2, 2, 2, 0, 1, 2, 0, 2, 0, 0, 2, 1, 2, 2, 2, 2, 1, 1, 2, 1, 1, 2, 2, 1, 2, 2, 2, 2, 1, 1, 0, 1, 1, 1, 2, 1, 2, 2, 2, 2, 2, 1, 1, 2, 2, 0, 1, 1, 0, 1, 1, 1, 0, 2, 2, 2, 1, 2, 1, 0, 1, 2, 2, 2, 2, 2, 2, 0, 1, 1, 1, 1, 2, 1, 2, 1, 2, 2, 1, 2, 1, 1, 1, 2, 0, 2, 2, 1, 2, 2, 1, 2, 0, 1, 1, 0, 2, 1, 1, 1, 1, 0, 2, 1, 0, 2, 2, 2, 1, 1, 1, 1, 2, 1, 1, 2, 2, 0, 2, 2, 2, 2, 2, 1, 1, 1, 0, 0, 1, 2, 2, 1, 2, 2, 2, 1, 2, 1, 0, 2, 2, 2, 2, 1, 1, 2, 2, 1, 1, 2, 2, 2, 1, 2, 2, 1, 0, 2, 2, 1, 1, 1, 2, 1, 1, 2, 0, 2, 0, 2, 2, 1, 0, 2, 2, 2, 0, 2, 2, 0, 1, 2, 1, 1, 2, 2, 1, 1, 2, 1, 1, 2, 2, 0, 2, 2, 2, 2, 1, 2, 0, 2, 2, 1, 0, 2, 1, 0, 2, 1, 2, 1, 1, 2, 1, 1, 1, 2, 1, 2, 2, 2, 2, 0, 2, 1, 2, 1, 0, 0, 2, 2, 0, 1, 2, 0, 0, 0, 2, 1, 1, 1, 2, 0, 2, 1, 2, 0, 1, 1, 2, 1, 0, 2, 2, 2, 1, 0, 2, 2, 2, 2, 1, 2, 1, 2, 1, 2, 2, 2, 2, 2, 0, 2, 1, 2, 0, 2, 2, 1, 0, 1, 2, 2, 1, 1, 1, 2, 2, 2, 2, 2, 1, 2, 2, 1, 1, 0, 1, 0, 0, 1, 2, 2, 1, 2, 0, 2, 1, 2, 2, 1, 2, 1, 1, 1, 2, 1, 2, 2, 1, 2, 2, 1, 2, 2, 1, 1, 1, 2, 2, 1, 1, 2, 2, 2, 0, 1, 0, 1, 0, 1, 2, 2, 1, 1, 2, 2, 0, 0, 2, 2, 1, 1, 1, 2, 1, 1, 2, 1, 1, 1, 1, 2, 1, 2, 1, 2, 2, 2, 0, 2, 2, 1, 2, 0, 2, 2, 1, 1, 1, 2, 2, 2, 2, 2, 1, 1, 2, 2, 1, 2, 2, 2, 2, 1, 2, 2, 2, 2, 2, 2, 2, 1, 2, 1, 1, 1, 1, 2, 0, 2, 2, 0, 0, 1, 1, 1, 2, 1, 2, 2, 2, 1, 2, 2, 1, 1, 2, 2, 0, 2, 2, 0, 2, 1, 1, 0, 2, 2, 2, 0, 1, 1, 1, 2, 2, 1, 2, 2, 2, 1, 1, 2, 2, 1, 2, 0, 1, 1, 2, 2, 1, 1, 1, 2, 1, 2, 2, 2, 1, 1, 1, 1, 2, 1, 1, 0, 0, 1, 2, 2, 1, 1, 1, 1, 2, 2, 2, 2, 1, 2, 2, 1, 2, 2, 1, 2, 1, 2, 1, 2, 2, 2, 2, 1, 1, 1, 2, 1, 1, 0, 1, 0, 2, 1, 1, 1, 1, 2, 0, 2, 0, 1, 1, 1, 2, 2, 0, 2, 1, 2, 1, 2, 0, 0, 2, 2, 2, 1, 1, 2, 1, 2, 2, 1, 2, 1, 2, 1, 2, 1, 0, 2, 0, 2, 1, 2, 2, 2, 2, 2, 2, 2, 0, 2, 1, 1, 1, 1, 1, 0, 2, 1, 1, 2, 2, 1, 2, 2, 2, 1, 2, 2, 2, 1, 2, 1, 2, 0, 2, 1, 0, 2, 2, 1, 1, 1, 1, 0, 1, 1, 1, 1, 2, 2, 1, 2, 0, 1, 2, 2, 2, 2, 2, 2, 2, 2, 1, 2, 2, 2, 1, 1, 1, 0, 2, 1, 2, 2, 1, 2, 1, 1, 2, 2, 0, 2, 1, 1, 2, 1, 2, 1, 2, 2, 2, 1, 1, 1, 1, 2, 0, 1, 2, 1, 2, 1, 2, 1, 1, 2, 1, 1, 0, 1, 0, 1, 2, 1, 1, 2, 1, 0, 0, 2, 2, 1, 2, 2, 0, 1, 2, 2, 1, 2, 2, 1, 1, 1, 2, 1, 1, 1, 2, 0, 2, 1, 1, 0, 2, 1, 2, 1, 1, 1, 2, 2, 1, 0, 2, 2, 2, 2, 2, 2, 2, 2, 1, 1, 1, 2, 1, 1, 2, 1, 1, 2, 0, 2, 1, 2, 2, 1, 1, 2, 1, 2, 2, 1, 2, 2, 2, 2, 1, 0, 1, 0, 1, 2, 1, 2, 1, 2, 2, 1, 1, 1, 1, 2, 2, 2, 2, 0, 1, 0, 1, 1, 2, 0, 1, 0, 1, 2, 1, 0, 2, 2, 0, 0, 2, 1, 0, 2, 0, 1, 2, 1, 1, 1, 2, 1, 2, 2, 0, 1, 1, 0, 1, 2, 2, 0, 1, 0, 2, 0, 2, 2, 2, 1, 2, 1, 1, 2, 2, 2, 2, 1, 0, 1, 2, 2, 0, 2, 0, 2, 1, 2, 2, 1, 1, 1, 2, 1, 2, 1, 1, 1, 2, 1, 1, 1, 1, 2, 2, 2, 0, 2, 2, 1, 0, 1, 1, 1, 1, 0, 1, 1, 1, 1, 2, 2, 0, 2, 1, 2, 1, 0, 1, 2, 2, 1, 2, 0, 2, 2, 1, 1, 1, 0, 2, 1, 1, 2, 1, 2, 1, 2, 1, 1, 2, 2, 2, 1, 0, 2, 1, 2, 1, 1, 0, 1, 2, 1, 1, 2, 2, 2, 1, 2, 0, 2, 1, 1, 0, 1, 1, 1, 1, 1, 1, 1, 1, 1, 1, 2, 1, 2, 1, 1, 2, 2, 1, 2, 1, 1, 2, 2, 2, 1, 1, 2, 2, 0, 1, 2, 2, 0, 2, 2, 2, 1, 1, 2, 2, 2, 1, 1, 0, 1, 1, 1, 2, 1, 2, 2, 2, 1, 1, 1, 2, 1, 2, 2, 0, 2, 2, 1, 1, 0, 2, 0, 2, 1, 1, 0, 2, 2, 0, 0, 2, 2, 2, 1, 2, 1, 1, 2, 0, 0, 1, 2, 1, 2, 0, 2, 0, 2, 2, 2, 2, 1, 1, 2, 2, 2, 1, 2, 1, 2, 1, 2, 2, 1, 1, 2, 0, 0, 2, 2, 2, 1, 1, 2, 1, 1, 2, 2, 1, 2, 1, 2, 1, 0, 2, 1, 1, 2, 1, 1, 2, 2, 2, 1, 2, 2, 2, 0, 2, 1, 1, 2, 0, 2, 0, 1, 2, 1, 0, 2, 2, 0, 2, 0, 2, 1, 2, 1, 1, 1, 1, 2, 2, 2, 2, 1, 1, 1, 0, 2, 2, 2, 0, 1, 2, 2, 0, 1, 1, 1, 2, 2, 1, 1, 0, 1, 1, 2, 2, 2, 2, 0, 1, 1, 2, 2, 1, 1, 2, 0, 1, 1, 0, 1, 1, 1, 0, 2, 0, 2, 1, 0, 1, 2, 1, 1, 1, 1, 2, 2, 2, 0, 0, 1, 1, 2, 2, 0, 0, 1, 1, 2, 2, 1, 2, 2, 0, 2, 1, 2, 1, 0, 2, 2, 2, 0, 2, 1, 2, 2, 1, 2, 0, 1, 1, 2, 2, 2, 1, 0, 2, 0, 1, 1, 1, 1, 1, 1, 0, 2, 2, 2, 1, 2, 2, 2, 2, 1, 2, 2, 2, 2, 1, 1, 0, 2, 1, 2, 1, 1, 0, 1, 1, 1, 2, 2, 1, 2, 1, 2, 0, 1, 2, 2, 2, 2, 1, 1, 1, 1, 2, 2, 1, 1, 2, 0, 2, 1, 2, 1, 2, 2, 1, 1, 1, 0, 2, 2, 0, 2, 2, 2, 0, 2, 1, 1, 2, 2, 1, 1, 1, 2, 0, 1, 2, 0, 2, 2, 1, 1, 1, 1, 1, 1, 2, 1, 1, 2, 1, 2, 2, 2, 2, 2, 1, 1, 1, 1, 1, 2, 1, 0, 1, 1, 2, 1, 0, 1, 2, 2, 1, 2, 0, 2, 2, 1, 2, 1, 2, 2, 2, 2, 2, 0, 2, 0, 2, 2, 2, 0, 1, 1, 1, 2, 2, 0, 1, 2, 2, 2, 1, 2, 0, 2, 2, 1, 2, 2, 2, 1, 1, 1, 1, 2, 1, 0, 0, 2, 0, 1, 1, 2, 1, 2, 2, 0, 1, 2, 0, 1, 2, 2, 0, 2, 2, 2, 2, 1, 2, 2, 1, 1, 1, 2, 2, 0, 1, 0, 1, 2, 1, 2, 1, 1, 1, 1, 2, 0, 2, 0, 0, 2, 0, 2, 1, 1, 2, 2, 1, 1, 2, 2, 2, 1, 1, 2, 1, 2, 2, 2, 1, 2, 2, 0, 0, 1, 2, 1, 2, 1, 2, 2, 2, 2, 1, 1, 1, 1, 0, 1, 1, 1, 2, 0, 1, 1, 1, 1, 1, 2, 2, 1, 1, 1, 2, 1, 1, 1, 1, 1, 1, 2, 2, 0, 2, 2, 2, 2, 1, 1, 1, 2, 2, 1, 2, 2, 2, 2, 1, 2, 1, 2, 0, 1, 2, 2, 2, 0, 1, 1, 1, 2, 2, 1, 2, 0, 0, 0, 1, 2, 2, 0, 2, 2, 1, 2, 1, 1, 2, 2, 2, 0, 2, 2, 1, 2, 0, 1, 0, 1, 2, 2, 1, 1, 1, 2, 0, 2, 1, 0, 1, 0, 2, 1, 1, 2, 1, 2, 2, 0, 1, 2, 1, 2, 1, 1, 1, 1, 1, 2, 2, 2, 1, 2, 2, 1, 2, 2, 1, 2, 1, 2, 0, 2, 2, 2, 2, 2, 2, 2, 2, 0, 2, 0, 2, 0, 1, 1, 1, 2, 0, 0, 1, 2, 2, 1, 1, 2, 1, 0, 2, 0, 1, 1, 2, 1, 1, 2, 0, 2, 2, 2, 2, 2, 0, 2, 2, 2, 1, 1, 0, 1, 2, 2, 2, 2, 1, 1, 1, 1, 1, 1, 1, 1, 2, 1, 2, 2, 1, 2, 1, 0, 1, 0, 0, 2, 0, 2, 2, 1, 2, 1, 0, 2, 2, 0, 0, 1, 2, 1, 2, 1, 2, 2, 2, 2, 1, 0, 1, 2, 1, 2, 2, 1, 1, 1, 1, 0, 1, 0, 1, 1, 0, 1, 1, 1, 1, 0, 1, 0, 0, 2, 2, 1, 2, 2, 2, 0, 2, 2, 1, 1, 2, 2, 2, 2, 2, 1, 2, 1, 1, 1, 1, 1, 1, 1, 0, 2, 1, 1, 2, 1, 2, 2, 1, 0, 2, 2, 1, 1, 1, 2, 2, 2, 2, 2, 0, 2, 1, 1, 0, 2, 1, 0, 0, 0, 0, 2, 2, 2, 1, 2, 1, 1, 2, 1, 2, 1, 2, 1, 1, 2, 2, 2, 2, 1, 2, 2, 0, 0, 2, 1, 1, 1, 1, 1, 2, 1, 1, 1, 1, 0, 1, 2, 1, 1, 2, 0, 2, 1, 0, 2, 1, 1, 1, 2, 2, 1, 2, 1, 2, 2, 1, 2, 0, 0, 2, 2, 0, 2, 2, 2, 1, 2, 2, 2, 1, 1, 1, 2, 1, 1, 1, 1, 1, 1, 0, 1, 2, 2, 2, 2, 2, 2, 0, 2, 2, 2, 0, 2, 2, 0, 2, 2, 2, 2, 1, 2, 2, 1, 1, 2, 2, 0, 2, 1, 2, 2, 0, 1, 2, 2, 2, 2, 1, 1, 1, 1, 0, 0, 2, 2, 2, 2, 0, 1, 2, 0, 2, 2, 2, 2, 2, 2, 1, 2, 1, 2, 2, 1, 2, 2, 1, 2, 1, 1, 2, 2, 2, 0, 1, 2, 1, 1, 1, 2, 0, 2, 1, 1, 2, 1, 2, 0, 2, 2, 2, 1, 2, 1, 2, 1, 2, 2, 1, 2, 1, 1, 1, 2, 0, 2, 1, 1, 2, 0, 2, 0, 2, 1, 2, 0, 2, 2, 2, 2, 2, 1, 2, 2, 2, 1, 1, 2, 1, 0, 1, 1, 2, 0, 1, 1, 2, 0, 2, 2, 1, 0, 1, 2, 2, 0, 1, 2, 2, 2, 2, 1, 2, 1, 2, 2, 2, 1, 2, 1, 2, 2, 1, 1, 0, 2, 2, 0, 1, 1, 2, 1, 2, 1, 1, 2, 2, 2, 0, 1, 0, 1, 1, 2, 2, 0, 1, 1, 2, 2, 2, 2, 2, 0, 2, 2, 2, 1, 2, 0, 2, 2, 2, 0, 2, 2, 1, 1, 2, 0, 0, 2, 1, 1, 1, 1, 0, 1, 2, 1, 2, 1, 2, 1, 2, 0, 1, 2, 0, 2, 2, 2, 1, 0, 1, 2, 0, 0, 2, 2, 2, 2, 2, 2, 2, 2, 1, 2, 0, 2]\n"
     ]
    }
   ],
   "source": [
    "predictions = model.predict(test_paded_sequences)\n",
    "predicted_labels = [tf.argmax(pred).numpy() for pred in predictions]\n",
    "print(f\"Predictions: {predicted_labels}\")"
   ]
  },
  {
   "cell_type": "code",
   "execution_count": 26,
   "id": "536d4298-260b-424a-8b17-f2e7c0f0667a",
   "metadata": {},
   "outputs": [
    {
     "data": {
      "text/plain": [
       "array([0, 0, 0, ..., 0, 0, 0])"
      ]
     },
     "execution_count": 26,
     "metadata": {},
     "output_type": "execute_result"
    }
   ],
   "source": [
    "y"
   ]
  },
  {
   "cell_type": "code",
   "execution_count": 27,
   "id": "a613cb3b-46c7-4f0b-9d04-79f051e7c747",
   "metadata": {},
   "outputs": [
    {
     "name": "stdout",
     "output_type": "stream",
     "text": [
      "\u001b[1m193/193\u001b[0m \u001b[32m━━━━━━━━━━━━━━━━━━━━\u001b[0m\u001b[37m\u001b[0m \u001b[1m4s\u001b[0m 23ms/step - accuracy: 0.6497 - loss: 1.6269\n"
     ]
    }
   ],
   "source": [
    "test_loss, test_acc = model.evaluate(test_paded_sequences, y_test)"
   ]
  },
  {
   "cell_type": "code",
   "execution_count": 28,
   "id": "cae31a32-df09-4300-bc8a-ee01bdb23a96",
   "metadata": {},
   "outputs": [
    {
     "name": "stderr",
     "output_type": "stream",
     "text": [
      "WARNING:absl:You are saving your model as an HDF5 file via `model.save()` or `keras.saving.save_model(model)`. This file format is considered legacy. We recommend using instead the native Keras format, e.g. `model.save('my_model.keras')` or `keras.saving.save_model(model, 'my_model.keras')`. \n"
     ]
    }
   ],
   "source": [
    "model.save(\"Sentiment_model_.hdf5\")"
   ]
  },
  {
   "cell_type": "code",
   "execution_count": 29,
   "id": "7621d43e-bc39-4b0c-81cb-31f35b8c0ede",
   "metadata": {},
   "outputs": [
    {
     "name": "stdout",
     "output_type": "stream",
     "text": [
      "              precision    recall  f1-score   support\n",
      "\n",
      "           0       0.63      0.53      0.57      1054\n",
      "           1       0.63      0.66      0.65      2365\n",
      "           2       0.66      0.68      0.67      2750\n",
      "\n",
      "    accuracy                           0.65      6169\n",
      "   macro avg       0.64      0.62      0.63      6169\n",
      "weighted avg       0.65      0.65      0.65      6169\n",
      "\n"
     ]
    }
   ],
   "source": [
    "from sklearn.metrics import classification_report,confusion_matrix\n",
    "\n",
    "print(classification_report(y_test,predicted_labels))"
   ]
  },
  {
   "cell_type": "code",
   "execution_count": 30,
   "id": "8320970b-b0f1-4812-8c06-95ef20d8b67f",
   "metadata": {},
   "outputs": [
    {
     "data": {
      "text/plain": [
       "Text(0.5, 1.0, 'Confusion Matrix')"
      ]
     },
     "execution_count": 30,
     "metadata": {},
     "output_type": "execute_result"
    },
    {
     "data": {
      "image/png": "[encoded data removed]",
      "text/plain": [
       "<Figure size 640x480 with 2 Axes>"
      ]
     },
     "metadata": {},
     "output_type": "display_data"
    }
   ],
   "source": [
    "import seaborn as sns\n",
    "import matplotlib.pyplot as plt\n",
    "sns.heatmap(confusion_matrix(y_test,predicted_labels))\n",
    "plt.xlabel('Predicted Labels')\n",
    "plt.ylabel('True Labels')\n",
    "plt.title('Confusion Matrix')"
   ]
  },
  {
   "cell_type": "code",
   "execution_count": 38,
   "id": "641c3bb6-dc34-4f3d-b968-1e90b7887076",
   "metadata": {},
   "outputs": [],
   "source": [
    "x = \"corn net income drop 13 share fall\"\n",
    "words = len(str(x).split())\n",
    "tokenizer = Tokenizer(num_words=words)\n",
    "tokenizer.fit_on_texts(x)\n",
    "test_sequences = tokenizer.texts_to_sequences(x)\n",
    "test_paded_sequences = pad_sequences(test_sequences,maxlen=60,padding=\"post\",truncating=\"post\")"
   ]
  },
  {
   "cell_type": "code",
   "execution_count": 39,
   "id": "cc5c24f4-d354-47ba-a975-c78afd7261d6",
   "metadata": {},
   "outputs": [
    {
     "data": {
      "text/plain": [
       "array([[5, 0, 0, ..., 0, 0, 0],\n",
       "       [1, 0, 0, ..., 0, 0, 0],\n",
       "       [2, 0, 0, ..., 0, 0, 0],\n",
       "       ...,\n",
       "       [6, 0, 0, ..., 0, 0, 0],\n",
       "       [0, 0, 0, ..., 0, 0, 0],\n",
       "       [0, 0, 0, ..., 0, 0, 0]], dtype=int32)"
      ]
     },
     "execution_count": 39,
     "metadata": {},
     "output_type": "execute_result"
    }
   ],
   "source": [
    "test_paded_sequences"
   ]
  },
  {
   "cell_type": "code",
   "execution_count": 40,
   "id": "058fff78-a69b-4fff-bfa5-6872f96027f0",
   "metadata": {},
   "outputs": [],
   "source": [
    "from scipy import stats"
   ]
  },
  {
   "cell_type": "code",
   "execution_count": 42,
   "id": "6cf8f0c4-a217-416c-b6ce-b058e8a34abf",
   "metadata": {},
   "outputs": [
    {
     "name": "stdout",
     "output_type": "stream",
     "text": [
      "\u001b[1m2/2\u001b[0m \u001b[32m━━━━━━━━━━━━━━━━━━━━\u001b[0m\u001b[37m\u001b[0m \u001b[1m0s\u001b[0m 8ms/step \n",
      "0\n"
     ]
    }
   ],
   "source": [
    "predictions = model.predict(test_paded_sequences)\n",
    "predicted_labels = [tf.argmax(pred).numpy() for pred in predictions]\n",
    "mode_label = np.bincount(predicted_labels).argmax()\n",
    "print(mode_label)"
   ]
  },
  {
   "cell_type": "code",
   "execution_count": null,
   "id": "30f87e1b-25af-4bb9-ac33-b73117152129",
   "metadata": {},
   "outputs": [],
   "source": []
  }
 ],
 "metadata": {
  "kernelspec": {
   "display_name": "Python 3 (ipykernel)",
   "language": "python",
   "name": "python3"
  },
  "language_info": {
   "codemirror_mode": {
    "name": "ipython",
    "version": 3
   },
   "file_extension": ".py",
   "mimetype": "text/x-python",
   "name": "python",
   "nbconvert_exporter": "python",
   "pygments_lexer": "ipython3",
   "version": "3.10.12"
  }
 },
 "nbformat": 4,
 "nbformat_minor": 5
}
