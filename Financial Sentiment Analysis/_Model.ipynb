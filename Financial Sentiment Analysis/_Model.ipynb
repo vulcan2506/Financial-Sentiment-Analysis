{
 "cells": [
  {
   "cell_type": "code",
   "execution_count": 1,
   "id": "49d12a87-96a5-408d-b340-7b6e2e21d8bb",
   "metadata": {},
   "outputs": [
    {
     "name": "stderr",
     "output_type": "stream",
     "text": [
      "2024-09-21 19:46:32.079476: I tensorflow/core/util/port.cc:113] oneDNN custom operations are on. You may see slightly different numerical results due to floating-point round-off errors from different computation orders. To turn them off, set the environment variable `TF_ENABLE_ONEDNN_OPTS=0`.\n",
      "2024-09-21 19:46:32.253800: I tensorflow/core/platform/cpu_feature_guard.cc:210] This TensorFlow binary is optimized to use available CPU instructions in performance-critical operations.\n",
      "To enable the following instructions: AVX2 AVX_VNNI FMA, in other operations, rebuild TensorFlow with the appropriate compiler flags.\n",
      "2024-09-21 19:46:32.909324: W tensorflow/compiler/tf2tensorrt/utils/py_utils.cc:38] TF-TRT Warning: Could not find TensorRT\n"
     ]
    }
   ],
   "source": [
    "import pandas as pd \n",
    "import tensorflow as tf\n",
    "from tensorflow.keras.models import Sequential,Model\n",
    "from tensorflow.keras.preprocessing.text import Tokenizer\n",
    "from tensorflow.keras.preprocessing.sequence import pad_sequences\n",
    "from tensorflow.keras.layers import LSTM,Dense,Dropout,Bidirectional,Embedding,BatchNormalization,Conv1D,GlobalAveragePooling1D,MaxPooling1D,Input,Attention\n",
    "from tensorflow.keras.layers import Flatten\n",
    "from keras.regularizers import l2\n",
    "from sklearn.model_selection import train_test_split\n",
    "import numpy as np\n",
    "from tensorflow.keras.optimizers import Adam"
   ]
  },
  {
   "cell_type": "code",
   "execution_count": 2,
   "id": "d643c7c4-2a31-4fbf-84aa-18fbc0bfae1c",
   "metadata": {},
   "outputs": [],
   "source": [
    "\n",
    "# Read CSV file\n",
    "df = pd.read_csv(\"Balanced_sentiments.csv\")\n",
    "\n",
    "# Convert specific column to string\n",
    "df[\"headline\"] = df[\"headline\"].astype(str)\n",
    "\n",
    "# Save the modified DataFrame to a new CSV file\n",
    "df.to_csv(\"Balanced_sentiments.csv\", index=False)\n"
   ]
  },
  {
   "cell_type": "code",
   "execution_count": 3,
   "id": "fbc4b239-5815-419a-9978-a282df67b7fc",
   "metadata": {},
   "outputs": [
    {
     "data": {
      "text/html": [
       "<div>\n",
       "<style scoped>\n",
       "    .dataframe tbody tr th:only-of-type {\n",
       "        vertical-align: middle;\n",
       "    }\n",
       "\n",
       "    .dataframe tbody tr th {\n",
       "        vertical-align: top;\n",
       "    }\n",
       "\n",
       "    .dataframe thead th {\n",
       "        text-align: right;\n",
       "    }\n",
       "</style>\n",
       "<table border=\"1\" class=\"dataframe\">\n",
       "  <thead>\n",
       "    <tr style=\"text-align: right;\">\n",
       "      <th></th>\n",
       "      <th>Unnamed: 0.7</th>\n",
       "      <th>Unnamed: 0.6</th>\n",
       "      <th>Unnamed: 0.5</th>\n",
       "      <th>Unnamed: 0.4</th>\n",
       "      <th>Unnamed: 0.3</th>\n",
       "      <th>Unnamed: 0.2</th>\n",
       "      <th>Unnamed: 0.1</th>\n",
       "      <th>Unnamed: 0</th>\n",
       "      <th>headline</th>\n",
       "      <th>label</th>\n",
       "    </tr>\n",
       "  </thead>\n",
       "  <tbody>\n",
       "    <tr>\n",
       "      <th>0</th>\n",
       "      <td>0</td>\n",
       "      <td>0</td>\n",
       "      <td>0</td>\n",
       "      <td>0</td>\n",
       "      <td>0</td>\n",
       "      <td>0</td>\n",
       "      <td>0</td>\n",
       "      <td>0</td>\n",
       "      <td>market close mostly low rost panw report earning</td>\n",
       "      <td>negative</td>\n",
       "    </tr>\n",
       "    <tr>\n",
       "      <th>1</th>\n",
       "      <td>1</td>\n",
       "      <td>1</td>\n",
       "      <td>1</td>\n",
       "      <td>1</td>\n",
       "      <td>1</td>\n",
       "      <td>1</td>\n",
       "      <td>1</td>\n",
       "      <td>1</td>\n",
       "      <td>gap plummet earning miss cut fullyear forecast</td>\n",
       "      <td>negative</td>\n",
       "    </tr>\n",
       "    <tr>\n",
       "      <th>2</th>\n",
       "      <td>2</td>\n",
       "      <td>2</td>\n",
       "      <td>2</td>\n",
       "      <td>2</td>\n",
       "      <td>2</td>\n",
       "      <td>2</td>\n",
       "      <td>2</td>\n",
       "      <td>2</td>\n",
       "      <td>billionaire ken fisher sell 10 stock</td>\n",
       "      <td>negative</td>\n",
       "    </tr>\n",
       "    <tr>\n",
       "      <th>3</th>\n",
       "      <td>3</td>\n",
       "      <td>3</td>\n",
       "      <td>3</td>\n",
       "      <td>3</td>\n",
       "      <td>3</td>\n",
       "      <td>3</td>\n",
       "      <td>3</td>\n",
       "      <td>3</td>\n",
       "      <td>corn net income drop 13 share fall</td>\n",
       "      <td>negative</td>\n",
       "    </tr>\n",
       "    <tr>\n",
       "      <th>4</th>\n",
       "      <td>4</td>\n",
       "      <td>4</td>\n",
       "      <td>4</td>\n",
       "      <td>4</td>\n",
       "      <td>4</td>\n",
       "      <td>4</td>\n",
       "      <td>4</td>\n",
       "      <td>4</td>\n",
       "      <td>internet explorer shutdown cause japan problem...</td>\n",
       "      <td>negative</td>\n",
       "    </tr>\n",
       "    <tr>\n",
       "      <th>...</th>\n",
       "      <td>...</td>\n",
       "      <td>...</td>\n",
       "      <td>...</td>\n",
       "      <td>...</td>\n",
       "      <td>...</td>\n",
       "      <td>...</td>\n",
       "      <td>...</td>\n",
       "      <td>...</td>\n",
       "      <td>...</td>\n",
       "      <td>...</td>\n",
       "    </tr>\n",
       "    <tr>\n",
       "      <th>30840</th>\n",
       "      <td>30840</td>\n",
       "      <td>30840</td>\n",
       "      <td>30840</td>\n",
       "      <td>30840</td>\n",
       "      <td>30840</td>\n",
       "      <td>30840</td>\n",
       "      <td>30840</td>\n",
       "      <td>30840</td>\n",
       "      <td>london marketwatch share price end low london ...</td>\n",
       "      <td>negative</td>\n",
       "    </tr>\n",
       "    <tr>\n",
       "      <th>30841</th>\n",
       "      <td>30841</td>\n",
       "      <td>30841</td>\n",
       "      <td>30841</td>\n",
       "      <td>30841</td>\n",
       "      <td>30841</td>\n",
       "      <td>30841</td>\n",
       "      <td>30841</td>\n",
       "      <td>30841</td>\n",
       "      <td>rinkuskiai beer sale fall 65 per cent 416 mill...</td>\n",
       "      <td>neutral</td>\n",
       "    </tr>\n",
       "    <tr>\n",
       "      <th>30842</th>\n",
       "      <td>30842</td>\n",
       "      <td>30842</td>\n",
       "      <td>30842</td>\n",
       "      <td>30842</td>\n",
       "      <td>30842</td>\n",
       "      <td>30842</td>\n",
       "      <td>30842</td>\n",
       "      <td>30842</td>\n",
       "      <td>operate profit fall our 354 in our 688 in 2007...</td>\n",
       "      <td>negative</td>\n",
       "    </tr>\n",
       "    <tr>\n",
       "      <th>30843</th>\n",
       "      <td>30843</td>\n",
       "      <td>30843</td>\n",
       "      <td>30843</td>\n",
       "      <td>30843</td>\n",
       "      <td>30843</td>\n",
       "      <td>30843</td>\n",
       "      <td>30843</td>\n",
       "      <td>30843</td>\n",
       "      <td>net sale paper segment decrease our 2216 in se...</td>\n",
       "      <td>negative</td>\n",
       "    </tr>\n",
       "    <tr>\n",
       "      <th>30844</th>\n",
       "      <td>30844</td>\n",
       "      <td>30844</td>\n",
       "      <td>30844</td>\n",
       "      <td>30844</td>\n",
       "      <td>30844</td>\n",
       "      <td>30844</td>\n",
       "      <td>30844</td>\n",
       "      <td>30844</td>\n",
       "      <td>sale finland decrease 105 january sale outside...</td>\n",
       "      <td>negative</td>\n",
       "    </tr>\n",
       "  </tbody>\n",
       "</table>\n",
       "<p>30845 rows × 10 columns</p>\n",
       "</div>"
      ],
      "text/plain": [
       "       Unnamed: 0.7  Unnamed: 0.6  Unnamed: 0.5  Unnamed: 0.4  Unnamed: 0.3  \\\n",
       "0                 0             0             0             0             0   \n",
       "1                 1             1             1             1             1   \n",
       "2                 2             2             2             2             2   \n",
       "3                 3             3             3             3             3   \n",
       "4                 4             4             4             4             4   \n",
       "...             ...           ...           ...           ...           ...   \n",
       "30840         30840         30840         30840         30840         30840   \n",
       "30841         30841         30841         30841         30841         30841   \n",
       "30842         30842         30842         30842         30842         30842   \n",
       "30843         30843         30843         30843         30843         30843   \n",
       "30844         30844         30844         30844         30844         30844   \n",
       "\n",
       "       Unnamed: 0.2  Unnamed: 0.1  Unnamed: 0  \\\n",
       "0                 0             0           0   \n",
       "1                 1             1           1   \n",
       "2                 2             2           2   \n",
       "3                 3             3           3   \n",
       "4                 4             4           4   \n",
       "...             ...           ...         ...   \n",
       "30840         30840         30840       30840   \n",
       "30841         30841         30841       30841   \n",
       "30842         30842         30842       30842   \n",
       "30843         30843         30843       30843   \n",
       "30844         30844         30844       30844   \n",
       "\n",
       "                                                headline     label  \n",
       "0       market close mostly low rost panw report earning  negative  \n",
       "1         gap plummet earning miss cut fullyear forecast  negative  \n",
       "2                   billionaire ken fisher sell 10 stock  negative  \n",
       "3                     corn net income drop 13 share fall  negative  \n",
       "4      internet explorer shutdown cause japan problem...  negative  \n",
       "...                                                  ...       ...  \n",
       "30840  london marketwatch share price end low london ...  negative  \n",
       "30841  rinkuskiai beer sale fall 65 per cent 416 mill...   neutral  \n",
       "30842  operate profit fall our 354 in our 688 in 2007...  negative  \n",
       "30843  net sale paper segment decrease our 2216 in se...  negative  \n",
       "30844  sale finland decrease 105 january sale outside...  negative  \n",
       "\n",
       "[30845 rows x 10 columns]"
      ]
     },
     "execution_count": 3,
     "metadata": {},
     "output_type": "execute_result"
    }
   ],
   "source": [
    "df"
   ]
  },
  {
   "cell_type": "code",
   "execution_count": 4,
   "id": "2585dd54-080c-412f-9aad-aed30c4c288c",
   "metadata": {},
   "outputs": [
    {
     "data": {
      "text/plain": [
       "(13811, 10)"
      ]
     },
     "execution_count": 4,
     "metadata": {},
     "output_type": "execute_result"
    }
   ],
   "source": [
    "df1 = df[df[\"label\"]==\"positive\"]\n",
    "df1.shape"
   ]
  },
  {
   "cell_type": "code",
   "execution_count": 5,
   "id": "c3f21105-7507-4d57-9e8a-4a78dd64b96b",
   "metadata": {},
   "outputs": [
    {
     "data": {
      "text/plain": [
       "(11626, 10)"
      ]
     },
     "execution_count": 5,
     "metadata": {},
     "output_type": "execute_result"
    }
   ],
   "source": [
    "df2 = df[df[\"label\"]==\"neutral\"]\n",
    "df2.shape"
   ]
  },
  {
   "cell_type": "code",
   "execution_count": 6,
   "id": "1ada107e-fb4e-48fc-910c-a9295d653a3f",
   "metadata": {},
   "outputs": [
    {
     "data": {
      "text/plain": [
       "(5408, 10)"
      ]
     },
     "execution_count": 6,
     "metadata": {},
     "output_type": "execute_result"
    }
   ],
   "source": [
    "df3 = df[df[\"label\"]==\"negative\"]\n",
    "df3.shape"
   ]
  },
  {
   "cell_type": "code",
   "execution_count": 7,
   "id": "4629c558-3c43-4fd1-9bde-229033de0a61",
   "metadata": {},
   "outputs": [
    {
     "data": {
      "text/plain": [
       "283937"
      ]
     },
     "execution_count": 7,
     "metadata": {},
     "output_type": "execute_result"
    }
   ],
   "source": [
    "df[\"word_count\"] = df[\"headline\"].apply(lambda x:len(str(x).split()))\n",
    "total_words = df[\"word_count\"].sum()\n",
    "total_words"
   ]
  },
  {
   "cell_type": "code",
   "execution_count": 8,
   "id": "fbf8a76b-0c8c-4f6e-b168-2a626a871784",
   "metadata": {},
   "outputs": [],
   "source": [
    "input_length = 60"
   ]
  },
  {
   "cell_type": "code",
   "execution_count": 9,
   "id": "5c30f0f2-7d4d-4c1a-a875-a5ebd63d1c04",
   "metadata": {},
   "outputs": [
    {
     "data": {
      "text/plain": [
       "array([0, 0, 0, ..., 0, 0, 0])"
      ]
     },
     "execution_count": 9,
     "metadata": {},
     "output_type": "execute_result"
    }
   ],
   "source": [
    "from sklearn.preprocessing import LabelEncoder\n",
    "label_encoder = LabelEncoder()\n",
    "text_labels = [\"positive\", \"negative\",\"neutral\"]\n",
    "label_encoder.fit(text_labels)\n",
    "\n",
    "y = label_encoder.transform(df[\"label\"])\n",
    "y"
   ]
  },
  {
   "cell_type": "markdown",
   "id": "51e098e7-7288-4c1a-a9cb-b1abbdfb0f59",
   "metadata": {},
   "source": [
    "## Word2Vec Model"
   ]
  },
  {
   "cell_type": "code",
   "execution_count": 10,
   "id": "70d3105e-f85a-4032-9724-452762a42de5",
   "metadata": {},
   "outputs": [
    {
     "name": "stdout",
     "output_type": "stream",
     "text": [
      "Data Split done.\n"
     ]
    },
    {
     "data": {
      "text/plain": [
       "(24676,)"
      ]
     },
     "execution_count": 10,
     "metadata": {},
     "output_type": "execute_result"
    }
   ],
   "source": [
    "from sklearn.model_selection import train_test_split\n",
    "X_data, y_data = np.array(df['headline']), np.array(y)\n",
    "\n",
    "X_train, X_test, y_train, y_test = train_test_split(X_data, y_data,\n",
    "                                                    test_size = 0.2, random_state = 42)\n",
    "print('Data Split done.')\n",
    "X_train.shape"
   ]
  },
  {
   "cell_type": "code",
   "execution_count": 11,
   "id": "1128645c-ad3a-4252-a1ac-b840a901365d",
   "metadata": {},
   "outputs": [
    {
     "data": {
      "text/plain": [
       "24676"
      ]
     },
     "execution_count": 11,
     "metadata": {},
     "output_type": "execute_result"
    }
   ],
   "source": [
    "\n",
    "from gensim.models import Word2Vec\n",
    "\n",
    "Embedding_dimensions = 128\n",
    "\n",
    "# Creating Word2Vec training dataset.\n",
    "Word2vec_train_data = list(map(lambda x: x.split(), X_train))\n",
    "len(Word2vec_train_data)"
   ]
  },
  {
   "cell_type": "code",
   "execution_count": 12,
   "id": "b0a14c3a-bb18-4dad-996d-3f9b6db89d36",
   "metadata": {},
   "outputs": [
    {
     "name": "stdout",
     "output_type": "stream",
     "text": [
      "Vocabulary Length: 5055\n"
     ]
    }
   ],
   "source": [
    "word2vec_model = Word2Vec(Word2vec_train_data,\n",
    "                 vector_size=Embedding_dimensions,\n",
    "                 window=5,\n",
    "                 workers=6,\n",
    "                 min_count=5)\n",
    "\n",
    "print(\"Vocabulary Length:\", len(word2vec_model.wv.key_to_index))"
   ]
  },
  {
   "cell_type": "code",
   "execution_count": 13,
   "id": "3d92a103-ff3c-4059-91d9-336ddcbbb2d6",
   "metadata": {},
   "outputs": [],
   "source": [
    "tokenizer = Tokenizer(num_words=total_words)\n",
    "tokenizer.fit_on_texts(X_train)\n",
    "tokenizer.fit_on_texts(X_test)\n",
    "\n",
    "train_sequences = tokenizer.texts_to_sequences(X_train)\n",
    "test_sequences = tokenizer.texts_to_sequences(X_test)\n",
    "\n",
    "\n",
    "\n"
   ]
  },
  {
   "cell_type": "code",
   "execution_count": 14,
   "id": "205549d4-abdd-431b-8607-c766472b9d4c",
   "metadata": {},
   "outputs": [
    {
     "data": {
      "text/plain": [
       "21767"
      ]
     },
     "execution_count": 14,
     "metadata": {},
     "output_type": "execute_result"
    }
   ],
   "source": [
    "word_index = tokenizer.word_index\n",
    "vocab_size = len(word_index) + 1 \n",
    "vocab_size"
   ]
  },
  {
   "cell_type": "code",
   "execution_count": 15,
   "id": "2baa771d-e8e7-4a96-8cc2-f6d0a3d893c3",
   "metadata": {},
   "outputs": [
    {
     "name": "stdout",
     "output_type": "stream",
     "text": [
      "Embedding Matrix Shape: (21767, 128)\n"
     ]
    }
   ],
   "source": [
    "embedding_matrix = np.zeros((vocab_size, Embedding_dimensions))\n",
    "\n",
    "for word, token in tokenizer.word_index.items():\n",
    "    if word2vec_model.wv.__contains__(word):\n",
    "        embedding_matrix[token] = word2vec_model.wv.__getitem__(word)\n",
    "\n",
    "print(\"Embedding Matrix Shape:\", embedding_matrix.shape)\n",
    "\n"
   ]
  },
  {
   "cell_type": "markdown",
   "id": "0962f1a4-a6cb-4e23-8f93-609cfbb92492",
   "metadata": {},
   "source": [
    "## Creating Bi-Directioal LSTM Model"
   ]
  },
  {
   "cell_type": "code",
   "execution_count": null,
   "id": "debeb1eb-d2ca-455a-8f91-ebd2a755b96d",
   "metadata": {},
   "outputs": [],
   "source": []
  },
  {
   "cell_type": "markdown",
   "id": "36506e02-afc7-455a-ac21-020a44db76e0",
   "metadata": {},
   "source": [
    "## Training Bi-LSTM"
   ]
  },
  {
   "cell_type": "code",
   "execution_count": 16,
   "id": "70eca29e-135c-4d4f-9ee5-dde7dcd161de",
   "metadata": {},
   "outputs": [
    {
     "data": {
      "text/plain": [
       "array([   20,   624,  2939,  1508,   341,   829, 11169,  6635,   652,\n",
       "       11170,  6636,   207,     0,     0,     0,     0,     0,     0,\n",
       "           0,     0,     0,     0,     0,     0,     0,     0,     0,\n",
       "           0,     0,     0,     0,     0,     0,     0,     0,     0,\n",
       "           0,     0,     0,     0,     0,     0,     0,     0,     0,\n",
       "           0,     0,     0,     0,     0,     0,     0,     0,     0,\n",
       "           0,     0,     0,     0,     0,     0], dtype=int32)"
      ]
     },
     "execution_count": 16,
     "metadata": {},
     "output_type": "execute_result"
    }
   ],
   "source": [
    "paded_sequences = pad_sequences(train_sequences, maxlen=input_length,padding=\"post\",truncating=\"post\")\n",
    "test_paded_sequences = pad_sequences(test_sequences, maxlen=input_length,padding=\"post\",truncating=\"post\")\n",
    "paded_sequences[50]"
   ]
  },
  {
   "cell_type": "code",
   "execution_count": 17,
   "id": "bd33a600-56f5-4700-ac0d-07adebf59c5e",
   "metadata": {},
   "outputs": [
    {
     "data": {
      "text/plain": [
       "(24676,)"
      ]
     },
     "execution_count": 17,
     "metadata": {},
     "output_type": "execute_result"
    }
   ],
   "source": [
    "X_train.shape"
   ]
  },
  {
   "cell_type": "code",
   "execution_count": 18,
   "id": "7d6d2f98-f30a-4709-8886-e7e323b007ea",
   "metadata": {},
   "outputs": [
    {
     "name": "stderr",
     "output_type": "stream",
     "text": [
      "/home/vulcan/.local/lib/python3.10/site-packages/keras/src/layers/core/embedding.py:90: UserWarning: Argument `input_length` is deprecated. Just remove it.\n",
      "  warnings.warn(\n",
      "2024-09-03 14:47:33.231574: I external/local_xla/xla/stream_executor/cuda/cuda_executor.cc:998] successful NUMA node read from SysFS had negative value (-1), but there must be at least one NUMA node, so returning NUMA node zero. See more at https://github.com/torvalds/linux/blob/v6.0/Documentation/ABI/testing/sysfs-bus-pci#L344-L355\n",
      "2024-09-03 14:47:33.261410: I external/local_xla/xla/stream_executor/cuda/cuda_executor.cc:998] successful NUMA node read from SysFS had negative value (-1), but there must be at least one NUMA node, so returning NUMA node zero. See more at https://github.com/torvalds/linux/blob/v6.0/Documentation/ABI/testing/sysfs-bus-pci#L344-L355\n",
      "2024-09-03 14:47:33.265605: I external/local_xla/xla/stream_executor/cuda/cuda_executor.cc:998] successful NUMA node read from SysFS had negative value (-1), but there must be at least one NUMA node, so returning NUMA node zero. See more at https://github.com/torvalds/linux/blob/v6.0/Documentation/ABI/testing/sysfs-bus-pci#L344-L355\n",
      "2024-09-03 14:47:33.270177: I external/local_xla/xla/stream_executor/cuda/cuda_executor.cc:998] successful NUMA node read from SysFS had negative value (-1), but there must be at least one NUMA node, so returning NUMA node zero. See more at https://github.com/torvalds/linux/blob/v6.0/Documentation/ABI/testing/sysfs-bus-pci#L344-L355\n",
      "2024-09-03 14:47:33.274094: I external/local_xla/xla/stream_executor/cuda/cuda_executor.cc:998] successful NUMA node read from SysFS had negative value (-1), but there must be at least one NUMA node, so returning NUMA node zero. See more at https://github.com/torvalds/linux/blob/v6.0/Documentation/ABI/testing/sysfs-bus-pci#L344-L355\n",
      "2024-09-03 14:47:33.277892: I external/local_xla/xla/stream_executor/cuda/cuda_executor.cc:998] successful NUMA node read from SysFS had negative value (-1), but there must be at least one NUMA node, so returning NUMA node zero. See more at https://github.com/torvalds/linux/blob/v6.0/Documentation/ABI/testing/sysfs-bus-pci#L344-L355\n",
      "2024-09-03 14:47:33.391657: I external/local_xla/xla/stream_executor/cuda/cuda_executor.cc:998] successful NUMA node read from SysFS had negative value (-1), but there must be at least one NUMA node, so returning NUMA node zero. See more at https://github.com/torvalds/linux/blob/v6.0/Documentation/ABI/testing/sysfs-bus-pci#L344-L355\n",
      "2024-09-03 14:47:33.393572: I external/local_xla/xla/stream_executor/cuda/cuda_executor.cc:998] successful NUMA node read from SysFS had negative value (-1), but there must be at least one NUMA node, so returning NUMA node zero. See more at https://github.com/torvalds/linux/blob/v6.0/Documentation/ABI/testing/sysfs-bus-pci#L344-L355\n",
      "2024-09-03 14:47:33.395290: I external/local_xla/xla/stream_executor/cuda/cuda_executor.cc:998] successful NUMA node read from SysFS had negative value (-1), but there must be at least one NUMA node, so returning NUMA node zero. See more at https://github.com/torvalds/linux/blob/v6.0/Documentation/ABI/testing/sysfs-bus-pci#L344-L355\n",
      "2024-09-03 14:47:33.396995: I tensorflow/core/common_runtime/gpu/gpu_device.cc:1928] Created device /job:localhost/replica:0/task:0/device:GPU:0 with 6172 MB memory:  -> device: 0, name: NVIDIA GeForce RTX 3070 Ti Laptop GPU, pci bus id: 0000:01:00.0, compute capability: 8.6\n"
     ]
    }
   ],
   "source": [
    "model = Sequential([Embedding(input_dim=vocab_size,\n",
    "                              output_dim=128,\n",
    "                              weights=[embedding_matrix],\n",
    "                              input_length=input_length),\n",
    "                   Bidirectional(LSTM(100,return_sequences=True,kernel_regularizer=l2(0.001),recurrent_regularizer=l2(0.001),\n",
    "                                      bias_regularizer=l2(0.001),dropout=(0.2),recurrent_dropout=(0.2))),\n",
    "                   ##Dropout(0.2),\n",
    "                   Bidirectional(LSTM(100,return_sequences=False,kernel_regularizer=l2(0.001),recurrent_regularizer=l2(0.001),\n",
    "                                      bias_regularizer=l2(0.001),dropout=(0.2),recurrent_dropout=(0.2))),\n",
    "                   ##Dropout(0.2),\n",
    "                   Dense(16, activation='relu'),\n",
    "                   Dense(3,activation=\"softmax\")])\n"
   ]
  },
  {
   "cell_type": "code",
   "execution_count": 19,
   "id": "e0cb27e4-dbcb-4d11-9098-0c73326cf1a6",
   "metadata": {},
   "outputs": [
    {
     "data": {
      "text/html": [
       "<pre style=\"white-space:pre;overflow-x:auto;line-height:normal;font-family:Menlo,'DejaVu Sans Mono',consolas,'Courier New',monospace\"><span style=\"font-weight: bold\">Model: \"sequential\"</span>\n",
       "</pre>\n"
      ],
      "text/plain": [
       "\u001b[1mModel: \"sequential\"\u001b[0m\n"
      ]
     },
     "metadata": {},
     "output_type": "display_data"
    },
    {
     "data": {
      "text/html": [
       "<pre style=\"white-space:pre;overflow-x:auto;line-height:normal;font-family:Menlo,'DejaVu Sans Mono',consolas,'Courier New',monospace\">┏━━━━━━━━━━━━━━━━━━━━━━━━━━━━━━━━━┳━━━━━━━━━━━━━━━━━━━━━━━━┳━━━━━━━━━━━━━━━┓\n",
       "┃<span style=\"font-weight: bold\"> Layer (type)                    </span>┃<span style=\"font-weight: bold\"> Output Shape           </span>┃<span style=\"font-weight: bold\">       Param # </span>┃\n",
       "┡━━━━━━━━━━━━━━━━━━━━━━━━━━━━━━━━━╇━━━━━━━━━━━━━━━━━━━━━━━━╇━━━━━━━━━━━━━━━┩\n",
       "│ embedding (<span style=\"color: #0087ff; text-decoration-color: #0087ff\">Embedding</span>)           │ ?                      │     <span style=\"color: #00af00; text-decoration-color: #00af00\">2,786,176</span> │\n",
       "├─────────────────────────────────┼────────────────────────┼───────────────┤\n",
       "│ bidirectional (<span style=\"color: #0087ff; text-decoration-color: #0087ff\">Bidirectional</span>)   │ ?                      │   <span style=\"color: #00af00; text-decoration-color: #00af00\">0</span> (unbuilt) │\n",
       "├─────────────────────────────────┼────────────────────────┼───────────────┤\n",
       "│ bidirectional_1 (<span style=\"color: #0087ff; text-decoration-color: #0087ff\">Bidirectional</span>) │ ?                      │   <span style=\"color: #00af00; text-decoration-color: #00af00\">0</span> (unbuilt) │\n",
       "├─────────────────────────────────┼────────────────────────┼───────────────┤\n",
       "│ dense (<span style=\"color: #0087ff; text-decoration-color: #0087ff\">Dense</span>)                   │ ?                      │   <span style=\"color: #00af00; text-decoration-color: #00af00\">0</span> (unbuilt) │\n",
       "├─────────────────────────────────┼────────────────────────┼───────────────┤\n",
       "│ dense_1 (<span style=\"color: #0087ff; text-decoration-color: #0087ff\">Dense</span>)                 │ ?                      │   <span style=\"color: #00af00; text-decoration-color: #00af00\">0</span> (unbuilt) │\n",
       "└─────────────────────────────────┴────────────────────────┴───────────────┘\n",
       "</pre>\n"
      ],
      "text/plain": [
       "┏━━━━━━━━━━━━━━━━━━━━━━━━━━━━━━━━━┳━━━━━━━━━━━━━━━━━━━━━━━━┳━━━━━━━━━━━━━━━┓\n",
       "┃\u001b[1m \u001b[0m\u001b[1mLayer (type)                   \u001b[0m\u001b[1m \u001b[0m┃\u001b[1m \u001b[0m\u001b[1mOutput Shape          \u001b[0m\u001b[1m \u001b[0m┃\u001b[1m \u001b[0m\u001b[1m      Param #\u001b[0m\u001b[1m \u001b[0m┃\n",
       "┡━━━━━━━━━━━━━━━━━━━━━━━━━━━━━━━━━╇━━━━━━━━━━━━━━━━━━━━━━━━╇━━━━━━━━━━━━━━━┩\n",
       "│ embedding (\u001b[38;5;33mEmbedding\u001b[0m)           │ ?                      │     \u001b[38;5;34m2,786,176\u001b[0m │\n",
       "├─────────────────────────────────┼────────────────────────┼───────────────┤\n",
       "│ bidirectional (\u001b[38;5;33mBidirectional\u001b[0m)   │ ?                      │   \u001b[38;5;34m0\u001b[0m (unbuilt) │\n",
       "├─────────────────────────────────┼────────────────────────┼───────────────┤\n",
       "│ bidirectional_1 (\u001b[38;5;33mBidirectional\u001b[0m) │ ?                      │   \u001b[38;5;34m0\u001b[0m (unbuilt) │\n",
       "├─────────────────────────────────┼────────────────────────┼───────────────┤\n",
       "│ dense (\u001b[38;5;33mDense\u001b[0m)                   │ ?                      │   \u001b[38;5;34m0\u001b[0m (unbuilt) │\n",
       "├─────────────────────────────────┼────────────────────────┼───────────────┤\n",
       "│ dense_1 (\u001b[38;5;33mDense\u001b[0m)                 │ ?                      │   \u001b[38;5;34m0\u001b[0m (unbuilt) │\n",
       "└─────────────────────────────────┴────────────────────────┴───────────────┘\n"
      ]
     },
     "metadata": {},
     "output_type": "display_data"
    },
    {
     "data": {
      "text/html": [
       "<pre style=\"white-space:pre;overflow-x:auto;line-height:normal;font-family:Menlo,'DejaVu Sans Mono',consolas,'Courier New',monospace\"><span style=\"font-weight: bold\"> Total params: </span><span style=\"color: #00af00; text-decoration-color: #00af00\">2,786,176</span> (10.63 MB)\n",
       "</pre>\n"
      ],
      "text/plain": [
       "\u001b[1m Total params: \u001b[0m\u001b[38;5;34m2,786,176\u001b[0m (10.63 MB)\n"
      ]
     },
     "metadata": {},
     "output_type": "display_data"
    },
    {
     "data": {
      "text/html": [
       "<pre style=\"white-space:pre;overflow-x:auto;line-height:normal;font-family:Menlo,'DejaVu Sans Mono',consolas,'Courier New',monospace\"><span style=\"font-weight: bold\"> Trainable params: </span><span style=\"color: #00af00; text-decoration-color: #00af00\">2,786,176</span> (10.63 MB)\n",
       "</pre>\n"
      ],
      "text/plain": [
       "\u001b[1m Trainable params: \u001b[0m\u001b[38;5;34m2,786,176\u001b[0m (10.63 MB)\n"
      ]
     },
     "metadata": {},
     "output_type": "display_data"
    },
    {
     "data": {
      "text/html": [
       "<pre style=\"white-space:pre;overflow-x:auto;line-height:normal;font-family:Menlo,'DejaVu Sans Mono',consolas,'Courier New',monospace\"><span style=\"font-weight: bold\"> Non-trainable params: </span><span style=\"color: #00af00; text-decoration-color: #00af00\">0</span> (0.00 B)\n",
       "</pre>\n"
      ],
      "text/plain": [
       "\u001b[1m Non-trainable params: \u001b[0m\u001b[38;5;34m0\u001b[0m (0.00 B)\n"
      ]
     },
     "metadata": {},
     "output_type": "display_data"
    }
   ],
   "source": [
    "model.summary()"
   ]
  },
  {
   "cell_type": "code",
   "execution_count": 20,
   "id": "21af06c8-6b4d-4e52-85d4-9505ded1d7e2",
   "metadata": {},
   "outputs": [
    {
     "data": {
      "text/plain": [
       "array([0, 1, 0, ..., 0, 2, 2])"
      ]
     },
     "execution_count": 20,
     "metadata": {},
     "output_type": "execute_result"
    }
   ],
   "source": [
    "y_train"
   ]
  },
  {
   "cell_type": "code",
   "execution_count": 21,
   "id": "7a6ead5b-cdaf-4ce3-8971-54cab60ffa56",
   "metadata": {},
   "outputs": [],
   "source": [
    "model.compile(loss='sparse_categorical_crossentropy', \n",
    "              optimizer=Adam(learning_rate=0.001),  \n",
    "              metrics=['accuracy'])\n"
   ]
  },
  {
   "cell_type": "code",
   "execution_count": 22,
   "id": "222e6131-e41e-4c23-92ce-4ce406573b59",
   "metadata": {},
   "outputs": [
    {
     "name": "stdout",
     "output_type": "stream",
     "text": [
      "Epoch 1/15\n",
      "\u001b[1m617/617\u001b[0m \u001b[32m━━━━━━━━━━━━━━━━━━━━\u001b[0m\u001b[37m\u001b[0m \u001b[1m66s\u001b[0m 100ms/step - accuracy: 0.5121 - loss: 1.6410 - val_accuracy: 0.6262 - val_loss: 0.9829\n",
      "Epoch 2/15\n",
      "\u001b[1m617/617\u001b[0m \u001b[32m━━━━━━━━━━━━━━━━━━━━\u001b[0m\u001b[37m\u001b[0m \u001b[1m64s\u001b[0m 103ms/step - accuracy: 0.6944 - loss: 0.8569 - val_accuracy: 0.6700 - val_loss: 0.8477\n",
      "Epoch 3/15\n",
      "\u001b[1m617/617\u001b[0m \u001b[32m━━━━━━━━━━━━━━━━━━━━\u001b[0m\u001b[37m\u001b[0m \u001b[1m65s\u001b[0m 106ms/step - accuracy: 0.8170 - loss: 0.5559 - val_accuracy: 0.6663 - val_loss: 0.8566\n",
      "Epoch 4/15\n",
      "\u001b[1m617/617\u001b[0m \u001b[32m━━━━━━━━━━━━━━━━━━━━\u001b[0m\u001b[37m\u001b[0m \u001b[1m66s\u001b[0m 108ms/step - accuracy: 0.8736 - loss: 0.4033 - val_accuracy: 0.6627 - val_loss: 1.0007\n",
      "Epoch 5/15\n",
      "\u001b[1m617/617\u001b[0m \u001b[32m━━━━━━━━━━━━━━━━━━━━\u001b[0m\u001b[37m\u001b[0m \u001b[1m67s\u001b[0m 109ms/step - accuracy: 0.8922 - loss: 0.3479 - val_accuracy: 0.6513 - val_loss: 1.0298\n",
      "Epoch 6/15\n",
      "\u001b[1m617/617\u001b[0m \u001b[32m━━━━━━━━━━━━━━━━━━━━\u001b[0m\u001b[37m\u001b[0m \u001b[1m68s\u001b[0m 110ms/step - accuracy: 0.9128 - loss: 0.2941 - val_accuracy: 0.6544 - val_loss: 1.1541\n",
      "Epoch 7/15\n",
      "\u001b[1m617/617\u001b[0m \u001b[32m━━━━━━━━━━━━━━━━━━━━\u001b[0m\u001b[37m\u001b[0m \u001b[1m68s\u001b[0m 110ms/step - accuracy: 0.9174 - loss: 0.2767 - val_accuracy: 0.6503 - val_loss: 1.0939\n",
      "Epoch 8/15\n",
      "\u001b[1m617/617\u001b[0m \u001b[32m━━━━━━━━━━━━━━━━━━━━\u001b[0m\u001b[37m\u001b[0m \u001b[1m68s\u001b[0m 111ms/step - accuracy: 0.9304 - loss: 0.2453 - val_accuracy: 0.6499 - val_loss: 1.1454\n",
      "Epoch 9/15\n",
      "\u001b[1m617/617\u001b[0m \u001b[32m━━━━━━━━━━━━━━━━━━━━\u001b[0m\u001b[37m\u001b[0m \u001b[1m68s\u001b[0m 110ms/step - accuracy: 0.9375 - loss: 0.2250 - val_accuracy: 0.6461 - val_loss: 1.2405\n",
      "Epoch 10/15\n",
      "\u001b[1m617/617\u001b[0m \u001b[32m━━━━━━━━━━━━━━━━━━━━\u001b[0m\u001b[37m\u001b[0m \u001b[1m68s\u001b[0m 110ms/step - accuracy: 0.9416 - loss: 0.2103 - val_accuracy: 0.6420 - val_loss: 1.2835\n",
      "Epoch 11/15\n",
      "\u001b[1m617/617\u001b[0m \u001b[32m━━━━━━━━━━━━━━━━━━━━\u001b[0m\u001b[37m\u001b[0m \u001b[1m68s\u001b[0m 111ms/step - accuracy: 0.9430 - loss: 0.2088 - val_accuracy: 0.6390 - val_loss: 1.3357\n",
      "Epoch 12/15\n",
      "\u001b[1m617/617\u001b[0m \u001b[32m━━━━━━━━━━━━━━━━━━━━\u001b[0m\u001b[37m\u001b[0m \u001b[1m68s\u001b[0m 111ms/step - accuracy: 0.9424 - loss: 0.2072 - val_accuracy: 0.6422 - val_loss: 1.3251\n",
      "Epoch 13/15\n",
      "\u001b[1m617/617\u001b[0m \u001b[32m━━━━━━━━━━━━━━━━━━━━\u001b[0m\u001b[37m\u001b[0m \u001b[1m68s\u001b[0m 111ms/step - accuracy: 0.9474 - loss: 0.1905 - val_accuracy: 0.6374 - val_loss: 1.4226\n",
      "Epoch 14/15\n",
      "\u001b[1m617/617\u001b[0m \u001b[32m━━━━━━━━━━━━━━━━━━━━\u001b[0m\u001b[37m\u001b[0m \u001b[1m68s\u001b[0m 111ms/step - accuracy: 0.9513 - loss: 0.1783 - val_accuracy: 0.6374 - val_loss: 1.3157\n",
      "Epoch 15/15\n",
      "\u001b[1m617/617\u001b[0m \u001b[32m━━━━━━━━━━━━━━━━━━━━\u001b[0m\u001b[37m\u001b[0m \u001b[1m69s\u001b[0m 111ms/step - accuracy: 0.9534 - loss: 0.1704 - val_accuracy: 0.6404 - val_loss: 1.6631\n"
     ]
    },
    {
     "data": {
      "text/plain": [
       "<keras.src.callbacks.history.History at 0x7837c37c19c0>"
      ]
     },
     "execution_count": 22,
     "metadata": {},
     "output_type": "execute_result"
    }
   ],
   "source": [
    "##\n",
    "model.fit(paded_sequences, y_train, epochs=15, batch_size=32,validation_split=0.2)\n"
   ]
  },
  {
   "cell_type": "code",
   "execution_count": 23,
   "id": "5c2048f3-ebe9-4b3b-8158-f4237858fc81",
   "metadata": {},
   "outputs": [
    {
     "data": {
      "text/html": [
       "<div>\n",
       "<style scoped>\n",
       "    .dataframe tbody tr th:only-of-type {\n",
       "        vertical-align: middle;\n",
       "    }\n",
       "\n",
       "    .dataframe tbody tr th {\n",
       "        vertical-align: top;\n",
       "    }\n",
       "\n",
       "    .dataframe thead th {\n",
       "        text-align: right;\n",
       "    }\n",
       "</style>\n",
       "<table border=\"1\" class=\"dataframe\">\n",
       "  <thead>\n",
       "    <tr style=\"text-align: right;\">\n",
       "      <th></th>\n",
       "      <th>Unnamed: 0</th>\n",
       "      <th>headline</th>\n",
       "      <th>label</th>\n",
       "      <th>word_count</th>\n",
       "    </tr>\n",
       "  </thead>\n",
       "  <tbody>\n",
       "    <tr>\n",
       "      <th>0</th>\n",
       "      <td>0</td>\n",
       "      <td>market close mostly low rost panw report earning</td>\n",
       "      <td>negative</td>\n",
       "      <td>8</td>\n",
       "    </tr>\n",
       "    <tr>\n",
       "      <th>1</th>\n",
       "      <td>1</td>\n",
       "      <td>gap plummet earning miss cut fullyear forecast</td>\n",
       "      <td>negative</td>\n",
       "      <td>7</td>\n",
       "    </tr>\n",
       "    <tr>\n",
       "      <th>2</th>\n",
       "      <td>2</td>\n",
       "      <td>billionaire ken fisher sell 10 stock</td>\n",
       "      <td>negative</td>\n",
       "      <td>6</td>\n",
       "    </tr>\n",
       "    <tr>\n",
       "      <th>3</th>\n",
       "      <td>3</td>\n",
       "      <td>corn net income drop 13 share fall</td>\n",
       "      <td>negative</td>\n",
       "      <td>7</td>\n",
       "    </tr>\n",
       "    <tr>\n",
       "      <th>4</th>\n",
       "      <td>4</td>\n",
       "      <td>internet explorer shutdown cause japan problem...</td>\n",
       "      <td>negative</td>\n",
       "      <td>7</td>\n",
       "    </tr>\n",
       "    <tr>\n",
       "      <th>...</th>\n",
       "      <td>...</td>\n",
       "      <td>...</td>\n",
       "      <td>...</td>\n",
       "      <td>...</td>\n",
       "    </tr>\n",
       "    <tr>\n",
       "      <th>30840</th>\n",
       "      <td>30840</td>\n",
       "      <td>london marketwatch share price end low london ...</td>\n",
       "      <td>negative</td>\n",
       "      <td>17</td>\n",
       "    </tr>\n",
       "    <tr>\n",
       "      <th>30841</th>\n",
       "      <td>30841</td>\n",
       "      <td>rinkuskiai beer sale fall 65 per cent 416 mill...</td>\n",
       "      <td>neutral</td>\n",
       "      <td>21</td>\n",
       "    </tr>\n",
       "    <tr>\n",
       "      <th>30842</th>\n",
       "      <td>30842</td>\n",
       "      <td>operate profit fall our 354 in our 688 in 2007...</td>\n",
       "      <td>negative</td>\n",
       "      <td>17</td>\n",
       "    </tr>\n",
       "    <tr>\n",
       "      <th>30843</th>\n",
       "      <td>30843</td>\n",
       "      <td>net sale paper segment decrease our 2216 in se...</td>\n",
       "      <td>negative</td>\n",
       "      <td>29</td>\n",
       "    </tr>\n",
       "    <tr>\n",
       "      <th>30844</th>\n",
       "      <td>30844</td>\n",
       "      <td>sale finland decrease 105 january sale outside...</td>\n",
       "      <td>negative</td>\n",
       "      <td>10</td>\n",
       "    </tr>\n",
       "  </tbody>\n",
       "</table>\n",
       "<p>30845 rows × 4 columns</p>\n",
       "</div>"
      ],
      "text/plain": [
       "       Unnamed: 0                                           headline  \\\n",
       "0               0   market close mostly low rost panw report earning   \n",
       "1               1     gap plummet earning miss cut fullyear forecast   \n",
       "2               2               billionaire ken fisher sell 10 stock   \n",
       "3               3                 corn net income drop 13 share fall   \n",
       "4               4  internet explorer shutdown cause japan problem...   \n",
       "...           ...                                                ...   \n",
       "30840       30840  london marketwatch share price end low london ...   \n",
       "30841       30841  rinkuskiai beer sale fall 65 per cent 416 mill...   \n",
       "30842       30842  operate profit fall our 354 in our 688 in 2007...   \n",
       "30843       30843  net sale paper segment decrease our 2216 in se...   \n",
       "30844       30844  sale finland decrease 105 january sale outside...   \n",
       "\n",
       "          label  word_count  \n",
       "0      negative           8  \n",
       "1      negative           7  \n",
       "2      negative           6  \n",
       "3      negative           7  \n",
       "4      negative           7  \n",
       "...         ...         ...  \n",
       "30840  negative          17  \n",
       "30841   neutral          21  \n",
       "30842  negative          17  \n",
       "30843  negative          29  \n",
       "30844  negative          10  \n",
       "\n",
       "[30845 rows x 4 columns]"
      ]
     },
     "execution_count": 23,
     "metadata": {},
     "output_type": "execute_result"
    }
   ],
   "source": [
    "df"
   ]
  },
  {
   "cell_type": "code",
   "execution_count": 24,
   "id": "1d78f55a-f459-4623-a53a-028bd3be6fb3",
   "metadata": {},
   "outputs": [
    {
     "data": {
      "text/plain": [
       "array([0, 2, 2, ..., 0, 2, 2])"
      ]
     },
     "execution_count": 24,
     "metadata": {},
     "output_type": "execute_result"
    }
   ],
   "source": [
    "y_test"
   ]
  },
  {
   "cell_type": "markdown",
   "id": "b8a2dcb5-43d8-4fe2-bc94-ecb4fbea259b",
   "metadata": {},
   "source": [
    "## 1 for Neutral\n",
    "## 0 For Negative\n",
    "## 2 For Positive\n"
   ]
  },
  {
   "cell_type": "code",
   "execution_count": 25,
   "id": "051148df-0294-47e4-a5b3-2a84e7464bad",
   "metadata": {},
   "outputs": [
    {
     "name": "stdout",
     "output_type": "stream",
     "text": [
      "\u001b[1m193/193\u001b[0m \u001b[32m━━━━━━━━━━━━━━━━━━━━\u001b[0m\u001b[37m\u001b[0m \u001b[1m5s\u001b[0m 24ms/step\n",
      "Predictions: [0, 2, 2, 0, 1, 2, 2, 2, 2, 0, 0, 1, 2, 1, 1, 2, 2, 0, 2, 2, 0, 2, 0, 2, 0, 2, 2, 2, 2, 2, 1, 0, 1, 1, 2, 2, 1, 1, 0, 1, 0, 1, 2, 1, 2, 2, 2, 0, 1, 0, 2, 0, 2, 1, 2, 1, 1, 2, 1, 2, 1, 2, 1, 2, 2, 1, 2, 2, 0, 2, 2, 1, 1, 0, 2, 1, 0, 2, 1, 1, 1, 0, 1, 2, 2, 2, 2, 0, 1, 1, 2, 1, 2, 1, 2, 2, 1, 2, 2, 2, 1, 2, 1, 2, 2, 1, 1, 1, 2, 2, 1, 0, 1, 2, 2, 1, 1, 1, 2, 1, 0, 0, 1, 1, 1, 1, 2, 2, 2, 2, 2, 1, 1, 1, 1, 2, 1, 1, 1, 2, 2, 2, 0, 1, 0, 1, 0, 2, 0, 1, 1, 2, 1, 0, 1, 0, 0, 1, 0, 2, 2, 2, 2, 1, 0, 0, 0, 1, 2, 2, 2, 2, 1, 1, 0, 2, 2, 2, 2, 2, 2, 2, 2, 2, 2, 2, 1, 1, 1, 2, 1, 1, 1, 2, 1, 1, 0, 0, 2, 1, 0, 0, 1, 1, 2, 2, 1, 0, 1, 0, 1, 2, 1, 2, 2, 1, 2, 0, 2, 2, 1, 2, 1, 2, 1, 0, 0, 0, 2, 1, 1, 1, 0, 1, 2, 2, 2, 1, 0, 1, 2, 1, 1, 2, 2, 0, 1, 1, 0, 2, 2, 2, 0, 2, 2, 0, 1, 1, 2, 2, 1, 0, 1, 1, 0, 0, 1, 1, 1, 1, 1, 2, 2, 1, 2, 0, 1, 0, 2, 2, 1, 0, 2, 1, 0, 0, 2, 1, 1, 1, 1, 2, 1, 2, 1, 2, 1, 2, 2, 0, 0, 2, 1, 2, 1, 2, 1, 1, 2, 2, 2, 2, 2, 1, 1, 2, 0, 1, 1, 0, 1, 2, 2, 2, 2, 2, 2, 1, 1, 2, 0, 1, 2, 2, 0, 2, 2, 2, 1, 1, 0, 1, 2, 2, 1, 2, 1, 2, 1, 1, 1, 2, 0, 1, 2, 1, 2, 1, 0, 2, 2, 2, 2, 2, 1, 1, 0, 1, 1, 2, 1, 2, 2, 0, 1, 1, 2, 2, 2, 2, 1, 1, 1, 1, 2, 1, 2, 2, 1, 1, 2, 1, 2, 1, 1, 2, 2, 2, 2, 1, 2, 2, 2, 0, 0, 1, 2, 1, 2, 1, 2, 2, 0, 2, 1, 2, 1, 2, 2, 1, 2, 1, 2, 1, 2, 2, 1, 1, 2, 2, 1, 2, 2, 0, 2, 1, 2, 1, 2, 0, 1, 0, 2, 1, 1, 1, 1, 2, 1, 0, 2, 1, 2, 1, 2, 0, 0, 2, 1, 0, 1, 2, 2, 1, 2, 1, 1, 2, 2, 1, 2, 2, 0, 1, 2, 1, 0, 1, 0, 2, 1, 0, 2, 2, 1, 2, 1, 2, 0, 2, 2, 1, 2, 1, 2, 1, 2, 1, 2, 2, 2, 2, 1, 2, 2, 2, 1, 2, 0, 1, 1, 1, 1, 0, 1, 0, 2, 2, 1, 2, 2, 1, 0, 1, 0, 1, 1, 2, 2, 1, 0, 1, 1, 1, 2, 1, 1, 2, 2, 2, 1, 2, 1, 2, 1, 1, 2, 2, 1, 2, 1, 0, 0, 1, 2, 1, 1, 2, 2, 1, 0, 2, 1, 1, 2, 1, 1, 1, 2, 1, 1, 1, 1, 1, 1, 1, 2, 2, 1, 1, 2, 0, 1, 2, 2, 2, 2, 1, 1, 0, 1, 1, 1, 0, 2, 1, 2, 2, 2, 1, 0, 2, 2, 1, 2, 0, 2, 1, 2, 1, 2, 2, 2, 1, 2, 0, 1, 1, 1, 1, 1, 2, 0, 2, 1, 2, 1, 1, 2, 1, 1, 1, 0, 2, 1, 2, 2, 1, 2, 2, 1, 1, 1, 2, 1, 1, 1, 1, 1, 2, 1, 2, 1, 1, 2, 0, 2, 2, 2, 0, 2, 1, 1, 1, 1, 2, 2, 1, 2, 2, 2, 1, 2, 0, 2, 1, 1, 2, 2, 2, 0, 2, 2, 1, 2, 2, 1, 0, 2, 2, 2, 2, 1, 0, 0, 2, 2, 1, 2, 1, 2, 2, 1, 0, 1, 1, 1, 1, 1, 2, 1, 1, 1, 2, 2, 2, 0, 2, 2, 0, 1, 1, 1, 1, 2, 1, 1, 0, 1, 2, 1, 0, 2, 2, 0, 2, 1, 2, 1, 2, 2, 1, 2, 2, 2, 2, 2, 1, 1, 1, 1, 1, 2, 2, 0, 2, 2, 1, 1, 1, 2, 1, 1, 2, 2, 2, 0, 1, 2, 1, 1, 0, 1, 2, 1, 2, 2, 2, 1, 1, 2, 2, 2, 2, 2, 2, 2, 2, 2, 2, 1, 1, 2, 2, 2, 1, 2, 1, 2, 0, 1, 2, 1, 1, 2, 0, 2, 1, 0, 0, 1, 2, 2, 1, 2, 1, 1, 1, 2, 0, 1, 1, 2, 1, 2, 2, 2, 2, 1, 2, 1, 1, 2, 0, 2, 2, 2, 0, 0, 2, 1, 2, 0, 2, 1, 2, 2, 1, 1, 2, 1, 2, 1, 1, 2, 1, 2, 1, 1, 1, 1, 1, 1, 1, 1, 1, 2, 1, 2, 1, 2, 2, 1, 1, 1, 2, 0, 1, 0, 2, 1, 2, 2, 0, 0, 1, 1, 2, 1, 1, 2, 0, 1, 1, 1, 2, 2, 1, 2, 2, 2, 2, 1, 0, 2, 2, 2, 2, 1, 1, 1, 2, 1, 1, 2, 0, 2, 2, 1, 0, 1, 1, 1, 2, 1, 1, 2, 1, 1, 2, 2, 1, 2, 0, 1, 1, 2, 2, 1, 2, 2, 0, 1, 2, 0, 2, 1, 2, 1, 1, 0, 1, 0, 1, 2, 2, 1, 1, 0, 2, 1, 1, 1, 2, 2, 1, 2, 2, 1, 2, 2, 2, 1, 1, 1, 0, 2, 2, 1, 1, 2, 1, 1, 2, 1, 0, 0, 1, 2, 2, 2, 2, 1, 1, 1, 1, 1, 1, 2, 2, 1, 2, 1, 2, 2, 1, 1, 2, 2, 0, 1, 2, 0, 2, 2, 1, 2, 1, 0, 2, 2, 2, 0, 1, 2, 2, 2, 2, 2, 0, 2, 2, 1, 2, 2, 1, 1, 1, 2, 1, 2, 1, 1, 1, 1, 1, 2, 1, 1, 2, 1, 1, 2, 0, 0, 1, 1, 2, 0, 2, 2, 2, 1, 1, 1, 2, 0, 2, 2, 0, 0, 2, 2, 2, 2, 1, 2, 1, 1, 2, 1, 1, 1, 1, 0, 2, 1, 1, 1, 0, 2, 1, 1, 0, 2, 0, 1, 2, 2, 2, 1, 2, 2, 1, 0, 2, 1, 1, 2, 1, 2, 2, 0, 2, 1, 1, 2, 2, 2, 1, 1, 1, 0, 1, 2, 2, 2, 1, 1, 0, 0, 0, 1, 2, 0, 1, 1, 1, 2, 2, 2, 2, 1, 2, 1, 1, 1, 0, 1, 0, 2, 2, 2, 2, 2, 2, 1, 1, 2, 2, 0, 2, 2, 1, 1, 1, 0, 0, 2, 0, 2, 0, 2, 1, 2, 0, 2, 1, 0, 1, 1, 2, 2, 1, 1, 2, 2, 1, 1, 0, 2, 2, 2, 2, 2, 2, 0, 2, 1, 2, 2, 1, 1, 1, 2, 2, 2, 1, 2, 2, 1, 2, 0, 2, 0, 0, 0, 2, 2, 2, 1, 2, 2, 2, 1, 0, 1, 1, 0, 1, 1, 1, 2, 2, 0, 0, 0, 0, 0, 1, 2, 2, 2, 2, 1, 2, 1, 1, 1, 1, 2, 2, 0, 2, 2, 0, 2, 1, 2, 2, 1, 2, 1, 1, 2, 1, 2, 1, 2, 2, 2, 2, 1, 1, 1, 2, 1, 2, 0, 1, 2, 2, 2, 1, 2, 2, 1, 0, 2, 1, 2, 1, 2, 1, 0, 1, 2, 2, 1, 1, 2, 1, 2, 2, 1, 2, 2, 1, 1, 1, 2, 1, 1, 2, 2, 1, 0, 1, 2, 2, 2, 1, 2, 0, 2, 1, 2, 2, 2, 1, 1, 2, 2, 2, 2, 1, 1, 1, 1, 1, 0, 2, 1, 0, 0, 2, 2, 0, 1, 2, 1, 2, 2, 2, 2, 0, 2, 0, 1, 1, 2, 2, 2, 1, 2, 2, 0, 2, 2, 2, 2, 1, 2, 1, 0, 2, 1, 1, 2, 2, 2, 2, 1, 2, 1, 1, 1, 1, 1, 2, 1, 0, 1, 0, 1, 2, 1, 2, 2, 1, 2, 1, 2, 2, 1, 2, 1, 1, 1, 1, 2, 2, 1, 1, 2, 1, 1, 2, 1, 0, 2, 2, 1, 2, 2, 0, 1, 2, 1, 1, 0, 2, 2, 2, 0, 2, 2, 2, 1, 1, 0, 1, 2, 1, 2, 1, 1, 2, 1, 0, 2, 2, 2, 2, 1, 1, 2, 2, 2, 2, 1, 1, 2, 2, 2, 0, 1, 1, 2, 0, 2, 2, 2, 1, 2, 1, 2, 1, 1, 1, 2, 2, 1, 2, 2, 0, 2, 1, 2, 0, 2, 1, 2, 2, 0, 2, 1, 1, 1, 2, 1, 1, 0, 2, 1, 1, 2, 2, 2, 1, 1, 2, 1, 2, 2, 1, 1, 2, 2, 2, 2, 2, 1, 2, 1, 1, 1, 1, 2, 2, 1, 1, 1, 0, 2, 2, 1, 1, 0, 2, 2, 1, 2, 2, 2, 1, 2, 1, 2, 2, 1, 0, 1, 0, 1, 1, 2, 1, 1, 1, 1, 1, 1, 2, 1, 1, 2, 0, 0, 2, 2, 2, 0, 0, 2, 1, 1, 2, 1, 1, 2, 2, 1, 1, 2, 0, 2, 2, 0, 2, 1, 0, 1, 1, 1, 1, 1, 1, 0, 1, 2, 2, 2, 1, 1, 1, 1, 2, 2, 1, 1, 1, 2, 2, 1, 0, 1, 1, 1, 2, 2, 2, 1, 2, 1, 1, 2, 1, 1, 1, 2, 0, 2, 2, 1, 1, 1, 2, 1, 1, 2, 2, 2, 2, 0, 1, 0, 0, 2, 2, 2, 2, 0, 2, 2, 2, 2, 0, 1, 1, 2, 1, 2, 2, 1, 2, 2, 2, 1, 1, 2, 2, 2, 0, 0, 1, 2, 2, 1, 2, 1, 2, 1, 1, 1, 2, 1, 0, 0, 2, 2, 1, 1, 0, 0, 2, 1, 2, 1, 2, 2, 2, 2, 2, 1, 1, 1, 2, 2, 2, 1, 1, 2, 0, 1, 2, 2, 0, 2, 1, 2, 2, 1, 1, 2, 2, 1, 2, 1, 2, 1, 2, 2, 1, 2, 1, 2, 2, 1, 2, 0, 2, 0, 0, 2, 2, 2, 2, 0, 1, 2, 1, 1, 1, 2, 1, 1, 2, 1, 1, 1, 1, 0, 1, 2, 1, 2, 0, 1, 1, 1, 1, 2, 2, 2, 1, 2, 2, 2, 2, 0, 1, 2, 2, 2, 2, 2, 1, 1, 2, 2, 1, 1, 1, 2, 0, 1, 0, 1, 2, 2, 2, 1, 2, 2, 0, 2, 2, 1, 1, 2, 2, 0, 1, 2, 1, 2, 1, 2, 0, 2, 1, 0, 2, 1, 1, 1, 1, 1, 2, 2, 0, 0, 2, 1, 2, 1, 2, 1, 1, 2, 2, 2, 0, 2, 1, 2, 2, 2, 1, 2, 1, 0, 2, 1, 2, 1, 1, 2, 1, 1, 0, 2, 0, 1, 1, 0, 0, 2, 1, 2, 0, 1, 2, 0, 1, 2, 2, 1, 1, 1, 2, 2, 1, 2, 2, 0, 1, 2, 2, 2, 2, 2, 1, 0, 2, 1, 1, 2, 2, 1, 1, 2, 2, 1, 2, 2, 2, 0, 2, 1, 2, 2, 2, 1, 2, 2, 2, 1, 0, 1, 0, 2, 2, 2, 2, 2, 1, 0, 1, 1, 2, 2, 0, 2, 2, 0, 1, 2, 2, 1, 2, 1, 2, 2, 1, 2, 1, 2, 2, 2, 0, 1, 1, 1, 1, 1, 2, 1, 2, 2, 2, 2, 2, 2, 2, 2, 2, 2, 2, 1, 1, 1, 1, 2, 2, 1, 0, 2, 1, 2, 1, 0, 0, 1, 0, 2, 1, 2, 2, 2, 1, 1, 2, 1, 2, 1, 0, 1, 2, 0, 2, 1, 2, 1, 2, 0, 1, 0, 1, 1, 1, 1, 2, 1, 1, 2, 1, 2, 1, 1, 2, 1, 0, 2, 1, 1, 2, 2, 1, 2, 0, 2, 2, 1, 2, 2, 1, 2, 1, 2, 1, 2, 2, 0, 1, 2, 2, 2, 0, 1, 1, 1, 2, 1, 1, 1, 1, 2, 0, 0, 1, 2, 1, 2, 2, 0, 2, 1, 0, 2, 2, 1, 1, 2, 0, 1, 1, 0, 1, 1, 2, 2, 1, 1, 1, 1, 0, 2, 0, 2, 0, 1, 1, 0, 1, 1, 1, 2, 0, 0, 1, 2, 1, 2, 2, 2, 1, 2, 1, 1, 2, 1, 2, 2, 2, 2, 1, 2, 2, 1, 2, 1, 2, 2, 2, 0, 2, 2, 1, 1, 2, 1, 2, 2, 1, 2, 1, 2, 1, 2, 1, 2, 0, 1, 2, 1, 2, 1, 1, 2, 0, 1, 0, 2, 1, 1, 2, 2, 0, 1, 1, 2, 2, 2, 1, 2, 1, 1, 2, 2, 2, 0, 0, 1, 2, 2, 1, 2, 1, 2, 1, 2, 2, 2, 1, 0, 1, 1, 1, 0, 2, 2, 2, 1, 2, 2, 2, 1, 0, 1, 2, 2, 0, 1, 1, 1, 0, 1, 1, 1, 0, 2, 2, 1, 1, 0, 2, 2, 2, 0, 2, 2, 0, 2, 2, 0, 1, 1, 2, 2, 1, 1, 2, 2, 1, 1, 2, 1, 1, 1, 2, 1, 2, 1, 2, 2, 1, 0, 2, 2, 2, 1, 2, 0, 1, 1, 1, 1, 2, 2, 2, 1, 1, 1, 2, 2, 1, 1, 1, 0, 0, 1, 0, 2, 1, 1, 0, 2, 1, 0, 2, 1, 2, 1, 0, 0, 0, 2, 2, 1, 2, 1, 0, 2, 2, 0, 2, 2, 2, 0, 0, 0, 1, 1, 2, 1, 1, 2, 2, 2, 0, 1, 1, 1, 2, 2, 1, 1, 2, 1, 1, 2, 1, 1, 1, 2, 1, 2, 2, 1, 0, 2, 1, 2, 2, 0, 1, 1, 0, 2, 1, 1, 1, 0, 2, 0, 2, 1, 2, 1, 1, 1, 1, 2, 1, 2, 2, 1, 0, 2, 1, 2, 2, 2, 2, 2, 2, 1, 1, 1, 2, 0, 2, 1, 1, 2, 1, 2, 2, 1, 2, 1, 2, 1, 2, 2, 2, 0, 2, 1, 2, 1, 2, 0, 0, 2, 2, 1, 2, 2, 2, 1, 2, 0, 1, 2, 1, 2, 2, 2, 2, 2, 2, 1, 1, 2, 1, 2, 1, 1, 2, 1, 2, 1, 1, 2, 2, 1, 2, 1, 1, 2, 2, 2, 2, 1, 0, 1, 1, 1, 1, 1, 1, 1, 1, 2, 2, 1, 0, 2, 1, 1, 1, 2, 2, 1, 2, 0, 1, 1, 1, 2, 2, 2, 1, 1, 1, 1, 1, 0, 1, 2, 2, 2, 1, 1, 1, 2, 2, 2, 2, 2, 0, 2, 2, 0, 2, 0, 2, 1, 2, 2, 1, 1, 2, 0, 2, 1, 1, 0, 2, 2, 2, 1, 1, 2, 2, 1, 0, 2, 1, 2, 1, 0, 2, 0, 2, 2, 1, 2, 0, 1, 2, 2, 1, 1, 0, 2, 1, 2, 0, 2, 2, 1, 2, 0, 0, 1, 2, 1, 1, 1, 2, 0, 2, 0, 2, 2, 1, 2, 2, 0, 0, 2, 1, 2, 2, 2, 2, 0, 2, 2, 1, 2, 0, 1, 1, 1, 1, 2, 0, 2, 2, 2, 2, 1, 2, 2, 1, 1, 2, 1, 2, 1, 2, 0, 2, 2, 1, 0, 1, 2, 2, 2, 0, 2, 1, 1, 2, 0, 2, 1, 1, 1, 0, 0, 1, 1, 1, 1, 1, 1, 2, 2, 0, 1, 2, 2, 1, 2, 2, 1, 2, 1, 2, 2, 2, 1, 0, 0, 0, 1, 2, 2, 0, 2, 2, 2, 1, 2, 0, 1, 2, 2, 1, 2, 0, 1, 2, 2, 1, 0, 2, 1, 1, 1, 2, 2, 2, 2, 1, 2, 2, 2, 2, 1, 2, 0, 2, 2, 1, 2, 2, 1, 0, 2, 1, 1, 0, 1, 2, 1, 2, 2, 1, 2, 0, 1, 0, 2, 2, 2, 1, 0, 2, 2, 2, 1, 1, 2, 2, 1, 1, 2, 2, 1, 1, 2, 1, 1, 2, 0, 0, 2, 2, 1, 1, 2, 2, 1, 2, 1, 2, 1, 0, 1, 1, 2, 2, 1, 1, 2, 1, 0, 2, 2, 2, 2, 1, 2, 1, 1, 1, 0, 2, 2, 2, 0, 2, 2, 1, 2, 2, 2, 2, 2, 1, 1, 1, 2, 2, 2, 1, 2, 0, 2, 1, 1, 2, 0, 1, 2, 2, 0, 1, 1, 2, 1, 2, 0, 0, 1, 2, 0, 2, 1, 0, 2, 2, 2, 2, 2, 1, 1, 2, 0, 1, 1, 2, 0, 2, 2, 2, 2, 2, 2, 0, 2, 1, 0, 2, 2, 2, 2, 1, 0, 0, 0, 1, 1, 0, 2, 2, 2, 1, 0, 1, 2, 1, 1, 1, 2, 1, 0, 2, 0, 2, 0, 0, 1, 2, 2, 0, 0, 2, 2, 1, 2, 0, 0, 2, 2, 2, 1, 2, 2, 1, 2, 1, 1, 2, 2, 2, 2, 1, 1, 2, 0, 1, 1, 2, 1, 1, 1, 1, 2, 1, 1, 2, 1, 2, 1, 1, 0, 2, 2, 0, 0, 1, 1, 2, 2, 2, 2, 0, 2, 1, 2, 2, 1, 2, 2, 2, 1, 2, 2, 0, 1, 1, 1, 2, 1, 1, 1, 0, 1, 0, 2, 2, 1, 2, 0, 1, 1, 2, 1, 1, 2, 1, 2, 2, 0, 0, 0, 1, 2, 1, 2, 2, 0, 1, 1, 1, 1, 1, 0, 2, 2, 2, 2, 2, 2, 0, 2, 1, 2, 2, 2, 0, 0, 1, 2, 1, 1, 0, 2, 2, 2, 2, 2, 2, 0, 1, 2, 1, 1, 1, 0, 1, 2, 1, 2, 2, 1, 0, 2, 1, 1, 2, 1, 2, 0, 2, 0, 2, 2, 1, 0, 2, 2, 2, 1, 2, 2, 1, 1, 0, 2, 1, 2, 1, 2, 1, 1, 2, 0, 0, 1, 1, 1, 2, 1, 2, 0, 0, 1, 2, 1, 2, 0, 1, 1, 1, 2, 0, 0, 1, 1, 2, 0, 2, 2, 1, 2, 1, 2, 1, 1, 2, 2, 2, 2, 0, 1, 2, 2, 2, 2, 0, 2, 2, 2, 1, 0, 0, 2, 2, 1, 2, 1, 1, 2, 1, 2, 0, 2, 1, 1, 1, 1, 1, 1, 2, 0, 2, 2, 1, 2, 1, 1, 2, 2, 2, 2, 1, 1, 1, 2, 1, 2, 2, 0, 2, 2, 1, 2, 0, 0, 1, 0, 1, 0, 1, 1, 2, 1, 2, 1, 1, 1, 1, 2, 1, 2, 0, 0, 2, 1, 2, 1, 2, 1, 1, 1, 1, 1, 0, 0, 2, 0, 2, 1, 2, 2, 1, 2, 2, 1, 2, 1, 2, 2, 1, 2, 2, 0, 2, 2, 0, 1, 2, 2, 2, 2, 2, 1, 1, 2, 0, 1, 0, 2, 0, 2, 0, 1, 1, 2, 1, 1, 2, 1, 0, 2, 1, 1, 1, 0, 2, 2, 2, 2, 1, 2, 1, 1, 1, 1, 1, 1, 1, 0, 1, 1, 1, 0, 2, 2, 1, 0, 2, 1, 1, 2, 1, 1, 1, 1, 1, 1, 1, 2, 1, 2, 1, 2, 0, 2, 1, 2, 0, 1, 2, 2, 1, 0, 0, 1, 2, 1, 1, 1, 1, 1, 2, 0, 1, 1, 1, 1, 0, 2, 1, 2, 0, 1, 2, 2, 2, 1, 1, 1, 2, 2, 2, 1, 1, 1, 1, 2, 1, 1, 2, 1, 2, 2, 1, 1, 2, 1, 1, 2, 0, 2, 2, 1, 2, 2, 1, 2, 0, 2, 1, 1, 2, 1, 0, 2, 1, 0, 1, 2, 1, 2, 1, 2, 1, 2, 2, 1, 1, 2, 2, 1, 1, 2, 1, 1, 2, 1, 1, 2, 1, 2, 2, 1, 0, 1, 0, 2, 2, 2, 2, 1, 2, 1, 0, 1, 2, 1, 2, 1, 1, 2, 2, 2, 1, 2, 2, 1, 2, 2, 0, 1, 2, 1, 2, 1, 0, 2, 2, 1, 2, 2, 0, 2, 2, 1, 2, 1, 0, 2, 1, 2, 0, 2, 1, 1, 0, 0, 2, 1, 1, 1, 2, 1, 1, 1, 1, 2, 1, 2, 2, 1, 1, 1, 0, 2, 2, 1, 1, 1, 1, 0, 2, 2, 1, 0, 1, 1, 2, 1, 1, 1, 2, 2, 1, 1, 1, 2, 2, 1, 2, 1, 2, 2, 2, 2, 2, 2, 0, 2, 2, 1, 0, 1, 1, 1, 2, 2, 1, 1, 1, 2, 1, 1, 2, 2, 1, 0, 1, 2, 1, 1, 1, 2, 2, 1, 2, 1, 1, 2, 0, 2, 2, 2, 2, 2, 2, 1, 2, 2, 0, 2, 1, 2, 1, 0, 2, 2, 2, 1, 2, 2, 0, 1, 1, 1, 2, 2, 1, 2, 2, 1, 1, 2, 2, 2, 1, 0, 1, 2, 2, 2, 1, 1, 0, 2, 0, 2, 1, 2, 2, 2, 2, 1, 1, 1, 2, 2, 2, 0, 2, 1, 2, 1, 0, 0, 1, 1, 2, 2, 1, 1, 2, 2, 0, 2, 1, 2, 2, 2, 1, 1, 1, 2, 1, 2, 2, 2, 2, 2, 1, 2, 1, 1, 2, 2, 1, 1, 1, 1, 1, 1, 2, 0, 2, 1, 2, 0, 2, 1, 2, 0, 0, 2, 2, 2, 1, 2, 2, 2, 2, 2, 0, 1, 0, 1, 2, 2, 1, 0, 2, 2, 1, 1, 2, 2, 2, 2, 2, 2, 2, 2, 1, 2, 2, 2, 1, 1, 2, 2, 2, 2, 2, 0, 2, 2, 2, 1, 1, 1, 1, 2, 1, 1, 2, 2, 0, 2, 2, 0, 0, 2, 1, 2, 1, 2, 2, 1, 2, 1, 2, 1, 2, 1, 1, 2, 1, 2, 0, 0, 1, 1, 0, 0, 0, 2, 1, 2, 2, 2, 1, 2, 1, 1, 1, 0, 2, 2, 1, 1, 2, 2, 2, 1, 1, 1, 0, 2, 1, 1, 2, 1, 1, 1, 1, 2, 2, 2, 0, 2, 1, 2, 2, 2, 2, 1, 1, 0, 2, 0, 1, 1, 2, 2, 2, 1, 1, 1, 1, 2, 1, 2, 2, 2, 0, 2, 2, 2, 0, 1, 2, 1, 2, 2, 2, 1, 2, 1, 1, 2, 1, 2, 2, 2, 1, 1, 0, 2, 1, 0, 0, 1, 2, 2, 2, 2, 1, 1, 1, 2, 0, 1, 1, 0, 1, 2, 2, 0, 1, 1, 2, 1, 2, 2, 1, 1, 0, 1, 1, 0, 2, 2, 1, 2, 2, 2, 2, 1, 0, 2, 1, 2, 2, 0, 2, 1, 2, 2, 1, 1, 1, 2, 0, 1, 2, 2, 1, 0, 2, 1, 2, 0, 1, 2, 2, 2, 1, 2, 2, 2, 1, 1, 2, 1, 2, 1, 0, 0, 1, 2, 2, 1, 2, 0, 0, 2, 1, 1, 1, 2, 1, 0, 1, 2, 1, 0, 1, 2, 1, 2, 2, 2, 1, 1, 2, 2, 2, 2, 1, 1, 0, 2, 1, 1, 1, 2, 1, 1, 1, 1, 1, 2, 1, 2, 2, 1, 1, 1, 1, 2, 2, 0, 2, 1, 2, 0, 1, 2, 1, 1, 2, 2, 1, 0, 2, 2, 2, 0, 2, 1, 2, 1, 2, 0, 1, 1, 2, 1, 2, 1, 2, 0, 1, 0, 2, 1, 1, 0, 1, 2, 2, 1, 2, 2, 2, 1, 0, 2, 0, 2, 2, 0, 2, 2, 1, 2, 1, 2, 2, 0, 2, 1, 2, 2, 1, 2, 2, 1, 2, 1, 2, 1, 0, 1, 2, 2, 2, 2, 1, 1, 2, 1, 0, 1, 2, 1, 2, 2, 2, 2, 2, 2, 1, 2, 1, 1, 1, 2, 2, 1, 0, 1, 1, 1, 0, 1, 2, 1, 2, 0, 2, 1, 2, 1, 0, 2, 1, 0, 0, 0, 1, 2, 2, 0, 1, 1, 2, 1, 2, 2, 2, 2, 2, 2, 1, 0, 1, 1, 2, 1, 2, 2, 1, 1, 2, 1, 1, 1, 2, 2, 2, 2, 2, 2, 0, 2, 2, 0, 1, 0, 1, 1, 1, 1, 2, 1, 1, 2, 1, 2, 1, 0, 2, 2, 1, 2, 1, 0, 2, 2, 2, 2, 2, 1, 1, 1, 2, 0, 2, 1, 1, 1, 1, 2, 2, 0, 2, 1, 1, 1, 1, 2, 1, 0, 0, 2, 2, 1, 0, 2, 1, 0, 2, 2, 1, 0, 1, 1, 0, 1, 2, 2, 1, 0, 1, 1, 1, 0, 1, 2, 2, 2, 2, 1, 2, 1, 1, 2, 2, 0, 2, 2, 2, 0, 1, 2, 0, 2, 0, 0, 2, 1, 2, 2, 2, 2, 1, 1, 2, 1, 1, 2, 2, 1, 2, 2, 2, 2, 1, 1, 0, 1, 1, 1, 2, 1, 2, 2, 2, 2, 2, 1, 1, 2, 2, 0, 1, 1, 0, 1, 1, 1, 0, 2, 2, 2, 1, 2, 1, 0, 1, 2, 2, 2, 2, 2, 2, 0, 1, 1, 1, 1, 2, 1, 2, 1, 2, 2, 1, 2, 1, 1, 1, 2, 0, 2, 2, 1, 2, 2, 1, 2, 0, 1, 1, 0, 2, 1, 1, 1, 1, 0, 2, 1, 0, 2, 2, 2, 1, 1, 1, 1, 2, 1, 1, 2, 2, 0, 2, 2, 2, 2, 2, 1, 1, 1, 0, 0, 1, 2, 2, 1, 2, 2, 2, 1, 2, 1, 0, 2, 2, 2, 2, 1, 1, 2, 2, 1, 1, 2, 2, 2, 1, 2, 2, 1, 0, 2, 2, 1, 1, 1, 2, 1, 1, 2, 0, 2, 0, 2, 2, 1, 0, 2, 2, 2, 0, 2, 2, 0, 1, 2, 1, 1, 2, 2, 1, 1, 2, 1, 1, 2, 2, 0, 2, 2, 2, 2, 1, 2, 0, 2, 2, 1, 0, 2, 1, 0, 2, 1, 2, 1, 1, 2, 1, 1, 1, 2, 1, 2, 2, 2, 2, 0, 2, 1, 2, 1, 0, 0, 2, 2, 0, 1, 2, 0, 0, 0, 2, 1, 1, 1, 2, 0, 2, 1, 2, 0, 1, 1, 2, 1, 0, 2, 2, 2, 1, 0, 2, 2, 2, 2, 1, 2, 1, 2, 1, 2, 2, 2, 2, 2, 0, 2, 1, 2, 0, 2, 2, 1, 0, 1, 2, 2, 1, 1, 1, 2, 2, 2, 2, 2, 1, 2, 2, 1, 1, 0, 1, 0, 0, 1, 2, 2, 1, 2, 0, 2, 1, 2, 2, 1, 2, 1, 1, 1, 2, 1, 2, 2, 1, 2, 2, 1, 2, 2, 1, 1, 1, 2, 2, 1, 1, 2, 2, 2, 0, 1, 0, 1, 0, 1, 2, 2, 1, 1, 2, 2, 0, 0, 2, 2, 1, 1, 1, 2, 1, 1, 2, 1, 1, 1, 1, 2, 1, 2, 1, 2, 2, 2, 0, 2, 2, 1, 2, 0, 2, 2, 1, 1, 1, 2, 2, 2, 2, 2, 1, 1, 2, 2, 1, 2, 2, 2, 2, 1, 2, 2, 2, 2, 2, 2, 2, 1, 2, 1, 1, 1, 1, 2, 0, 2, 2, 0, 0, 1, 1, 1, 2, 1, 2, 2, 2, 1, 2, 2, 1, 1, 2, 2, 0, 2, 2, 0, 2, 1, 1, 0, 2, 2, 2, 0, 1, 1, 1, 2, 2, 1, 2, 2, 2, 1, 1, 2, 2, 1, 2, 0, 1, 1, 2, 2, 1, 1, 1, 2, 1, 2, 2, 2, 1, 1, 1, 1, 2, 1, 1, 0, 0, 1, 2, 2, 1, 1, 1, 1, 2, 2, 2, 2, 1, 2, 2, 1, 2, 2, 1, 2, 1, 2, 1, 2, 2, 2, 2, 1, 1, 1, 2, 1, 1, 0, 1, 0, 2, 1, 1, 1, 1, 2, 0, 2, 0, 1, 1, 1, 2, 2, 0, 2, 1, 2, 1, 2, 0, 0, 2, 2, 2, 1, 1, 2, 1, 2, 2, 1, 2, 1, 2, 1, 2, 1, 0, 2, 0, 2, 1, 2, 2, 2, 2, 2, 2, 2, 0, 2, 1, 1, 1, 1, 1, 0, 2, 1, 1, 2, 2, 1, 2, 2, 2, 1, 2, 2, 2, 1, 2, 1, 2, 0, 2, 1, 0, 2, 2, 1, 1, 1, 1, 0, 1, 1, 1, 1, 2, 2, 1, 2, 0, 1, 2, 2, 2, 2, 2, 2, 2, 2, 1, 2, 2, 2, 1, 1, 1, 0, 2, 1, 2, 2, 1, 2, 1, 1, 2, 2, 0, 2, 1, 1, 2, 1, 2, 1, 2, 2, 2, 1, 1, 1, 1, 2, 0, 1, 2, 1, 2, 1, 2, 1, 1, 2, 1, 1, 0, 1, 0, 1, 2, 1, 1, 2, 1, 0, 0, 2, 2, 1, 2, 2, 0, 1, 2, 2, 1, 2, 2, 1, 1, 1, 2, 1, 1, 1, 2, 0, 2, 1, 1, 0, 2, 1, 2, 1, 1, 1, 2, 2, 1, 0, 2, 2, 2, 2, 2, 2, 2, 2, 1, 1, 1, 2, 1, 1, 2, 1, 1, 2, 0, 2, 1, 2, 2, 1, 1, 2, 1, 2, 2, 1, 2, 2, 2, 2, 1, 0, 1, 0, 1, 2, 1, 2, 1, 2, 2, 1, 1, 1, 1, 2, 2, 2, 2, 0, 1, 0, 1, 1, 2, 0, 1, 0, 1, 2, 1, 0, 2, 2, 0, 0, 2, 1, 0, 2, 0, 1, 2, 1, 1, 1, 2, 1, 2, 2, 0, 1, 1, 0, 1, 2, 2, 0, 1, 0, 2, 0, 2, 2, 2, 1, 2, 1, 1, 2, 2, 2, 2, 1, 0, 1, 2, 2, 0, 2, 0, 2, 1, 2, 2, 1, 1, 1, 2, 1, 2, 1, 1, 1, 2, 1, 1, 1, 1, 2, 2, 2, 0, 2, 2, 1, 0, 1, 1, 1, 1, 0, 1, 1, 1, 1, 2, 2, 0, 2, 1, 2, 1, 0, 1, 2, 2, 1, 2, 0, 2, 2, 1, 1, 1, 0, 2, 1, 1, 2, 1, 2, 1, 2, 1, 1, 2, 2, 2, 1, 0, 2, 1, 2, 1, 1, 0, 1, 2, 1, 1, 2, 2, 2, 1, 2, 0, 2, 1, 1, 0, 1, 1, 1, 1, 1, 1, 1, 1, 1, 1, 2, 1, 2, 1, 1, 2, 2, 1, 2, 1, 1, 2, 2, 2, 1, 1, 2, 2, 0, 1, 2, 2, 0, 2, 2, 2, 1, 1, 2, 2, 2, 1, 1, 0, 1, 1, 1, 2, 1, 2, 2, 2, 1, 1, 1, 2, 1, 2, 2, 0, 2, 2, 1, 1, 0, 2, 0, 2, 1, 1, 0, 2, 2, 0, 0, 2, 2, 2, 1, 2, 1, 1, 2, 0, 0, 1, 2, 1, 2, 0, 2, 0, 2, 2, 2, 2, 1, 1, 2, 2, 2, 1, 2, 1, 2, 1, 2, 2, 1, 1, 2, 0, 0, 2, 2, 2, 1, 1, 2, 1, 1, 2, 2, 1, 2, 1, 2, 1, 0, 2, 1, 1, 2, 1, 1, 2, 2, 2, 1, 2, 2, 2, 0, 2, 1, 1, 2, 0, 2, 0, 1, 2, 1, 0, 2, 2, 0, 2, 0, 2, 1, 2, 1, 1, 1, 1, 2, 2, 2, 2, 1, 1, 1, 0, 2, 2, 2, 0, 1, 2, 2, 0, 1, 1, 1, 2, 2, 1, 1, 0, 1, 1, 2, 2, 2, 2, 0, 1, 1, 2, 2, 1, 1, 2, 0, 1, 1, 0, 1, 1, 1, 0, 2, 0, 2, 1, 0, 1, 2, 1, 1, 1, 1, 2, 2, 2, 0, 0, 1, 1, 2, 2, 0, 0, 1, 1, 2, 2, 1, 2, 2, 0, 2, 1, 2, 1, 0, 2, 2, 2, 0, 2, 1, 2, 2, 1, 2, 0, 1, 1, 2, 2, 2, 1, 0, 2, 0, 1, 1, 1, 1, 1, 1, 0, 2, 2, 2, 1, 2, 2, 2, 2, 1, 2, 2, 2, 2, 1, 1, 0, 2, 1, 2, 1, 1, 0, 1, 1, 1, 2, 2, 1, 2, 1, 2, 0, 1, 2, 2, 2, 2, 1, 1, 1, 1, 2, 2, 1, 1, 2, 0, 2, 1, 2, 1, 2, 2, 1, 1, 1, 0, 2, 2, 0, 2, 2, 2, 0, 2, 1, 1, 2, 2, 1, 1, 1, 2, 0, 1, 2, 0, 2, 2, 1, 1, 1, 1, 1, 1, 2, 1, 1, 2, 1, 2, 2, 2, 2, 2, 1, 1, 1, 1, 1, 2, 1, 0, 1, 1, 2, 1, 0, 1, 2, 2, 1, 2, 0, 2, 2, 1, 2, 1, 2, 2, 2, 2, 2, 0, 2, 0, 2, 2, 2, 0, 1, 1, 1, 2, 2, 0, 1, 2, 2, 2, 1, 2, 0, 2, 2, 1, 2, 2, 2, 1, 1, 1, 1, 2, 1, 0, 0, 2, 0, 1, 1, 2, 1, 2, 2, 0, 1, 2, 0, 1, 2, 2, 0, 2, 2, 2, 2, 1, 2, 2, 1, 1, 1, 2, 2, 0, 1, 0, 1, 2, 1, 2, 1, 1, 1, 1, 2, 0, 2, 0, 0, 2, 0, 2, 1, 1, 2, 2, 1, 1, 2, 2, 2, 1, 1, 2, 1, 2, 2, 2, 1, 2, 2, 0, 0, 1, 2, 1, 2, 1, 2, 2, 2, 2, 1, 1, 1, 1, 0, 1, 1, 1, 2, 0, 1, 1, 1, 1, 1, 2, 2, 1, 1, 1, 2, 1, 1, 1, 1, 1, 1, 2, 2, 0, 2, 2, 2, 2, 1, 1, 1, 2, 2, 1, 2, 2, 2, 2, 1, 2, 1, 2, 0, 1, 2, 2, 2, 0, 1, 1, 1, 2, 2, 1, 2, 0, 0, 0, 1, 2, 2, 0, 2, 2, 1, 2, 1, 1, 2, 2, 2, 0, 2, 2, 1, 2, 0, 1, 0, 1, 2, 2, 1, 1, 1, 2, 0, 2, 1, 0, 1, 0, 2, 1, 1, 2, 1, 2, 2, 0, 1, 2, 1, 2, 1, 1, 1, 1, 1, 2, 2, 2, 1, 2, 2, 1, 2, 2, 1, 2, 1, 2, 0, 2, 2, 2, 2, 2, 2, 2, 2, 0, 2, 0, 2, 0, 1, 1, 1, 2, 0, 0, 1, 2, 2, 1, 1, 2, 1, 0, 2, 0, 1, 1, 2, 1, 1, 2, 0, 2, 2, 2, 2, 2, 0, 2, 2, 2, 1, 1, 0, 1, 2, 2, 2, 2, 1, 1, 1, 1, 1, 1, 1, 1, 2, 1, 2, 2, 1, 2, 1, 0, 1, 0, 0, 2, 0, 2, 2, 1, 2, 1, 0, 2, 2, 0, 0, 1, 2, 1, 2, 1, 2, 2, 2, 2, 1, 0, 1, 2, 1, 2, 2, 1, 1, 1, 1, 0, 1, 0, 1, 1, 0, 1, 1, 1, 1, 0, 1, 0, 0, 2, 2, 1, 2, 2, 2, 0, 2, 2, 1, 1, 2, 2, 2, 2, 2, 1, 2, 1, 1, 1, 1, 1, 1, 1, 0, 2, 1, 1, 2, 1, 2, 2, 1, 0, 2, 2, 1, 1, 1, 2, 2, 2, 2, 2, 0, 2, 1, 1, 0, 2, 1, 0, 0, 0, 0, 2, 2, 2, 1, 2, 1, 1, 2, 1, 2, 1, 2, 1, 1, 2, 2, 2, 2, 1, 2, 2, 0, 0, 2, 1, 1, 1, 1, 1, 2, 1, 1, 1, 1, 0, 1, 2, 1, 1, 2, 0, 2, 1, 0, 2, 1, 1, 1, 2, 2, 1, 2, 1, 2, 2, 1, 2, 0, 0, 2, 2, 0, 2, 2, 2, 1, 2, 2, 2, 1, 1, 1, 2, 1, 1, 1, 1, 1, 1, 0, 1, 2, 2, 2, 2, 2, 2, 0, 2, 2, 2, 0, 2, 2, 0, 2, 2, 2, 2, 1, 2, 2, 1, 1, 2, 2, 0, 2, 1, 2, 2, 0, 1, 2, 2, 2, 2, 1, 1, 1, 1, 0, 0, 2, 2, 2, 2, 0, 1, 2, 0, 2, 2, 2, 2, 2, 2, 1, 2, 1, 2, 2, 1, 2, 2, 1, 2, 1, 1, 2, 2, 2, 0, 1, 2, 1, 1, 1, 2, 0, 2, 1, 1, 2, 1, 2, 0, 2, 2, 2, 1, 2, 1, 2, 1, 2, 2, 1, 2, 1, 1, 1, 2, 0, 2, 1, 1, 2, 0, 2, 0, 2, 1, 2, 0, 2, 2, 2, 2, 2, 1, 2, 2, 2, 1, 1, 2, 1, 0, 1, 1, 2, 0, 1, 1, 2, 0, 2, 2, 1, 0, 1, 2, 2, 0, 1, 2, 2, 2, 2, 1, 2, 1, 2, 2, 2, 1, 2, 1, 2, 2, 1, 1, 0, 2, 2, 0, 1, 1, 2, 1, 2, 1, 1, 2, 2, 2, 0, 1, 0, 1, 1, 2, 2, 0, 1, 1, 2, 2, 2, 2, 2, 0, 2, 2, 2, 1, 2, 0, 2, 2, 2, 0, 2, 2, 1, 1, 2, 0, 0, 2, 1, 1, 1, 1, 0, 1, 2, 1, 2, 1, 2, 1, 2, 0, 1, 2, 0, 2, 2, 2, 1, 0, 1, 2, 0, 0, 2, 2, 2, 2, 2, 2, 2, 2, 1, 2, 0, 2]\n"
     ]
    }
   ],
   "source": [
    "predictions = model.predict(test_paded_sequences)\n",
    "predicted_labels = [tf.argmax(pred).numpy() for pred in predictions]\n",
    "print(f\"Predictions: {predicted_labels}\")"
   ]
  },
  {
   "cell_type": "code",
   "execution_count": 26,
   "id": "536d4298-260b-424a-8b17-f2e7c0f0667a",
   "metadata": {},
   "outputs": [
    {
     "data": {
      "text/plain": [
       "array([0, 0, 0, ..., 0, 0, 0])"
      ]
     },
     "execution_count": 26,
     "metadata": {},
     "output_type": "execute_result"
    }
   ],
   "source": [
    "y"
   ]
  },
  {
   "cell_type": "code",
   "execution_count": 27,
   "id": "a613cb3b-46c7-4f0b-9d04-79f051e7c747",
   "metadata": {},
   "outputs": [
    {
     "name": "stdout",
     "output_type": "stream",
     "text": [
      "\u001b[1m193/193\u001b[0m \u001b[32m━━━━━━━━━━━━━━━━━━━━\u001b[0m\u001b[37m\u001b[0m \u001b[1m4s\u001b[0m 23ms/step - accuracy: 0.6497 - loss: 1.6269\n"
     ]
    }
   ],
   "source": [
    "test_loss, test_acc = model.evaluate(test_paded_sequences, y_test)"
   ]
  },
  {
   "cell_type": "code",
   "execution_count": 28,
   "id": "cae31a32-df09-4300-bc8a-ee01bdb23a96",
   "metadata": {},
   "outputs": [
    {
     "name": "stderr",
     "output_type": "stream",
     "text": [
      "WARNING:absl:You are saving your model as an HDF5 file via `model.save()` or `keras.saving.save_model(model)`. This file format is considered legacy. We recommend using instead the native Keras format, e.g. `model.save('my_model.keras')` or `keras.saving.save_model(model, 'my_model.keras')`. \n"
     ]
    }
   ],
   "source": [
    "model.save(\"Sentiment_model_.hdf5\")"
   ]
  },
  {
   "cell_type": "code",
   "execution_count": 29,
   "id": "7621d43e-bc39-4b0c-81cb-31f35b8c0ede",
   "metadata": {},
   "outputs": [
    {
     "name": "stdout",
     "output_type": "stream",
     "text": [
      "              precision    recall  f1-score   support\n",
      "\n",
      "           0       0.63      0.53      0.57      1054\n",
      "           1       0.63      0.66      0.65      2365\n",
      "           2       0.66      0.68      0.67      2750\n",
      "\n",
      "    accuracy                           0.65      6169\n",
      "   macro avg       0.64      0.62      0.63      6169\n",
      "weighted avg       0.65      0.65      0.65      6169\n",
      "\n"
     ]
    }
   ],
   "source": [
    "from sklearn.metrics import classification_report,confusion_matrix\n",
    "\n",
    "print(classification_report(y_test,predicted_labels))"
   ]
  },
  {
   "cell_type": "code",
   "execution_count": 30,
   "id": "8320970b-b0f1-4812-8c06-95ef20d8b67f",
   "metadata": {},
   "outputs": [
    {
     "data": {
      "text/plain": [
       "Text(0.5, 1.0, 'Confusion Matrix')"
      ]
     },
     "execution_count": 30,
     "metadata": {},
     "output_type": "execute_result"
    },
    {
     "data": {
      "image/png": "[encoded data removed]",
      "text/plain": [
       "<Figure size 640x480 with 2 Axes>"
      ]
     },
     "metadata": {},
     "output_type": "display_data"
    }
   ],
   "source": [
    "import seaborn as sns\n",
    "import matplotlib.pyplot as plt\n",
    "sns.heatmap(confusion_matrix(y_test,predicted_labels))\n",
    "plt.xlabel('Predicted Labels')\n",
    "plt.ylabel('True Labels')\n",
    "plt.title('Confusion Matrix')"
   ]
  },
  {
   "cell_type": "code",
   "execution_count": 38,
   "id": "641c3bb6-dc34-4f3d-b968-1e90b7887076",
   "metadata": {},
   "outputs": [],
   "source": [
    "x = \"corn net income drop 13 share fall\"\n",
    "words = len(str(x).split())\n",
    "tokenizer = Tokenizer(num_words=words)\n",
    "tokenizer.fit_on_texts(x)\n",
    "test_sequences = tokenizer.texts_to_sequences(x)\n",
    "test_paded_sequences = pad_sequences(test_sequences,maxlen=60,padding=\"post\",truncating=\"post\")"
   ]
  },
  {
   "cell_type": "code",
   "execution_count": 39,
   "id": "cc5c24f4-d354-47ba-a975-c78afd7261d6",
   "metadata": {},
   "outputs": [
    {
     "data": {
      "text/plain": [
       "array([[5, 0, 0, ..., 0, 0, 0],\n",
       "       [1, 0, 0, ..., 0, 0, 0],\n",
       "       [2, 0, 0, ..., 0, 0, 0],\n",
       "       ...,\n",
       "       [6, 0, 0, ..., 0, 0, 0],\n",
       "       [0, 0, 0, ..., 0, 0, 0],\n",
       "       [0, 0, 0, ..., 0, 0, 0]], dtype=int32)"
      ]
     },
     "execution_count": 39,
     "metadata": {},
     "output_type": "execute_result"
    }
   ],
   "source": [
    "test_paded_sequences"
   ]
  },
  {
   "cell_type": "code",
   "execution_count": 40,
   "id": "058fff78-a69b-4fff-bfa5-6872f96027f0",
   "metadata": {},
   "outputs": [],
   "source": [
    "from scipy import stats"
   ]
  },
  {
   "cell_type": "code",
   "execution_count": 42,
   "id": "6cf8f0c4-a217-416c-b6ce-b058e8a34abf",
   "metadata": {},
   "outputs": [
    {
     "name": "stdout",
     "output_type": "stream",
     "text": [
      "\u001b[1m2/2\u001b[0m \u001b[32m━━━━━━━━━━━━━━━━━━━━\u001b[0m\u001b[37m\u001b[0m \u001b[1m0s\u001b[0m 8ms/step \n",
      "0\n"
     ]
    }
   ],
   "source": [
    "predictions = model.predict(test_paded_sequences)\n",
    "predicted_labels = [tf.argmax(pred).numpy() for pred in predictions]\n",
    "mode_label = np.bincount(predicted_labels).argmax()\n",
    "print(mode_label)"
   ]
  },
  {
   "cell_type": "code",
   "execution_count": 18,
   "id": "30f87e1b-25af-4bb9-ac33-b73117152129",
   "metadata": {},
   "outputs": [
    {
     "name": "stderr",
     "output_type": "stream",
     "text": [
      "/home/vulcan/.local/lib/python3.10/site-packages/keras/src/layers/core/embedding.py:90: UserWarning: Argument `input_length` is deprecated. Just remove it.\n",
      "  warnings.warn(\n",
      "2024-09-19 22:55:45.419903: I external/local_xla/xla/stream_executor/cuda/cuda_executor.cc:998] successful NUMA node read from SysFS had negative value (-1), but there must be at least one NUMA node, so returning NUMA node zero. See more at https://github.com/torvalds/linux/blob/v6.0/Documentation/ABI/testing/sysfs-bus-pci#L344-L355\n",
      "2024-09-19 22:55:45.508508: I external/local_xla/xla/stream_executor/cuda/cuda_executor.cc:998] successful NUMA node read from SysFS had negative value (-1), but there must be at least one NUMA node, so returning NUMA node zero. See more at https://github.com/torvalds/linux/blob/v6.0/Documentation/ABI/testing/sysfs-bus-pci#L344-L355\n",
      "2024-09-19 22:55:45.510418: I external/local_xla/xla/stream_executor/cuda/cuda_executor.cc:998] successful NUMA node read from SysFS had negative value (-1), but there must be at least one NUMA node, so returning NUMA node zero. See more at https://github.com/torvalds/linux/blob/v6.0/Documentation/ABI/testing/sysfs-bus-pci#L344-L355\n",
      "2024-09-19 22:55:45.512859: I external/local_xla/xla/stream_executor/cuda/cuda_executor.cc:998] successful NUMA node read from SysFS had negative value (-1), but there must be at least one NUMA node, so returning NUMA node zero. See more at https://github.com/torvalds/linux/blob/v6.0/Documentation/ABI/testing/sysfs-bus-pci#L344-L355\n",
      "2024-09-19 22:55:45.514687: I external/local_xla/xla/stream_executor/cuda/cuda_executor.cc:998] successful NUMA node read from SysFS had negative value (-1), but there must be at least one NUMA node, so returning NUMA node zero. See more at https://github.com/torvalds/linux/blob/v6.0/Documentation/ABI/testing/sysfs-bus-pci#L344-L355\n",
      "2024-09-19 22:55:45.516403: I external/local_xla/xla/stream_executor/cuda/cuda_executor.cc:998] successful NUMA node read from SysFS had negative value (-1), but there must be at least one NUMA node, so returning NUMA node zero. See more at https://github.com/torvalds/linux/blob/v6.0/Documentation/ABI/testing/sysfs-bus-pci#L344-L355\n",
      "2024-09-19 22:55:45.626465: I external/local_xla/xla/stream_executor/cuda/cuda_executor.cc:998] successful NUMA node read from SysFS had negative value (-1), but there must be at least one NUMA node, so returning NUMA node zero. See more at https://github.com/torvalds/linux/blob/v6.0/Documentation/ABI/testing/sysfs-bus-pci#L344-L355\n",
      "2024-09-19 22:55:45.628398: I external/local_xla/xla/stream_executor/cuda/cuda_executor.cc:998] successful NUMA node read from SysFS had negative value (-1), but there must be at least one NUMA node, so returning NUMA node zero. See more at https://github.com/torvalds/linux/blob/v6.0/Documentation/ABI/testing/sysfs-bus-pci#L344-L355\n",
      "2024-09-19 22:55:45.630237: I external/local_xla/xla/stream_executor/cuda/cuda_executor.cc:998] successful NUMA node read from SysFS had negative value (-1), but there must be at least one NUMA node, so returning NUMA node zero. See more at https://github.com/torvalds/linux/blob/v6.0/Documentation/ABI/testing/sysfs-bus-pci#L344-L355\n",
      "2024-09-19 22:55:45.632158: I tensorflow/core/common_runtime/gpu/gpu_device.cc:1928] Created device /job:localhost/replica:0/task:0/device:GPU:0 with 6172 MB memory:  -> device: 0, name: NVIDIA GeForce RTX 3070 Ti Laptop GPU, pci bus id: 0000:01:00.0, compute capability: 8.6\n"
     ]
    },
    {
     "data": {
      "text/html": [
       "<pre style=\"white-space:pre;overflow-x:auto;line-height:normal;font-family:Menlo,'DejaVu Sans Mono',consolas,'Courier New',monospace\"><span style=\"font-weight: bold\">Model: \"functional_1\"</span>\n",
       "</pre>\n"
      ],
      "text/plain": [
       "\u001b[1mModel: \"functional_1\"\u001b[0m\n"
      ]
     },
     "metadata": {},
     "output_type": "display_data"
    },
    {
     "data": {
      "text/html": [
       "<pre style=\"white-space:pre;overflow-x:auto;line-height:normal;font-family:Menlo,'DejaVu Sans Mono',consolas,'Courier New',monospace\">┏━━━━━━━━━━━━━━━━━━━━━┳━━━━━━━━━━━━━━━━━━━┳━━━━━━━━━━━━┳━━━━━━━━━━━━━━━━━━━┓\n",
       "┃<span style=\"font-weight: bold\"> Layer (type)        </span>┃<span style=\"font-weight: bold\"> Output Shape      </span>┃<span style=\"font-weight: bold\">    Param # </span>┃<span style=\"font-weight: bold\"> Connected to      </span>┃\n",
       "┡━━━━━━━━━━━━━━━━━━━━━╇━━━━━━━━━━━━━━━━━━━╇━━━━━━━━━━━━╇━━━━━━━━━━━━━━━━━━━┩\n",
       "│ input_layer         │ (<span style=\"color: #00d7ff; text-decoration-color: #00d7ff\">None</span>, <span style=\"color: #00af00; text-decoration-color: #00af00\">60</span>)        │          <span style=\"color: #00af00; text-decoration-color: #00af00\">0</span> │ -                 │\n",
       "│ (<span style=\"color: #0087ff; text-decoration-color: #0087ff\">InputLayer</span>)        │                   │            │                   │\n",
       "├─────────────────────┼───────────────────┼────────────┼───────────────────┤\n",
       "│ embedding           │ (<span style=\"color: #00d7ff; text-decoration-color: #00d7ff\">None</span>, <span style=\"color: #00af00; text-decoration-color: #00af00\">60</span>, <span style=\"color: #00af00; text-decoration-color: #00af00\">128</span>)   │  <span style=\"color: #00af00; text-decoration-color: #00af00\">2,786,176</span> │ input_layer[<span style=\"color: #00af00; text-decoration-color: #00af00\">0</span>][<span style=\"color: #00af00; text-decoration-color: #00af00\">0</span>] │\n",
       "│ (<span style=\"color: #0087ff; text-decoration-color: #0087ff\">Embedding</span>)         │                   │            │                   │\n",
       "├─────────────────────┼───────────────────┼────────────┼───────────────────┤\n",
       "│ conv1d (<span style=\"color: #0087ff; text-decoration-color: #0087ff\">Conv1D</span>)     │ (<span style=\"color: #00d7ff; text-decoration-color: #00d7ff\">None</span>, <span style=\"color: #00af00; text-decoration-color: #00af00\">58</span>, <span style=\"color: #00af00; text-decoration-color: #00af00\">64</span>)    │     <span style=\"color: #00af00; text-decoration-color: #00af00\">24,640</span> │ embedding[<span style=\"color: #00af00; text-decoration-color: #00af00\">0</span>][<span style=\"color: #00af00; text-decoration-color: #00af00\">0</span>]   │\n",
       "├─────────────────────┼───────────────────┼────────────┼───────────────────┤\n",
       "│ max_pooling1d       │ (<span style=\"color: #00d7ff; text-decoration-color: #00d7ff\">None</span>, <span style=\"color: #00af00; text-decoration-color: #00af00\">19</span>, <span style=\"color: #00af00; text-decoration-color: #00af00\">64</span>)    │          <span style=\"color: #00af00; text-decoration-color: #00af00\">0</span> │ conv1d[<span style=\"color: #00af00; text-decoration-color: #00af00\">0</span>][<span style=\"color: #00af00; text-decoration-color: #00af00\">0</span>]      │\n",
       "│ (<span style=\"color: #0087ff; text-decoration-color: #0087ff\">MaxPooling1D</span>)      │                   │            │                   │\n",
       "├─────────────────────┼───────────────────┼────────────┼───────────────────┤\n",
       "│ conv1d_1 (<span style=\"color: #0087ff; text-decoration-color: #0087ff\">Conv1D</span>)   │ (<span style=\"color: #00d7ff; text-decoration-color: #00d7ff\">None</span>, <span style=\"color: #00af00; text-decoration-color: #00af00\">17</span>, <span style=\"color: #00af00; text-decoration-color: #00af00\">64</span>)    │     <span style=\"color: #00af00; text-decoration-color: #00af00\">12,352</span> │ max_pooling1d[<span style=\"color: #00af00; text-decoration-color: #00af00\">0</span>]… │\n",
       "├─────────────────────┼───────────────────┼────────────┼───────────────────┤\n",
       "│ max_pooling1d_1     │ (<span style=\"color: #00d7ff; text-decoration-color: #00d7ff\">None</span>, <span style=\"color: #00af00; text-decoration-color: #00af00\">5</span>, <span style=\"color: #00af00; text-decoration-color: #00af00\">64</span>)     │          <span style=\"color: #00af00; text-decoration-color: #00af00\">0</span> │ conv1d_1[<span style=\"color: #00af00; text-decoration-color: #00af00\">0</span>][<span style=\"color: #00af00; text-decoration-color: #00af00\">0</span>]    │\n",
       "│ (<span style=\"color: #0087ff; text-decoration-color: #0087ff\">MaxPooling1D</span>)      │                   │            │                   │\n",
       "├─────────────────────┼───────────────────┼────────────┼───────────────────┤\n",
       "│ bidirectional       │ (<span style=\"color: #00d7ff; text-decoration-color: #00d7ff\">None</span>, <span style=\"color: #00af00; text-decoration-color: #00af00\">5</span>, <span style=\"color: #00af00; text-decoration-color: #00af00\">200</span>)    │    <span style=\"color: #00af00; text-decoration-color: #00af00\">132,000</span> │ max_pooling1d_1[<span style=\"color: #00af00; text-decoration-color: #00af00\">…</span> │\n",
       "│ (<span style=\"color: #0087ff; text-decoration-color: #0087ff\">Bidirectional</span>)     │                   │            │                   │\n",
       "├─────────────────────┼───────────────────┼────────────┼───────────────────┤\n",
       "│ bidirectional_1     │ (<span style=\"color: #00d7ff; text-decoration-color: #00d7ff\">None</span>, <span style=\"color: #00af00; text-decoration-color: #00af00\">5</span>, <span style=\"color: #00af00; text-decoration-color: #00af00\">200</span>)    │    <span style=\"color: #00af00; text-decoration-color: #00af00\">240,800</span> │ bidirectional[<span style=\"color: #00af00; text-decoration-color: #00af00\">0</span>]… │\n",
       "│ (<span style=\"color: #0087ff; text-decoration-color: #0087ff\">Bidirectional</span>)     │                   │            │                   │\n",
       "├─────────────────────┼───────────────────┼────────────┼───────────────────┤\n",
       "│ attention           │ (<span style=\"color: #00d7ff; text-decoration-color: #00d7ff\">None</span>, <span style=\"color: #00af00; text-decoration-color: #00af00\">5</span>, <span style=\"color: #00af00; text-decoration-color: #00af00\">200</span>)    │          <span style=\"color: #00af00; text-decoration-color: #00af00\">0</span> │ bidirectional_1[<span style=\"color: #00af00; text-decoration-color: #00af00\">…</span> │\n",
       "│ (<span style=\"color: #0087ff; text-decoration-color: #0087ff\">Attention</span>)         │                   │            │ bidirectional_1[<span style=\"color: #00af00; text-decoration-color: #00af00\">…</span> │\n",
       "│                     │                   │            │ bidirectional_1[<span style=\"color: #00af00; text-decoration-color: #00af00\">…</span> │\n",
       "├─────────────────────┼───────────────────┼────────────┼───────────────────┤\n",
       "│ dropout (<span style=\"color: #0087ff; text-decoration-color: #0087ff\">Dropout</span>)   │ (<span style=\"color: #00d7ff; text-decoration-color: #00d7ff\">None</span>, <span style=\"color: #00af00; text-decoration-color: #00af00\">5</span>, <span style=\"color: #00af00; text-decoration-color: #00af00\">200</span>)    │          <span style=\"color: #00af00; text-decoration-color: #00af00\">0</span> │ attention[<span style=\"color: #00af00; text-decoration-color: #00af00\">0</span>][<span style=\"color: #00af00; text-decoration-color: #00af00\">0</span>]   │\n",
       "├─────────────────────┼───────────────────┼────────────┼───────────────────┤\n",
       "│ flatten (<span style=\"color: #0087ff; text-decoration-color: #0087ff\">Flatten</span>)   │ (<span style=\"color: #00d7ff; text-decoration-color: #00d7ff\">None</span>, <span style=\"color: #00af00; text-decoration-color: #00af00\">1000</span>)      │          <span style=\"color: #00af00; text-decoration-color: #00af00\">0</span> │ dropout[<span style=\"color: #00af00; text-decoration-color: #00af00\">0</span>][<span style=\"color: #00af00; text-decoration-color: #00af00\">0</span>]     │\n",
       "├─────────────────────┼───────────────────┼────────────┼───────────────────┤\n",
       "│ dense (<span style=\"color: #0087ff; text-decoration-color: #0087ff\">Dense</span>)       │ (<span style=\"color: #00d7ff; text-decoration-color: #00d7ff\">None</span>, <span style=\"color: #00af00; text-decoration-color: #00af00\">3</span>)         │      <span style=\"color: #00af00; text-decoration-color: #00af00\">3,003</span> │ flatten[<span style=\"color: #00af00; text-decoration-color: #00af00\">0</span>][<span style=\"color: #00af00; text-decoration-color: #00af00\">0</span>]     │\n",
       "└─────────────────────┴───────────────────┴────────────┴───────────────────┘\n",
       "</pre>\n"
      ],
      "text/plain": [
       "┏━━━━━━━━━━━━━━━━━━━━━┳━━━━━━━━━━━━━━━━━━━┳━━━━━━━━━━━━┳━━━━━━━━━━━━━━━━━━━┓\n",
       "┃\u001b[1m \u001b[0m\u001b[1mLayer (type)       \u001b[0m\u001b[1m \u001b[0m┃\u001b[1m \u001b[0m\u001b[1mOutput Shape     \u001b[0m\u001b[1m \u001b[0m┃\u001b[1m \u001b[0m\u001b[1m   Param #\u001b[0m\u001b[1m \u001b[0m┃\u001b[1m \u001b[0m\u001b[1mConnected to     \u001b[0m\u001b[1m \u001b[0m┃\n",
       "┡━━━━━━━━━━━━━━━━━━━━━╇━━━━━━━━━━━━━━━━━━━╇━━━━━━━━━━━━╇━━━━━━━━━━━━━━━━━━━┩\n",
       "│ input_layer         │ (\u001b[38;5;45mNone\u001b[0m, \u001b[38;5;34m60\u001b[0m)        │          \u001b[38;5;34m0\u001b[0m │ -                 │\n",
       "│ (\u001b[38;5;33mInputLayer\u001b[0m)        │                   │            │                   │\n",
       "├─────────────────────┼───────────────────┼────────────┼───────────────────┤\n",
       "│ embedding           │ (\u001b[38;5;45mNone\u001b[0m, \u001b[38;5;34m60\u001b[0m, \u001b[38;5;34m128\u001b[0m)   │  \u001b[38;5;34m2,786,176\u001b[0m │ input_layer[\u001b[38;5;34m0\u001b[0m][\u001b[38;5;34m0\u001b[0m] │\n",
       "│ (\u001b[38;5;33mEmbedding\u001b[0m)         │                   │            │                   │\n",
       "├─────────────────────┼───────────────────┼────────────┼───────────────────┤\n",
       "│ conv1d (\u001b[38;5;33mConv1D\u001b[0m)     │ (\u001b[38;5;45mNone\u001b[0m, \u001b[38;5;34m58\u001b[0m, \u001b[38;5;34m64\u001b[0m)    │     \u001b[38;5;34m24,640\u001b[0m │ embedding[\u001b[38;5;34m0\u001b[0m][\u001b[38;5;34m0\u001b[0m]   │\n",
       "├─────────────────────┼───────────────────┼────────────┼───────────────────┤\n",
       "│ max_pooling1d       │ (\u001b[38;5;45mNone\u001b[0m, \u001b[38;5;34m19\u001b[0m, \u001b[38;5;34m64\u001b[0m)    │          \u001b[38;5;34m0\u001b[0m │ conv1d[\u001b[38;5;34m0\u001b[0m][\u001b[38;5;34m0\u001b[0m]      │\n",
       "│ (\u001b[38;5;33mMaxPooling1D\u001b[0m)      │                   │            │                   │\n",
       "├─────────────────────┼───────────────────┼────────────┼───────────────────┤\n",
       "│ conv1d_1 (\u001b[38;5;33mConv1D\u001b[0m)   │ (\u001b[38;5;45mNone\u001b[0m, \u001b[38;5;34m17\u001b[0m, \u001b[38;5;34m64\u001b[0m)    │     \u001b[38;5;34m12,352\u001b[0m │ max_pooling1d[\u001b[38;5;34m0\u001b[0m]… │\n",
       "├─────────────────────┼───────────────────┼────────────┼───────────────────┤\n",
       "│ max_pooling1d_1     │ (\u001b[38;5;45mNone\u001b[0m, \u001b[38;5;34m5\u001b[0m, \u001b[38;5;34m64\u001b[0m)     │          \u001b[38;5;34m0\u001b[0m │ conv1d_1[\u001b[38;5;34m0\u001b[0m][\u001b[38;5;34m0\u001b[0m]    │\n",
       "│ (\u001b[38;5;33mMaxPooling1D\u001b[0m)      │                   │            │                   │\n",
       "├─────────────────────┼───────────────────┼────────────┼───────────────────┤\n",
       "│ bidirectional       │ (\u001b[38;5;45mNone\u001b[0m, \u001b[38;5;34m5\u001b[0m, \u001b[38;5;34m200\u001b[0m)    │    \u001b[38;5;34m132,000\u001b[0m │ max_pooling1d_1[\u001b[38;5;34m…\u001b[0m │\n",
       "│ (\u001b[38;5;33mBidirectional\u001b[0m)     │                   │            │                   │\n",
       "├─────────────────────┼───────────────────┼────────────┼───────────────────┤\n",
       "│ bidirectional_1     │ (\u001b[38;5;45mNone\u001b[0m, \u001b[38;5;34m5\u001b[0m, \u001b[38;5;34m200\u001b[0m)    │    \u001b[38;5;34m240,800\u001b[0m │ bidirectional[\u001b[38;5;34m0\u001b[0m]… │\n",
       "│ (\u001b[38;5;33mBidirectional\u001b[0m)     │                   │            │                   │\n",
       "├─────────────────────┼───────────────────┼────────────┼───────────────────┤\n",
       "│ attention           │ (\u001b[38;5;45mNone\u001b[0m, \u001b[38;5;34m5\u001b[0m, \u001b[38;5;34m200\u001b[0m)    │          \u001b[38;5;34m0\u001b[0m │ bidirectional_1[\u001b[38;5;34m…\u001b[0m │\n",
       "│ (\u001b[38;5;33mAttention\u001b[0m)         │                   │            │ bidirectional_1[\u001b[38;5;34m…\u001b[0m │\n",
       "│                     │                   │            │ bidirectional_1[\u001b[38;5;34m…\u001b[0m │\n",
       "├─────────────────────┼───────────────────┼────────────┼───────────────────┤\n",
       "│ dropout (\u001b[38;5;33mDropout\u001b[0m)   │ (\u001b[38;5;45mNone\u001b[0m, \u001b[38;5;34m5\u001b[0m, \u001b[38;5;34m200\u001b[0m)    │          \u001b[38;5;34m0\u001b[0m │ attention[\u001b[38;5;34m0\u001b[0m][\u001b[38;5;34m0\u001b[0m]   │\n",
       "├─────────────────────┼───────────────────┼────────────┼───────────────────┤\n",
       "│ flatten (\u001b[38;5;33mFlatten\u001b[0m)   │ (\u001b[38;5;45mNone\u001b[0m, \u001b[38;5;34m1000\u001b[0m)      │          \u001b[38;5;34m0\u001b[0m │ dropout[\u001b[38;5;34m0\u001b[0m][\u001b[38;5;34m0\u001b[0m]     │\n",
       "├─────────────────────┼───────────────────┼────────────┼───────────────────┤\n",
       "│ dense (\u001b[38;5;33mDense\u001b[0m)       │ (\u001b[38;5;45mNone\u001b[0m, \u001b[38;5;34m3\u001b[0m)         │      \u001b[38;5;34m3,003\u001b[0m │ flatten[\u001b[38;5;34m0\u001b[0m][\u001b[38;5;34m0\u001b[0m]     │\n",
       "└─────────────────────┴───────────────────┴────────────┴───────────────────┘\n"
      ]
     },
     "metadata": {},
     "output_type": "display_data"
    },
    {
     "data": {
      "text/html": [
       "<pre style=\"white-space:pre;overflow-x:auto;line-height:normal;font-family:Menlo,'DejaVu Sans Mono',consolas,'Courier New',monospace\"><span style=\"font-weight: bold\"> Total params: </span><span style=\"color: #00af00; text-decoration-color: #00af00\">3,198,971</span> (12.20 MB)\n",
       "</pre>\n"
      ],
      "text/plain": [
       "\u001b[1m Total params: \u001b[0m\u001b[38;5;34m3,198,971\u001b[0m (12.20 MB)\n"
      ]
     },
     "metadata": {},
     "output_type": "display_data"
    },
    {
     "data": {
      "text/html": [
       "<pre style=\"white-space:pre;overflow-x:auto;line-height:normal;font-family:Menlo,'DejaVu Sans Mono',consolas,'Courier New',monospace\"><span style=\"font-weight: bold\"> Trainable params: </span><span style=\"color: #00af00; text-decoration-color: #00af00\">3,198,971</span> (12.20 MB)\n",
       "</pre>\n"
      ],
      "text/plain": [
       "\u001b[1m Trainable params: \u001b[0m\u001b[38;5;34m3,198,971\u001b[0m (12.20 MB)\n"
      ]
     },
     "metadata": {},
     "output_type": "display_data"
    },
    {
     "data": {
      "text/html": [
       "<pre style=\"white-space:pre;overflow-x:auto;line-height:normal;font-family:Menlo,'DejaVu Sans Mono',consolas,'Courier New',monospace\"><span style=\"font-weight: bold\"> Non-trainable params: </span><span style=\"color: #00af00; text-decoration-color: #00af00\">0</span> (0.00 B)\n",
       "</pre>\n"
      ],
      "text/plain": [
       "\u001b[1m Non-trainable params: \u001b[0m\u001b[38;5;34m0\u001b[0m (0.00 B)\n"
      ]
     },
     "metadata": {},
     "output_type": "display_data"
    }
   ],
   "source": [
    "# Define the Functional API model\n",
    "\n",
    "# Input layer\n",
    "inputs = Input(shape=(input_length,))\n",
    "\n",
    "# Embedding layer\n",
    "embedding = Embedding(vocab_size, Embedding_dimensions, input_length=input_length)(inputs)\n",
    "\n",
    "# CNN layer to extract local features\n",
    "conv1d = Conv1D(filters=64, kernel_size=3, activation='relu',padding=\"valid\")(embedding)\n",
    "maxpool = MaxPooling1D(pool_size=3)(conv1d)\n",
    "\n",
    "conv1d_ = Conv1D(filters=64, kernel_size=3, activation='relu',padding=\"valid\")(maxpool)\n",
    "maxpool_ = MaxPooling1D(pool_size=3)(conv1d_)\n",
    "\n",
    "# Bi-LSTM layers with dropout\n",
    "bi_lstm_1 = Bidirectional(LSTM(100,return_sequences=True,kernel_regularizer=l2(0.001),recurrent_regularizer=l2(0.001),\n",
    "                                      bias_regularizer=l2(0.001),dropout=(0.2),recurrent_dropout=(0.2)))(maxpool_)\n",
    "\n",
    "bi_lstm_2 = Bidirectional(LSTM(100,return_sequences=True,kernel_regularizer=l2(0.001),recurrent_regularizer=l2(0.001),\n",
    "                                      bias_regularizer=l2(0.001),dropout=(0.2),recurrent_dropout=(0.2)))(bi_lstm_1)\n",
    "\n",
    "# Attention mechanism\n",
    "attention_output = Attention()([bi_lstm_2, bi_lstm_2, bi_lstm_2])\n",
    "\n",
    "# Dropout after attention layer\n",
    "dropout_attention = Dropout(0.25)(attention_output)\n",
    "\n",
    "# Global Average Pooling\n",
    "pooled_output = Flatten()(dropout_attention)\n",
    "\n",
    "# Dense output layer for classification\n",
    "dense_output = Dense(3, activation='sigmoid')(pooled_output)\n",
    "\n",
    "# Build the model\n",
    "model2 = Model(inputs=inputs, outputs=dense_output)\n",
    "model2.compile(optimizer='adam', loss='sparse_categorical_crossentropy', metrics=['accuracy'])\n",
    "\n",
    "# Model summary\n",
    "model2.summary()\n"
   ]
  },
  {
   "cell_type": "code",
   "execution_count": 19,
   "id": "2f8738ef-a5a1-4371-b8b7-b6cb5df9a7c1",
   "metadata": {},
   "outputs": [
    {
     "name": "stdout",
     "output_type": "stream",
     "text": [
      "Epoch 1/15\n"
     ]
    },
    {
     "name": "stderr",
     "output_type": "stream",
     "text": [
      "2024-09-19 22:55:50.091794: I external/local_xla/xla/stream_executor/cuda/cuda_dnn.cc:465] Loaded cuDNN version 8907\n"
     ]
    },
    {
     "name": "stdout",
     "output_type": "stream",
     "text": [
      "\u001b[1m617/617\u001b[0m \u001b[32m━━━━━━━━━━━━━━━━━━━━\u001b[0m\u001b[37m\u001b[0m \u001b[1m14s\u001b[0m 14ms/step - accuracy: 0.4744 - loss: 1.5072 - val_accuracy: 0.5225 - val_loss: 0.9375\n",
      "Epoch 2/15\n",
      "\u001b[1m617/617\u001b[0m \u001b[32m━━━━━━━━━━━━━━━━━━━━\u001b[0m\u001b[37m\u001b[0m \u001b[1m9s\u001b[0m 14ms/step - accuracy: 0.5682 - loss: 0.8212 - val_accuracy: 0.5026 - val_loss: 0.8609\n",
      "Epoch 3/15\n",
      "\u001b[1m617/617\u001b[0m \u001b[32m━━━━━━━━━━━━━━━━━━━━\u001b[0m\u001b[37m\u001b[0m \u001b[1m8s\u001b[0m 13ms/step - accuracy: 0.6109 - loss: 0.6689 - val_accuracy: 0.6256 - val_loss: 0.8508\n",
      "Epoch 4/15\n",
      "\u001b[1m617/617\u001b[0m \u001b[32m━━━━━━━━━━━━━━━━━━━━\u001b[0m\u001b[37m\u001b[0m \u001b[1m8s\u001b[0m 13ms/step - accuracy: 0.8060 - loss: 0.4647 - val_accuracy: 0.6613 - val_loss: 0.9235\n",
      "Epoch 5/15\n",
      "\u001b[1m617/617\u001b[0m \u001b[32m━━━━━━━━━━━━━━━━━━━━\u001b[0m\u001b[37m\u001b[0m \u001b[1m8s\u001b[0m 13ms/step - accuracy: 0.9226 - loss: 0.2395 - val_accuracy: 0.6635 - val_loss: 1.0261\n",
      "Epoch 6/15\n",
      "\u001b[1m617/617\u001b[0m \u001b[32m━━━━━━━━━━━━━━━━━━━━\u001b[0m\u001b[37m\u001b[0m \u001b[1m8s\u001b[0m 13ms/step - accuracy: 0.9617 - loss: 0.1355 - val_accuracy: 0.6607 - val_loss: 1.1697\n",
      "Epoch 7/15\n",
      "\u001b[1m617/617\u001b[0m \u001b[32m━━━━━━━━━━━━━━━━━━━━\u001b[0m\u001b[37m\u001b[0m \u001b[1m8s\u001b[0m 13ms/step - accuracy: 0.9734 - loss: 0.1048 - val_accuracy: 0.6524 - val_loss: 1.4751\n",
      "Epoch 8/15\n",
      "\u001b[1m617/617\u001b[0m \u001b[32m━━━━━━━━━━━━━━━━━━━━\u001b[0m\u001b[37m\u001b[0m \u001b[1m9s\u001b[0m 14ms/step - accuracy: 0.9805 - loss: 0.0806 - val_accuracy: 0.6578 - val_loss: 1.6019\n",
      "Epoch 9/15\n",
      "\u001b[1m617/617\u001b[0m \u001b[32m━━━━━━━━━━━━━━━━━━━━\u001b[0m\u001b[37m\u001b[0m \u001b[1m8s\u001b[0m 14ms/step - accuracy: 0.9867 - loss: 0.0616 - val_accuracy: 0.6560 - val_loss: 1.5900\n",
      "Epoch 10/15\n",
      "\u001b[1m617/617\u001b[0m \u001b[32m━━━━━━━━━━━━━━━━━━━━\u001b[0m\u001b[37m\u001b[0m \u001b[1m9s\u001b[0m 14ms/step - accuracy: 0.9865 - loss: 0.0604 - val_accuracy: 0.6621 - val_loss: 1.7709\n",
      "Epoch 11/15\n",
      "\u001b[1m617/617\u001b[0m \u001b[32m━━━━━━━━━━━━━━━━━━━━\u001b[0m\u001b[37m\u001b[0m \u001b[1m8s\u001b[0m 14ms/step - accuracy: 0.9897 - loss: 0.0468 - val_accuracy: 0.6540 - val_loss: 1.5173\n",
      "Epoch 12/15\n",
      "\u001b[1m617/617\u001b[0m \u001b[32m━━━━━━━━━━━━━━━━━━━━\u001b[0m\u001b[37m\u001b[0m \u001b[1m9s\u001b[0m 14ms/step - accuracy: 0.9904 - loss: 0.0462 - val_accuracy: 0.6554 - val_loss: 1.8164\n",
      "Epoch 13/15\n",
      "\u001b[1m617/617\u001b[0m \u001b[32m━━━━━━━━━━━━━━━━━━━━\u001b[0m\u001b[37m\u001b[0m \u001b[1m9s\u001b[0m 14ms/step - accuracy: 0.9920 - loss: 0.0408 - val_accuracy: 0.6521 - val_loss: 2.0205\n",
      "Epoch 14/15\n",
      "\u001b[1m617/617\u001b[0m \u001b[32m━━━━━━━━━━━━━━━━━━━━\u001b[0m\u001b[37m\u001b[0m \u001b[1m9s\u001b[0m 14ms/step - accuracy: 0.9940 - loss: 0.0334 - val_accuracy: 0.6629 - val_loss: 2.0330\n",
      "Epoch 15/15\n",
      "\u001b[1m617/617\u001b[0m \u001b[32m━━━━━━━━━━━━━━━━━━━━\u001b[0m\u001b[37m\u001b[0m \u001b[1m9s\u001b[0m 14ms/step - accuracy: 0.9936 - loss: 0.0330 - val_accuracy: 0.6631 - val_loss: 1.9796\n"
     ]
    },
    {
     "data": {
      "text/plain": [
       "<keras.src.callbacks.history.History at 0x7e7ea7f9e980>"
      ]
     },
     "execution_count": 19,
     "metadata": {},
     "output_type": "execute_result"
    }
   ],
   "source": [
    "model2.fit(paded_sequences, y_train, epochs=15, batch_size=32,validation_split=0.2)\n"
   ]
  },
  {
   "cell_type": "code",
   "execution_count": 20,
   "id": "b6dee6f9-a66e-47b2-9ac7-c8274d14d767",
   "metadata": {},
   "outputs": [
    {
     "name": "stdout",
     "output_type": "stream",
     "text": [
      "\u001b[1m193/193\u001b[0m \u001b[32m━━━━━━━━━━━━━━━━━━━━\u001b[0m\u001b[37m\u001b[0m \u001b[1m1s\u001b[0m 5ms/step\n",
      "Predictions: [0, 2, 2, 0, 1, 2, 1, 2, 2, 2, 0, 1, 2, 2, 1, 2, 1, 0, 2, 2, 2, 2, 0, 2, 2, 2, 2, 2, 2, 2, 2, 0, 2, 1, 2, 2, 1, 2, 0, 1, 2, 0, 2, 1, 2, 2, 2, 0, 1, 0, 2, 2, 2, 2, 2, 1, 1, 1, 1, 2, 1, 1, 1, 2, 2, 1, 2, 2, 0, 2, 1, 1, 2, 2, 2, 1, 0, 2, 1, 2, 1, 0, 2, 2, 2, 2, 2, 1, 1, 1, 1, 1, 2, 2, 2, 2, 2, 2, 1, 2, 2, 2, 2, 2, 2, 2, 1, 1, 2, 2, 1, 0, 1, 2, 2, 2, 2, 1, 2, 1, 0, 2, 1, 1, 1, 2, 2, 0, 2, 2, 2, 1, 1, 1, 2, 2, 1, 2, 1, 2, 2, 2, 0, 1, 0, 1, 2, 1, 0, 1, 1, 2, 1, 0, 1, 0, 0, 1, 0, 2, 2, 2, 2, 2, 0, 0, 0, 2, 2, 2, 2, 2, 1, 1, 0, 2, 2, 2, 2, 2, 2, 2, 2, 2, 2, 2, 1, 1, 2, 2, 0, 1, 1, 2, 1, 1, 0, 0, 2, 1, 0, 0, 1, 1, 2, 2, 1, 2, 1, 2, 2, 2, 2, 2, 2, 2, 2, 0, 2, 2, 2, 2, 1, 2, 2, 0, 0, 2, 2, 1, 2, 2, 1, 1, 1, 2, 0, 2, 2, 2, 2, 1, 1, 2, 2, 0, 1, 2, 0, 2, 2, 1, 0, 2, 2, 0, 1, 2, 2, 2, 1, 2, 1, 1, 0, 0, 2, 1, 2, 1, 2, 2, 2, 2, 1, 0, 1, 0, 2, 2, 0, 0, 2, 1, 0, 0, 1, 1, 1, 1, 2, 2, 1, 2, 1, 2, 1, 2, 2, 0, 0, 2, 1, 2, 1, 2, 2, 1, 2, 2, 2, 2, 2, 1, 2, 2, 0, 1, 2, 0, 1, 2, 2, 1, 2, 2, 2, 2, 2, 2, 0, 1, 2, 2, 2, 2, 2, 2, 2, 1, 0, 1, 2, 2, 1, 2, 1, 2, 1, 1, 2, 1, 0, 1, 2, 1, 2, 1, 0, 2, 2, 2, 2, 2, 2, 2, 0, 2, 2, 2, 1, 1, 2, 0, 1, 1, 1, 2, 2, 2, 1, 2, 1, 1, 2, 2, 2, 2, 2, 1, 2, 1, 2, 1, 2, 2, 2, 2, 2, 1, 2, 1, 2, 1, 2, 1, 2, 1, 2, 0, 0, 2, 0, 0, 1, 2, 1, 2, 2, 1, 2, 2, 2, 1, 1, 2, 1, 2, 2, 2, 1, 2, 2, 0, 2, 1, 2, 1, 1, 0, 2, 0, 2, 1, 2, 2, 2, 2, 2, 0, 1, 2, 2, 2, 2, 0, 0, 2, 1, 2, 1, 2, 0, 1, 2, 1, 1, 2, 2, 2, 2, 2, 2, 0, 2, 1, 2, 1, 0, 2, 1, 0, 2, 2, 2, 2, 2, 2, 0, 2, 1, 1, 1, 2, 2, 2, 2, 1, 2, 2, 2, 2, 2, 2, 2, 2, 2, 2, 0, 2, 0, 2, 2, 0, 1, 0, 2, 1, 1, 2, 2, 1, 1, 0, 0, 1, 2, 2, 2, 1, 0, 1, 1, 0, 2, 2, 2, 2, 2, 2, 2, 2, 1, 1, 2, 1, 2, 2, 1, 2, 1, 2, 0, 1, 2, 2, 2, 2, 2, 1, 0, 2, 1, 2, 2, 0, 1, 1, 2, 2, 2, 1, 2, 2, 2, 2, 2, 2, 2, 1, 2, 2, 2, 2, 2, 1, 2, 1, 2, 0, 2, 1, 1, 0, 2, 2, 2, 1, 2, 1, 0, 2, 2, 2, 1, 0, 2, 2, 1, 1, 1, 2, 2, 1, 2, 0, 2, 1, 1, 1, 1, 1, 2, 2, 2, 1, 1, 2, 2, 2, 1, 1, 0, 2, 1, 2, 2, 1, 2, 2, 1, 2, 2, 0, 1, 1, 1, 1, 1, 2, 2, 2, 1, 2, 2, 0, 2, 2, 2, 0, 2, 1, 1, 0, 1, 2, 1, 1, 1, 2, 0, 1, 2, 0, 2, 2, 1, 2, 0, 2, 0, 2, 2, 1, 2, 0, 1, 0, 2, 2, 2, 2, 1, 0, 0, 0, 1, 1, 1, 1, 2, 2, 2, 1, 2, 2, 2, 2, 1, 2, 1, 1, 1, 2, 2, 1, 0, 2, 2, 0, 2, 1, 1, 1, 2, 2, 2, 2, 1, 2, 1, 0, 0, 2, 2, 2, 2, 2, 1, 2, 1, 2, 2, 2, 2, 2, 2, 1, 2, 2, 1, 1, 0, 2, 0, 2, 0, 0, 1, 2, 2, 1, 1, 1, 2, 2, 0, 1, 2, 1, 1, 2, 1, 2, 2, 2, 2, 1, 1, 1, 2, 2, 2, 2, 2, 2, 2, 2, 0, 2, 2, 1, 2, 2, 2, 2, 2, 2, 2, 0, 1, 2, 2, 1, 2, 0, 2, 1, 2, 0, 1, 2, 1, 2, 2, 1, 1, 2, 2, 0, 2, 1, 1, 2, 1, 2, 2, 0, 1, 2, 2, 1, 2, 0, 1, 2, 2, 2, 0, 2, 1, 2, 0, 2, 2, 2, 2, 1, 1, 2, 1, 2, 1, 2, 2, 1, 2, 1, 2, 1, 1, 1, 2, 2, 2, 1, 2, 1, 1, 2, 1, 1, 1, 1, 2, 2, 0, 1, 2, 2, 2, 2, 1, 0, 0, 2, 1, 1, 2, 1, 2, 1, 1, 2, 1, 2, 2, 1, 1, 2, 2, 2, 2, 0, 2, 2, 0, 2, 1, 2, 2, 2, 2, 1, 2, 0, 2, 2, 1, 0, 2, 2, 2, 2, 1, 1, 2, 1, 1, 2, 1, 1, 2, 0, 2, 0, 2, 2, 1, 2, 2, 2, 1, 2, 2, 2, 1, 2, 2, 1, 0, 1, 2, 1, 2, 2, 1, 2, 0, 2, 1, 2, 2, 2, 2, 1, 2, 0, 1, 2, 2, 2, 1, 2, 1, 0, 2, 2, 0, 1, 1, 1, 1, 2, 2, 0, 0, 2, 0, 2, 2, 1, 1, 2, 2, 2, 1, 1, 2, 2, 2, 2, 1, 1, 2, 2, 2, 2, 1, 0, 1, 2, 0, 2, 2, 2, 2, 1, 2, 2, 2, 2, 2, 2, 1, 2, 1, 2, 2, 0, 2, 2, 0, 2, 2, 2, 1, 1, 1, 2, 2, 1, 2, 1, 1, 1, 2, 0, 1, 0, 1, 2, 2, 0, 1, 1, 1, 2, 2, 2, 2, 2, 2, 1, 2, 2, 0, 2, 2, 0, 0, 1, 2, 2, 2, 1, 2, 1, 1, 2, 1, 1, 1, 1, 0, 2, 2, 1, 1, 0, 2, 2, 1, 0, 2, 0, 2, 2, 2, 2, 1, 2, 2, 1, 0, 2, 2, 1, 2, 1, 2, 0, 0, 2, 1, 1, 2, 2, 2, 1, 1, 1, 2, 1, 0, 2, 2, 1, 1, 0, 2, 2, 1, 2, 2, 2, 2, 2, 2, 2, 2, 2, 1, 2, 1, 2, 1, 0, 1, 0, 2, 2, 2, 2, 2, 2, 1, 2, 2, 2, 2, 2, 2, 0, 1, 1, 0, 0, 2, 0, 2, 0, 2, 1, 2, 0, 2, 0, 2, 1, 1, 2, 2, 1, 1, 2, 0, 1, 1, 0, 2, 2, 1, 2, 2, 2, 0, 2, 2, 2, 2, 1, 1, 2, 1, 2, 2, 1, 2, 1, 1, 2, 1, 2, 0, 0, 0, 2, 2, 2, 2, 2, 2, 2, 2, 0, 2, 2, 2, 1, 1, 1, 2, 2, 0, 0, 0, 0, 0, 2, 2, 2, 2, 1, 2, 2, 1, 1, 1, 1, 2, 2, 0, 2, 2, 2, 2, 2, 2, 1, 1, 2, 0, 1, 2, 1, 2, 1, 2, 2, 2, 2, 1, 2, 2, 2, 2, 1, 0, 1, 1, 1, 2, 1, 2, 2, 2, 0, 2, 1, 2, 2, 2, 2, 0, 1, 2, 2, 2, 1, 1, 1, 1, 1, 2, 2, 2, 1, 2, 1, 2, 1, 1, 2, 2, 2, 2, 1, 2, 2, 2, 1, 1, 0, 1, 1, 2, 2, 2, 1, 2, 2, 2, 2, 2, 1, 2, 1, 1, 0, 0, 2, 2, 0, 0, 2, 2, 2, 2, 2, 2, 2, 1, 1, 2, 0, 2, 2, 2, 1, 1, 2, 2, 2, 2, 2, 2, 1, 2, 1, 2, 2, 2, 2, 0, 2, 2, 2, 2, 2, 2, 2, 2, 2, 1, 1, 1, 1, 1, 2, 1, 0, 1, 2, 1, 2, 2, 2, 1, 1, 2, 2, 2, 2, 1, 2, 2, 1, 2, 1, 2, 1, 1, 2, 2, 1, 1, 2, 2, 1, 2, 2, 2, 2, 1, 0, 2, 1, 1, 2, 0, 2, 2, 2, 0, 2, 2, 2, 1, 1, 0, 1, 2, 2, 2, 1, 0, 1, 1, 1, 2, 2, 2, 1, 1, 1, 2, 2, 2, 2, 1, 1, 1, 2, 2, 2, 1, 1, 2, 2, 2, 2, 2, 2, 2, 1, 2, 2, 0, 1, 2, 2, 1, 2, 2, 2, 2, 1, 2, 0, 2, 2, 2, 2, 0, 2, 1, 2, 1, 2, 1, 1, 2, 2, 1, 1, 2, 2, 2, 1, 2, 2, 1, 2, 2, 1, 2, 2, 2, 0, 2, 2, 1, 1, 1, 1, 2, 2, 2, 2, 2, 2, 1, 0, 2, 2, 1, 2, 0, 2, 2, 1, 2, 0, 1, 2, 2, 2, 2, 2, 1, 0, 2, 0, 1, 1, 2, 1, 2, 1, 2, 1, 2, 1, 2, 2, 2, 0, 2, 0, 2, 2, 0, 0, 2, 2, 2, 2, 1, 2, 0, 1, 2, 1, 2, 2, 1, 2, 2, 2, 1, 0, 1, 1, 2, 1, 2, 1, 2, 1, 2, 2, 0, 2, 2, 1, 1, 2, 1, 2, 1, 2, 2, 2, 1, 0, 1, 0, 1, 0, 2, 2, 1, 2, 1, 2, 2, 1, 1, 1, 1, 0, 2, 2, 2, 2, 1, 2, 2, 1, 2, 2, 2, 2, 0, 2, 0, 0, 2, 1, 2, 2, 0, 2, 2, 0, 2, 0, 1, 1, 2, 1, 2, 1, 2, 2, 2, 2, 1, 1, 2, 2, 1, 0, 1, 1, 2, 2, 1, 2, 1, 2, 1, 1, 2, 2, 1, 0, 0, 2, 2, 1, 2, 2, 0, 2, 1, 2, 2, 1, 2, 2, 2, 2, 1, 2, 1, 1, 2, 2, 2, 1, 2, 0, 1, 1, 2, 0, 2, 1, 2, 2, 1, 1, 2, 2, 1, 1, 1, 2, 2, 2, 2, 1, 1, 2, 2, 2, 2, 2, 0, 2, 2, 0, 2, 2, 2, 2, 2, 1, 1, 2, 1, 2, 2, 1, 2, 0, 0, 1, 1, 2, 0, 2, 2, 1, 2, 0, 1, 1, 1, 2, 2, 2, 2, 1, 2, 2, 2, 2, 2, 1, 2, 2, 2, 2, 2, 1, 2, 2, 2, 2, 2, 0, 1, 2, 2, 2, 2, 2, 0, 2, 1, 2, 2, 2, 2, 2, 1, 1, 2, 2, 2, 1, 1, 1, 2, 1, 2, 0, 2, 2, 2, 1, 1, 2, 2, 2, 2, 2, 0, 0, 0, 2, 2, 2, 2, 2, 2, 2, 2, 2, 2, 0, 2, 2, 2, 2, 2, 2, 2, 1, 0, 1, 2, 2, 1, 1, 2, 1, 2, 2, 1, 0, 2, 0, 0, 0, 1, 1, 2, 1, 1, 2, 2, 2, 2, 2, 0, 1, 1, 2, 2, 1, 2, 2, 0, 2, 2, 2, 2, 2, 2, 0, 2, 1, 1, 1, 2, 2, 1, 1, 2, 2, 1, 1, 2, 1, 0, 2, 1, 2, 2, 2, 1, 2, 2, 2, 1, 2, 1, 0, 2, 2, 0, 2, 2, 1, 0, 1, 1, 2, 2, 0, 2, 2, 0, 1, 2, 0, 1, 2, 2, 2, 2, 1, 2, 2, 2, 2, 1, 0, 2, 2, 1, 1, 2, 2, 1, 2, 2, 2, 2, 2, 2, 0, 2, 2, 2, 2, 1, 1, 1, 2, 2, 0, 2, 0, 2, 1, 2, 1, 0, 0, 2, 0, 2, 1, 2, 2, 2, 1, 0, 1, 1, 2, 1, 0, 1, 2, 0, 2, 1, 2, 1, 2, 0, 2, 0, 1, 2, 1, 2, 2, 2, 2, 2, 1, 1, 2, 1, 2, 2, 0, 2, 1, 1, 2, 0, 2, 2, 0, 1, 2, 2, 1, 2, 2, 2, 1, 2, 1, 2, 2, 1, 1, 2, 2, 2, 0, 1, 1, 0, 2, 1, 1, 2, 2, 2, 0, 2, 1, 1, 2, 2, 2, 0, 1, 1, 2, 2, 2, 1, 2, 2, 0, 2, 1, 2, 2, 1, 2, 1, 1, 2, 2, 2, 0, 2, 0, 2, 1, 2, 2, 0, 1, 1, 1, 2, 2, 2, 0, 2, 1, 1, 2, 2, 1, 2, 2, 2, 2, 1, 2, 2, 1, 2, 1, 2, 2, 2, 2, 2, 2, 2, 2, 2, 1, 2, 2, 2, 1, 2, 2, 2, 1, 2, 2, 2, 1, 2, 2, 2, 2, 1, 2, 2, 2, 1, 1, 2, 2, 1, 0, 0, 1, 2, 2, 2, 1, 2, 2, 2, 1, 2, 1, 2, 2, 1, 0, 2, 2, 0, 0, 1, 1, 2, 2, 2, 1, 2, 1, 2, 2, 1, 1, 0, 1, 1, 1, 0, 2, 0, 2, 2, 1, 2, 2, 1, 2, 1, 2, 2, 0, 1, 2, 1, 0, 2, 1, 1, 1, 2, 2, 1, 2, 2, 2, 2, 1, 0, 2, 2, 2, 2, 2, 0, 2, 2, 2, 2, 2, 2, 2, 2, 1, 2, 2, 1, 1, 2, 2, 2, 2, 1, 2, 2, 1, 0, 2, 2, 2, 0, 2, 0, 0, 1, 2, 1, 2, 1, 2, 2, 1, 2, 2, 2, 2, 2, 1, 0, 0, 2, 2, 2, 2, 2, 0, 2, 1, 0, 1, 0, 2, 1, 0, 2, 1, 0, 2, 1, 2, 1, 2, 2, 2, 0, 2, 2, 2, 0, 2, 2, 1, 2, 2, 0, 2, 2, 2, 2, 0, 1, 1, 2, 2, 1, 2, 1, 2, 2, 1, 2, 2, 1, 1, 2, 2, 2, 2, 1, 2, 2, 1, 2, 2, 0, 1, 1, 2, 0, 1, 1, 1, 2, 2, 0, 2, 1, 2, 2, 1, 1, 2, 1, 1, 2, 2, 2, 2, 2, 2, 2, 2, 2, 2, 2, 2, 1, 2, 1, 1, 0, 2, 1, 0, 1, 1, 2, 2, 2, 0, 1, 2, 1, 2, 2, 2, 2, 2, 1, 2, 2, 2, 0, 0, 2, 2, 1, 2, 2, 2, 1, 2, 0, 1, 2, 2, 2, 1, 2, 2, 2, 2, 1, 1, 2, 1, 2, 1, 2, 2, 2, 2, 1, 1, 2, 2, 1, 1, 1, 2, 2, 1, 2, 2, 2, 0, 1, 2, 1, 1, 2, 2, 1, 1, 2, 0, 1, 2, 1, 1, 1, 2, 2, 2, 1, 2, 0, 1, 2, 1, 2, 2, 2, 2, 1, 1, 0, 2, 0, 2, 0, 2, 2, 2, 0, 2, 1, 2, 2, 2, 2, 0, 2, 2, 0, 2, 0, 0, 2, 2, 0, 1, 1, 2, 0, 2, 2, 1, 0, 2, 1, 2, 0, 1, 2, 2, 2, 0, 2, 1, 2, 2, 2, 2, 1, 2, 2, 1, 1, 2, 2, 2, 1, 2, 2, 0, 2, 1, 2, 0, 1, 2, 1, 2, 0, 0, 2, 1, 2, 1, 1, 2, 2, 2, 0, 2, 2, 1, 2, 2, 0, 0, 1, 2, 2, 2, 2, 2, 0, 2, 2, 1, 1, 0, 2, 2, 2, 1, 2, 2, 2, 2, 2, 0, 1, 2, 0, 1, 1, 2, 2, 2, 2, 2, 0, 1, 2, 1, 2, 1, 2, 2, 2, 0, 2, 1, 2, 2, 0, 2, 1, 1, 1, 0, 0, 0, 1, 1, 1, 1, 2, 2, 2, 1, 1, 2, 0, 1, 2, 2, 1, 2, 2, 2, 2, 1, 1, 0, 0, 0, 1, 2, 2, 0, 2, 2, 2, 1, 2, 0, 2, 2, 0, 2, 2, 0, 0, 1, 2, 1, 0, 2, 1, 2, 1, 2, 2, 2, 2, 2, 2, 2, 2, 2, 1, 2, 0, 2, 2, 2, 2, 2, 1, 0, 1, 1, 1, 0, 1, 2, 2, 1, 2, 1, 2, 0, 2, 0, 2, 2, 2, 1, 2, 2, 2, 2, 2, 2, 2, 2, 1, 1, 2, 2, 2, 2, 2, 2, 2, 2, 0, 0, 2, 2, 1, 2, 2, 2, 1, 2, 1, 0, 2, 0, 2, 2, 1, 2, 1, 1, 2, 1, 0, 2, 2, 2, 2, 1, 1, 1, 1, 1, 0, 2, 2, 2, 0, 1, 2, 2, 1, 2, 2, 2, 2, 2, 1, 0, 2, 2, 2, 1, 2, 0, 1, 1, 2, 2, 1, 1, 2, 0, 0, 2, 1, 2, 1, 2, 0, 0, 2, 2, 0, 2, 1, 0, 2, 2, 2, 2, 2, 1, 2, 2, 0, 2, 2, 2, 2, 2, 2, 2, 2, 2, 2, 0, 2, 1, 0, 1, 2, 2, 2, 2, 0, 0, 0, 1, 2, 0, 2, 2, 2, 0, 2, 2, 2, 1, 2, 2, 2, 1, 0, 2, 2, 2, 0, 2, 1, 2, 2, 0, 2, 2, 2, 2, 2, 0, 0, 2, 2, 1, 1, 0, 2, 1, 2, 1, 1, 0, 1, 0, 2, 1, 2, 2, 2, 2, 1, 2, 1, 1, 1, 2, 2, 1, 1, 2, 2, 1, 1, 1, 1, 1, 2, 2, 0, 1, 1, 1, 2, 2, 2, 0, 2, 1, 2, 0, 2, 2, 1, 2, 2, 2, 2, 2, 1, 1, 0, 2, 1, 1, 1, 2, 1, 0, 2, 1, 1, 2, 2, 1, 1, 2, 2, 2, 2, 1, 2, 2, 2, 0, 0, 2, 2, 2, 2, 1, 2, 1, 1, 1, 1, 1, 0, 2, 2, 2, 2, 2, 2, 0, 2, 2, 2, 0, 2, 0, 0, 1, 2, 1, 2, 0, 2, 2, 2, 1, 2, 2, 2, 1, 1, 1, 1, 2, 2, 1, 2, 2, 2, 2, 1, 2, 2, 1, 1, 1, 2, 2, 0, 2, 0, 2, 2, 2, 0, 2, 2, 2, 2, 2, 2, 1, 2, 0, 2, 2, 2, 2, 0, 1, 1, 2, 2, 0, 1, 1, 2, 2, 2, 2, 2, 0, 1, 2, 1, 2, 0, 2, 2, 1, 2, 0, 2, 2, 1, 2, 0, 1, 2, 1, 2, 1, 2, 1, 2, 1, 2, 2, 2, 0, 1, 2, 2, 2, 2, 0, 1, 2, 2, 1, 1, 0, 2, 2, 0, 2, 2, 1, 2, 1, 2, 0, 2, 1, 1, 2, 1, 1, 1, 2, 2, 2, 2, 2, 2, 2, 1, 1, 2, 2, 2, 1, 2, 1, 2, 2, 1, 0, 0, 2, 2, 1, 2, 0, 2, 2, 0, 1, 0, 1, 1, 2, 1, 2, 1, 2, 2, 1, 2, 1, 2, 0, 0, 2, 1, 2, 1, 1, 1, 2, 1, 2, 1, 2, 1, 2, 0, 0, 1, 2, 2, 1, 2, 2, 2, 2, 1, 2, 2, 1, 2, 2, 2, 1, 2, 0, 2, 1, 2, 2, 0, 2, 2, 1, 2, 0, 1, 0, 2, 0, 2, 0, 2, 1, 2, 2, 1, 2, 2, 2, 0, 1, 1, 1, 2, 2, 2, 2, 2, 1, 2, 1, 1, 0, 2, 2, 1, 1, 0, 1, 2, 1, 0, 2, 2, 1, 0, 1, 1, 2, 2, 1, 1, 1, 1, 1, 1, 2, 2, 1, 2, 1, 2, 2, 1, 1, 1, 0, 1, 2, 1, 1, 2, 2, 1, 2, 1, 1, 1, 2, 2, 2, 0, 1, 1, 2, 0, 2, 2, 2, 2, 0, 2, 2, 2, 1, 1, 1, 1, 2, 2, 2, 2, 1, 1, 1, 2, 1, 1, 2, 2, 1, 2, 1, 1, 2, 1, 2, 2, 1, 2, 1, 1, 2, 2, 1, 2, 0, 2, 2, 2, 2, 2, 0, 2, 1, 1, 2, 2, 1, 2, 2, 2, 1, 2, 2, 1, 2, 2, 2, 2, 2, 2, 1, 1, 2, 1, 1, 2, 1, 2, 1, 2, 0, 1, 0, 0, 2, 2, 2, 1, 2, 1, 0, 2, 2, 1, 2, 2, 2, 2, 2, 2, 2, 2, 2, 2, 2, 2, 0, 1, 2, 1, 2, 2, 0, 2, 2, 1, 2, 1, 0, 2, 2, 2, 2, 1, 2, 2, 1, 1, 0, 2, 2, 1, 0, 0, 0, 2, 1, 1, 2, 1, 1, 2, 2, 1, 1, 2, 2, 1, 2, 1, 0, 0, 2, 0, 2, 1, 1, 1, 2, 2, 1, 2, 2, 2, 2, 2, 1, 2, 2, 2, 1, 1, 1, 2, 2, 1, 2, 1, 2, 2, 1, 1, 2, 2, 0, 2, 2, 1, 0, 2, 2, 1, 2, 0, 1, 1, 2, 2, 2, 1, 2, 1, 2, 0, 2, 2, 1, 1, 1, 2, 2, 1, 1, 1, 2, 2, 2, 2, 2, 2, 2, 1, 2, 2, 2, 2, 0, 2, 2, 2, 2, 2, 2, 2, 2, 1, 2, 0, 0, 2, 2, 2, 2, 2, 1, 2, 2, 1, 1, 2, 2, 1, 2, 0, 1, 2, 2, 2, 2, 2, 0, 2, 0, 2, 2, 0, 2, 1, 2, 2, 1, 2, 2, 2, 2, 0, 2, 2, 2, 2, 2, 0, 1, 2, 2, 1, 1, 1, 1, 2, 0, 2, 2, 2, 2, 2, 1, 2, 1, 2, 2, 2, 2, 2, 2, 2, 1, 2, 2, 1, 2, 2, 2, 1, 1, 1, 2, 2, 1, 0, 2, 1, 2, 0, 2, 1, 2, 0, 0, 1, 2, 2, 1, 2, 2, 1, 2, 2, 0, 1, 0, 1, 2, 2, 1, 0, 2, 2, 2, 1, 2, 2, 1, 2, 2, 2, 2, 2, 1, 1, 2, 2, 1, 1, 2, 2, 2, 2, 0, 0, 2, 0, 2, 1, 2, 2, 1, 2, 2, 2, 2, 1, 0, 2, 2, 0, 0, 2, 1, 2, 2, 2, 2, 1, 2, 1, 2, 1, 2, 1, 1, 2, 1, 2, 0, 0, 2, 1, 2, 2, 2, 2, 1, 2, 1, 2, 1, 1, 2, 1, 2, 0, 0, 0, 2, 1, 2, 0, 0, 1, 1, 1, 0, 2, 1, 2, 1, 1, 1, 2, 1, 0, 2, 2, 0, 2, 2, 2, 2, 2, 2, 1, 1, 0, 1, 0, 1, 1, 2, 2, 2, 2, 2, 2, 2, 2, 1, 2, 2, 2, 2, 1, 2, 2, 0, 2, 2, 1, 2, 2, 0, 2, 2, 1, 1, 2, 1, 1, 2, 2, 2, 1, 0, 2, 2, 0, 2, 1, 2, 2, 2, 2, 1, 1, 1, 2, 0, 1, 1, 0, 1, 2, 0, 0, 1, 2, 1, 2, 0, 2, 2, 1, 0, 1, 1, 2, 2, 2, 2, 2, 0, 1, 2, 1, 0, 2, 1, 2, 2, 0, 2, 1, 2, 2, 1, 1, 1, 1, 0, 1, 1, 2, 1, 2, 2, 1, 2, 0, 2, 2, 2, 2, 2, 2, 2, 2, 1, 1, 2, 2, 2, 2, 0, 0, 2, 2, 2, 1, 2, 0, 0, 2, 0, 1, 2, 2, 2, 2, 1, 2, 1, 0, 2, 2, 1, 2, 2, 2, 1, 1, 2, 2, 2, 2, 1, 2, 2, 2, 1, 2, 1, 2, 1, 1, 1, 2, 2, 2, 2, 1, 2, 2, 2, 2, 2, 2, 2, 0, 2, 1, 2, 0, 2, 2, 1, 2, 2, 2, 2, 0, 1, 1, 2, 0, 2, 2, 2, 2, 2, 0, 2, 2, 2, 1, 2, 1, 2, 2, 1, 0, 2, 1, 2, 0, 1, 2, 2, 2, 2, 2, 2, 1, 0, 2, 0, 2, 2, 2, 2, 1, 1, 1, 1, 2, 2, 0, 2, 2, 1, 1, 1, 2, 2, 2, 2, 2, 2, 1, 0, 1, 2, 2, 0, 2, 1, 1, 2, 2, 0, 1, 2, 2, 2, 2, 1, 2, 2, 2, 2, 2, 1, 2, 1, 1, 2, 2, 1, 2, 1, 2, 2, 2, 2, 2, 2, 1, 1, 2, 2, 1, 0, 2, 1, 0, 0, 0, 1, 2, 2, 2, 1, 1, 2, 1, 2, 2, 2, 2, 2, 2, 1, 0, 1, 2, 2, 2, 1, 2, 2, 1, 0, 1, 2, 1, 2, 2, 2, 2, 1, 2, 0, 2, 2, 0, 2, 1, 1, 1, 1, 2, 2, 1, 2, 2, 1, 2, 2, 0, 2, 2, 1, 2, 1, 1, 0, 2, 2, 2, 2, 2, 1, 2, 2, 1, 2, 2, 2, 1, 1, 1, 2, 1, 2, 1, 1, 1, 1, 2, 2, 0, 0, 2, 2, 2, 0, 2, 1, 0, 1, 2, 1, 0, 1, 1, 0, 1, 2, 2, 1, 0, 2, 1, 1, 0, 1, 2, 2, 2, 2, 1, 0, 1, 1, 2, 1, 2, 2, 2, 2, 2, 1, 2, 0, 2, 2, 0, 2, 0, 2, 2, 2, 2, 2, 2, 2, 2, 1, 2, 2, 1, 2, 2, 2, 2, 1, 0, 2, 2, 1, 2, 2, 1, 2, 2, 2, 2, 2, 2, 2, 2, 2, 0, 1, 2, 2, 1, 2, 1, 0, 2, 2, 0, 2, 2, 2, 0, 1, 1, 2, 2, 2, 1, 1, 2, 1, 1, 1, 1, 2, 2, 2, 1, 2, 1, 1, 2, 2, 1, 2, 2, 2, 2, 2, 1, 2, 2, 1, 2, 0, 1, 2, 0, 2, 1, 1, 1, 1, 0, 2, 2, 0, 2, 2, 1, 2, 2, 1, 0, 1, 1, 0, 2, 1, 0, 2, 1, 2, 2, 2, 1, 1, 2, 2, 2, 2, 2, 1, 2, 2, 2, 1, 0, 2, 1, 0, 2, 1, 2, 2, 1, 1, 0, 2, 2, 1, 0, 2, 2, 2, 1, 2, 1, 0, 2, 2, 1, 0, 2, 2, 1, 2, 2, 0, 2, 2, 2, 2, 1, 0, 2, 2, 1, 1, 2, 1, 0, 1, 0, 2, 1, 1, 2, 1, 1, 2, 1, 1, 2, 2, 0, 2, 2, 2, 2, 1, 2, 2, 2, 2, 2, 0, 2, 1, 0, 1, 1, 2, 1, 1, 2, 2, 1, 1, 2, 1, 1, 2, 2, 2, 0, 2, 2, 2, 1, 0, 0, 2, 2, 0, 1, 1, 0, 0, 0, 2, 2, 2, 0, 2, 0, 0, 2, 1, 0, 1, 1, 2, 1, 2, 2, 2, 2, 1, 0, 2, 2, 2, 2, 1, 2, 1, 2, 1, 2, 2, 2, 1, 2, 2, 2, 1, 2, 0, 2, 2, 2, 0, 2, 2, 2, 2, 1, 1, 2, 2, 2, 2, 2, 2, 2, 2, 1, 2, 0, 1, 0, 0, 2, 1, 2, 0, 2, 2, 2, 2, 2, 2, 1, 2, 1, 1, 2, 2, 1, 2, 2, 1, 1, 2, 1, 2, 2, 2, 1, 2, 2, 2, 1, 2, 0, 2, 2, 0, 2, 0, 2, 0, 2, 1, 2, 2, 0, 2, 2, 0, 0, 2, 2, 1, 1, 1, 2, 2, 1, 1, 1, 2, 1, 2, 2, 1, 2, 2, 2, 2, 2, 0, 2, 2, 1, 0, 0, 2, 2, 1, 1, 1, 2, 2, 2, 0, 1, 2, 0, 2, 2, 1, 2, 2, 2, 2, 1, 2, 2, 2, 2, 2, 2, 0, 1, 2, 1, 2, 1, 2, 2, 0, 2, 1, 0, 1, 1, 2, 1, 2, 1, 2, 2, 2, 1, 2, 2, 2, 1, 0, 2, 2, 2, 1, 1, 2, 1, 1, 0, 2, 2, 2, 0, 1, 1, 1, 2, 2, 2, 2, 2, 2, 1, 2, 2, 2, 2, 2, 0, 1, 1, 2, 2, 1, 2, 1, 2, 2, 2, 2, 2, 1, 2, 2, 1, 2, 1, 1, 0, 2, 1, 2, 2, 2, 1, 1, 1, 2, 2, 2, 0, 2, 1, 0, 0, 1, 2, 1, 2, 1, 2, 2, 2, 2, 1, 1, 2, 2, 1, 2, 1, 1, 0, 1, 0, 2, 1, 1, 1, 1, 1, 0, 0, 2, 2, 1, 2, 2, 2, 2, 2, 1, 2, 2, 0, 0, 0, 1, 2, 2, 2, 0, 2, 1, 2, 2, 1, 1, 2, 2, 1, 2, 2, 0, 1, 0, 2, 1, 0, 0, 2, 2, 1, 2, 0, 0, 2, 2, 1, 1, 2, 2, 2, 2, 1, 1, 1, 2, 2, 2, 0, 2, 2, 2, 2, 2, 2, 0, 2, 2, 0, 2, 2, 0, 2, 2, 1, 1, 1, 1, 0, 2, 0, 2, 1, 2, 2, 0, 2, 2, 2, 1, 2, 2, 2, 2, 2, 2, 2, 1, 2, 2, 1, 1, 1, 1, 0, 2, 1, 0, 2, 1, 1, 1, 1, 1, 2, 0, 0, 1, 0, 2, 2, 1, 1, 2, 2, 2, 2, 1, 1, 0, 0, 2, 1, 1, 1, 2, 1, 2, 1, 2, 2, 2, 1, 0, 1, 2, 1, 2, 1, 1, 2, 0, 0, 0, 2, 2, 1, 1, 2, 2, 1, 2, 2, 1, 2, 2, 2, 2, 1, 2, 1, 1, 1, 1, 2, 2, 2, 1, 0, 1, 2, 2, 1, 1, 1, 2, 2, 1, 2, 1, 2, 2, 2, 2, 2, 2, 0, 2, 1, 1, 2, 1, 1, 1, 1, 2, 2, 2, 2, 2, 2, 1, 2, 1, 2, 2, 2, 2, 1, 2, 2, 2, 2, 1, 0, 2, 1, 2, 2, 1, 2, 2, 2, 2, 1, 1, 2, 1, 2, 2, 2, 2, 0, 1, 0, 1, 1, 2, 2, 1, 0, 1, 2, 1, 0, 2, 2, 0, 2, 2, 1, 0, 2, 0, 2, 2, 2, 1, 1, 2, 2, 2, 2, 0, 1, 2, 0, 2, 2, 2, 2, 1, 2, 2, 0, 2, 1, 2, 2, 2, 2, 1, 2, 2, 2, 2, 1, 0, 1, 2, 1, 0, 1, 0, 2, 1, 2, 2, 2, 2, 2, 2, 2, 2, 1, 1, 2, 2, 2, 1, 1, 1, 2, 2, 2, 0, 2, 2, 1, 0, 1, 1, 1, 1, 0, 1, 0, 1, 1, 2, 0, 0, 2, 1, 2, 1, 0, 2, 2, 2, 2, 2, 1, 2, 2, 1, 1, 2, 0, 2, 2, 1, 2, 2, 2, 1, 2, 1, 2, 1, 2, 2, 2, 0, 2, 1, 2, 1, 1, 2, 1, 1, 2, 2, 0, 2, 2, 2, 2, 0, 2, 1, 1, 0, 2, 2, 1, 2, 2, 1, 1, 1, 1, 2, 2, 1, 1, 1, 2, 2, 2, 2, 2, 1, 1, 2, 1, 1, 1, 1, 2, 2, 0, 1, 2, 2, 0, 2, 0, 2, 2, 1, 2, 2, 2, 2, 2, 0, 1, 1, 1, 2, 2, 0, 2, 2, 2, 2, 0, 2, 1, 0, 2, 0, 2, 2, 1, 1, 0, 2, 2, 2, 1, 1, 0, 2, 2, 2, 1, 2, 2, 2, 1, 2, 1, 1, 2, 0, 2, 1, 2, 2, 2, 2, 2, 0, 2, 1, 0, 2, 1, 1, 2, 0, 0, 1, 2, 1, 2, 2, 2, 2, 1, 1, 2, 0, 2, 2, 2, 2, 1, 1, 2, 1, 0, 0, 2, 2, 1, 1, 2, 1, 0, 2, 1, 2, 2, 1, 1, 2, 1, 2, 1, 2, 0, 2, 0, 1, 1, 2, 2, 0, 1, 0, 1, 2, 2, 0, 2, 2, 0, 2, 0, 2, 1, 2, 2, 1, 2, 1, 2, 2, 2, 2, 1, 1, 1, 0, 2, 0, 2, 0, 1, 2, 2, 2, 2, 2, 1, 2, 2, 2, 1, 2, 1, 2, 2, 2, 2, 1, 0, 2, 2, 2, 2, 1, 1, 2, 0, 1, 2, 2, 2, 1, 2, 0, 2, 0, 2, 1, 0, 1, 2, 1, 1, 2, 1, 2, 2, 2, 2, 0, 1, 1, 2, 2, 0, 0, 2, 2, 2, 1, 2, 2, 2, 2, 2, 2, 2, 1, 2, 2, 2, 2, 2, 2, 2, 2, 2, 2, 2, 0, 2, 2, 2, 2, 2, 1, 0, 2, 2, 1, 2, 2, 1, 0, 2, 0, 2, 2, 2, 2, 2, 2, 1, 2, 1, 0, 1, 0, 2, 2, 2, 0, 1, 1, 2, 1, 1, 2, 2, 1, 1, 1, 2, 1, 2, 2, 2, 1, 2, 2, 2, 0, 2, 2, 1, 1, 1, 2, 2, 1, 2, 2, 0, 2, 1, 2, 1, 2, 2, 2, 2, 1, 0, 0, 2, 2, 2, 2, 2, 0, 0, 1, 2, 2, 2, 2, 2, 2, 2, 0, 2, 2, 0, 1, 2, 1, 2, 1, 1, 1, 1, 2, 2, 2, 2, 2, 2, 2, 1, 2, 2, 1, 1, 1, 0, 2, 2, 1, 2, 1, 2, 2, 2, 0, 2, 2, 2, 0, 2, 0, 2, 2, 1, 2, 2, 1, 2, 2, 2, 2, 0, 2, 0, 2, 2, 2, 0, 1, 0, 1, 2, 2, 2, 2, 2, 2, 2, 0, 1, 2, 2, 2, 1, 2, 2, 2, 2, 1, 1, 1, 2, 2, 0, 0, 2, 0, 2, 2, 2, 2, 2, 2, 0, 1, 2, 0, 1, 2, 2, 0, 2, 2, 1, 2, 2, 2, 2, 1, 1, 1, 2, 2, 0, 1, 0, 1, 2, 2, 2, 2, 2, 2, 2, 2, 0, 2, 2, 2, 2, 0, 1, 2, 2, 2, 2, 1, 2, 2, 2, 2, 2, 1, 2, 1, 2, 2, 0, 1, 2, 2, 0, 0, 1, 2, 1, 2, 1, 2, 2, 1, 2, 1, 1, 1, 2, 0, 1, 1, 2, 1, 2, 1, 1, 2, 1, 1, 2, 2, 2, 1, 2, 2, 2, 1, 1, 1, 2, 1, 2, 2, 0, 2, 1, 2, 2, 1, 2, 1, 0, 2, 2, 2, 2, 2, 2, 1, 2, 0, 2, 2, 1, 2, 2, 2, 1, 1, 1, 1, 2, 2, 2, 2, 2, 1, 0, 1, 2, 2, 0, 2, 0, 1, 2, 1, 1, 2, 2, 2, 1, 2, 2, 1, 2, 2, 2, 0, 2, 2, 2, 1, 2, 2, 2, 0, 2, 1, 0, 2, 0, 2, 1, 1, 2, 1, 2, 1, 1, 2, 2, 1, 2, 1, 2, 1, 2, 1, 2, 2, 2, 1, 2, 2, 1, 2, 2, 2, 2, 2, 2, 0, 2, 2, 2, 2, 2, 0, 2, 2, 0, 2, 0, 2, 2, 1, 1, 1, 2, 1, 0, 1, 2, 2, 1, 1, 2, 2, 0, 2, 2, 1, 1, 2, 2, 1, 2, 2, 2, 1, 2, 2, 2, 0, 2, 2, 0, 2, 1, 0, 1, 1, 2, 1, 2, 1, 2, 1, 1, 2, 1, 1, 1, 2, 1, 1, 2, 2, 2, 2, 2, 2, 2, 0, 1, 0, 2, 2, 1, 2, 1, 0, 2, 1, 0, 0, 2, 2, 1, 2, 1, 2, 2, 0, 0, 1, 2, 1, 2, 1, 2, 2, 1, 1, 1, 2, 2, 2, 0, 1, 1, 0, 2, 1, 1, 2, 2, 2, 0, 2, 2, 1, 2, 2, 2, 2, 0, 2, 2, 1, 1, 2, 1, 2, 2, 2, 2, 1, 2, 2, 1, 1, 2, 2, 2, 2, 2, 1, 1, 2, 1, 1, 1, 1, 0, 2, 1, 1, 1, 2, 2, 2, 2, 2, 2, 1, 2, 1, 1, 0, 1, 1, 0, 2, 1, 0, 2, 2, 0, 1, 2, 1, 0, 2, 2, 1, 1, 2, 1, 1, 0, 2, 2, 2, 2, 2, 2, 0, 0, 2, 1, 1, 2, 1, 1, 2, 1, 2, 1, 1, 0, 1, 2, 2, 2, 1, 2, 2, 1, 2, 2, 2, 2, 2, 1, 2, 2, 2, 2, 2, 2, 2, 2, 0, 0, 2, 2, 0, 2, 2, 2, 1, 2, 1, 2, 1, 1, 2, 0, 2, 2, 1, 2, 0, 1, 2, 2, 1, 2, 2, 2, 2, 2, 0, 1, 2, 2, 0, 2, 0, 0, 2, 2, 2, 2, 1, 2, 2, 0, 1, 2, 2, 0, 2, 2, 2, 0, 0, 2, 2, 1, 2, 2, 1, 1, 1, 0, 1, 0, 2, 2, 2, 0, 2, 2, 2, 0, 1, 1, 2, 1, 2, 2, 1, 2, 2, 2, 2, 0, 2, 2, 1, 2, 2, 2, 2, 2, 2, 0, 1, 2, 2, 2, 1, 0, 2, 2, 1, 2, 2, 1, 2, 0, 1, 2, 2, 1, 2, 2, 2, 2, 2, 2, 1, 2, 1, 1, 1, 2, 0, 2, 1, 1, 2, 2, 2, 0, 2, 1, 2, 0, 2, 2, 0, 2, 2, 2, 2, 2, 2, 1, 1, 1, 1, 1, 2, 2, 2, 2, 1, 1, 2, 0, 2, 2, 1, 2, 1, 2, 2, 0, 1, 1, 2, 2, 2, 2, 1, 1, 2, 2, 2, 1, 2, 1, 2, 2, 1, 1, 2, 2, 1, 2, 2, 1, 2, 1, 1, 1, 1, 2, 2, 2, 2, 1, 0, 1, 1, 2, 2, 0, 2, 1, 2, 2, 2, 1, 2, 2, 2, 2, 2, 1, 2, 0, 2, 2, 2, 2, 1, 2, 2, 1, 2, 2, 2, 2, 1, 1, 1, 1, 1, 0, 1, 2, 0, 1, 2, 1, 2, 2, 2, 2, 1, 2, 2, 2, 1, 0, 1, 2, 0, 0, 1, 2, 2, 1, 2, 2, 2, 2, 1, 2, 2, 2]\n"
     ]
    }
   ],
   "source": [
    "predictions = model2.predict(test_paded_sequences)\n",
    "predicted_labels = [tf.argmax(pred).numpy() for pred in predictions]\n",
    "print(f\"Predictions: {predicted_labels}\")"
   ]
  },
  {
   "cell_type": "code",
   "execution_count": 21,
   "id": "b7728806-81c2-46c7-bd69-ab497788ca2f",
   "metadata": {},
   "outputs": [
    {
     "name": "stdout",
     "output_type": "stream",
     "text": [
      "              precision    recall  f1-score   support\n",
      "\n",
      "           0       0.70      0.56      0.62      1054\n",
      "           1       0.72      0.57      0.63      2365\n",
      "           2       0.62      0.79      0.70      2750\n",
      "\n",
      "    accuracy                           0.66      6169\n",
      "   macro avg       0.68      0.64      0.65      6169\n",
      "weighted avg       0.67      0.66      0.66      6169\n",
      "\n"
     ]
    }
   ],
   "source": [
    "from sklearn.metrics import classification_report,confusion_matrix\n",
    "\n",
    "print(classification_report(y_test,predicted_labels))"
   ]
  },
  {
   "cell_type": "code",
   "execution_count": 22,
   "id": "3658d85e-cd82-477e-bb57-9a1b6d4a30eb",
   "metadata": {},
   "outputs": [
    {
     "data": {
      "text/plain": [
       "Text(0.5, 1.0, 'Confusion Matrix')"
      ]
     },
     "execution_count": 22,
     "metadata": {},
     "output_type": "execute_result"
    },
    {
     "data": {
      "image/png": "[encoded data removed]",
      "text/plain": [
       "<Figure size 640x480 with 2 Axes>"
      ]
     },
     "metadata": {},
     "output_type": "display_data"
    }
   ],
   "source": [
    "import seaborn as sns\n",
    "import matplotlib.pyplot as plt\n",
    "sns.heatmap(confusion_matrix(y_test,predicted_labels))\n",
    "plt.xlabel('Predicted Labels')\n",
    "plt.ylabel('True Labels')\n",
    "plt.title('Confusion Matrix')"
   ]
  },
  {
   "cell_type": "code",
   "execution_count": 35,
   "id": "5fcb2f50-8dea-4dab-a6b9-414a3800c79c",
   "metadata": {},
   "outputs": [
    {
     "name": "stderr",
     "output_type": "stream",
     "text": [
      "WARNING:absl:You are saving your model as an HDF5 file via `model.save()` or `keras.saving.save_model(model)`. This file format is considered legacy. We recommend using instead the native Keras format, e.g. `model.save('my_model.keras')` or `keras.saving.save_model(model, 'my_model.keras')`. \n"
     ]
    }
   ],
   "source": [
    "model2.save(\"model2_.hdf5\")"
   ]
  },
  {
   "cell_type": "code",
   "execution_count": 41,
   "id": "c7fa7a5d-e146-49e8-a856-0ae44ec9cd2c",
   "metadata": {},
   "outputs": [
    {
     "name": "stderr",
     "output_type": "stream",
     "text": [
      "/home/vulcan/.local/lib/python3.10/site-packages/keras/src/layers/core/embedding.py:90: UserWarning: Argument `input_length` is deprecated. Just remove it.\n",
      "  warnings.warn(\n"
     ]
    },
    {
     "data": {
      "text/html": [
       "<pre style=\"white-space:pre;overflow-x:auto;line-height:normal;font-family:Menlo,'DejaVu Sans Mono',consolas,'Courier New',monospace\"><span style=\"font-weight: bold\">Model: \"functional_9\"</span>\n",
       "</pre>\n"
      ],
      "text/plain": [
       "\u001b[1mModel: \"functional_9\"\u001b[0m\n"
      ]
     },
     "metadata": {},
     "output_type": "display_data"
    },
    {
     "data": {
      "text/html": [
       "<pre style=\"white-space:pre;overflow-x:auto;line-height:normal;font-family:Menlo,'DejaVu Sans Mono',consolas,'Courier New',monospace\">┏━━━━━━━━━━━━━━━━━━━━━┳━━━━━━━━━━━━━━━━━━━┳━━━━━━━━━━━━┳━━━━━━━━━━━━━━━━━━━┓\n",
       "┃<span style=\"font-weight: bold\"> Layer (type)        </span>┃<span style=\"font-weight: bold\"> Output Shape      </span>┃<span style=\"font-weight: bold\">    Param # </span>┃<span style=\"font-weight: bold\"> Connected to      </span>┃\n",
       "┡━━━━━━━━━━━━━━━━━━━━━╇━━━━━━━━━━━━━━━━━━━╇━━━━━━━━━━━━╇━━━━━━━━━━━━━━━━━━━┩\n",
       "│ input_layer_5       │ (<span style=\"color: #00d7ff; text-decoration-color: #00d7ff\">None</span>, <span style=\"color: #00af00; text-decoration-color: #00af00\">60</span>)        │          <span style=\"color: #00af00; text-decoration-color: #00af00\">0</span> │ -                 │\n",
       "│ (<span style=\"color: #0087ff; text-decoration-color: #0087ff\">InputLayer</span>)        │                   │            │                   │\n",
       "├─────────────────────┼───────────────────┼────────────┼───────────────────┤\n",
       "│ embedding_4         │ (<span style=\"color: #00d7ff; text-decoration-color: #00d7ff\">None</span>, <span style=\"color: #00af00; text-decoration-color: #00af00\">60</span>, <span style=\"color: #00af00; text-decoration-color: #00af00\">128</span>)   │  <span style=\"color: #00af00; text-decoration-color: #00af00\">2,786,176</span> │ input_layer_5[<span style=\"color: #00af00; text-decoration-color: #00af00\">0</span>]… │\n",
       "│ (<span style=\"color: #0087ff; text-decoration-color: #0087ff\">Embedding</span>)         │                   │            │                   │\n",
       "├─────────────────────┼───────────────────┼────────────┼───────────────────┤\n",
       "│ conv1d_8 (<span style=\"color: #0087ff; text-decoration-color: #0087ff\">Conv1D</span>)   │ (<span style=\"color: #00d7ff; text-decoration-color: #00d7ff\">None</span>, <span style=\"color: #00af00; text-decoration-color: #00af00\">58</span>, <span style=\"color: #00af00; text-decoration-color: #00af00\">64</span>)    │     <span style=\"color: #00af00; text-decoration-color: #00af00\">24,640</span> │ embedding_4[<span style=\"color: #00af00; text-decoration-color: #00af00\">0</span>][<span style=\"color: #00af00; text-decoration-color: #00af00\">0</span>] │\n",
       "├─────────────────────┼───────────────────┼────────────┼───────────────────┤\n",
       "│ batch_normalizatio… │ (<span style=\"color: #00d7ff; text-decoration-color: #00d7ff\">None</span>, <span style=\"color: #00af00; text-decoration-color: #00af00\">58</span>, <span style=\"color: #00af00; text-decoration-color: #00af00\">64</span>)    │        <span style=\"color: #00af00; text-decoration-color: #00af00\">256</span> │ conv1d_8[<span style=\"color: #00af00; text-decoration-color: #00af00\">0</span>][<span style=\"color: #00af00; text-decoration-color: #00af00\">0</span>]    │\n",
       "│ (<span style=\"color: #0087ff; text-decoration-color: #0087ff\">BatchNormalizatio…</span> │                   │            │                   │\n",
       "├─────────────────────┼───────────────────┼────────────┼───────────────────┤\n",
       "│ dropout_12          │ (<span style=\"color: #00d7ff; text-decoration-color: #00d7ff\">None</span>, <span style=\"color: #00af00; text-decoration-color: #00af00\">58</span>, <span style=\"color: #00af00; text-decoration-color: #00af00\">64</span>)    │          <span style=\"color: #00af00; text-decoration-color: #00af00\">0</span> │ batch_normalizat… │\n",
       "│ (<span style=\"color: #0087ff; text-decoration-color: #0087ff\">Dropout</span>)           │                   │            │                   │\n",
       "├─────────────────────┼───────────────────┼────────────┼───────────────────┤\n",
       "│ max_pooling1d_8     │ (<span style=\"color: #00d7ff; text-decoration-color: #00d7ff\">None</span>, <span style=\"color: #00af00; text-decoration-color: #00af00\">19</span>, <span style=\"color: #00af00; text-decoration-color: #00af00\">64</span>)    │          <span style=\"color: #00af00; text-decoration-color: #00af00\">0</span> │ dropout_12[<span style=\"color: #00af00; text-decoration-color: #00af00\">0</span>][<span style=\"color: #00af00; text-decoration-color: #00af00\">0</span>]  │\n",
       "│ (<span style=\"color: #0087ff; text-decoration-color: #0087ff\">MaxPooling1D</span>)      │                   │            │                   │\n",
       "├─────────────────────┼───────────────────┼────────────┼───────────────────┤\n",
       "│ conv1d_9 (<span style=\"color: #0087ff; text-decoration-color: #0087ff\">Conv1D</span>)   │ (<span style=\"color: #00d7ff; text-decoration-color: #00d7ff\">None</span>, <span style=\"color: #00af00; text-decoration-color: #00af00\">17</span>, <span style=\"color: #00af00; text-decoration-color: #00af00\">64</span>)    │     <span style=\"color: #00af00; text-decoration-color: #00af00\">12,352</span> │ max_pooling1d_8[<span style=\"color: #00af00; text-decoration-color: #00af00\">…</span> │\n",
       "├─────────────────────┼───────────────────┼────────────┼───────────────────┤\n",
       "│ batch_normalizatio… │ (<span style=\"color: #00d7ff; text-decoration-color: #00d7ff\">None</span>, <span style=\"color: #00af00; text-decoration-color: #00af00\">17</span>, <span style=\"color: #00af00; text-decoration-color: #00af00\">64</span>)    │        <span style=\"color: #00af00; text-decoration-color: #00af00\">256</span> │ conv1d_9[<span style=\"color: #00af00; text-decoration-color: #00af00\">0</span>][<span style=\"color: #00af00; text-decoration-color: #00af00\">0</span>]    │\n",
       "│ (<span style=\"color: #0087ff; text-decoration-color: #0087ff\">BatchNormalizatio…</span> │                   │            │                   │\n",
       "├─────────────────────┼───────────────────┼────────────┼───────────────────┤\n",
       "│ dropout_13          │ (<span style=\"color: #00d7ff; text-decoration-color: #00d7ff\">None</span>, <span style=\"color: #00af00; text-decoration-color: #00af00\">17</span>, <span style=\"color: #00af00; text-decoration-color: #00af00\">64</span>)    │          <span style=\"color: #00af00; text-decoration-color: #00af00\">0</span> │ batch_normalizat… │\n",
       "│ (<span style=\"color: #0087ff; text-decoration-color: #0087ff\">Dropout</span>)           │                   │            │                   │\n",
       "├─────────────────────┼───────────────────┼────────────┼───────────────────┤\n",
       "│ max_pooling1d_9     │ (<span style=\"color: #00d7ff; text-decoration-color: #00d7ff\">None</span>, <span style=\"color: #00af00; text-decoration-color: #00af00\">5</span>, <span style=\"color: #00af00; text-decoration-color: #00af00\">64</span>)     │          <span style=\"color: #00af00; text-decoration-color: #00af00\">0</span> │ dropout_13[<span style=\"color: #00af00; text-decoration-color: #00af00\">0</span>][<span style=\"color: #00af00; text-decoration-color: #00af00\">0</span>]  │\n",
       "│ (<span style=\"color: #0087ff; text-decoration-color: #0087ff\">MaxPooling1D</span>)      │                   │            │                   │\n",
       "├─────────────────────┼───────────────────┼────────────┼───────────────────┤\n",
       "│ bidirectional_8     │ (<span style=\"color: #00d7ff; text-decoration-color: #00d7ff\">None</span>, <span style=\"color: #00af00; text-decoration-color: #00af00\">5</span>, <span style=\"color: #00af00; text-decoration-color: #00af00\">200</span>)    │    <span style=\"color: #00af00; text-decoration-color: #00af00\">132,000</span> │ max_pooling1d_9[<span style=\"color: #00af00; text-decoration-color: #00af00\">…</span> │\n",
       "│ (<span style=\"color: #0087ff; text-decoration-color: #0087ff\">Bidirectional</span>)     │                   │            │                   │\n",
       "├─────────────────────┼───────────────────┼────────────┼───────────────────┤\n",
       "│ bidirectional_9     │ (<span style=\"color: #00d7ff; text-decoration-color: #00d7ff\">None</span>, <span style=\"color: #00af00; text-decoration-color: #00af00\">5</span>, <span style=\"color: #00af00; text-decoration-color: #00af00\">200</span>)    │    <span style=\"color: #00af00; text-decoration-color: #00af00\">240,800</span> │ bidirectional_8[<span style=\"color: #00af00; text-decoration-color: #00af00\">…</span> │\n",
       "│ (<span style=\"color: #0087ff; text-decoration-color: #0087ff\">Bidirectional</span>)     │                   │            │                   │\n",
       "├─────────────────────┼───────────────────┼────────────┼───────────────────┤\n",
       "│ attention_2         │ (<span style=\"color: #00d7ff; text-decoration-color: #00d7ff\">None</span>, <span style=\"color: #00af00; text-decoration-color: #00af00\">5</span>, <span style=\"color: #00af00; text-decoration-color: #00af00\">200</span>)    │          <span style=\"color: #00af00; text-decoration-color: #00af00\">0</span> │ bidirectional_9[<span style=\"color: #00af00; text-decoration-color: #00af00\">…</span> │\n",
       "│ (<span style=\"color: #0087ff; text-decoration-color: #0087ff\">Attention</span>)         │                   │            │ bidirectional_9[<span style=\"color: #00af00; text-decoration-color: #00af00\">…</span> │\n",
       "│                     │                   │            │ bidirectional_9[<span style=\"color: #00af00; text-decoration-color: #00af00\">…</span> │\n",
       "├─────────────────────┼───────────────────┼────────────┼───────────────────┤\n",
       "│ dropout_14          │ (<span style=\"color: #00d7ff; text-decoration-color: #00d7ff\">None</span>, <span style=\"color: #00af00; text-decoration-color: #00af00\">5</span>, <span style=\"color: #00af00; text-decoration-color: #00af00\">200</span>)    │          <span style=\"color: #00af00; text-decoration-color: #00af00\">0</span> │ attention_2[<span style=\"color: #00af00; text-decoration-color: #00af00\">0</span>][<span style=\"color: #00af00; text-decoration-color: #00af00\">0</span>] │\n",
       "│ (<span style=\"color: #0087ff; text-decoration-color: #0087ff\">Dropout</span>)           │                   │            │                   │\n",
       "├─────────────────────┼───────────────────┼────────────┼───────────────────┤\n",
       "│ flatten_2 (<span style=\"color: #0087ff; text-decoration-color: #0087ff\">Flatten</span>) │ (<span style=\"color: #00d7ff; text-decoration-color: #00d7ff\">None</span>, <span style=\"color: #00af00; text-decoration-color: #00af00\">1000</span>)      │          <span style=\"color: #00af00; text-decoration-color: #00af00\">0</span> │ dropout_14[<span style=\"color: #00af00; text-decoration-color: #00af00\">0</span>][<span style=\"color: #00af00; text-decoration-color: #00af00\">0</span>]  │\n",
       "├─────────────────────┼───────────────────┼────────────┼───────────────────┤\n",
       "│ dense_4 (<span style=\"color: #0087ff; text-decoration-color: #0087ff\">Dense</span>)     │ (<span style=\"color: #00d7ff; text-decoration-color: #00d7ff\">None</span>, <span style=\"color: #00af00; text-decoration-color: #00af00\">3</span>)         │      <span style=\"color: #00af00; text-decoration-color: #00af00\">3,003</span> │ flatten_2[<span style=\"color: #00af00; text-decoration-color: #00af00\">0</span>][<span style=\"color: #00af00; text-decoration-color: #00af00\">0</span>]   │\n",
       "└─────────────────────┴───────────────────┴────────────┴───────────────────┘\n",
       "</pre>\n"
      ],
      "text/plain": [
       "┏━━━━━━━━━━━━━━━━━━━━━┳━━━━━━━━━━━━━━━━━━━┳━━━━━━━━━━━━┳━━━━━━━━━━━━━━━━━━━┓\n",
       "┃\u001b[1m \u001b[0m\u001b[1mLayer (type)       \u001b[0m\u001b[1m \u001b[0m┃\u001b[1m \u001b[0m\u001b[1mOutput Shape     \u001b[0m\u001b[1m \u001b[0m┃\u001b[1m \u001b[0m\u001b[1m   Param #\u001b[0m\u001b[1m \u001b[0m┃\u001b[1m \u001b[0m\u001b[1mConnected to     \u001b[0m\u001b[1m \u001b[0m┃\n",
       "┡━━━━━━━━━━━━━━━━━━━━━╇━━━━━━━━━━━━━━━━━━━╇━━━━━━━━━━━━╇━━━━━━━━━━━━━━━━━━━┩\n",
       "│ input_layer_5       │ (\u001b[38;5;45mNone\u001b[0m, \u001b[38;5;34m60\u001b[0m)        │          \u001b[38;5;34m0\u001b[0m │ -                 │\n",
       "│ (\u001b[38;5;33mInputLayer\u001b[0m)        │                   │            │                   │\n",
       "├─────────────────────┼───────────────────┼────────────┼───────────────────┤\n",
       "│ embedding_4         │ (\u001b[38;5;45mNone\u001b[0m, \u001b[38;5;34m60\u001b[0m, \u001b[38;5;34m128\u001b[0m)   │  \u001b[38;5;34m2,786,176\u001b[0m │ input_layer_5[\u001b[38;5;34m0\u001b[0m]… │\n",
       "│ (\u001b[38;5;33mEmbedding\u001b[0m)         │                   │            │                   │\n",
       "├─────────────────────┼───────────────────┼────────────┼───────────────────┤\n",
       "│ conv1d_8 (\u001b[38;5;33mConv1D\u001b[0m)   │ (\u001b[38;5;45mNone\u001b[0m, \u001b[38;5;34m58\u001b[0m, \u001b[38;5;34m64\u001b[0m)    │     \u001b[38;5;34m24,640\u001b[0m │ embedding_4[\u001b[38;5;34m0\u001b[0m][\u001b[38;5;34m0\u001b[0m] │\n",
       "├─────────────────────┼───────────────────┼────────────┼───────────────────┤\n",
       "│ batch_normalizatio… │ (\u001b[38;5;45mNone\u001b[0m, \u001b[38;5;34m58\u001b[0m, \u001b[38;5;34m64\u001b[0m)    │        \u001b[38;5;34m256\u001b[0m │ conv1d_8[\u001b[38;5;34m0\u001b[0m][\u001b[38;5;34m0\u001b[0m]    │\n",
       "│ (\u001b[38;5;33mBatchNormalizatio…\u001b[0m │                   │            │                   │\n",
       "├─────────────────────┼───────────────────┼────────────┼───────────────────┤\n",
       "│ dropout_12          │ (\u001b[38;5;45mNone\u001b[0m, \u001b[38;5;34m58\u001b[0m, \u001b[38;5;34m64\u001b[0m)    │          \u001b[38;5;34m0\u001b[0m │ batch_normalizat… │\n",
       "│ (\u001b[38;5;33mDropout\u001b[0m)           │                   │            │                   │\n",
       "├─────────────────────┼───────────────────┼────────────┼───────────────────┤\n",
       "│ max_pooling1d_8     │ (\u001b[38;5;45mNone\u001b[0m, \u001b[38;5;34m19\u001b[0m, \u001b[38;5;34m64\u001b[0m)    │          \u001b[38;5;34m0\u001b[0m │ dropout_12[\u001b[38;5;34m0\u001b[0m][\u001b[38;5;34m0\u001b[0m]  │\n",
       "│ (\u001b[38;5;33mMaxPooling1D\u001b[0m)      │                   │            │                   │\n",
       "├─────────────────────┼───────────────────┼────────────┼───────────────────┤\n",
       "│ conv1d_9 (\u001b[38;5;33mConv1D\u001b[0m)   │ (\u001b[38;5;45mNone\u001b[0m, \u001b[38;5;34m17\u001b[0m, \u001b[38;5;34m64\u001b[0m)    │     \u001b[38;5;34m12,352\u001b[0m │ max_pooling1d_8[\u001b[38;5;34m…\u001b[0m │\n",
       "├─────────────────────┼───────────────────┼────────────┼───────────────────┤\n",
       "│ batch_normalizatio… │ (\u001b[38;5;45mNone\u001b[0m, \u001b[38;5;34m17\u001b[0m, \u001b[38;5;34m64\u001b[0m)    │        \u001b[38;5;34m256\u001b[0m │ conv1d_9[\u001b[38;5;34m0\u001b[0m][\u001b[38;5;34m0\u001b[0m]    │\n",
       "│ (\u001b[38;5;33mBatchNormalizatio…\u001b[0m │                   │            │                   │\n",
       "├─────────────────────┼───────────────────┼────────────┼───────────────────┤\n",
       "│ dropout_13          │ (\u001b[38;5;45mNone\u001b[0m, \u001b[38;5;34m17\u001b[0m, \u001b[38;5;34m64\u001b[0m)    │          \u001b[38;5;34m0\u001b[0m │ batch_normalizat… │\n",
       "│ (\u001b[38;5;33mDropout\u001b[0m)           │                   │            │                   │\n",
       "├─────────────────────┼───────────────────┼────────────┼───────────────────┤\n",
       "│ max_pooling1d_9     │ (\u001b[38;5;45mNone\u001b[0m, \u001b[38;5;34m5\u001b[0m, \u001b[38;5;34m64\u001b[0m)     │          \u001b[38;5;34m0\u001b[0m │ dropout_13[\u001b[38;5;34m0\u001b[0m][\u001b[38;5;34m0\u001b[0m]  │\n",
       "│ (\u001b[38;5;33mMaxPooling1D\u001b[0m)      │                   │            │                   │\n",
       "├─────────────────────┼───────────────────┼────────────┼───────────────────┤\n",
       "│ bidirectional_8     │ (\u001b[38;5;45mNone\u001b[0m, \u001b[38;5;34m5\u001b[0m, \u001b[38;5;34m200\u001b[0m)    │    \u001b[38;5;34m132,000\u001b[0m │ max_pooling1d_9[\u001b[38;5;34m…\u001b[0m │\n",
       "│ (\u001b[38;5;33mBidirectional\u001b[0m)     │                   │            │                   │\n",
       "├─────────────────────┼───────────────────┼────────────┼───────────────────┤\n",
       "│ bidirectional_9     │ (\u001b[38;5;45mNone\u001b[0m, \u001b[38;5;34m5\u001b[0m, \u001b[38;5;34m200\u001b[0m)    │    \u001b[38;5;34m240,800\u001b[0m │ bidirectional_8[\u001b[38;5;34m…\u001b[0m │\n",
       "│ (\u001b[38;5;33mBidirectional\u001b[0m)     │                   │            │                   │\n",
       "├─────────────────────┼───────────────────┼────────────┼───────────────────┤\n",
       "│ attention_2         │ (\u001b[38;5;45mNone\u001b[0m, \u001b[38;5;34m5\u001b[0m, \u001b[38;5;34m200\u001b[0m)    │          \u001b[38;5;34m0\u001b[0m │ bidirectional_9[\u001b[38;5;34m…\u001b[0m │\n",
       "│ (\u001b[38;5;33mAttention\u001b[0m)         │                   │            │ bidirectional_9[\u001b[38;5;34m…\u001b[0m │\n",
       "│                     │                   │            │ bidirectional_9[\u001b[38;5;34m…\u001b[0m │\n",
       "├─────────────────────┼───────────────────┼────────────┼───────────────────┤\n",
       "│ dropout_14          │ (\u001b[38;5;45mNone\u001b[0m, \u001b[38;5;34m5\u001b[0m, \u001b[38;5;34m200\u001b[0m)    │          \u001b[38;5;34m0\u001b[0m │ attention_2[\u001b[38;5;34m0\u001b[0m][\u001b[38;5;34m0\u001b[0m] │\n",
       "│ (\u001b[38;5;33mDropout\u001b[0m)           │                   │            │                   │\n",
       "├─────────────────────┼───────────────────┼────────────┼───────────────────┤\n",
       "│ flatten_2 (\u001b[38;5;33mFlatten\u001b[0m) │ (\u001b[38;5;45mNone\u001b[0m, \u001b[38;5;34m1000\u001b[0m)      │          \u001b[38;5;34m0\u001b[0m │ dropout_14[\u001b[38;5;34m0\u001b[0m][\u001b[38;5;34m0\u001b[0m]  │\n",
       "├─────────────────────┼───────────────────┼────────────┼───────────────────┤\n",
       "│ dense_4 (\u001b[38;5;33mDense\u001b[0m)     │ (\u001b[38;5;45mNone\u001b[0m, \u001b[38;5;34m3\u001b[0m)         │      \u001b[38;5;34m3,003\u001b[0m │ flatten_2[\u001b[38;5;34m0\u001b[0m][\u001b[38;5;34m0\u001b[0m]   │\n",
       "└─────────────────────┴───────────────────┴────────────┴───────────────────┘\n"
      ]
     },
     "metadata": {},
     "output_type": "display_data"
    },
    {
     "data": {
      "text/html": [
       "<pre style=\"white-space:pre;overflow-x:auto;line-height:normal;font-family:Menlo,'DejaVu Sans Mono',consolas,'Courier New',monospace\"><span style=\"font-weight: bold\"> Total params: </span><span style=\"color: #00af00; text-decoration-color: #00af00\">3,199,483</span> (12.21 MB)\n",
       "</pre>\n"
      ],
      "text/plain": [
       "\u001b[1m Total params: \u001b[0m\u001b[38;5;34m3,199,483\u001b[0m (12.21 MB)\n"
      ]
     },
     "metadata": {},
     "output_type": "display_data"
    },
    {
     "data": {
      "text/html": [
       "<pre style=\"white-space:pre;overflow-x:auto;line-height:normal;font-family:Menlo,'DejaVu Sans Mono',consolas,'Courier New',monospace\"><span style=\"font-weight: bold\"> Trainable params: </span><span style=\"color: #00af00; text-decoration-color: #00af00\">3,199,227</span> (12.20 MB)\n",
       "</pre>\n"
      ],
      "text/plain": [
       "\u001b[1m Trainable params: \u001b[0m\u001b[38;5;34m3,199,227\u001b[0m (12.20 MB)\n"
      ]
     },
     "metadata": {},
     "output_type": "display_data"
    },
    {
     "data": {
      "text/html": [
       "<pre style=\"white-space:pre;overflow-x:auto;line-height:normal;font-family:Menlo,'DejaVu Sans Mono',consolas,'Courier New',monospace\"><span style=\"font-weight: bold\"> Non-trainable params: </span><span style=\"color: #00af00; text-decoration-color: #00af00\">256</span> (1.00 KB)\n",
       "</pre>\n"
      ],
      "text/plain": [
       "\u001b[1m Non-trainable params: \u001b[0m\u001b[38;5;34m256\u001b[0m (1.00 KB)\n"
      ]
     },
     "metadata": {},
     "output_type": "display_data"
    }
   ],
   "source": [
    "# Define the Functional API model\n",
    "\n",
    "# Input layer\n",
    "inputs = Input(shape=(input_length,))\n",
    "\n",
    "# Embedding layer\n",
    "embedding = Embedding(vocab_size, Embedding_dimensions, input_length=input_length)(inputs)\n",
    "\n",
    "# CNN layer to extract local features\n",
    "conv1d = Conv1D(filters=64, kernel_size=3, activation='relu',padding=\"valid\")(embedding)\n",
    "batch = BatchNormalization()(conv1d)\n",
    "drop = Dropout(0.2)(batch)\n",
    "maxpool = MaxPooling1D(pool_size=3)(drop)\n",
    "\n",
    "conv1d_ = Conv1D(filters=64, kernel_size=3, activation='relu',padding=\"valid\")(maxpool)\n",
    "batch_normalization_ = BatchNormalization()(conv1d_)\n",
    "out = Dropout(0.2)(batch_normalization_)\n",
    "maxpool_ = MaxPooling1D(pool_size=3)(out)\n",
    "\n",
    "# Bi-LSTM layers with dropout\n",
    "bi_lstm_1 = Bidirectional(LSTM(100,return_sequences=True,kernel_regularizer=l2(0.001),recurrent_regularizer=l2(0.001),\n",
    "                                      bias_regularizer=l2(0.001),dropout=(0.2),recurrent_dropout=(0.2)))(maxpool_)\n",
    "\n",
    "bi_lstm_2 = Bidirectional(LSTM(100,return_sequences=True,kernel_regularizer=l2(0.001),recurrent_regularizer=l2(0.001),\n",
    "                                      bias_regularizer=l2(0.001),dropout=(0.2),recurrent_dropout=(0.2)))(bi_lstm_1)\n",
    "\n",
    "# Attention mechanism\n",
    "attention_output = Attention()([bi_lstm_2, bi_lstm_2, bi_lstm_2])\n",
    "\n",
    "# Dropout after attention layer\n",
    "dropout_attention = Dropout(0.2)(attention_output)\n",
    "\n",
    "# Global Average Pooling\n",
    "pooled_output = Flatten()(dropout_attention)\n",
    "\n",
    "# Dense output layer for classification\n",
    "dense_output = Dense(3, activation='sigmoid')(pooled_output)\n",
    "\n",
    "# Build the model\n",
    "model3 = Model(inputs=inputs, outputs=dense_output)\n",
    "model3.compile(optimizer='adam', loss='sparse_categorical_crossentropy', metrics=['accuracy'])\n",
    "\n",
    "# Model summary\n",
    "model3.summary()\n"
   ]
  },
  {
   "cell_type": "code",
   "execution_count": 42,
   "id": "15c20967-d14d-4374-a66f-1b5559f8f175",
   "metadata": {},
   "outputs": [
    {
     "name": "stdout",
     "output_type": "stream",
     "text": [
      "Epoch 1/15\n",
      "\u001b[1m617/617\u001b[0m \u001b[32m━━━━━━━━━━━━━━━━━━━━\u001b[0m\u001b[37m\u001b[0m \u001b[1m13s\u001b[0m 15ms/step - accuracy: 0.5357 - loss: 1.5962 - val_accuracy: 0.6588 - val_loss: 0.9225\n",
      "Epoch 2/15\n",
      "\u001b[1m617/617\u001b[0m \u001b[32m━━━━━━━━━━━━━━━━━━━━\u001b[0m\u001b[37m\u001b[0m \u001b[1m9s\u001b[0m 14ms/step - accuracy: 0.7823 - loss: 0.6715 - val_accuracy: 0.6469 - val_loss: 0.8356\n",
      "Epoch 3/15\n",
      "\u001b[1m617/617\u001b[0m \u001b[32m━━━━━━━━━━━━━━━━━━━━\u001b[0m\u001b[37m\u001b[0m \u001b[1m9s\u001b[0m 14ms/step - accuracy: 0.8716 - loss: 0.4044 - val_accuracy: 0.6708 - val_loss: 0.8788\n",
      "Epoch 4/15\n",
      "\u001b[1m617/617\u001b[0m \u001b[32m━━━━━━━━━━━━━━━━━━━━\u001b[0m\u001b[37m\u001b[0m \u001b[1m9s\u001b[0m 14ms/step - accuracy: 0.9149 - loss: 0.2770 - val_accuracy: 0.6710 - val_loss: 0.9262\n",
      "Epoch 5/15\n",
      "\u001b[1m617/617\u001b[0m \u001b[32m━━━━━━━━━━━━━━━━━━━━\u001b[0m\u001b[37m\u001b[0m \u001b[1m9s\u001b[0m 14ms/step - accuracy: 0.9333 - loss: 0.2209 - val_accuracy: 0.6679 - val_loss: 1.0818\n",
      "Epoch 6/15\n",
      "\u001b[1m617/617\u001b[0m \u001b[32m━━━━━━━━━━━━━━━━━━━━\u001b[0m\u001b[37m\u001b[0m \u001b[1m10s\u001b[0m 16ms/step - accuracy: 0.9439 - loss: 0.1883 - val_accuracy: 0.6706 - val_loss: 1.2036\n",
      "Epoch 7/15\n",
      "\u001b[1m617/617\u001b[0m \u001b[32m━━━━━━━━━━━━━━━━━━━━\u001b[0m\u001b[37m\u001b[0m \u001b[1m9s\u001b[0m 15ms/step - accuracy: 0.9584 - loss: 0.1441 - val_accuracy: 0.6396 - val_loss: 1.4587\n",
      "Epoch 8/15\n",
      "\u001b[1m617/617\u001b[0m \u001b[32m━━━━━━━━━━━━━━━━━━━━\u001b[0m\u001b[37m\u001b[0m \u001b[1m9s\u001b[0m 15ms/step - accuracy: 0.9593 - loss: 0.1386 - val_accuracy: 0.6714 - val_loss: 1.1814\n",
      "Epoch 9/15\n",
      "\u001b[1m617/617\u001b[0m \u001b[32m━━━━━━━━━━━━━━━━━━━━\u001b[0m\u001b[37m\u001b[0m \u001b[1m9s\u001b[0m 14ms/step - accuracy: 0.9665 - loss: 0.1218 - val_accuracy: 0.6481 - val_loss: 1.3790\n",
      "Epoch 10/15\n",
      "\u001b[1m617/617\u001b[0m \u001b[32m━━━━━━━━━━━━━━━━━━━━\u001b[0m\u001b[37m\u001b[0m \u001b[1m9s\u001b[0m 15ms/step - accuracy: 0.9655 - loss: 0.1229 - val_accuracy: 0.6617 - val_loss: 1.4917\n",
      "Epoch 11/15\n",
      "\u001b[1m617/617\u001b[0m \u001b[32m━━━━━━━━━━━━━━━━━━━━\u001b[0m\u001b[37m\u001b[0m \u001b[1m9s\u001b[0m 15ms/step - accuracy: 0.9740 - loss: 0.0992 - val_accuracy: 0.6655 - val_loss: 1.3841\n",
      "Epoch 12/15\n",
      "\u001b[1m617/617\u001b[0m \u001b[32m━━━━━━━━━━━━━━━━━━━━\u001b[0m\u001b[37m\u001b[0m \u001b[1m9s\u001b[0m 14ms/step - accuracy: 0.9717 - loss: 0.1033 - val_accuracy: 0.6643 - val_loss: 1.2745\n",
      "Epoch 13/15\n",
      "\u001b[1m617/617\u001b[0m \u001b[32m━━━━━━━━━━━━━━━━━━━━\u001b[0m\u001b[37m\u001b[0m \u001b[1m9s\u001b[0m 15ms/step - accuracy: 0.9747 - loss: 0.0945 - val_accuracy: 0.6556 - val_loss: 1.5480\n",
      "Epoch 14/15\n",
      "\u001b[1m617/617\u001b[0m \u001b[32m━━━━━━━━━━━━━━━━━━━━\u001b[0m\u001b[37m\u001b[0m \u001b[1m9s\u001b[0m 15ms/step - accuracy: 0.9771 - loss: 0.0857 - val_accuracy: 0.6578 - val_loss: 1.5874\n",
      "Epoch 15/15\n",
      "\u001b[1m617/617\u001b[0m \u001b[32m━━━━━━━━━━━━━━━━━━━━\u001b[0m\u001b[37m\u001b[0m \u001b[1m9s\u001b[0m 15ms/step - accuracy: 0.9786 - loss: 0.0882 - val_accuracy: 0.6690 - val_loss: 1.4068\n"
     ]
    },
    {
     "data": {
      "text/plain": [
       "<keras.src.callbacks.history.History at 0x7e7de915bd60>"
      ]
     },
     "execution_count": 42,
     "metadata": {},
     "output_type": "execute_result"
    }
   ],
   "source": [
    "model3.fit(paded_sequences, y_train, epochs=15, batch_size=32,validation_split=0.2)\n"
   ]
  },
  {
   "cell_type": "code",
   "execution_count": 43,
   "id": "d9b19d22-34b4-4288-8492-67a238b76c87",
   "metadata": {},
   "outputs": [
    {
     "name": "stdout",
     "output_type": "stream",
     "text": [
      "\u001b[1m193/193\u001b[0m \u001b[32m━━━━━━━━━━━━━━━━━━━━\u001b[0m\u001b[37m\u001b[0m \u001b[1m1s\u001b[0m 4ms/step\n",
      "Predictions: [0, 2, 1, 2, 1, 2, 1, 2, 2, 1, 0, 2, 0, 1, 1, 2, 1, 0, 2, 2, 2, 2, 1, 2, 1, 2, 2, 2, 2, 2, 1, 0, 1, 1, 2, 2, 1, 1, 0, 1, 1, 0, 2, 1, 2, 1, 2, 0, 1, 0, 2, 2, 2, 2, 1, 1, 1, 1, 1, 2, 1, 2, 1, 2, 2, 1, 2, 2, 0, 2, 1, 1, 1, 0, 2, 1, 1, 2, 1, 1, 1, 0, 2, 2, 2, 2, 0, 1, 1, 1, 1, 1, 2, 2, 2, 2, 1, 2, 1, 2, 2, 2, 1, 2, 2, 1, 1, 2, 2, 2, 1, 0, 1, 2, 2, 2, 1, 1, 2, 1, 0, 1, 1, 1, 1, 1, 2, 2, 2, 2, 2, 1, 1, 1, 1, 2, 1, 1, 1, 2, 2, 2, 0, 1, 2, 1, 2, 1, 0, 2, 1, 2, 1, 1, 1, 0, 0, 1, 0, 2, 1, 2, 2, 1, 0, 0, 0, 0, 2, 2, 2, 2, 2, 1, 0, 2, 2, 1, 2, 2, 2, 2, 2, 2, 2, 2, 1, 2, 2, 2, 1, 1, 1, 2, 1, 1, 0, 0, 2, 2, 0, 0, 1, 1, 2, 2, 2, 0, 1, 0, 2, 2, 2, 2, 2, 1, 2, 0, 2, 2, 2, 2, 1, 2, 2, 0, 0, 1, 2, 1, 1, 1, 1, 1, 2, 2, 0, 2, 2, 2, 2, 1, 1, 2, 2, 2, 1, 2, 0, 2, 2, 1, 0, 2, 1, 0, 1, 1, 2, 2, 2, 2, 1, 1, 0, 0, 1, 2, 2, 2, 1, 2, 2, 2, 2, 0, 1, 0, 1, 2, 0, 0, 2, 1, 0, 0, 1, 1, 1, 1, 2, 2, 1, 2, 1, 2, 1, 2, 2, 0, 0, 2, 1, 0, 1, 2, 2, 1, 2, 1, 2, 2, 2, 1, 1, 1, 0, 1, 1, 0, 1, 2, 1, 1, 2, 2, 2, 0, 1, 2, 0, 1, 2, 2, 2, 2, 2, 2, 1, 2, 0, 2, 2, 2, 1, 2, 1, 2, 1, 1, 2, 2, 0, 1, 2, 1, 1, 1, 0, 2, 2, 1, 1, 2, 1, 2, 0, 1, 2, 2, 1, 2, 2, 0, 1, 1, 2, 2, 2, 2, 0, 1, 1, 1, 2, 2, 2, 2, 2, 1, 2, 1, 2, 1, 2, 1, 2, 2, 2, 1, 1, 1, 2, 1, 1, 1, 2, 1, 2, 0, 0, 2, 0, 0, 1, 2, 1, 2, 2, 1, 2, 1, 2, 1, 2, 2, 1, 1, 2, 2, 1, 2, 2, 0, 2, 1, 2, 1, 2, 0, 2, 0, 2, 1, 2, 2, 1, 2, 1, 0, 2, 2, 2, 2, 1, 0, 0, 2, 1, 0, 1, 2, 0, 1, 2, 1, 2, 2, 2, 1, 2, 1, 2, 0, 2, 1, 2, 1, 0, 2, 1, 0, 1, 2, 2, 2, 2, 2, 0, 2, 2, 2, 1, 0, 2, 1, 1, 1, 0, 2, 2, 2, 2, 2, 2, 2, 0, 2, 0, 2, 1, 2, 1, 0, 1, 0, 2, 1, 1, 2, 0, 2, 1, 1, 0, 2, 1, 2, 2, 1, 0, 1, 1, 1, 2, 1, 1, 2, 2, 2, 1, 2, 1, 1, 2, 1, 2, 2, 1, 0, 1, 0, 0, 1, 2, 2, 1, 2, 2, 1, 0, 1, 1, 2, 2, 1, 1, 1, 2, 2, 2, 1, 0, 2, 2, 2, 2, 2, 2, 1, 2, 2, 1, 2, 2, 1, 2, 1, 2, 0, 1, 1, 1, 0, 2, 1, 1, 1, 2, 2, 0, 1, 2, 1, 2, 0, 2, 2, 2, 1, 2, 2, 2, 1, 2, 0, 2, 1, 1, 1, 1, 1, 2, 2, 0, 2, 1, 1, 2, 1, 1, 1, 0, 2, 1, 2, 2, 1, 2, 0, 1, 2, 2, 0, 1, 1, 1, 1, 1, 2, 1, 2, 1, 2, 2, 0, 2, 2, 2, 0, 2, 2, 2, 1, 1, 0, 2, 1, 1, 2, 0, 1, 1, 0, 2, 2, 1, 2, 2, 2, 0, 2, 2, 1, 2, 2, 1, 0, 2, 1, 2, 1, 1, 0, 0, 0, 2, 1, 2, 1, 2, 2, 1, 0, 0, 1, 2, 2, 1, 2, 1, 1, 1, 0, 2, 2, 0, 2, 2, 0, 1, 1, 1, 1, 1, 2, 2, 2, 1, 2, 1, 1, 0, 2, 0, 2, 1, 2, 1, 2, 2, 1, 2, 2, 2, 2, 2, 2, 1, 2, 1, 1, 0, 2, 0, 2, 0, 0, 1, 1, 2, 1, 1, 2, 2, 2, 0, 1, 2, 1, 1, 2, 1, 2, 2, 2, 2, 2, 0, 1, 1, 2, 2, 1, 2, 2, 1, 2, 0, 2, 1, 1, 2, 2, 2, 2, 2, 1, 2, 0, 1, 2, 1, 1, 2, 0, 2, 1, 0, 0, 1, 2, 2, 1, 1, 1, 1, 0, 2, 0, 1, 1, 1, 1, 1, 2, 2, 2, 1, 2, 2, 1, 2, 0, 1, 2, 1, 2, 0, 2, 1, 2, 0, 2, 2, 2, 1, 1, 1, 2, 1, 2, 1, 1, 2, 1, 2, 1, 2, 1, 1, 1, 2, 1, 2, 1, 2, 1, 1, 2, 2, 2, 1, 1, 2, 0, 0, 1, 0, 2, 2, 2, 2, 0, 1, 1, 1, 1, 2, 1, 1, 2, 1, 2, 1, 2, 2, 1, 1, 2, 2, 1, 1, 0, 2, 1, 0, 2, 2, 1, 2, 2, 2, 1, 0, 0, 2, 2, 1, 0, 1, 1, 2, 2, 1, 1, 2, 1, 1, 2, 1, 1, 2, 0, 1, 0, 2, 2, 1, 2, 2, 2, 1, 1, 0, 2, 1, 0, 2, 1, 0, 1, 0, 1, 1, 2, 1, 2, 0, 2, 1, 2, 2, 2, 2, 1, 2, 2, 1, 2, 2, 2, 2, 0, 1, 0, 2, 2, 1, 1, 1, 1, 1, 2, 1, 0, 1, 2, 0, 2, 2, 1, 1, 1, 2, 1, 2, 1, 0, 2, 2, 2, 1, 1, 1, 1, 2, 2, 1, 0, 1, 2, 0, 1, 2, 2, 2, 1, 0, 2, 2, 2, 2, 2, 2, 1, 1, 2, 1, 0, 2, 2, 0, 2, 2, 2, 1, 1, 2, 2, 2, 1, 2, 1, 1, 1, 2, 1, 1, 0, 1, 1, 2, 0, 1, 1, 1, 2, 0, 2, 2, 2, 1, 1, 2, 2, 0, 2, 2, 0, 0, 1, 2, 2, 2, 1, 2, 1, 1, 2, 2, 1, 2, 1, 0, 2, 1, 1, 1, 2, 2, 2, 1, 2, 2, 0, 1, 2, 2, 2, 1, 2, 2, 1, 2, 2, 2, 2, 2, 1, 2, 0, 0, 2, 1, 1, 2, 2, 2, 1, 1, 1, 0, 1, 0, 2, 2, 1, 1, 0, 2, 0, 1, 2, 1, 2, 2, 1, 1, 2, 2, 2, 1, 2, 1, 2, 1, 0, 2, 2, 2, 2, 2, 1, 2, 2, 2, 2, 2, 2, 0, 2, 2, 0, 1, 1, 1, 0, 2, 0, 2, 0, 2, 2, 2, 2, 2, 1, 2, 1, 1, 2, 2, 1, 1, 2, 0, 1, 1, 0, 2, 2, 1, 2, 0, 2, 0, 2, 1, 2, 2, 1, 0, 2, 1, 2, 1, 1, 1, 2, 1, 2, 2, 2, 2, 2, 0, 2, 2, 0, 2, 2, 2, 2, 1, 0, 2, 2, 1, 2, 1, 1, 0, 2, 0, 0, 0, 0, 0, 2, 2, 2, 2, 1, 2, 2, 1, 1, 1, 1, 2, 2, 1, 2, 2, 0, 2, 2, 2, 2, 1, 1, 2, 1, 1, 1, 2, 1, 2, 2, 1, 1, 1, 2, 2, 2, 1, 1, 1, 1, 1, 1, 2, 1, 1, 1, 2, 0, 2, 1, 1, 1, 2, 1, 0, 1, 2, 2, 2, 1, 0, 1, 1, 1, 2, 2, 2, 1, 1, 1, 2, 1, 1, 2, 0, 2, 0, 1, 2, 2, 2, 1, 2, 0, 2, 1, 2, 1, 1, 1, 1, 2, 2, 1, 2, 1, 2, 1, 1, 1, 1, 2, 2, 0, 0, 2, 2, 2, 2, 2, 1, 1, 2, 0, 2, 1, 1, 2, 1, 1, 2, 1, 2, 1, 2, 2, 1, 1, 2, 1, 2, 0, 2, 2, 0, 2, 1, 2, 2, 2, 2, 1, 1, 2, 1, 1, 2, 1, 1, 1, 1, 0, 1, 0, 1, 2, 1, 2, 1, 1, 2, 0, 2, 2, 1, 2, 1, 1, 1, 1, 2, 1, 1, 1, 2, 2, 1, 2, 1, 2, 2, 2, 0, 2, 1, 0, 1, 1, 1, 2, 0, 2, 2, 2, 0, 2, 2, 2, 2, 1, 0, 1, 2, 2, 2, 0, 0, 2, 1, 1, 2, 0, 2, 1, 2, 1, 2, 2, 2, 2, 1, 1, 2, 2, 2, 0, 1, 1, 2, 1, 2, 2, 1, 1, 2, 1, 2, 2, 0, 2, 2, 1, 1, 2, 2, 0, 2, 1, 2, 0, 2, 1, 2, 2, 0, 2, 1, 2, 1, 2, 1, 1, 0, 2, 1, 1, 2, 2, 2, 1, 2, 2, 1, 2, 1, 1, 1, 0, 2, 2, 1, 2, 1, 2, 1, 1, 2, 1, 2, 1, 2, 1, 1, 0, 2, 2, 2, 2, 0, 2, 2, 1, 2, 0, 1, 1, 2, 2, 2, 2, 1, 0, 1, 0, 2, 1, 2, 1, 2, 1, 2, 2, 1, 1, 1, 1, 2, 1, 1, 0, 2, 2, 0, 2, 2, 1, 1, 1, 1, 2, 0, 2, 1, 1, 2, 0, 1, 2, 0, 2, 1, 0, 1, 1, 1, 1, 2, 1, 0, 2, 2, 2, 0, 1, 2, 1, 2, 2, 1, 0, 2, 0, 2, 2, 1, 0, 1, 0, 1, 0, 2, 2, 1, 2, 1, 1, 2, 1, 1, 1, 2, 1, 0, 2, 2, 1, 2, 2, 2, 1, 1, 2, 2, 2, 1, 1, 0, 0, 2, 2, 2, 2, 0, 1, 2, 2, 2, 0, 1, 1, 2, 1, 0, 1, 2, 1, 2, 2, 1, 1, 2, 2, 1, 0, 1, 1, 2, 1, 1, 2, 1, 2, 1, 1, 2, 2, 2, 2, 0, 2, 2, 1, 1, 1, 0, 2, 1, 2, 2, 2, 2, 2, 2, 2, 2, 2, 1, 1, 1, 2, 2, 2, 2, 0, 1, 1, 2, 0, 2, 1, 2, 2, 1, 1, 2, 2, 1, 2, 1, 2, 1, 2, 2, 2, 1, 2, 1, 2, 1, 2, 0, 2, 2, 0, 1, 2, 2, 2, 0, 1, 1, 1, 1, 1, 2, 1, 1, 0, 2, 1, 1, 1, 0, 2, 2, 1, 2, 0, 1, 1, 1, 1, 0, 2, 2, 1, 2, 1, 2, 2, 0, 1, 2, 2, 2, 2, 2, 1, 2, 2, 2, 1, 1, 2, 1, 0, 2, 1, 2, 2, 0, 2, 1, 2, 2, 0, 2, 2, 1, 2, 0, 2, 2, 1, 1, 1, 2, 1, 2, 0, 2, 2, 2, 2, 1, 1, 2, 0, 0, 2, 2, 0, 0, 2, 2, 2, 0, 2, 2, 1, 2, 0, 2, 0, 2, 2, 2, 2, 2, 2, 2, 2, 0, 2, 1, 2, 1, 1, 2, 1, 2, 1, 2, 0, 1, 1, 0, 0, 2, 1, 2, 1, 1, 2, 0, 1, 2, 2, 0, 1, 1, 2, 2, 1, 2, 2, 0, 1, 1, 2, 1, 1, 2, 0, 2, 2, 1, 1, 2, 2, 1, 1, 2, 2, 1, 1, 2, 2, 2, 2, 1, 2, 2, 2, 1, 1, 2, 2, 1, 0, 1, 0, 2, 2, 2, 2, 2, 2, 0, 1, 1, 2, 2, 2, 2, 2, 2, 1, 2, 1, 1, 2, 1, 2, 2, 1, 2, 1, 2, 2, 2, 2, 0, 1, 1, 1, 1, 2, 1, 2, 2, 2, 1, 2, 2, 2, 2, 2, 2, 2, 1, 1, 1, 2, 2, 0, 2, 0, 2, 1, 2, 1, 1, 2, 2, 2, 2, 1, 2, 2, 1, 1, 0, 1, 2, 1, 1, 1, 1, 1, 2, 2, 1, 2, 1, 2, 0, 2, 0, 1, 2, 1, 2, 2, 1, 1, 2, 1, 2, 2, 0, 2, 1, 0, 1, 1, 1, 2, 2, 0, 2, 0, 2, 2, 2, 2, 2, 2, 2, 1, 2, 1, 2, 2, 1, 1, 2, 2, 2, 0, 2, 1, 0, 2, 1, 1, 2, 2, 1, 0, 0, 1, 0, 2, 2, 2, 0, 1, 1, 0, 2, 2, 1, 2, 2, 0, 1, 1, 0, 1, 1, 2, 2, 1, 2, 1, 1, 0, 2, 0, 2, 0, 2, 2, 0, 1, 1, 1, 2, 2, 2, 0, 2, 1, 1, 2, 2, 1, 0, 2, 0, 2, 1, 2, 1, 2, 2, 1, 2, 2, 1, 2, 2, 2, 2, 2, 2, 1, 2, 2, 2, 2, 2, 2, 2, 1, 2, 2, 2, 2, 2, 2, 2, 1, 1, 2, 1, 2, 2, 1, 2, 2, 1, 0, 2, 2, 2, 2, 2, 1, 1, 2, 2, 2, 0, 1, 2, 2, 1, 0, 2, 0, 0, 0, 1, 1, 1, 0, 2, 1, 2, 1, 2, 2, 1, 2, 0, 1, 2, 1, 0, 2, 0, 2, 1, 1, 2, 2, 1, 0, 2, 2, 1, 0, 1, 1, 1, 0, 2, 1, 1, 1, 2, 2, 1, 1, 2, 2, 2, 2, 0, 2, 2, 0, 2, 2, 0, 2, 2, 2, 2, 0, 1, 2, 2, 1, 1, 2, 1, 1, 1, 2, 1, 2, 1, 2, 2, 1, 0, 2, 2, 2, 0, 2, 0, 0, 2, 2, 1, 2, 2, 2, 2, 1, 1, 2, 2, 2, 0, 1, 0, 1, 2, 0, 2, 2, 0, 0, 2, 1, 0, 2, 0, 1, 1, 0, 2, 1, 0, 1, 1, 2, 1, 1, 2, 2, 0, 2, 2, 2, 1, 0, 2, 1, 1, 2, 1, 1, 2, 2, 2, 0, 0, 1, 1, 2, 2, 0, 1, 1, 1, 1, 1, 1, 1, 1, 2, 2, 2, 2, 1, 0, 2, 1, 2, 2, 0, 1, 1, 2, 1, 1, 1, 1, 0, 2, 0, 0, 1, 2, 2, 1, 2, 2, 1, 1, 0, 1, 2, 2, 0, 2, 2, 2, 2, 2, 2, 2, 1, 1, 1, 2, 0, 2, 1, 1, 2, 1, 2, 2, 2, 2, 1, 2, 1, 2, 2, 2, 1, 2, 1, 2, 2, 2, 0, 0, 2, 2, 0, 2, 2, 2, 2, 2, 0, 1, 2, 1, 2, 1, 1, 2, 1, 2, 1, 1, 2, 1, 0, 1, 2, 2, 1, 2, 1, 1, 2, 2, 1, 2, 1, 1, 1, 1, 2, 1, 1, 0, 1, 1, 1, 1, 1, 2, 1, 1, 1, 2, 1, 1, 1, 1, 1, 1, 2, 2, 1, 2, 0, 1, 1, 1, 2, 2, 2, 2, 1, 1, 0, 1, 0, 0, 0, 2, 2, 2, 0, 1, 2, 2, 2, 2, 1, 0, 2, 2, 2, 2, 0, 0, 2, 2, 2, 2, 1, 2, 0, 2, 2, 1, 0, 0, 2, 2, 1, 1, 2, 2, 1, 0, 2, 2, 2, 1, 2, 2, 1, 2, 2, 1, 2, 2, 2, 2, 1, 1, 1, 0, 2, 1, 2, 0, 1, 2, 1, 2, 0, 0, 2, 2, 2, 2, 1, 2, 1, 2, 0, 2, 2, 1, 2, 1, 0, 0, 1, 1, 2, 2, 2, 2, 0, 2, 2, 1, 2, 0, 0, 2, 1, 2, 1, 1, 2, 2, 2, 2, 2, 2, 2, 2, 1, 0, 2, 2, 1, 2, 0, 2, 2, 1, 2, 1, 2, 2, 2, 0, 2, 1, 2, 2, 0, 2, 2, 2, 1, 2, 0, 0, 1, 1, 1, 1, 2, 2, 2, 2, 0, 2, 0, 2, 1, 1, 1, 2, 1, 2, 2, 1, 1, 0, 2, 2, 1, 2, 2, 0, 2, 2, 1, 1, 2, 0, 2, 2, 1, 2, 2, 0, 0, 2, 2, 1, 0, 2, 1, 2, 2, 2, 2, 2, 2, 1, 2, 2, 2, 2, 1, 2, 0, 2, 2, 2, 2, 2, 1, 0, 1, 2, 1, 0, 2, 2, 2, 2, 2, 1, 2, 0, 1, 0, 2, 2, 2, 1, 2, 2, 2, 2, 1, 2, 1, 2, 1, 1, 2, 2, 1, 1, 2, 2, 2, 2, 0, 0, 2, 2, 1, 2, 2, 2, 2, 2, 1, 2, 2, 0, 2, 1, 1, 2, 1, 1, 1, 1, 2, 1, 2, 2, 2, 1, 1, 2, 1, 1, 1, 2, 2, 2, 0, 2, 2, 2, 1, 2, 1, 2, 2, 1, 1, 1, 2, 2, 2, 1, 2, 0, 1, 1, 1, 2, 2, 1, 2, 0, 0, 2, 1, 2, 1, 2, 0, 1, 2, 2, 0, 2, 2, 0, 2, 0, 2, 2, 2, 2, 1, 2, 0, 2, 2, 2, 1, 2, 2, 2, 2, 2, 2, 0, 2, 1, 0, 1, 2, 2, 2, 2, 0, 1, 0, 2, 2, 0, 2, 2, 2, 0, 2, 2, 1, 1, 1, 1, 2, 1, 0, 2, 0, 2, 0, 2, 2, 2, 2, 0, 2, 2, 2, 2, 2, 0, 0, 2, 1, 2, 1, 0, 2, 1, 2, 1, 1, 2, 1, 0, 2, 1, 2, 2, 2, 2, 1, 2, 1, 1, 1, 2, 2, 1, 1, 2, 2, 2, 1, 1, 1, 1, 2, 1, 0, 1, 1, 2, 1, 2, 2, 0, 2, 1, 2, 0, 1, 0, 1, 2, 2, 0, 2, 0, 1, 2, 1, 2, 1, 1, 1, 2, 2, 0, 1, 2, 1, 2, 2, 1, 1, 2, 1, 1, 2, 1, 1, 2, 2, 0, 0, 1, 2, 2, 2, 1, 0, 1, 1, 1, 1, 1, 0, 2, 2, 2, 2, 2, 2, 0, 2, 2, 0, 0, 2, 2, 0, 1, 1, 1, 1, 0, 2, 2, 0, 2, 2, 2, 0, 1, 2, 1, 0, 1, 0, 1, 2, 1, 1, 2, 1, 0, 1, 1, 2, 2, 2, 1, 0, 0, 0, 2, 2, 1, 0, 0, 2, 2, 2, 2, 2, 1, 1, 0, 2, 1, 2, 2, 0, 1, 2, 2, 1, 0, 1, 1, 1, 2, 1, 2, 0, 1, 1, 2, 2, 2, 0, 1, 2, 1, 2, 0, 2, 1, 1, 2, 2, 1, 2, 1, 1, 1, 2, 1, 2, 2, 2, 2, 2, 0, 1, 2, 2, 2, 2, 2, 2, 2, 2, 1, 0, 0, 2, 2, 2, 2, 2, 1, 2, 1, 2, 2, 2, 1, 1, 1, 1, 1, 1, 2, 0, 1, 2, 2, 2, 1, 1, 2, 2, 2, 2, 1, 1, 1, 1, 1, 2, 0, 0, 2, 2, 1, 2, 2, 0, 0, 0, 1, 2, 1, 1, 2, 1, 2, 1, 2, 0, 1, 2, 2, 2, 0, 2, 2, 1, 2, 1, 2, 1, 1, 1, 1, 1, 1, 1, 2, 0, 2, 1, 1, 2, 1, 2, 2, 1, 2, 1, 2, 2, 1, 2, 1, 2, 2, 1, 0, 1, 2, 1, 2, 0, 2, 2, 1, 2, 0, 1, 0, 2, 0, 2, 0, 2, 1, 2, 0, 1, 2, 2, 0, 0, 1, 1, 2, 0, 2, 1, 1, 2, 1, 2, 1, 1, 0, 2, 1, 1, 1, 0, 0, 2, 1, 0, 1, 2, 2, 0, 2, 1, 1, 2, 1, 1, 1, 1, 1, 1, 1, 2, 1, 2, 1, 2, 0, 2, 1, 1, 0, 2, 2, 1, 1, 0, 1, 1, 0, 1, 1, 2, 2, 1, 1, 0, 1, 1, 0, 0, 2, 2, 1, 2, 0, 1, 2, 1, 2, 1, 1, 1, 2, 2, 1, 1, 1, 1, 1, 2, 2, 1, 2, 0, 1, 2, 1, 1, 2, 1, 2, 2, 1, 2, 2, 1, 2, 2, 1, 2, 0, 2, 2, 1, 2, 1, 0, 2, 1, 0, 1, 2, 1, 2, 1, 2, 1, 2, 0, 1, 2, 2, 1, 2, 2, 0, 1, 1, 2, 1, 1, 2, 1, 1, 1, 2, 0, 2, 0, 0, 2, 2, 2, 1, 2, 1, 0, 1, 2, 1, 0, 1, 2, 2, 1, 2, 1, 2, 2, 1, 2, 2, 0, 1, 2, 1, 0, 1, 0, 2, 2, 1, 2, 2, 2, 2, 2, 1, 2, 1, 0, 2, 2, 2, 0, 1, 2, 2, 0, 0, 0, 1, 2, 1, 2, 1, 2, 1, 1, 1, 1, 2, 2, 1, 2, 1, 0, 0, 2, 0, 2, 2, 1, 0, 1, 2, 1, 0, 1, 1, 2, 2, 1, 2, 1, 2, 1, 1, 1, 2, 2, 1, 2, 1, 2, 2, 2, 2, 2, 1, 1, 2, 2, 1, 0, 1, 0, 1, 1, 2, 1, 1, 2, 2, 2, 1, 2, 1, 2, 0, 1, 2, 1, 1, 1, 2, 2, 1, 1, 1, 2, 2, 0, 2, 2, 2, 2, 1, 2, 2, 2, 2, 0, 1, 1, 2, 1, 2, 2, 2, 1, 1, 2, 2, 0, 1, 2, 2, 1, 2, 1, 2, 2, 1, 1, 2, 2, 1, 2, 0, 1, 2, 0, 1, 2, 1, 0, 2, 0, 2, 1, 2, 2, 2, 2, 1, 1, 1, 2, 2, 2, 0, 2, 1, 2, 2, 2, 0, 1, 1, 2, 1, 1, 1, 1, 1, 0, 2, 2, 1, 1, 2, 1, 2, 2, 2, 2, 2, 0, 2, 2, 2, 1, 1, 2, 1, 2, 2, 2, 1, 2, 1, 1, 0, 1, 2, 2, 1, 2, 0, 1, 2, 2, 0, 1, 2, 2, 2, 1, 2, 2, 2, 2, 2, 1, 1, 0, 1, 2, 2, 1, 0, 0, 2, 1, 1, 2, 2, 2, 2, 2, 2, 1, 1, 1, 1, 1, 2, 1, 2, 2, 2, 2, 2, 0, 0, 2, 0, 2, 1, 2, 1, 1, 2, 1, 2, 2, 1, 0, 1, 2, 0, 2, 2, 1, 2, 1, 2, 0, 1, 2, 1, 2, 1, 2, 1, 2, 2, 1, 2, 0, 0, 1, 1, 0, 2, 2, 2, 1, 2, 1, 2, 2, 1, 2, 1, 2, 0, 0, 0, 2, 1, 1, 0, 2, 2, 1, 1, 0, 2, 1, 1, 2, 1, 1, 1, 1, 0, 2, 2, 0, 2, 1, 2, 2, 2, 2, 1, 1, 0, 2, 0, 1, 1, 1, 2, 2, 2, 2, 1, 2, 1, 1, 2, 2, 1, 0, 2, 1, 2, 0, 1, 2, 1, 2, 2, 0, 2, 1, 1, 1, 2, 1, 2, 2, 2, 2, 1, 0, 2, 1, 0, 0, 1, 2, 2, 2, 2, 2, 1, 1, 2, 0, 1, 1, 2, 1, 2, 0, 1, 1, 2, 1, 2, 0, 2, 1, 1, 0, 1, 1, 2, 2, 2, 1, 2, 2, 2, 2, 1, 0, 2, 1, 2, 2, 0, 2, 1, 2, 2, 1, 1, 1, 1, 0, 1, 1, 2, 2, 0, 2, 1, 2, 0, 1, 2, 2, 2, 1, 2, 2, 2, 1, 1, 2, 1, 2, 1, 0, 0, 1, 2, 2, 1, 1, 0, 0, 2, 1, 1, 1, 2, 2, 0, 1, 2, 1, 0, 1, 2, 1, 2, 2, 2, 1, 1, 2, 2, 1, 2, 1, 1, 2, 2, 1, 0, 1, 2, 1, 2, 1, 1, 1, 2, 2, 2, 2, 1, 2, 0, 1, 2, 2, 0, 2, 1, 2, 0, 1, 2, 1, 2, 2, 2, 2, 0, 1, 1, 2, 1, 2, 2, 2, 1, 2, 0, 2, 2, 2, 1, 0, 1, 2, 0, 1, 0, 2, 1, 1, 0, 1, 2, 2, 2, 2, 2, 0, 1, 2, 2, 0, 2, 2, 2, 2, 1, 1, 2, 1, 2, 2, 0, 2, 1, 2, 2, 1, 2, 2, 1, 2, 2, 2, 1, 0, 1, 2, 2, 0, 2, 1, 1, 1, 2, 0, 1, 2, 1, 2, 2, 2, 2, 2, 2, 2, 2, 1, 2, 1, 2, 2, 2, 1, 1, 1, 2, 0, 1, 2, 2, 2, 1, 0, 2, 1, 1, 0, 1, 1, 0, 0, 0, 1, 2, 0, 2, 1, 1, 2, 1, 2, 2, 2, 2, 2, 2, 1, 0, 1, 2, 2, 0, 2, 2, 1, 1, 0, 1, 1, 1, 2, 2, 2, 2, 2, 2, 0, 2, 1, 0, 1, 2, 1, 1, 1, 1, 1, 1, 2, 2, 2, 2, 1, 0, 2, 2, 1, 2, 1, 1, 2, 2, 2, 2, 2, 2, 1, 1, 0, 1, 1, 2, 2, 2, 1, 1, 1, 1, 2, 1, 2, 2, 1, 2, 1, 0, 0, 2, 2, 1, 2, 2, 2, 0, 2, 2, 2, 2, 1, 1, 0, 1, 2, 2, 1, 0, 2, 1, 2, 2, 1, 1, 2, 0, 2, 1, 2, 1, 1, 1, 2, 2, 2, 2, 2, 0, 1, 2, 0, 2, 2, 0, 2, 2, 2, 1, 2, 2, 2, 1, 2, 2, 1, 2, 0, 1, 2, 2, 2, 2, 1, 2, 0, 2, 1, 1, 2, 1, 2, 1, 1, 2, 2, 2, 2, 0, 2, 0, 1, 2, 0, 1, 2, 1, 0, 2, 2, 0, 1, 2, 2, 0, 1, 1, 2, 2, 2, 2, 2, 0, 1, 1, 1, 1, 2, 0, 1, 1, 2, 1, 1, 2, 1, 1, 1, 1, 2, 2, 2, 1, 2, 2, 2, 2, 0, 1, 1, 0, 2, 1, 1, 1, 2, 2, 2, 1, 0, 2, 2, 1, 2, 2, 2, 0, 1, 1, 0, 2, 2, 0, 2, 2, 2, 2, 2, 1, 1, 1, 1, 0, 1, 2, 1, 2, 2, 2, 1, 2, 0, 1, 0, 2, 1, 2, 2, 1, 1, 2, 2, 1, 1, 2, 2, 2, 1, 1, 2, 1, 0, 2, 1, 1, 1, 2, 2, 1, 1, 2, 0, 2, 2, 2, 2, 1, 0, 2, 2, 2, 1, 2, 1, 0, 1, 2, 0, 1, 2, 2, 1, 2, 2, 1, 1, 1, 2, 2, 1, 2, 2, 2, 2, 2, 2, 2, 2, 2, 0, 2, 1, 0, 2, 1, 2, 1, 1, 2, 2, 1, 1, 2, 1, 1, 2, 2, 2, 0, 2, 0, 2, 1, 0, 0, 2, 2, 0, 1, 2, 0, 0, 2, 2, 1, 0, 0, 2, 0, 2, 2, 1, 0, 1, 1, 2, 1, 2, 2, 2, 1, 1, 0, 2, 2, 2, 2, 1, 2, 1, 2, 1, 2, 2, 2, 1, 2, 2, 2, 1, 1, 0, 0, 2, 0, 2, 1, 2, 0, 1, 1, 1, 2, 1, 2, 2, 2, 0, 2, 1, 1, 2, 2, 1, 0, 0, 2, 2, 2, 0, 2, 0, 2, 1, 0, 2, 1, 2, 1, 1, 1, 2, 1, 0, 2, 1, 1, 2, 1, 2, 2, 1, 2, 1, 1, 2, 1, 1, 2, 1, 2, 0, 2, 0, 1, 2, 2, 2, 2, 1, 2, 2, 2, 0, 0, 1, 2, 1, 2, 1, 2, 2, 1, 1, 1, 2, 1, 1, 2, 1, 2, 2, 2, 2, 2, 0, 2, 2, 2, 2, 0, 2, 2, 1, 1, 2, 2, 2, 2, 0, 2, 2, 0, 2, 2, 1, 2, 2, 2, 2, 1, 2, 2, 0, 2, 2, 2, 0, 1, 2, 1, 1, 1, 1, 2, 1, 2, 2, 0, 1, 1, 1, 1, 2, 1, 2, 2, 1, 1, 1, 2, 2, 1, 2, 2, 0, 2, 2, 1, 1, 2, 1, 0, 2, 2, 1, 0, 1, 1, 1, 2, 2, 2, 2, 2, 2, 1, 2, 2, 2, 2, 2, 0, 1, 1, 1, 2, 1, 2, 1, 2, 1, 2, 2, 2, 2, 0, 2, 1, 2, 2, 1, 0, 2, 1, 2, 2, 2, 2, 1, 1, 2, 2, 2, 0, 2, 1, 1, 0, 2, 2, 1, 2, 1, 2, 1, 2, 2, 1, 2, 0, 2, 1, 2, 1, 1, 0, 1, 0, 2, 1, 1, 1, 1, 2, 0, 2, 1, 1, 1, 1, 2, 2, 2, 2, 1, 2, 2, 0, 0, 0, 1, 2, 2, 1, 1, 0, 1, 1, 2, 1, 1, 2, 2, 1, 2, 1, 0, 2, 2, 2, 1, 2, 1, 2, 2, 1, 2, 1, 2, 2, 1, 1, 1, 2, 2, 2, 2, 1, 1, 2, 2, 2, 2, 0, 2, 2, 2, 2, 1, 2, 0, 2, 2, 0, 2, 1, 0, 2, 2, 1, 1, 1, 2, 0, 1, 2, 1, 1, 2, 1, 2, 2, 2, 1, 1, 2, 1, 1, 1, 2, 1, 2, 1, 2, 2, 1, 1, 2, 2, 2, 2, 1, 0, 2, 1, 1, 2, 1, 2, 2, 0, 0, 1, 1, 2, 2, 2, 1, 2, 2, 2, 2, 1, 1, 1, 0, 0, 1, 1, 1, 2, 1, 2, 1, 2, 1, 2, 1, 0, 1, 0, 1, 2, 2, 1, 0, 1, 1, 0, 2, 2, 1, 1, 1, 1, 2, 2, 2, 1, 2, 2, 1, 1, 1, 1, 1, 1, 1, 2, 1, 1, 1, 1, 0, 1, 2, 2, 2, 1, 1, 1, 2, 1, 2, 1, 2, 2, 2, 2, 2, 2, 0, 2, 1, 1, 2, 1, 1, 2, 1, 1, 2, 0, 2, 1, 2, 1, 1, 1, 2, 2, 2, 2, 1, 2, 2, 2, 2, 1, 0, 2, 2, 2, 2, 1, 2, 2, 2, 2, 1, 1, 1, 2, 2, 2, 2, 2, 0, 1, 0, 1, 1, 2, 1, 1, 0, 1, 2, 1, 0, 2, 2, 0, 0, 2, 1, 0, 2, 0, 1, 2, 2, 1, 1, 2, 1, 2, 2, 0, 1, 2, 0, 1, 1, 2, 2, 1, 0, 2, 0, 2, 1, 1, 2, 2, 1, 1, 2, 2, 2, 2, 1, 0, 1, 2, 1, 2, 1, 2, 2, 1, 2, 2, 0, 2, 1, 2, 2, 2, 1, 1, 0, 2, 0, 2, 1, 1, 2, 2, 2, 0, 2, 2, 1, 0, 1, 1, 2, 1, 2, 1, 2, 1, 1, 2, 0, 2, 2, 1, 1, 1, 0, 1, 2, 2, 0, 0, 1, 2, 2, 1, 1, 2, 0, 2, 1, 1, 2, 2, 2, 1, 2, 1, 1, 1, 2, 2, 2, 0, 2, 1, 2, 1, 1, 2, 1, 2, 2, 1, 2, 2, 2, 2, 1, 0, 2, 1, 1, 0, 1, 1, 2, 2, 1, 1, 1, 1, 1, 2, 2, 1, 2, 1, 1, 2, 2, 2, 2, 1, 1, 1, 2, 1, 1, 1, 0, 2, 0, 1, 2, 2, 0, 2, 2, 2, 0, 1, 2, 2, 2, 2, 1, 0, 1, 1, 1, 2, 1, 2, 2, 2, 1, 2, 0, 2, 1, 1, 2, 0, 1, 2, 1, 1, 0, 2, 0, 2, 1, 1, 0, 2, 2, 0, 1, 2, 2, 2, 1, 2, 1, 1, 2, 0, 0, 1, 2, 1, 2, 2, 2, 0, 2, 1, 0, 2, 1, 1, 2, 0, 2, 1, 2, 1, 2, 1, 2, 2, 2, 1, 2, 0, 2, 2, 2, 2, 1, 1, 2, 1, 2, 2, 2, 2, 1, 1, 2, 1, 0, 0, 1, 2, 1, 1, 2, 2, 1, 2, 1, 1, 2, 2, 0, 0, 1, 2, 2, 0, 1, 2, 1, 2, 1, 0, 2, 1, 2, 2, 0, 2, 1, 2, 1, 1, 1, 1, 2, 2, 2, 2, 1, 1, 2, 0, 2, 0, 2, 0, 1, 2, 2, 0, 2, 2, 1, 2, 2, 2, 2, 0, 1, 0, 2, 2, 2, 2, 0, 2, 2, 2, 2, 1, 1, 2, 0, 1, 2, 0, 2, 1, 1, 0, 2, 0, 2, 1, 0, 1, 2, 1, 1, 1, 1, 1, 2, 1, 0, 0, 2, 1, 2, 2, 0, 0, 1, 2, 0, 1, 2, 2, 2, 2, 2, 2, 2, 2, 2, 2, 2, 2, 2, 2, 1, 2, 2, 0, 2, 0, 1, 2, 2, 1, 2, 1, 0, 2, 0, 1, 1, 2, 1, 1, 1, 0, 2, 2, 2, 2, 2, 1, 2, 2, 1, 0, 1, 2, 2, 2, 1, 0, 2, 1, 2, 1, 1, 2, 1, 2, 1, 2, 0, 1, 2, 2, 2, 2, 2, 1, 2, 2, 2, 2, 1, 1, 1, 2, 2, 1, 2, 2, 0, 2, 1, 2, 1, 2, 2, 2, 2, 2, 0, 2, 0, 2, 2, 2, 2, 0, 0, 1, 1, 2, 2, 1, 2, 1, 2, 0, 1, 2, 2, 1, 2, 1, 2, 1, 0, 1, 1, 2, 2, 2, 2, 1, 2, 2, 1, 2, 2, 1, 1, 1, 1, 1, 2, 1, 2, 1, 2, 2, 2, 0, 2, 2, 2, 1, 2, 0, 2, 2, 1, 2, 1, 2, 2, 2, 2, 2, 0, 1, 0, 2, 2, 2, 0, 1, 0, 2, 2, 2, 0, 2, 2, 2, 2, 0, 1, 2, 2, 2, 1, 2, 2, 1, 1, 1, 1, 1, 2, 1, 2, 0, 2, 0, 2, 1, 2, 1, 2, 2, 0, 1, 2, 0, 1, 2, 2, 0, 2, 2, 1, 2, 1, 2, 2, 1, 1, 1, 2, 1, 0, 1, 2, 1, 2, 2, 1, 2, 1, 2, 1, 2, 0, 2, 0, 2, 2, 0, 2, 1, 1, 2, 0, 1, 2, 2, 1, 2, 2, 1, 2, 1, 2, 1, 0, 1, 2, 2, 0, 0, 2, 2, 1, 2, 1, 2, 2, 2, 2, 1, 1, 1, 2, 0, 1, 1, 2, 2, 0, 1, 1, 1, 1, 2, 2, 2, 0, 1, 1, 2, 2, 1, 1, 1, 2, 1, 2, 2, 0, 2, 2, 2, 2, 1, 1, 1, 0, 1, 2, 2, 2, 1, 2, 2, 2, 0, 2, 2, 1, 2, 2, 2, 2, 1, 1, 1, 2, 2, 2, 2, 1, 0, 0, 1, 2, 2, 0, 2, 2, 2, 2, 1, 2, 2, 2, 2, 0, 2, 2, 1, 2, 0, 1, 0, 2, 2, 2, 1, 1, 1, 2, 0, 2, 1, 0, 0, 0, 2, 1, 1, 2, 1, 1, 1, 2, 1, 2, 1, 2, 1, 2, 1, 2, 1, 0, 2, 2, 1, 2, 2, 1, 2, 2, 2, 2, 2, 2, 0, 2, 2, 2, 2, 2, 2, 2, 2, 0, 2, 1, 2, 2, 1, 1, 1, 2, 1, 0, 1, 1, 2, 1, 1, 2, 2, 0, 2, 1, 1, 1, 2, 2, 1, 2, 1, 1, 1, 2, 2, 2, 0, 2, 2, 0, 2, 2, 0, 1, 2, 2, 2, 2, 1, 0, 1, 1, 2, 1, 1, 1, 1, 1, 2, 2, 1, 2, 1, 2, 2, 0, 0, 2, 0, 2, 2, 1, 2, 2, 0, 2, 2, 0, 0, 2, 2, 1, 0, 1, 2, 2, 0, 2, 1, 0, 1, 2, 2, 2, 2, 2, 1, 1, 1, 0, 2, 0, 1, 1, 0, 1, 1, 1, 1, 1, 2, 0, 0, 2, 1, 2, 2, 2, 2, 2, 2, 2, 2, 1, 2, 2, 2, 2, 2, 1, 1, 2, 1, 1, 1, 1, 0, 1, 0, 2, 1, 1, 2, 1, 1, 2, 1, 0, 2, 1, 1, 1, 1, 2, 2, 2, 2, 2, 1, 2, 2, 1, 0, 1, 1, 0, 2, 0, 0, 0, 1, 2, 1, 2, 1, 0, 2, 1, 1, 1, 2, 1, 1, 0, 2, 1, 2, 2, 2, 2, 0, 2, 2, 1, 2, 1, 1, 1, 2, 1, 1, 1, 2, 0, 1, 2, 2, 2, 2, 1, 2, 1, 0, 2, 2, 1, 1, 2, 2, 1, 2, 1, 2, 2, 2, 2, 0, 0, 2, 2, 0, 2, 2, 1, 1, 2, 2, 2, 1, 1, 2, 2, 1, 2, 1, 1, 0, 1, 0, 2, 2, 2, 2, 2, 1, 2, 0, 2, 2, 2, 0, 2, 0, 0, 1, 2, 2, 2, 1, 2, 2, 1, 1, 2, 1, 0, 0, 1, 2, 2, 0, 1, 2, 2, 2, 2, 1, 1, 2, 1, 1, 0, 2, 0, 2, 0, 0, 2, 2, 0, 2, 1, 2, 2, 2, 2, 1, 1, 2, 2, 2, 1, 2, 2, 1, 2, 1, 2, 2, 2, 2, 2, 1, 2, 2, 1, 1, 2, 1, 1, 1, 1, 1, 1, 2, 1, 2, 2, 2, 1, 2, 2, 2, 1, 2, 1, 1, 2, 1, 1, 1, 2, 0, 0, 1, 1, 2, 0, 1, 0, 2, 2, 2, 0, 2, 2, 0, 2, 2, 2, 2, 2, 2, 1, 1, 1, 2, 1, 1, 2, 2, 2, 2, 1, 2, 0, 2, 1, 1, 2, 1, 2, 2, 0, 2, 1, 2, 2, 2, 2, 1, 1, 2, 2, 2, 1, 2, 1, 2, 2, 1, 2, 1, 2, 2, 1, 2, 1, 2, 1, 1, 1, 1, 2, 2, 2, 2, 1, 0, 1, 1, 2, 1, 0, 1, 2, 1, 2, 1, 1, 2, 0, 2, 1, 2, 1, 1, 0, 2, 1, 2, 2, 1, 2, 1, 2, 2, 2, 1, 2, 1, 2, 1, 1, 0, 0, 1, 2, 1, 1, 1, 1, 2, 1, 1, 0, 1, 2, 2, 0, 1, 0, 1, 2, 0, 0, 2, 2, 2, 1, 1, 1, 2, 2, 2, 2, 0, 0]\n"
     ]
    }
   ],
   "source": [
    "predictions = model3.predict(test_paded_sequences)\n",
    "predicted_labels = [tf.argmax(pred).numpy() for pred in predictions]\n",
    "print(f\"Predictions: {predicted_labels}\")"
   ]
  },
  {
   "cell_type": "code",
   "execution_count": 46,
   "id": "51133473-8fd7-43d9-922a-a5f9644ec0ec",
   "metadata": {},
   "outputs": [
    {
     "name": "stdout",
     "output_type": "stream",
     "text": [
      "              precision    recall  f1-score   support\n",
      "\n",
      "           0       0.68      0.58      0.62      1054\n",
      "           1       0.68      0.65      0.67      2365\n",
      "           2       0.67      0.74      0.70      2750\n",
      "\n",
      "    accuracy                           0.68      6169\n",
      "   macro avg       0.68      0.66      0.66      6169\n",
      "weighted avg       0.68      0.68      0.68      6169\n",
      "\n"
     ]
    }
   ],
   "source": [
    "from sklearn.metrics import classification_report,confusion_matrix\n",
    "\n",
    "print(classification_report(y_test,predicted_labels))"
   ]
  },
  {
   "cell_type": "code",
   "execution_count": 47,
   "id": "c27401d8-ef68-440f-8f88-516158576ccf",
   "metadata": {},
   "outputs": [
    {
     "data": {
      "text/plain": [
       "Text(0.5, 1.0, 'Confusion Matrix')"
      ]
     },
     "execution_count": 47,
     "metadata": {},
     "output_type": "execute_result"
    },
    {
     "data": {
      "image/png": "[encoded data removed]",
      "text/plain": [
       "<Figure size 640x480 with 2 Axes>"
      ]
     },
     "metadata": {},
     "output_type": "display_data"
    }
   ],
   "source": [
    "import seaborn as sns\n",
    "import matplotlib.pyplot as plt\n",
    "sns.heatmap(confusion_matrix(y_test,predicted_labels))\n",
    "plt.xlabel('Predicted Labels')\n",
    "plt.ylabel('True Labels')\n",
    "plt.title('Confusion Matrix')"
   ]
  },
  {
   "cell_type": "code",
   "execution_count": 28,
   "id": "5db7fab8-cc90-4392-947f-a83882148f86",
   "metadata": {},
   "outputs": [
    {
     "name": "stderr",
     "output_type": "stream",
     "text": [
      "WARNING:absl:You are saving your model as an HDF5 file via `model.save()` or `keras.saving.save_model(model)`. This file format is considered legacy. We recommend using instead the native Keras format, e.g. `model.save('my_model.keras')` or `keras.saving.save_model(model, 'my_model.keras')`. \n"
     ]
    }
   ],
   "source": [
    "model3.save(\"model_refined.hdf5\")"
   ]
  },
  {
   "cell_type": "code",
   "execution_count": 35,
   "id": "f0fca6a3-1576-4719-9124-a5e626c2d1ce",
   "metadata": {},
   "outputs": [
    {
     "name": "stderr",
     "output_type": "stream",
     "text": [
      "/home/vulcan/.local/lib/python3.10/site-packages/keras/src/layers/core/embedding.py:90: UserWarning: Argument `input_length` is deprecated. Just remove it.\n",
      "  warnings.warn(\n"
     ]
    },
    {
     "data": {
      "text/html": [
       "<pre style=\"white-space:pre;overflow-x:auto;line-height:normal;font-family:Menlo,'DejaVu Sans Mono',consolas,'Courier New',monospace\"><span style=\"font-weight: bold\">Model: \"functional_7\"</span>\n",
       "</pre>\n"
      ],
      "text/plain": [
       "\u001b[1mModel: \"functional_7\"\u001b[0m\n"
      ]
     },
     "metadata": {},
     "output_type": "display_data"
    },
    {
     "data": {
      "text/html": [
       "<pre style=\"white-space:pre;overflow-x:auto;line-height:normal;font-family:Menlo,'DejaVu Sans Mono',consolas,'Courier New',monospace\">┏━━━━━━━━━━━━━━━━━━━━━┳━━━━━━━━━━━━━━━━━━━┳━━━━━━━━━━━━┳━━━━━━━━━━━━━━━━━━━┓\n",
       "┃<span style=\"font-weight: bold\"> Layer (type)        </span>┃<span style=\"font-weight: bold\"> Output Shape      </span>┃<span style=\"font-weight: bold\">    Param # </span>┃<span style=\"font-weight: bold\"> Connected to      </span>┃\n",
       "┡━━━━━━━━━━━━━━━━━━━━━╇━━━━━━━━━━━━━━━━━━━╇━━━━━━━━━━━━╇━━━━━━━━━━━━━━━━━━━┩\n",
       "│ input_layer_4       │ (<span style=\"color: #00d7ff; text-decoration-color: #00d7ff\">None</span>, <span style=\"color: #00af00; text-decoration-color: #00af00\">60</span>)        │          <span style=\"color: #00af00; text-decoration-color: #00af00\">0</span> │ -                 │\n",
       "│ (<span style=\"color: #0087ff; text-decoration-color: #0087ff\">InputLayer</span>)        │                   │            │                   │\n",
       "├─────────────────────┼───────────────────┼────────────┼───────────────────┤\n",
       "│ embedding_3         │ (<span style=\"color: #00d7ff; text-decoration-color: #00d7ff\">None</span>, <span style=\"color: #00af00; text-decoration-color: #00af00\">60</span>, <span style=\"color: #00af00; text-decoration-color: #00af00\">128</span>)   │  <span style=\"color: #00af00; text-decoration-color: #00af00\">2,786,176</span> │ input_layer_4[<span style=\"color: #00af00; text-decoration-color: #00af00\">0</span>]… │\n",
       "│ (<span style=\"color: #0087ff; text-decoration-color: #0087ff\">Embedding</span>)         │                   │            │                   │\n",
       "├─────────────────────┼───────────────────┼────────────┼───────────────────┤\n",
       "│ conv1d_6 (<span style=\"color: #0087ff; text-decoration-color: #0087ff\">Conv1D</span>)   │ (<span style=\"color: #00d7ff; text-decoration-color: #00d7ff\">None</span>, <span style=\"color: #00af00; text-decoration-color: #00af00\">58</span>, <span style=\"color: #00af00; text-decoration-color: #00af00\">64</span>)    │     <span style=\"color: #00af00; text-decoration-color: #00af00\">24,640</span> │ embedding_3[<span style=\"color: #00af00; text-decoration-color: #00af00\">0</span>][<span style=\"color: #00af00; text-decoration-color: #00af00\">0</span>] │\n",
       "├─────────────────────┼───────────────────┼────────────┼───────────────────┤\n",
       "│ batch_normalizatio… │ (<span style=\"color: #00d7ff; text-decoration-color: #00d7ff\">None</span>, <span style=\"color: #00af00; text-decoration-color: #00af00\">58</span>, <span style=\"color: #00af00; text-decoration-color: #00af00\">64</span>)    │        <span style=\"color: #00af00; text-decoration-color: #00af00\">256</span> │ conv1d_6[<span style=\"color: #00af00; text-decoration-color: #00af00\">0</span>][<span style=\"color: #00af00; text-decoration-color: #00af00\">0</span>]    │\n",
       "│ (<span style=\"color: #0087ff; text-decoration-color: #0087ff\">BatchNormalizatio…</span> │                   │            │                   │\n",
       "├─────────────────────┼───────────────────┼────────────┼───────────────────┤\n",
       "│ dropout_8 (<span style=\"color: #0087ff; text-decoration-color: #0087ff\">Dropout</span>) │ (<span style=\"color: #00d7ff; text-decoration-color: #00d7ff\">None</span>, <span style=\"color: #00af00; text-decoration-color: #00af00\">58</span>, <span style=\"color: #00af00; text-decoration-color: #00af00\">64</span>)    │          <span style=\"color: #00af00; text-decoration-color: #00af00\">0</span> │ batch_normalizat… │\n",
       "├─────────────────────┼───────────────────┼────────────┼───────────────────┤\n",
       "│ max_pooling1d_6     │ (<span style=\"color: #00d7ff; text-decoration-color: #00d7ff\">None</span>, <span style=\"color: #00af00; text-decoration-color: #00af00\">19</span>, <span style=\"color: #00af00; text-decoration-color: #00af00\">64</span>)    │          <span style=\"color: #00af00; text-decoration-color: #00af00\">0</span> │ dropout_8[<span style=\"color: #00af00; text-decoration-color: #00af00\">0</span>][<span style=\"color: #00af00; text-decoration-color: #00af00\">0</span>]   │\n",
       "│ (<span style=\"color: #0087ff; text-decoration-color: #0087ff\">MaxPooling1D</span>)      │                   │            │                   │\n",
       "├─────────────────────┼───────────────────┼────────────┼───────────────────┤\n",
       "│ conv1d_7 (<span style=\"color: #0087ff; text-decoration-color: #0087ff\">Conv1D</span>)   │ (<span style=\"color: #00d7ff; text-decoration-color: #00d7ff\">None</span>, <span style=\"color: #00af00; text-decoration-color: #00af00\">17</span>, <span style=\"color: #00af00; text-decoration-color: #00af00\">64</span>)    │     <span style=\"color: #00af00; text-decoration-color: #00af00\">12,352</span> │ max_pooling1d_6[<span style=\"color: #00af00; text-decoration-color: #00af00\">…</span> │\n",
       "├─────────────────────┼───────────────────┼────────────┼───────────────────┤\n",
       "│ batch_normalizatio… │ (<span style=\"color: #00d7ff; text-decoration-color: #00d7ff\">None</span>, <span style=\"color: #00af00; text-decoration-color: #00af00\">17</span>, <span style=\"color: #00af00; text-decoration-color: #00af00\">64</span>)    │        <span style=\"color: #00af00; text-decoration-color: #00af00\">256</span> │ conv1d_7[<span style=\"color: #00af00; text-decoration-color: #00af00\">0</span>][<span style=\"color: #00af00; text-decoration-color: #00af00\">0</span>]    │\n",
       "│ (<span style=\"color: #0087ff; text-decoration-color: #0087ff\">BatchNormalizatio…</span> │                   │            │                   │\n",
       "├─────────────────────┼───────────────────┼────────────┼───────────────────┤\n",
       "│ dropout_9 (<span style=\"color: #0087ff; text-decoration-color: #0087ff\">Dropout</span>) │ (<span style=\"color: #00d7ff; text-decoration-color: #00d7ff\">None</span>, <span style=\"color: #00af00; text-decoration-color: #00af00\">17</span>, <span style=\"color: #00af00; text-decoration-color: #00af00\">64</span>)    │          <span style=\"color: #00af00; text-decoration-color: #00af00\">0</span> │ batch_normalizat… │\n",
       "├─────────────────────┼───────────────────┼────────────┼───────────────────┤\n",
       "│ max_pooling1d_7     │ (<span style=\"color: #00d7ff; text-decoration-color: #00d7ff\">None</span>, <span style=\"color: #00af00; text-decoration-color: #00af00\">5</span>, <span style=\"color: #00af00; text-decoration-color: #00af00\">64</span>)     │          <span style=\"color: #00af00; text-decoration-color: #00af00\">0</span> │ dropout_9[<span style=\"color: #00af00; text-decoration-color: #00af00\">0</span>][<span style=\"color: #00af00; text-decoration-color: #00af00\">0</span>]   │\n",
       "│ (<span style=\"color: #0087ff; text-decoration-color: #0087ff\">MaxPooling1D</span>)      │                   │            │                   │\n",
       "├─────────────────────┼───────────────────┼────────────┼───────────────────┤\n",
       "│ bidirectional_6     │ (<span style=\"color: #00d7ff; text-decoration-color: #00d7ff\">None</span>, <span style=\"color: #00af00; text-decoration-color: #00af00\">5</span>, <span style=\"color: #00af00; text-decoration-color: #00af00\">200</span>)    │    <span style=\"color: #00af00; text-decoration-color: #00af00\">132,000</span> │ max_pooling1d_7[<span style=\"color: #00af00; text-decoration-color: #00af00\">…</span> │\n",
       "│ (<span style=\"color: #0087ff; text-decoration-color: #0087ff\">Bidirectional</span>)     │                   │            │                   │\n",
       "├─────────────────────┼───────────────────┼────────────┼───────────────────┤\n",
       "│ bidirectional_7     │ (<span style=\"color: #00d7ff; text-decoration-color: #00d7ff\">None</span>, <span style=\"color: #00af00; text-decoration-color: #00af00\">5</span>, <span style=\"color: #00af00; text-decoration-color: #00af00\">200</span>)    │    <span style=\"color: #00af00; text-decoration-color: #00af00\">240,800</span> │ bidirectional_6[<span style=\"color: #00af00; text-decoration-color: #00af00\">…</span> │\n",
       "│ (<span style=\"color: #0087ff; text-decoration-color: #0087ff\">Bidirectional</span>)     │                   │            │                   │\n",
       "├─────────────────────┼───────────────────┼────────────┼───────────────────┤\n",
       "│ multi_head_attenti… │ (<span style=\"color: #00d7ff; text-decoration-color: #00d7ff\">None</span>, <span style=\"color: #00af00; text-decoration-color: #00af00\">5</span>, <span style=\"color: #00af00; text-decoration-color: #00af00\">200</span>)    │    <span style=\"color: #00af00; text-decoration-color: #00af00\">321,400</span> │ bidirectional_7[<span style=\"color: #00af00; text-decoration-color: #00af00\">…</span> │\n",
       "│ (<span style=\"color: #0087ff; text-decoration-color: #0087ff\">MultiHeadAttentio…</span> │                   │            │ bidirectional_7[<span style=\"color: #00af00; text-decoration-color: #00af00\">…</span> │\n",
       "├─────────────────────┼───────────────────┼────────────┼───────────────────┤\n",
       "│ dropout_11          │ (<span style=\"color: #00d7ff; text-decoration-color: #00d7ff\">None</span>, <span style=\"color: #00af00; text-decoration-color: #00af00\">5</span>, <span style=\"color: #00af00; text-decoration-color: #00af00\">200</span>)    │          <span style=\"color: #00af00; text-decoration-color: #00af00\">0</span> │ multi_head_atten… │\n",
       "│ (<span style=\"color: #0087ff; text-decoration-color: #0087ff\">Dropout</span>)           │                   │            │                   │\n",
       "├─────────────────────┼───────────────────┼────────────┼───────────────────┤\n",
       "│ flatten_1 (<span style=\"color: #0087ff; text-decoration-color: #0087ff\">Flatten</span>) │ (<span style=\"color: #00d7ff; text-decoration-color: #00d7ff\">None</span>, <span style=\"color: #00af00; text-decoration-color: #00af00\">1000</span>)      │          <span style=\"color: #00af00; text-decoration-color: #00af00\">0</span> │ dropout_11[<span style=\"color: #00af00; text-decoration-color: #00af00\">0</span>][<span style=\"color: #00af00; text-decoration-color: #00af00\">0</span>]  │\n",
       "├─────────────────────┼───────────────────┼────────────┼───────────────────┤\n",
       "│ dense_3 (<span style=\"color: #0087ff; text-decoration-color: #0087ff\">Dense</span>)     │ (<span style=\"color: #00d7ff; text-decoration-color: #00d7ff\">None</span>, <span style=\"color: #00af00; text-decoration-color: #00af00\">3</span>)         │      <span style=\"color: #00af00; text-decoration-color: #00af00\">3,003</span> │ flatten_1[<span style=\"color: #00af00; text-decoration-color: #00af00\">0</span>][<span style=\"color: #00af00; text-decoration-color: #00af00\">0</span>]   │\n",
       "└─────────────────────┴───────────────────┴────────────┴───────────────────┘\n",
       "</pre>\n"
      ],
      "text/plain": [
       "┏━━━━━━━━━━━━━━━━━━━━━┳━━━━━━━━━━━━━━━━━━━┳━━━━━━━━━━━━┳━━━━━━━━━━━━━━━━━━━┓\n",
       "┃\u001b[1m \u001b[0m\u001b[1mLayer (type)       \u001b[0m\u001b[1m \u001b[0m┃\u001b[1m \u001b[0m\u001b[1mOutput Shape     \u001b[0m\u001b[1m \u001b[0m┃\u001b[1m \u001b[0m\u001b[1m   Param #\u001b[0m\u001b[1m \u001b[0m┃\u001b[1m \u001b[0m\u001b[1mConnected to     \u001b[0m\u001b[1m \u001b[0m┃\n",
       "┡━━━━━━━━━━━━━━━━━━━━━╇━━━━━━━━━━━━━━━━━━━╇━━━━━━━━━━━━╇━━━━━━━━━━━━━━━━━━━┩\n",
       "│ input_layer_4       │ (\u001b[38;5;45mNone\u001b[0m, \u001b[38;5;34m60\u001b[0m)        │          \u001b[38;5;34m0\u001b[0m │ -                 │\n",
       "│ (\u001b[38;5;33mInputLayer\u001b[0m)        │                   │            │                   │\n",
       "├─────────────────────┼───────────────────┼────────────┼───────────────────┤\n",
       "│ embedding_3         │ (\u001b[38;5;45mNone\u001b[0m, \u001b[38;5;34m60\u001b[0m, \u001b[38;5;34m128\u001b[0m)   │  \u001b[38;5;34m2,786,176\u001b[0m │ input_layer_4[\u001b[38;5;34m0\u001b[0m]… │\n",
       "│ (\u001b[38;5;33mEmbedding\u001b[0m)         │                   │            │                   │\n",
       "├─────────────────────┼───────────────────┼────────────┼───────────────────┤\n",
       "│ conv1d_6 (\u001b[38;5;33mConv1D\u001b[0m)   │ (\u001b[38;5;45mNone\u001b[0m, \u001b[38;5;34m58\u001b[0m, \u001b[38;5;34m64\u001b[0m)    │     \u001b[38;5;34m24,640\u001b[0m │ embedding_3[\u001b[38;5;34m0\u001b[0m][\u001b[38;5;34m0\u001b[0m] │\n",
       "├─────────────────────┼───────────────────┼────────────┼───────────────────┤\n",
       "│ batch_normalizatio… │ (\u001b[38;5;45mNone\u001b[0m, \u001b[38;5;34m58\u001b[0m, \u001b[38;5;34m64\u001b[0m)    │        \u001b[38;5;34m256\u001b[0m │ conv1d_6[\u001b[38;5;34m0\u001b[0m][\u001b[38;5;34m0\u001b[0m]    │\n",
       "│ (\u001b[38;5;33mBatchNormalizatio…\u001b[0m │                   │            │                   │\n",
       "├─────────────────────┼───────────────────┼────────────┼───────────────────┤\n",
       "│ dropout_8 (\u001b[38;5;33mDropout\u001b[0m) │ (\u001b[38;5;45mNone\u001b[0m, \u001b[38;5;34m58\u001b[0m, \u001b[38;5;34m64\u001b[0m)    │          \u001b[38;5;34m0\u001b[0m │ batch_normalizat… │\n",
       "├─────────────────────┼───────────────────┼────────────┼───────────────────┤\n",
       "│ max_pooling1d_6     │ (\u001b[38;5;45mNone\u001b[0m, \u001b[38;5;34m19\u001b[0m, \u001b[38;5;34m64\u001b[0m)    │          \u001b[38;5;34m0\u001b[0m │ dropout_8[\u001b[38;5;34m0\u001b[0m][\u001b[38;5;34m0\u001b[0m]   │\n",
       "│ (\u001b[38;5;33mMaxPooling1D\u001b[0m)      │                   │            │                   │\n",
       "├─────────────────────┼───────────────────┼────────────┼───────────────────┤\n",
       "│ conv1d_7 (\u001b[38;5;33mConv1D\u001b[0m)   │ (\u001b[38;5;45mNone\u001b[0m, \u001b[38;5;34m17\u001b[0m, \u001b[38;5;34m64\u001b[0m)    │     \u001b[38;5;34m12,352\u001b[0m │ max_pooling1d_6[\u001b[38;5;34m…\u001b[0m │\n",
       "├─────────────────────┼───────────────────┼────────────┼───────────────────┤\n",
       "│ batch_normalizatio… │ (\u001b[38;5;45mNone\u001b[0m, \u001b[38;5;34m17\u001b[0m, \u001b[38;5;34m64\u001b[0m)    │        \u001b[38;5;34m256\u001b[0m │ conv1d_7[\u001b[38;5;34m0\u001b[0m][\u001b[38;5;34m0\u001b[0m]    │\n",
       "│ (\u001b[38;5;33mBatchNormalizatio…\u001b[0m │                   │            │                   │\n",
       "├─────────────────────┼───────────────────┼────────────┼───────────────────┤\n",
       "│ dropout_9 (\u001b[38;5;33mDropout\u001b[0m) │ (\u001b[38;5;45mNone\u001b[0m, \u001b[38;5;34m17\u001b[0m, \u001b[38;5;34m64\u001b[0m)    │          \u001b[38;5;34m0\u001b[0m │ batch_normalizat… │\n",
       "├─────────────────────┼───────────────────┼────────────┼───────────────────┤\n",
       "│ max_pooling1d_7     │ (\u001b[38;5;45mNone\u001b[0m, \u001b[38;5;34m5\u001b[0m, \u001b[38;5;34m64\u001b[0m)     │          \u001b[38;5;34m0\u001b[0m │ dropout_9[\u001b[38;5;34m0\u001b[0m][\u001b[38;5;34m0\u001b[0m]   │\n",
       "│ (\u001b[38;5;33mMaxPooling1D\u001b[0m)      │                   │            │                   │\n",
       "├─────────────────────┼───────────────────┼────────────┼───────────────────┤\n",
       "│ bidirectional_6     │ (\u001b[38;5;45mNone\u001b[0m, \u001b[38;5;34m5\u001b[0m, \u001b[38;5;34m200\u001b[0m)    │    \u001b[38;5;34m132,000\u001b[0m │ max_pooling1d_7[\u001b[38;5;34m…\u001b[0m │\n",
       "│ (\u001b[38;5;33mBidirectional\u001b[0m)     │                   │            │                   │\n",
       "├─────────────────────┼───────────────────┼────────────┼───────────────────┤\n",
       "│ bidirectional_7     │ (\u001b[38;5;45mNone\u001b[0m, \u001b[38;5;34m5\u001b[0m, \u001b[38;5;34m200\u001b[0m)    │    \u001b[38;5;34m240,800\u001b[0m │ bidirectional_6[\u001b[38;5;34m…\u001b[0m │\n",
       "│ (\u001b[38;5;33mBidirectional\u001b[0m)     │                   │            │                   │\n",
       "├─────────────────────┼───────────────────┼────────────┼───────────────────┤\n",
       "│ multi_head_attenti… │ (\u001b[38;5;45mNone\u001b[0m, \u001b[38;5;34m5\u001b[0m, \u001b[38;5;34m200\u001b[0m)    │    \u001b[38;5;34m321,400\u001b[0m │ bidirectional_7[\u001b[38;5;34m…\u001b[0m │\n",
       "│ (\u001b[38;5;33mMultiHeadAttentio…\u001b[0m │                   │            │ bidirectional_7[\u001b[38;5;34m…\u001b[0m │\n",
       "├─────────────────────┼───────────────────┼────────────┼───────────────────┤\n",
       "│ dropout_11          │ (\u001b[38;5;45mNone\u001b[0m, \u001b[38;5;34m5\u001b[0m, \u001b[38;5;34m200\u001b[0m)    │          \u001b[38;5;34m0\u001b[0m │ multi_head_atten… │\n",
       "│ (\u001b[38;5;33mDropout\u001b[0m)           │                   │            │                   │\n",
       "├─────────────────────┼───────────────────┼────────────┼───────────────────┤\n",
       "│ flatten_1 (\u001b[38;5;33mFlatten\u001b[0m) │ (\u001b[38;5;45mNone\u001b[0m, \u001b[38;5;34m1000\u001b[0m)      │          \u001b[38;5;34m0\u001b[0m │ dropout_11[\u001b[38;5;34m0\u001b[0m][\u001b[38;5;34m0\u001b[0m]  │\n",
       "├─────────────────────┼───────────────────┼────────────┼───────────────────┤\n",
       "│ dense_3 (\u001b[38;5;33mDense\u001b[0m)     │ (\u001b[38;5;45mNone\u001b[0m, \u001b[38;5;34m3\u001b[0m)         │      \u001b[38;5;34m3,003\u001b[0m │ flatten_1[\u001b[38;5;34m0\u001b[0m][\u001b[38;5;34m0\u001b[0m]   │\n",
       "└─────────────────────┴───────────────────┴────────────┴───────────────────┘\n"
      ]
     },
     "metadata": {},
     "output_type": "display_data"
    },
    {
     "data": {
      "text/html": [
       "<pre style=\"white-space:pre;overflow-x:auto;line-height:normal;font-family:Menlo,'DejaVu Sans Mono',consolas,'Courier New',monospace\"><span style=\"font-weight: bold\"> Total params: </span><span style=\"color: #00af00; text-decoration-color: #00af00\">3,520,883</span> (13.43 MB)\n",
       "</pre>\n"
      ],
      "text/plain": [
       "\u001b[1m Total params: \u001b[0m\u001b[38;5;34m3,520,883\u001b[0m (13.43 MB)\n"
      ]
     },
     "metadata": {},
     "output_type": "display_data"
    },
    {
     "data": {
      "text/html": [
       "<pre style=\"white-space:pre;overflow-x:auto;line-height:normal;font-family:Menlo,'DejaVu Sans Mono',consolas,'Courier New',monospace\"><span style=\"font-weight: bold\"> Trainable params: </span><span style=\"color: #00af00; text-decoration-color: #00af00\">3,520,627</span> (13.43 MB)\n",
       "</pre>\n"
      ],
      "text/plain": [
       "\u001b[1m Trainable params: \u001b[0m\u001b[38;5;34m3,520,627\u001b[0m (13.43 MB)\n"
      ]
     },
     "metadata": {},
     "output_type": "display_data"
    },
    {
     "data": {
      "text/html": [
       "<pre style=\"white-space:pre;overflow-x:auto;line-height:normal;font-family:Menlo,'DejaVu Sans Mono',consolas,'Courier New',monospace\"><span style=\"font-weight: bold\"> Non-trainable params: </span><span style=\"color: #00af00; text-decoration-color: #00af00\">256</span> (1.00 KB)\n",
       "</pre>\n"
      ],
      "text/plain": [
       "\u001b[1m Non-trainable params: \u001b[0m\u001b[38;5;34m256\u001b[0m (1.00 KB)\n"
      ]
     },
     "metadata": {},
     "output_type": "display_data"
    }
   ],
   "source": [
    "from tensorflow.keras.layers import Input, Embedding, Conv1D, BatchNormalization, Dropout, MaxPooling1D, Bidirectional, LSTM, GlobalAveragePooling1D, Dense, MultiHeadAttention\n",
    "from tensorflow.keras.models import Model\n",
    "from tensorflow.keras.regularizers import l2\n",
    "from tensorflow.keras.optimizers import Adam\n",
    "\n",
    "# Define the Functional API model\n",
    "\n",
    "# Input layer\n",
    "inputs = Input(shape=(input_length,))\n",
    "\n",
    "# Embedding layer\n",
    "embedding = Embedding(vocab_size, Embedding_dimensions, input_length=input_length)(inputs)\n",
    "\n",
    "# CNN layer to extract local features\n",
    "conv1d = Conv1D(filters=64, kernel_size=3, activation='relu', padding=\"valid\")(embedding)\n",
    "batch = BatchNormalization()(conv1d)\n",
    "drop = Dropout(0.2)(batch)\n",
    "maxpool = MaxPooling1D(pool_size=3)(drop)\n",
    "\n",
    "conv1d_ = Conv1D(filters=64, kernel_size=3, activation='relu', padding=\"valid\")(maxpool)\n",
    "batch_normalization_ = BatchNormalization()(conv1d_)\n",
    "out = Dropout(0.2)(batch_normalization_)\n",
    "maxpool_ = MaxPooling1D(pool_size=3)(out)\n",
    "\n",
    "# Bi-LSTM layers with dropout\n",
    "bi_lstm_1 = Bidirectional(LSTM(100, return_sequences=True, kernel_regularizer=l2(0.001), \n",
    "                               recurrent_regularizer=l2(0.001), bias_regularizer=l2(0.001), \n",
    "                               dropout=0.2, recurrent_dropout=0.2))(maxpool_)\n",
    "\n",
    "bi_lstm_2 = Bidirectional(LSTM(100, return_sequences=True, kernel_regularizer=l2(0.001), \n",
    "                               recurrent_regularizer=l2(0.001), bias_regularizer=l2(0.001), \n",
    "                               dropout=0.2, recurrent_dropout=0.2))(bi_lstm_1)\n",
    "\n",
    "# Multi-Head Attention mechanism (using scaled dot-product attention)\n",
    "multi_head_attention = MultiHeadAttention(num_heads=4, key_dim=100)(bi_lstm_2, bi_lstm_2)\n",
    "\n",
    "# Dropout after multi-head attention layer\n",
    "dropout_attention = Dropout(0.2)(multi_head_attention)\n",
    "\n",
    "# Global Average Pooling\n",
    "pooled_output = Flatten()(dropout_attention)\n",
    "\n",
    "# Dense output layer for classification\n",
    "dense_output = Dense(3, activation='softmax')(pooled_output)  # Changed to softmax for multi-class classification\n",
    "\n",
    "# Build the model\n",
    "model4 = Model(inputs=inputs, outputs=dense_output)\n",
    "\n",
    "# Compile the model\n",
    "model4.compile(optimizer=Adam(learning_rate=1e-3), loss='sparse_categorical_crossentropy', metrics=['accuracy'])\n",
    "\n",
    "# Model summary\n",
    "model4.summary()\n"
   ]
  },
  {
   "cell_type": "code",
   "execution_count": 36,
   "id": "b19ec5ba-57e9-4a4e-aaf0-605f9bfa0b1b",
   "metadata": {},
   "outputs": [
    {
     "name": "stdout",
     "output_type": "stream",
     "text": [
      "Epoch 1/15\n",
      "\u001b[1m617/617\u001b[0m \u001b[32m━━━━━━━━━━━━━━━━━━━━\u001b[0m\u001b[37m\u001b[0m \u001b[1m13s\u001b[0m 15ms/step - accuracy: 0.5300 - loss: 1.5671 - val_accuracy: 0.6455 - val_loss: 0.9316\n",
      "Epoch 2/15\n",
      "\u001b[1m617/617\u001b[0m \u001b[32m━━━━━━━━━━━━━━━━━━━━\u001b[0m\u001b[37m\u001b[0m \u001b[1m9s\u001b[0m 14ms/step - accuracy: 0.7712 - loss: 0.6927 - val_accuracy: 0.6556 - val_loss: 0.8431\n",
      "Epoch 3/15\n",
      "\u001b[1m617/617\u001b[0m \u001b[32m━━━━━━━━━━━━━━━━━━━━\u001b[0m\u001b[37m\u001b[0m \u001b[1m9s\u001b[0m 14ms/step - accuracy: 0.8594 - loss: 0.4254 - val_accuracy: 0.5930 - val_loss: 1.3367\n",
      "Epoch 4/15\n",
      "\u001b[1m617/617\u001b[0m \u001b[32m━━━━━━━━━━━━━━━━━━━━\u001b[0m\u001b[37m\u001b[0m \u001b[1m9s\u001b[0m 14ms/step - accuracy: 0.9083 - loss: 0.2903 - val_accuracy: 0.6532 - val_loss: 1.0422\n",
      "Epoch 5/15\n",
      "\u001b[1m617/617\u001b[0m \u001b[32m━━━━━━━━━━━━━━━━━━━━\u001b[0m\u001b[37m\u001b[0m \u001b[1m9s\u001b[0m 14ms/step - accuracy: 0.9290 - loss: 0.2335 - val_accuracy: 0.6436 - val_loss: 1.0911\n",
      "Epoch 6/15\n",
      "\u001b[1m617/617\u001b[0m \u001b[32m━━━━━━━━━━━━━━━━━━━━\u001b[0m\u001b[37m\u001b[0m \u001b[1m9s\u001b[0m 14ms/step - accuracy: 0.9417 - loss: 0.1909 - val_accuracy: 0.6736 - val_loss: 1.1241\n",
      "Epoch 7/15\n",
      "\u001b[1m617/617\u001b[0m \u001b[32m━━━━━━━━━━━━━━━━━━━━\u001b[0m\u001b[37m\u001b[0m \u001b[1m9s\u001b[0m 14ms/step - accuracy: 0.9518 - loss: 0.1601 - val_accuracy: 0.6706 - val_loss: 1.0418\n",
      "Epoch 8/15\n",
      "\u001b[1m617/617\u001b[0m \u001b[32m━━━━━━━━━━━━━━━━━━━━\u001b[0m\u001b[37m\u001b[0m \u001b[1m9s\u001b[0m 14ms/step - accuracy: 0.9578 - loss: 0.1495 - val_accuracy: 0.6665 - val_loss: 1.3037\n",
      "Epoch 9/15\n",
      "\u001b[1m617/617\u001b[0m \u001b[32m━━━━━━━━━━━━━━━━━━━━\u001b[0m\u001b[37m\u001b[0m \u001b[1m9s\u001b[0m 14ms/step - accuracy: 0.9622 - loss: 0.1273 - val_accuracy: 0.6692 - val_loss: 1.2279\n",
      "Epoch 10/15\n",
      "\u001b[1m617/617\u001b[0m \u001b[32m━━━━━━━━━━━━━━━━━━━━\u001b[0m\u001b[37m\u001b[0m \u001b[1m9s\u001b[0m 15ms/step - accuracy: 0.9677 - loss: 0.1127 - val_accuracy: 0.6627 - val_loss: 1.4336\n",
      "Epoch 11/15\n",
      "\u001b[1m617/617\u001b[0m \u001b[32m━━━━━━━━━━━━━━━━━━━━\u001b[0m\u001b[37m\u001b[0m \u001b[1m9s\u001b[0m 15ms/step - accuracy: 0.9698 - loss: 0.1088 - val_accuracy: 0.6629 - val_loss: 1.7015\n",
      "Epoch 12/15\n",
      "\u001b[1m617/617\u001b[0m \u001b[32m━━━━━━━━━━━━━━━━━━━━\u001b[0m\u001b[37m\u001b[0m \u001b[1m9s\u001b[0m 15ms/step - accuracy: 0.9712 - loss: 0.1066 - val_accuracy: 0.6726 - val_loss: 1.4417\n",
      "Epoch 13/15\n",
      "\u001b[1m617/617\u001b[0m \u001b[32m━━━━━━━━━━━━━━━━━━━━\u001b[0m\u001b[37m\u001b[0m \u001b[1m9s\u001b[0m 15ms/step - accuracy: 0.9751 - loss: 0.0937 - val_accuracy: 0.6613 - val_loss: 1.4729\n",
      "Epoch 14/15\n",
      "\u001b[1m617/617\u001b[0m \u001b[32m━━━━━━━━━━━━━━━━━━━━\u001b[0m\u001b[37m\u001b[0m \u001b[1m9s\u001b[0m 15ms/step - accuracy: 0.9777 - loss: 0.0894 - val_accuracy: 0.6576 - val_loss: 1.5852\n",
      "Epoch 15/15\n",
      "\u001b[1m617/617\u001b[0m \u001b[32m━━━━━━━━━━━━━━━━━━━━\u001b[0m\u001b[37m\u001b[0m \u001b[1m9s\u001b[0m 15ms/step - accuracy: 0.9763 - loss: 0.0930 - val_accuracy: 0.6639 - val_loss: 1.6953\n"
     ]
    },
    {
     "data": {
      "text/plain": [
       "<keras.src.callbacks.history.History at 0x7e7e04dc1060>"
      ]
     },
     "execution_count": 36,
     "metadata": {},
     "output_type": "execute_result"
    }
   ],
   "source": [
    "model4.fit(paded_sequences, y_train, epochs=15, batch_size=32,validation_split=0.2)\n"
   ]
  },
  {
   "cell_type": "code",
   "execution_count": 37,
   "id": "b119f8a5-1eb0-462d-902c-f5e8040e3009",
   "metadata": {},
   "outputs": [
    {
     "name": "stdout",
     "output_type": "stream",
     "text": [
      "\u001b[1m193/193\u001b[0m \u001b[32m━━━━━━━━━━━━━━━━━━━━\u001b[0m\u001b[37m\u001b[0m \u001b[1m1s\u001b[0m 5ms/step\n",
      "Predictions: [0, 2, 2, 0, 1, 2, 2, 2, 2, 2, 0, 1, 2, 2, 1, 2, 2, 0, 0, 2, 2, 2, 0, 2, 0, 2, 2, 2, 2, 1, 2, 0, 1, 1, 2, 2, 1, 1, 0, 1, 1, 1, 2, 1, 2, 2, 2, 0, 1, 0, 2, 2, 2, 2, 1, 1, 1, 2, 1, 2, 1, 2, 1, 2, 2, 1, 2, 2, 0, 2, 2, 2, 1, 0, 2, 1, 0, 2, 2, 1, 1, 0, 1, 2, 1, 2, 0, 0, 1, 1, 2, 1, 2, 1, 2, 2, 1, 2, 1, 0, 2, 2, 0, 2, 2, 1, 1, 2, 1, 2, 1, 0, 1, 2, 2, 1, 2, 1, 2, 1, 0, 1, 1, 1, 1, 2, 2, 0, 2, 2, 2, 1, 1, 1, 1, 2, 1, 0, 1, 2, 2, 2, 0, 1, 0, 1, 2, 1, 2, 0, 1, 2, 2, 0, 1, 0, 0, 1, 0, 2, 0, 2, 2, 1, 0, 0, 0, 0, 2, 0, 2, 2, 1, 2, 0, 2, 2, 1, 1, 0, 2, 2, 2, 2, 1, 2, 1, 1, 2, 2, 0, 1, 1, 2, 1, 1, 2, 0, 2, 2, 0, 0, 0, 1, 2, 2, 2, 0, 1, 0, 2, 1, 1, 2, 2, 1, 2, 0, 2, 2, 2, 2, 1, 2, 2, 0, 0, 1, 2, 1, 1, 1, 1, 1, 2, 2, 0, 2, 2, 2, 2, 1, 1, 2, 2, 0, 2, 2, 0, 2, 2, 1, 0, 2, 2, 0, 1, 2, 2, 2, 2, 1, 1, 1, 0, 0, 1, 1, 1, 1, 2, 2, 1, 2, 2, 0, 1, 0, 0, 2, 0, 0, 2, 1, 0, 0, 1, 1, 1, 1, 2, 2, 1, 2, 1, 2, 1, 1, 2, 0, 0, 2, 1, 2, 1, 2, 2, 2, 2, 0, 2, 2, 2, 1, 0, 2, 0, 1, 2, 0, 1, 2, 2, 2, 2, 1, 2, 2, 1, 2, 0, 1, 2, 2, 2, 2, 2, 2, 2, 1, 0, 2, 2, 2, 1, 2, 1, 2, 1, 1, 1, 2, 0, 2, 2, 1, 1, 1, 0, 0, 2, 1, 2, 2, 1, 2, 0, 2, 2, 2, 1, 2, 2, 0, 2, 1, 2, 2, 2, 2, 1, 1, 1, 1, 2, 2, 2, 0, 1, 1, 2, 1, 2, 1, 0, 1, 2, 0, 2, 1, 1, 1, 2, 0, 1, 1, 0, 1, 2, 0, 0, 2, 0, 0, 2, 2, 1, 2, 2, 1, 2, 1, 2, 1, 2, 2, 1, 0, 2, 2, 1, 2, 2, 0, 2, 2, 2, 1, 2, 0, 2, 0, 2, 1, 2, 2, 2, 2, 1, 0, 1, 2, 0, 2, 1, 0, 0, 2, 1, 0, 1, 2, 2, 1, 2, 1, 1, 2, 2, 2, 2, 1, 2, 0, 2, 1, 0, 2, 0, 2, 1, 0, 2, 2, 2, 2, 2, 2, 0, 2, 2, 2, 1, 0, 2, 1, 2, 1, 0, 2, 2, 2, 1, 2, 2, 2, 1, 2, 0, 1, 0, 2, 2, 0, 1, 0, 2, 2, 1, 2, 2, 1, 2, 0, 0, 2, 1, 2, 2, 1, 0, 1, 1, 0, 1, 0, 1, 2, 0, 2, 1, 2, 1, 2, 1, 1, 2, 2, 1, 0, 1, 0, 0, 1, 2, 2, 1, 0, 2, 1, 0, 2, 1, 1, 2, 1, 1, 1, 2, 2, 2, 1, 0, 0, 2, 2, 2, 2, 2, 1, 0, 2, 2, 2, 2, 1, 2, 1, 2, 0, 1, 2, 2, 0, 2, 2, 2, 1, 2, 2, 0, 2, 2, 1, 2, 1, 2, 2, 2, 1, 2, 2, 2, 1, 2, 0, 2, 1, 2, 1, 1, 0, 0, 0, 2, 2, 1, 1, 0, 1, 1, 1, 0, 2, 1, 0, 2, 1, 2, 1, 1, 2, 1, 2, 0, 1, 1, 1, 1, 2, 2, 2, 1, 2, 2, 0, 2, 2, 2, 0, 2, 2, 1, 0, 1, 2, 1, 1, 2, 2, 2, 1, 2, 0, 2, 0, 1, 2, 2, 2, 2, 2, 2, 1, 2, 2, 1, 0, 2, 2, 2, 1, 2, 0, 0, 1, 2, 1, 2, 1, 2, 2, 1, 0, 2, 1, 2, 2, 1, 2, 2, 2, 1, 0, 2, 1, 0, 2, 2, 0, 1, 1, 0, 2, 1, 2, 2, 0, 1, 2, 1, 0, 0, 2, 0, 1, 2, 2, 2, 2, 1, 1, 2, 2, 2, 1, 2, 2, 0, 1, 1, 1, 2, 2, 1, 2, 0, 0, 1, 1, 2, 1, 1, 1, 2, 0, 2, 1, 2, 1, 1, 2, 1, 2, 2, 2, 2, 2, 0, 1, 2, 2, 2, 1, 0, 2, 1, 2, 0, 2, 1, 1, 2, 2, 2, 2, 2, 1, 2, 0, 1, 2, 2, 1, 2, 0, 2, 1, 0, 0, 1, 2, 2, 1, 2, 0, 0, 1, 2, 0, 2, 1, 1, 1, 1, 2, 2, 0, 0, 2, 1, 2, 2, 0, 1, 2, 1, 2, 0, 2, 1, 2, 0, 2, 0, 2, 1, 1, 1, 2, 1, 2, 1, 1, 1, 1, 2, 1, 2, 1, 1, 1, 2, 1, 2, 1, 2, 1, 1, 1, 2, 2, 1, 0, 1, 2, 0, 1, 0, 2, 2, 0, 2, 0, 2, 0, 1, 1, 2, 1, 2, 0, 1, 2, 1, 2, 2, 1, 0, 2, 2, 1, 1, 0, 2, 2, 0, 2, 2, 2, 2, 2, 1, 1, 0, 0, 2, 2, 2, 0, 2, 1, 2, 2, 1, 1, 2, 1, 1, 2, 1, 1, 2, 0, 1, 0, 2, 2, 1, 2, 2, 2, 2, 0, 0, 2, 0, 2, 1, 1, 0, 1, 0, 1, 0, 2, 1, 1, 0, 2, 1, 2, 2, 2, 2, 1, 2, 2, 2, 2, 2, 2, 2, 0, 2, 0, 2, 0, 1, 1, 2, 1, 1, 2, 2, 0, 1, 1, 0, 2, 2, 1, 1, 2, 2, 1, 2, 1, 2, 2, 1, 2, 1, 2, 1, 1, 1, 2, 2, 0, 1, 1, 0, 1, 2, 2, 2, 1, 0, 2, 2, 2, 0, 2, 2, 2, 2, 2, 2, 0, 2, 2, 0, 2, 2, 2, 1, 1, 1, 2, 2, 1, 2, 1, 1, 1, 2, 0, 1, 0, 1, 1, 2, 0, 1, 1, 2, 2, 2, 0, 2, 2, 0, 1, 1, 2, 0, 2, 1, 0, 0, 1, 2, 2, 2, 1, 1, 1, 1, 2, 2, 1, 2, 1, 0, 2, 1, 1, 1, 0, 2, 2, 1, 0, 2, 0, 1, 2, 2, 2, 0, 0, 0, 1, 0, 2, 2, 1, 2, 1, 2, 0, 0, 2, 1, 1, 2, 2, 2, 2, 1, 1, 2, 1, 2, 2, 2, 1, 1, 0, 0, 0, 1, 2, 2, 2, 2, 1, 1, 2, 2, 2, 1, 2, 1, 2, 1, 0, 2, 0, 2, 2, 2, 1, 2, 2, 2, 1, 2, 2, 0, 0, 2, 1, 1, 1, 1, 0, 2, 1, 2, 0, 0, 0, 2, 2, 2, 0, 2, 1, 1, 1, 2, 1, 1, 2, 0, 1, 1, 0, 2, 2, 1, 2, 0, 2, 0, 2, 1, 2, 2, 1, 1, 2, 0, 2, 2, 1, 2, 2, 1, 2, 2, 2, 0, 2, 0, 2, 2, 0, 1, 2, 2, 2, 2, 0, 2, 2, 1, 2, 1, 1, 0, 2, 0, 0, 0, 0, 0, 2, 2, 2, 2, 1, 2, 2, 1, 1, 1, 1, 2, 2, 0, 2, 2, 0, 2, 1, 2, 2, 2, 2, 1, 1, 2, 1, 2, 2, 0, 2, 0, 2, 1, 0, 2, 2, 2, 1, 2, 1, 1, 1, 2, 1, 2, 2, 1, 0, 2, 1, 1, 2, 2, 0, 0, 1, 2, 2, 2, 1, 0, 1, 1, 1, 2, 2, 2, 1, 1, 1, 2, 1, 1, 2, 0, 1, 0, 1, 2, 2, 2, 1, 2, 0, 1, 1, 2, 2, 2, 1, 2, 2, 2, 2, 2, 1, 2, 1, 1, 0, 2, 2, 1, 0, 0, 2, 2, 0, 2, 2, 0, 2, 2, 2, 2, 0, 1, 2, 1, 1, 2, 2, 2, 2, 2, 2, 2, 2, 2, 1, 2, 2, 2, 1, 0, 2, 2, 2, 2, 2, 2, 2, 1, 2, 1, 2, 2, 1, 1, 2, 1, 0, 1, 0, 2, 2, 1, 2, 1, 1, 2, 2, 2, 2, 1, 2, 1, 1, 1, 1, 2, 2, 1, 2, 2, 1, 1, 2, 1, 2, 1, 2, 1, 2, 1, 0, 1, 2, 1, 2, 0, 2, 2, 2, 0, 2, 2, 2, 2, 1, 0, 1, 2, 1, 2, 0, 1, 2, 1, 1, 2, 2, 2, 2, 2, 1, 2, 2, 2, 2, 1, 1, 2, 2, 2, 0, 1, 1, 2, 0, 2, 2, 1, 2, 2, 1, 2, 1, 0, 2, 2, 1, 1, 2, 2, 0, 1, 1, 2, 0, 2, 1, 2, 1, 0, 2, 1, 0, 1, 2, 1, 1, 0, 2, 1, 1, 2, 2, 2, 1, 2, 2, 1, 2, 0, 1, 1, 0, 0, 2, 2, 2, 1, 2, 1, 1, 2, 1, 2, 2, 2, 0, 1, 0, 2, 2, 1, 2, 0, 0, 2, 1, 2, 0, 0, 2, 2, 2, 2, 2, 1, 0, 0, 0, 2, 1, 2, 1, 1, 1, 2, 1, 1, 1, 1, 2, 2, 0, 1, 0, 2, 2, 0, 0, 2, 1, 1, 2, 1, 2, 0, 2, 1, 1, 1, 1, 0, 2, 0, 2, 2, 0, 1, 1, 2, 1, 1, 1, 0, 2, 2, 2, 0, 1, 2, 0, 1, 2, 2, 0, 2, 0, 2, 2, 1, 0, 0, 2, 1, 2, 2, 2, 1, 2, 1, 1, 2, 1, 1, 1, 2, 1, 2, 2, 2, 1, 2, 2, 1, 1, 0, 1, 2, 2, 1, 2, 0, 0, 2, 2, 2, 2, 0, 0, 2, 2, 2, 2, 1, 1, 2, 1, 2, 2, 2, 1, 2, 2, 1, 1, 2, 2, 1, 0, 1, 1, 2, 2, 1, 2, 0, 2, 1, 1, 2, 2, 1, 0, 0, 0, 2, 1, 1, 2, 0, 2, 1, 2, 1, 2, 2, 2, 2, 2, 1, 2, 1, 0, 1, 2, 2, 1, 2, 0, 1, 1, 2, 0, 2, 1, 2, 2, 1, 1, 2, 2, 1, 1, 1, 2, 0, 1, 2, 2, 1, 2, 2, 2, 0, 2, 0, 2, 2, 0, 2, 2, 2, 2, 0, 1, 2, 1, 1, 1, 2, 1, 1, 0, 0, 1, 1, 1, 0, 2, 2, 1, 2, 0, 2, 2, 1, 1, 0, 2, 2, 1, 2, 2, 0, 2, 0, 1, 2, 2, 0, 2, 2, 1, 1, 1, 2, 1, 1, 1, 1, 0, 2, 1, 0, 2, 2, 2, 1, 2, 1, 0, 2, 2, 1, 1, 0, 2, 2, 1, 2, 1, 2, 1, 2, 0, 2, 2, 2, 2, 1, 1, 1, 2, 1, 2, 0, 0, 0, 2, 2, 2, 1, 2, 0, 1, 2, 2, 2, 0, 2, 2, 2, 2, 2, 2, 2, 1, 0, 2, 1, 2, 1, 1, 2, 1, 1, 2, 2, 0, 1, 1, 0, 0, 1, 1, 2, 0, 1, 2, 2, 1, 2, 0, 0, 1, 1, 2, 2, 2, 1, 2, 0, 1, 0, 2, 2, 2, 2, 0, 2, 2, 1, 1, 2, 2, 1, 1, 2, 2, 1, 2, 2, 1, 0, 2, 1, 2, 2, 1, 1, 0, 2, 2, 1, 0, 1, 0, 2, 2, 2, 2, 2, 2, 0, 1, 1, 2, 2, 0, 2, 2, 0, 1, 0, 1, 1, 2, 0, 2, 1, 1, 1, 2, 2, 2, 0, 2, 0, 1, 1, 1, 1, 2, 1, 2, 2, 2, 2, 2, 2, 1, 2, 2, 2, 0, 1, 1, 1, 2, 0, 0, 2, 0, 2, 1, 2, 1, 0, 0, 0, 0, 2, 2, 1, 2, 2, 1, 0, 2, 2, 1, 2, 0, 2, 2, 0, 2, 2, 2, 2, 2, 0, 1, 0, 2, 2, 1, 1, 2, 1, 1, 2, 1, 2, 2, 1, 2, 1, 0, 1, 1, 1, 2, 2, 2, 2, 0, 2, 2, 1, 1, 2, 2, 2, 1, 2, 2, 2, 2, 1, 1, 2, 2, 2, 0, 2, 1, 0, 0, 1, 1, 2, 2, 2, 0, 0, 1, 2, 2, 2, 2, 0, 2, 1, 1, 2, 2, 1, 2, 2, 0, 0, 1, 0, 1, 1, 2, 2, 1, 2, 1, 1, 0, 2, 0, 1, 1, 2, 1, 0, 1, 1, 1, 2, 2, 0, 0, 2, 1, 1, 2, 2, 1, 0, 2, 0, 2, 1, 2, 2, 0, 2, 1, 2, 2, 0, 2, 2, 2, 2, 2, 2, 2, 2, 2, 2, 1, 2, 2, 2, 1, 2, 2, 2, 2, 2, 2, 2, 2, 1, 2, 0, 2, 2, 2, 2, 0, 1, 0, 0, 2, 2, 2, 2, 0, 1, 2, 2, 1, 0, 1, 2, 2, 1, 0, 2, 2, 0, 0, 2, 1, 0, 0, 2, 1, 0, 1, 2, 2, 2, 1, 0, 1, 2, 1, 0, 2, 0, 2, 1, 2, 2, 2, 1, 2, 1, 2, 0, 0, 1, 2, 1, 0, 2, 1, 1, 0, 2, 2, 1, 1, 2, 2, 2, 2, 0, 2, 2, 0, 2, 2, 0, 2, 2, 2, 2, 0, 1, 2, 2, 1, 2, 2, 1, 1, 2, 2, 2, 2, 1, 2, 2, 1, 0, 2, 2, 2, 0, 2, 0, 0, 2, 1, 2, 2, 2, 2, 2, 1, 0, 2, 0, 2, 1, 1, 0, 0, 2, 1, 2, 0, 0, 0, 2, 1, 0, 2, 0, 0, 1, 2, 2, 0, 0, 2, 1, 0, 1, 1, 2, 2, 0, 2, 2, 2, 0, 2, 2, 1, 1, 1, 0, 1, 2, 2, 2, 0, 1, 1, 1, 2, 2, 0, 1, 2, 1, 1, 2, 2, 1, 1, 2, 2, 2, 2, 1, 0, 2, 1, 2, 2, 0, 1, 1, 0, 0, 1, 1, 1, 2, 2, 0, 2, 1, 2, 2, 1, 1, 2, 1, 1, 0, 0, 2, 2, 2, 2, 2, 2, 1, 2, 2, 2, 1, 1, 1, 2, 1, 2, 1, 0, 2, 1, 2, 2, 2, 2, 1, 2, 1, 2, 2, 2, 0, 2, 2, 0, 2, 2, 0, 0, 2, 2, 2, 2, 2, 2, 1, 2, 0, 1, 2, 2, 2, 1, 2, 2, 2, 2, 1, 1, 2, 1, 2, 1, 2, 2, 2, 2, 1, 1, 2, 2, 1, 2, 1, 1, 1, 1, 2, 2, 1, 0, 1, 2, 1, 1, 1, 2, 1, 1, 2, 0, 1, 0, 2, 2, 1, 1, 2, 2, 1, 2, 0, 1, 1, 1, 2, 2, 2, 2, 1, 1, 2, 1, 0, 0, 0, 2, 2, 2, 0, 1, 2, 2, 2, 2, 2, 0, 2, 2, 0, 2, 0, 2, 2, 2, 0, 2, 1, 2, 0, 2, 2, 1, 0, 1, 2, 2, 0, 1, 2, 2, 2, 0, 2, 1, 2, 2, 0, 1, 1, 2, 2, 1, 2, 2, 2, 2, 1, 1, 2, 0, 2, 0, 2, 0, 1, 0, 1, 2, 0, 0, 2, 2, 1, 1, 2, 0, 0, 2, 0, 2, 2, 1, 2, 0, 0, 0, 1, 2, 2, 0, 2, 2, 0, 2, 2, 1, 1, 0, 1, 0, 1, 1, 0, 2, 2, 2, 2, 2, 2, 2, 0, 1, 0, 0, 1, 2, 2, 2, 0, 2, 2, 1, 2, 2, 2, 2, 2, 0, 1, 1, 2, 2, 0, 2, 2, 2, 1, 0, 0, 0, 2, 1, 1, 1, 1, 2, 2, 0, 1, 2, 0, 2, 1, 2, 1, 2, 1, 2, 2, 2, 1, 0, 0, 0, 1, 2, 2, 0, 2, 2, 1, 1, 2, 0, 2, 2, 0, 0, 2, 0, 0, 2, 2, 1, 2, 2, 1, 2, 1, 2, 2, 2, 2, 2, 0, 2, 2, 2, 1, 2, 0, 1, 2, 2, 0, 2, 1, 0, 1, 2, 2, 0, 1, 2, 2, 2, 2, 1, 2, 0, 2, 2, 2, 2, 2, 1, 2, 2, 2, 2, 1, 0, 2, 2, 1, 0, 2, 2, 1, 1, 2, 2, 2, 2, 0, 2, 2, 2, 1, 2, 2, 2, 1, 2, 1, 0, 2, 0, 2, 1, 2, 2, 1, 1, 2, 0, 0, 2, 2, 2, 2, 1, 1, 1, 1, 1, 0, 1, 2, 1, 0, 1, 2, 2, 1, 2, 2, 2, 2, 1, 1, 1, 2, 2, 2, 2, 0, 0, 2, 1, 1, 2, 2, 1, 2, 0, 0, 2, 1, 2, 1, 2, 0, 1, 2, 2, 0, 2, 1, 0, 2, 0, 2, 2, 2, 2, 2, 2, 0, 2, 2, 2, 0, 2, 2, 2, 2, 0, 2, 0, 2, 2, 0, 2, 2, 2, 2, 2, 0, 1, 0, 1, 1, 0, 2, 2, 2, 1, 0, 1, 2, 1, 1, 1, 2, 1, 0, 2, 0, 2, 0, 0, 1, 2, 2, 2, 1, 2, 2, 2, 2, 0, 0, 2, 2, 2, 1, 0, 2, 1, 2, 1, 1, 0, 1, 0, 2, 1, 2, 2, 2, 2, 1, 2, 1, 1, 1, 2, 2, 1, 1, 2, 2, 2, 1, 1, 1, 1, 2, 0, 0, 1, 1, 2, 2, 2, 2, 0, 2, 1, 2, 0, 1, 0, 1, 0, 2, 2, 2, 2, 1, 2, 1, 2, 1, 2, 1, 1, 2, 0, 2, 2, 1, 2, 0, 1, 1, 2, 1, 2, 2, 1, 1, 1, 0, 0, 0, 1, 0, 2, 0, 1, 2, 1, 1, 1, 1, 1, 2, 2, 2, 2, 0, 2, 2, 0, 2, 2, 0, 2, 2, 2, 0, 1, 0, 1, 2, 0, 2, 2, 0, 1, 2, 2, 0, 1, 2, 1, 0, 0, 2, 2, 2, 1, 1, 2, 1, 0, 1, 1, 2, 1, 2, 2, 0, 0, 0, 2, 2, 1, 0, 1, 1, 2, 1, 2, 2, 1, 2, 0, 2, 0, 2, 2, 0, 1, 2, 2, 2, 0, 1, 1, 0, 2, 1, 2, 0, 0, 1, 2, 2, 2, 0, 2, 2, 1, 2, 0, 2, 0, 1, 2, 0, 2, 2, 1, 2, 1, 2, 1, 1, 2, 0, 2, 2, 0, 1, 2, 2, 2, 2, 0, 2, 2, 1, 1, 0, 0, 2, 2, 2, 2, 2, 1, 2, 1, 2, 2, 2, 2, 1, 2, 2, 1, 1, 2, 1, 2, 2, 1, 2, 1, 1, 2, 2, 2, 2, 1, 1, 1, 2, 0, 2, 0, 0, 2, 2, 1, 2, 0, 0, 1, 0, 1, 0, 1, 1, 2, 1, 2, 1, 2, 0, 1, 2, 1, 2, 0, 0, 2, 1, 2, 1, 2, 2, 2, 1, 1, 1, 0, 1, 2, 0, 2, 1, 2, 2, 1, 2, 2, 2, 1, 1, 2, 2, 1, 0, 2, 0, 2, 2, 0, 2, 2, 2, 2, 0, 2, 2, 1, 2, 0, 1, 0, 2, 0, 2, 0, 2, 1, 2, 2, 1, 2, 2, 1, 0, 1, 1, 1, 0, 2, 1, 0, 2, 1, 2, 1, 1, 2, 2, 2, 1, 1, 0, 2, 1, 1, 0, 1, 2, 2, 0, 2, 1, 2, 2, 1, 1, 1, 0, 1, 1, 1, 2, 1, 2, 1, 2, 0, 2, 1, 2, 0, 1, 2, 1, 1, 0, 0, 1, 0, 1, 1, 1, 2, 2, 2, 0, 1, 1, 0, 0, 0, 2, 2, 2, 0, 1, 2, 2, 2, 0, 1, 1, 2, 2, 2, 2, 1, 1, 1, 2, 2, 1, 0, 1, 1, 2, 1, 1, 2, 1, 2, 2, 1, 2, 1, 1, 2, 2, 1, 2, 0, 2, 2, 1, 2, 1, 0, 2, 1, 0, 1, 2, 1, 2, 1, 2, 1, 2, 0, 1, 2, 2, 2, 2, 0, 0, 2, 1, 2, 1, 1, 2, 2, 2, 2, 2, 0, 1, 0, 0, 2, 2, 0, 1, 2, 1, 0, 2, 0, 1, 0, 1, 2, 2, 2, 2, 1, 2, 2, 0, 1, 1, 0, 1, 2, 1, 2, 1, 0, 2, 2, 1, 2, 2, 0, 2, 2, 1, 2, 1, 0, 2, 1, 2, 0, 2, 1, 1, 0, 0, 0, 1, 2, 0, 2, 1, 1, 1, 2, 1, 1, 2, 2, 1, 2, 1, 0, 0, 2, 0, 2, 1, 1, 0, 0, 2, 2, 0, 2, 1, 1, 0, 1, 2, 1, 2, 1, 2, 1, 2, 2, 1, 0, 1, 2, 2, 2, 2, 2, 1, 0, 2, 2, 1, 0, 1, 0, 1, 2, 0, 1, 1, 1, 2, 2, 1, 2, 2, 2, 0, 2, 2, 1, 1, 1, 2, 2, 1, 1, 1, 2, 2, 2, 2, 2, 2, 2, 1, 2, 1, 2, 2, 0, 2, 1, 2, 1, 2, 2, 2, 2, 1, 2, 2, 0, 1, 2, 1, 1, 2, 1, 2, 2, 1, 1, 2, 2, 2, 2, 0, 1, 2, 2, 2, 1, 2, 0, 2, 0, 2, 1, 2, 2, 2, 2, 1, 1, 1, 2, 2, 2, 0, 2, 2, 2, 2, 2, 0, 1, 2, 2, 2, 1, 2, 2, 0, 0, 2, 2, 1, 2, 2, 2, 2, 1, 2, 2, 2, 0, 2, 2, 2, 1, 0, 2, 1, 2, 2, 1, 1, 1, 1, 0, 0, 2, 0, 2, 1, 2, 0, 2, 1, 2, 0, 1, 1, 2, 2, 1, 0, 2, 2, 2, 2, 0, 1, 0, 0, 2, 2, 1, 0, 1, 2, 1, 1, 2, 2, 1, 2, 2, 2, 2, 2, 1, 2, 2, 2, 1, 1, 2, 2, 2, 2, 0, 0, 2, 2, 2, 1, 2, 2, 1, 2, 2, 2, 2, 2, 0, 2, 2, 0, 0, 2, 1, 2, 1, 2, 2, 1, 2, 1, 2, 1, 1, 1, 2, 2, 0, 2, 0, 0, 1, 1, 0, 2, 1, 2, 1, 2, 1, 2, 1, 1, 2, 1, 0, 0, 0, 0, 2, 1, 1, 0, 0, 2, 1, 1, 0, 1, 1, 1, 2, 1, 1, 2, 1, 0, 2, 2, 0, 2, 2, 2, 2, 2, 2, 1, 1, 0, 2, 0, 1, 0, 2, 2, 0, 1, 2, 2, 2, 2, 1, 2, 1, 1, 0, 2, 2, 2, 0, 1, 2, 2, 2, 2, 0, 2, 1, 1, 2, 2, 1, 1, 2, 2, 2, 1, 0, 2, 1, 0, 0, 1, 2, 2, 2, 0, 2, 1, 2, 2, 0, 2, 1, 2, 1, 2, 0, 0, 1, 1, 1, 2, 0, 2, 1, 1, 0, 1, 2, 0, 2, 2, 2, 2, 0, 2, 2, 1, 0, 2, 1, 1, 2, 0, 2, 2, 2, 2, 1, 1, 1, 2, 0, 1, 1, 2, 2, 0, 0, 1, 2, 0, 1, 2, 2, 2, 0, 2, 2, 1, 1, 2, 2, 2, 2, 1, 0, 0, 1, 0, 2, 2, 1, 0, 0, 2, 0, 1, 1, 2, 2, 0, 1, 2, 1, 0, 1, 2, 1, 2, 2, 2, 1, 2, 2, 2, 2, 2, 2, 1, 2, 2, 1, 0, 1, 2, 2, 1, 1, 1, 2, 2, 2, 2, 1, 1, 2, 0, 0, 0, 2, 0, 2, 1, 2, 0, 2, 2, 2, 2, 2, 2, 2, 0, 0, 1, 2, 0, 2, 2, 2, 1, 2, 0, 2, 0, 2, 0, 2, 1, 1, 0, 1, 0, 2, 1, 2, 0, 1, 2, 2, 2, 2, 2, 0, 2, 2, 2, 0, 2, 2, 2, 2, 2, 1, 2, 1, 2, 2, 0, 2, 1, 2, 2, 1, 2, 2, 1, 2, 2, 2, 1, 0, 1, 2, 0, 2, 2, 1, 1, 2, 2, 0, 1, 2, 2, 2, 2, 1, 2, 2, 2, 2, 2, 1, 2, 1, 2, 2, 2, 0, 1, 1, 2, 0, 1, 2, 2, 2, 1, 2, 0, 2, 1, 0, 1, 1, 0, 0, 0, 1, 2, 0, 2, 1, 1, 2, 1, 2, 2, 2, 2, 2, 2, 2, 0, 1, 1, 2, 0, 2, 2, 1, 1, 0, 1, 2, 1, 2, 2, 2, 2, 2, 2, 0, 2, 2, 0, 1, 0, 1, 1, 1, 1, 2, 1, 2, 2, 2, 2, 1, 0, 1, 2, 1, 2, 1, 2, 2, 2, 2, 2, 2, 2, 1, 1, 0, 1, 2, 1, 2, 2, 1, 1, 2, 1, 2, 1, 1, 1, 1, 2, 1, 0, 0, 2, 2, 1, 0, 2, 1, 0, 2, 2, 1, 0, 1, 1, 0, 1, 2, 2, 1, 0, 2, 1, 2, 0, 1, 2, 2, 0, 2, 1, 0, 1, 1, 2, 2, 0, 2, 2, 2, 0, 1, 2, 0, 2, 2, 0, 2, 2, 2, 2, 0, 2, 2, 1, 2, 2, 1, 2, 2, 1, 0, 2, 2, 2, 1, 0, 0, 2, 1, 1, 2, 1, 2, 1, 0, 2, 2, 1, 2, 0, 2, 0, 1, 1, 0, 1, 0, 1, 0, 2, 2, 0, 1, 2, 1, 0, 1, 2, 2, 2, 2, 2, 2, 1, 1, 1, 1, 1, 2, 0, 1, 1, 2, 1, 1, 2, 1, 1, 1, 2, 2, 2, 2, 1, 2, 2, 2, 1, 0, 1, 2, 0, 2, 1, 1, 1, 1, 0, 2, 2, 0, 2, 2, 1, 2, 2, 1, 0, 1, 1, 0, 2, 2, 0, 2, 2, 0, 1, 1, 1, 1, 2, 2, 0, 1, 2, 1, 1, 2, 2, 1, 0, 0, 2, 0, 2, 1, 1, 2, 1, 1, 0, 2, 0, 1, 0, 2, 2, 2, 1, 2, 0, 0, 2, 1, 1, 0, 2, 2, 1, 1, 2, 0, 2, 0, 2, 2, 1, 0, 2, 2, 1, 2, 2, 1, 0, 1, 0, 2, 1, 2, 2, 1, 1, 2, 1, 1, 2, 2, 1, 2, 2, 2, 1, 1, 2, 0, 2, 2, 1, 0, 2, 1, 0, 1, 1, 2, 1, 2, 2, 1, 1, 1, 2, 2, 2, 2, 2, 2, 0, 2, 1, 2, 1, 0, 0, 2, 2, 0, 1, 2, 0, 0, 0, 2, 1, 0, 2, 2, 0, 0, 2, 1, 0, 1, 1, 2, 2, 2, 2, 2, 1, 1, 0, 2, 2, 2, 2, 0, 1, 2, 2, 1, 2, 2, 2, 1, 2, 2, 2, 1, 2, 0, 2, 2, 2, 2, 1, 2, 0, 1, 1, 0, 2, 1, 2, 2, 2, 2, 2, 2, 1, 2, 2, 1, 0, 0, 2, 1, 2, 1, 2, 1, 2, 1, 0, 2, 1, 2, 1, 1, 1, 2, 1, 0, 2, 1, 2, 2, 1, 2, 2, 2, 2, 2, 2, 2, 1, 0, 0, 1, 2, 0, 2, 0, 2, 0, 1, 2, 2, 1, 0, 2, 2, 0, 0, 1, 2, 1, 2, 1, 2, 2, 1, 1, 2, 2, 1, 1, 2, 1, 2, 2, 2, 2, 2, 0, 2, 2, 1, 2, 0, 2, 2, 1, 1, 2, 2, 2, 1, 0, 2, 2, 1, 2, 2, 2, 2, 2, 2, 2, 1, 2, 2, 0, 1, 2, 2, 0, 1, 2, 1, 1, 1, 2, 2, 0, 2, 2, 0, 1, 1, 0, 1, 2, 1, 2, 2, 0, 1, 2, 2, 1, 1, 2, 2, 0, 2, 2, 1, 2, 2, 1, 0, 2, 2, 1, 0, 1, 1, 1, 2, 2, 2, 2, 2, 2, 1, 2, 2, 2, 0, 2, 0, 1, 1, 2, 2, 1, 0, 1, 2, 1, 2, 0, 2, 1, 1, 2, 1, 2, 1, 1, 2, 0, 1, 2, 2, 1, 1, 1, 1, 2, 2, 2, 0, 2, 1, 2, 0, 2, 2, 1, 1, 1, 1, 0, 2, 2, 2, 2, 0, 2, 2, 2, 1, 1, 0, 1, 0, 2, 0, 1, 1, 1, 1, 0, 0, 2, 1, 1, 1, 2, 2, 2, 2, 1, 1, 2, 2, 0, 2, 2, 2, 2, 0, 1, 0, 1, 2, 2, 1, 2, 2, 2, 1, 2, 1, 0, 1, 0, 2, 1, 0, 2, 2, 2, 1, 2, 1, 0, 2, 2, 2, 1, 2, 2, 2, 2, 1, 1, 2, 2, 2, 2, 2, 2, 2, 2, 0, 2, 2, 0, 2, 2, 0, 2, 2, 2, 2, 2, 1, 1, 2, 1, 0, 1, 0, 2, 1, 2, 0, 1, 2, 0, 1, 2, 0, 0, 2, 2, 2, 0, 2, 1, 2, 2, 1, 2, 1, 1, 0, 2, 1, 0, 2, 1, 1, 2, 1, 2, 2, 0, 2, 1, 0, 2, 0, 2, 1, 2, 2, 2, 2, 1, 1, 1, 0, 0, 1, 1, 1, 1, 1, 2, 1, 2, 2, 2, 1, 1, 1, 0, 1, 2, 1, 1, 2, 2, 0, 0, 2, 2, 1, 2, 2, 1, 1, 2, 2, 1, 2, 2, 1, 1, 1, 1, 1, 1, 1, 2, 0, 1, 1, 1, 1, 1, 2, 2, 2, 0, 1, 2, 2, 1, 0, 1, 2, 2, 2, 2, 2, 0, 0, 2, 1, 1, 2, 1, 2, 0, 1, 1, 2, 0, 2, 1, 1, 2, 1, 1, 2, 1, 2, 2, 1, 2, 0, 2, 2, 1, 0, 2, 1, 2, 1, 1, 2, 1, 2, 2, 1, 1, 1, 2, 2, 2, 2, 2, 0, 1, 0, 1, 1, 2, 0, 1, 0, 1, 2, 2, 0, 2, 2, 0, 0, 2, 1, 0, 2, 0, 1, 2, 2, 1, 1, 2, 1, 2, 2, 0, 2, 1, 0, 1, 1, 0, 0, 1, 2, 2, 0, 2, 0, 2, 2, 2, 1, 2, 2, 0, 2, 2, 1, 0, 1, 2, 2, 0, 1, 0, 2, 1, 2, 2, 1, 2, 2, 1, 2, 2, 1, 1, 2, 2, 0, 2, 1, 2, 2, 2, 2, 0, 2, 2, 1, 0, 1, 1, 2, 1, 0, 1, 0, 2, 1, 2, 0, 0, 0, 1, 1, 1, 0, 2, 2, 2, 0, 0, 1, 2, 2, 2, 1, 1, 0, 2, 1, 2, 2, 2, 2, 1, 2, 1, 1, 2, 0, 2, 1, 0, 2, 1, 0, 1, 1, 1, 1, 2, 2, 2, 0, 2, 2, 2, 1, 0, 2, 1, 1, 0, 2, 1, 1, 2, 1, 1, 2, 2, 1, 1, 1, 1, 1, 1, 1, 2, 2, 2, 2, 2, 1, 0, 1, 1, 1, 1, 1, 2, 0, 1, 2, 0, 0, 2, 2, 0, 0, 2, 2, 2, 2, 0, 1, 0, 1, 1, 1, 2, 2, 0, 0, 2, 0, 2, 1, 2, 1, 1, 2, 0, 2, 2, 1, 1, 0, 2, 2, 2, 1, 1, 0, 2, 2, 0, 0, 2, 2, 2, 1, 2, 1, 1, 2, 0, 2, 1, 1, 2, 0, 2, 2, 0, 2, 2, 2, 2, 1, 1, 1, 0, 0, 1, 2, 1, 2, 1, 2, 0, 2, 1, 2, 0, 2, 0, 2, 2, 2, 1, 2, 1, 1, 2, 1, 2, 2, 2, 2, 1, 0, 2, 1, 2, 1, 1, 2, 2, 1, 2, 1, 1, 2, 2, 0, 1, 1, 2, 2, 0, 1, 2, 1, 2, 1, 0, 2, 2, 0, 2, 0, 2, 1, 2, 1, 1, 1, 1, 2, 2, 2, 2, 1, 1, 2, 0, 2, 0, 2, 0, 1, 2, 2, 0, 2, 2, 1, 2, 2, 1, 2, 0, 2, 2, 2, 2, 2, 2, 0, 2, 2, 0, 2, 1, 1, 2, 0, 1, 2, 1, 2, 1, 0, 0, 2, 0, 2, 1, 0, 1, 2, 1, 1, 1, 1, 2, 2, 1, 0, 0, 1, 1, 2, 0, 0, 1, 2, 2, 2, 2, 2, 1, 2, 2, 2, 1, 2, 2, 2, 2, 2, 2, 2, 1, 1, 2, 2, 2, 2, 0, 1, 2, 2, 2, 2, 1, 0, 0, 1, 1, 2, 2, 1, 1, 0, 0, 2, 2, 2, 2, 2, 2, 1, 2, 1, 0, 2, 2, 2, 2, 1, 0, 2, 1, 2, 1, 1, 2, 1, 1, 1, 2, 0, 1, 0, 0, 2, 2, 2, 2, 2, 0, 2, 2, 1, 1, 1, 2, 2, 1, 2, 2, 0, 2, 1, 2, 1, 2, 2, 2, 2, 2, 0, 2, 2, 2, 2, 2, 2, 2, 2, 1, 2, 2, 2, 0, 1, 0, 2, 0, 1, 2, 0, 2, 0, 1, 1, 2, 1, 1, 0, 2, 1, 1, 2, 1, 2, 2, 2, 2, 2, 1, 1, 1, 0, 1, 0, 1, 2, 1, 2, 2, 2, 0, 1, 2, 2, 0, 2, 0, 2, 2, 2, 2, 1, 2, 2, 2, 2, 2, 0, 2, 0, 2, 2, 2, 0, 1, 0, 1, 2, 2, 0, 1, 2, 2, 2, 0, 1, 0, 2, 1, 2, 2, 2, 2, 1, 0, 1, 1, 2, 2, 2, 0, 2, 0, 2, 2, 2, 2, 2, 2, 2, 1, 2, 2, 1, 2, 2, 0, 2, 2, 2, 2, 1, 2, 2, 1, 1, 1, 2, 2, 0, 2, 0, 1, 2, 2, 2, 2, 2, 2, 1, 2, 0, 2, 2, 2, 2, 0, 2, 2, 0, 2, 2, 1, 2, 2, 2, 2, 2, 1, 2, 1, 2, 2, 0, 1, 2, 2, 0, 0, 1, 2, 1, 2, 1, 2, 0, 1, 2, 1, 1, 2, 2, 0, 2, 1, 2, 2, 1, 1, 1, 1, 1, 1, 2, 2, 0, 1, 1, 2, 2, 1, 1, 2, 2, 1, 2, 2, 0, 2, 2, 2, 2, 2, 1, 1, 2, 1, 1, 2, 2, 2, 2, 1, 2, 0, 2, 2, 2, 2, 2, 2, 0, 0, 1, 2, 2, 2, 1, 2, 1, 0, 0, 1, 2, 2, 0, 0, 2, 1, 2, 2, 1, 2, 2, 2, 1, 2, 2, 1, 2, 0, 1, 0, 2, 2, 2, 1, 1, 0, 2, 0, 2, 1, 0, 0, 0, 2, 1, 1, 2, 1, 2, 1, 0, 1, 2, 1, 2, 1, 2, 1, 1, 1, 0, 1, 2, 1, 2, 2, 1, 0, 2, 2, 2, 2, 2, 0, 2, 2, 2, 2, 2, 0, 2, 2, 2, 2, 0, 2, 0, 1, 1, 1, 2, 0, 0, 2, 1, 2, 1, 1, 2, 2, 0, 2, 1, 1, 1, 2, 1, 1, 2, 0, 1, 2, 2, 2, 2, 0, 2, 2, 0, 1, 1, 0, 1, 2, 2, 2, 2, 1, 0, 1, 1, 1, 1, 1, 1, 0, 1, 2, 2, 2, 2, 1, 2, 2, 2, 0, 2, 0, 2, 2, 1, 2, 2, 0, 2, 2, 0, 0, 2, 2, 1, 2, 1, 2, 2, 2, 0, 1, 0, 1, 2, 1, 2, 2, 1, 1, 1, 0, 0, 0, 0, 1, 1, 0, 2, 1, 1, 2, 0, 2, 0, 0, 2, 2, 2, 2, 2, 2, 1, 2, 2, 2, 2, 2, 2, 2, 2, 2, 2, 1, 2, 2, 1, 1, 1, 1, 0, 2, 2, 1, 1, 2, 1, 2, 1, 1, 0, 2, 1, 1, 0, 1, 2, 2, 2, 2, 2, 1, 2, 2, 1, 0, 1, 1, 0, 2, 1, 0, 2, 2, 0, 1, 0, 1, 0, 2, 1, 1, 1, 2, 1, 1, 2, 1, 2, 2, 1, 2, 2, 0, 0, 2, 1, 2, 1, 1, 1, 2, 1, 1, 1, 2, 0, 1, 2, 2, 2, 2, 0, 2, 2, 0, 2, 2, 2, 0, 2, 2, 1, 0, 1, 2, 2, 2, 2, 0, 0, 2, 2, 0, 2, 2, 1, 2, 2, 1, 0, 1, 1, 1, 2, 1, 2, 1, 1, 0, 1, 2, 1, 2, 2, 2, 0, 2, 2, 1, 2, 2, 2, 0, 2, 0, 0, 2, 2, 2, 2, 1, 2, 2, 2, 1, 2, 1, 0, 2, 1, 2, 0, 0, 2, 2, 2, 2, 2, 1, 1, 1, 0, 1, 0, 2, 1, 2, 0, 0, 2, 2, 0, 2, 1, 0, 1, 2, 2, 1, 2, 2, 0, 2, 0, 2, 2, 1, 1, 1, 2, 0, 2, 2, 0, 1, 2, 2, 1, 1, 2, 0, 2, 1, 1, 2, 1, 1, 0, 0, 2, 2, 1, 2, 2, 2, 1, 2, 0, 1, 1, 1, 1, 1, 1, 0, 0, 1, 1, 2, 0, 2, 0, 2, 2, 1, 0, 2, 2, 2, 2, 2, 1, 2, 2, 2, 1, 1, 1, 1, 0, 1, 2, 2, 0, 1, 1, 2, 0, 2, 2, 1, 0, 1, 2, 2, 0, 1, 2, 2, 2, 2, 1, 1, 1, 2, 2, 2, 1, 2, 1, 2, 0, 1, 1, 0, 2, 2, 2, 2, 1, 1, 1, 2, 1, 1, 1, 2, 2, 0, 1, 0, 1, 1, 2, 1, 0, 1, 1, 2, 2, 2, 2, 0, 0, 2, 2, 2, 2, 2, 0, 2, 1, 2, 0, 1, 2, 1, 1, 2, 0, 1, 2, 1, 1, 1, 1, 1, 0, 1, 2, 2, 1, 2, 1, 2, 1, 2, 2, 1, 2, 0, 2, 1, 0, 1, 0, 0, 2, 2, 2, 2, 1, 1, 0, 0, 2, 2, 1, 0, 2]\n"
     ]
    }
   ],
   "source": [
    "predictions = model4.predict(test_paded_sequences)\n",
    "predicted_labels = [tf.argmax(pred).numpy() for pred in predictions]\n",
    "print(f\"Predictions: {predicted_labels}\")"
   ]
  },
  {
   "cell_type": "code",
   "execution_count": 38,
   "id": "a53ffee0-7d19-4393-b726-9206094381ca",
   "metadata": {},
   "outputs": [
    {
     "name": "stdout",
     "output_type": "stream",
     "text": [
      "              precision    recall  f1-score   support\n",
      "\n",
      "           0       0.62      0.68      0.65      1054\n",
      "           1       0.72      0.60      0.65      2365\n",
      "           2       0.69      0.76      0.72      2750\n",
      "\n",
      "    accuracy                           0.68      6169\n",
      "   macro avg       0.67      0.68      0.67      6169\n",
      "weighted avg       0.69      0.68      0.68      6169\n",
      "\n"
     ]
    }
   ],
   "source": [
    "from sklearn.metrics import classification_report,confusion_matrix\n",
    "\n",
    "print(classification_report(y_test,predicted_labels))"
   ]
  },
  {
   "cell_type": "code",
   "execution_count": 39,
   "id": "29ed5a9c-1a3f-4243-8aa8-1e1d2bef37a6",
   "metadata": {},
   "outputs": [
    {
     "data": {
      "text/plain": [
       "Text(0.5, 1.0, 'Confusion Matrix')"
      ]
     },
     "execution_count": 39,
     "metadata": {},
     "output_type": "execute_result"
    },
    {
     "data": {
      "image/png": "[encoded data removed]",
      "text/plain": [
       "<Figure size 640x480 with 2 Axes>"
      ]
     },
     "metadata": {},
     "output_type": "display_data"
    }
   ],
   "source": [
    "import seaborn as sns\n",
    "import matplotlib.pyplot as plt\n",
    "sns.heatmap(confusion_matrix(y_test,predicted_labels))\n",
    "plt.xlabel('Predicted Labels')\n",
    "plt.ylabel('True Labels')\n",
    "plt.title('Confusion Matrix')"
   ]
  },
  {
   "cell_type": "code",
   "execution_count": 40,
   "id": "4419f3e1-d983-468e-982c-dd1f7926d46c",
   "metadata": {},
   "outputs": [
    {
     "name": "stderr",
     "output_type": "stream",
     "text": [
      "WARNING:absl:You are saving your model as an HDF5 file via `model.save()` or `keras.saving.save_model(model)`. This file format is considered legacy. We recommend using instead the native Keras format, e.g. `model.save('my_model.keras')` or `keras.saving.save_model(model, 'my_model.keras')`. \n"
     ]
    }
   ],
   "source": [
    "model4.save(\"final_model.hdf5\")"
   ]
  },
  {
   "cell_type": "code",
   "execution_count": null,
   "id": "b94e5f80-7558-497d-a2e2-071b67a6db1c",
   "metadata": {},
   "outputs": [],
   "source": []
  }
 ],
 "metadata": {
  "kernelspec": {
   "display_name": "Python 3 (ipykernel)",
   "language": "python",
   "name": "python3"
  },
  "language_info": {
   "codemirror_mode": {
    "name": "ipython",
    "version": 3
   },
   "file_extension": ".py",
   "mimetype": "text/x-python",
   "name": "python",
   "nbconvert_exporter": "python",
   "pygments_lexer": "ipython3",
   "version": "3.10.12"
  }
 },
 "nbformat": 4,
 "nbformat_minor": 5
}
