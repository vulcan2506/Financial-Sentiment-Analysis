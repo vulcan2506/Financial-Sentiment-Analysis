{
 "cells": [
  {
   "cell_type": "code",
   "execution_count": 1,
   "id": "b0bc9294-b950-457b-8d90-ec40b32c28f2",
   "metadata": {},
   "outputs": [],
   "source": [
    "from langchain_community.document_loaders import PyPDFLoader, DirectoryLoader\n",
    "from langchain.prompts import PromptTemplate\n",
    "from langchain_community.embeddings import HuggingFaceEmbeddings\n",
    "from langchain_community.vectorstores import FAISS\n",
    "from langchain_community.llms import CTransformers\n",
    "from langchain.chains import RetrievalQA\n",
    "import chainlit as cl"
   ]
  },
  {
   "cell_type": "code",
   "execution_count": 2,
   "id": "d6f83a43-94ab-4e96-9186-10076c69aa61",
   "metadata": {},
   "outputs": [
    {
     "name": "stderr",
     "output_type": "stream",
     "text": [
      "/usr/lib/python3/dist-packages/scipy/__init__.py:146: UserWarning: A NumPy version >=1.17.3 and <1.25.0 is required for this version of SciPy (detected version 1.26.4\n",
      "  warnings.warn(f\"A NumPy version >={np_minversion} and <{np_maxversion}\"\n"
     ]
    },
    {
     "name": "stdout",
     "output_type": "stream",
     "text": [
      "2024-09-03 22:33:04 - Load pretrained SentenceTransformer: sentence-transformers/all-MiniLM-L6-v2\n"
     ]
    },
    {
     "name": "stderr",
     "output_type": "stream",
     "text": [
      "/home/vulcan/.local/lib/python3.10/site-packages/huggingface_hub/file_download.py:1132: FutureWarning: `resume_download` is deprecated and will be removed in version 1.0.0. Downloads always resume when possible. If you want to force a new download, use `force_download=True`.\n",
      "  warnings.warn(\n"
     ]
    },
    {
     "name": "stdout",
     "output_type": "stream",
     "text": [
      "2024-09-03 22:33:09 - Loading faiss with AVX2 support.\n",
      "2024-09-03 22:33:09 - Successfully loaded faiss with AVX2 support.\n"
     ]
    },
    {
     "data": {
      "application/vnd.jupyter.widget-view+json": {
       "model_id": "a16a302dfe18456fae07c4568d275990",
       "version_major": 2,
       "version_minor": 0
      },
      "text/plain": [
       "Fetching 1 files:   0%|          | 0/1 [00:00<?, ?it/s]"
      ]
     },
     "metadata": {},
     "output_type": "display_data"
    },
    {
     "data": {
      "application/vnd.jupyter.widget-view+json": {
       "model_id": "1f69088a6d934ace91d4ac95fe180e34",
       "version_major": 2,
       "version_minor": 0
      },
      "text/plain": [
       "Fetching 1 files:   0%|          | 0/1 [00:00<?, ?it/s]"
      ]
     },
     "metadata": {},
     "output_type": "display_data"
    },
    {
     "name": "stderr",
     "output_type": "stream",
     "text": [
      "/home/vulcan/.local/lib/python3.10/site-packages/langchain_core/_api/deprecation.py:119: LangChainDeprecationWarning: The method `Chain.__call__` was deprecated in langchain 0.1.0 and will be removed in 0.3.0. Use invoke instead.\n",
      "  warn_deprecated(\n"
     ]
    },
    {
     "data": {
      "text/plain": [
       "{'query': 'Explain The Sentiment, corn net income drop 13 share fall and State why It is Negative Sentiment',\n",
       " 'result': \"Sentiment refers to the emotional response of investors towards certain asset characteristics. It can have a negative impact on asset values if investors become risk-averse or decide that there's little point in holding assets due to poor performance. In this case, the 13 share fall in corn net income is likely a result of negative sentiment among investors regarding the performance of the company.\",\n",
       " 'source_documents': [Document(page_content='sentiment shifts.4 This leads researchers from the behaviouralist side of the fence to make the \\nclaim that the impact of sentiment on asset values is an irrefutable fact of life. The only issue \\nremaining is how to measure it (Baker and Wurgler 2007). Such strong statements seem to be \\nexaggerated, as sentiment is only one of a list of possible explanations for various puzzles \\nobserved in the literature. Moreover, just as there are different ways to measure the efficiency', metadata={'source': 'data/investor-sentiment-in-financial-markets.pdf', 'page': 6}),\n",
       "  Document(page_content='experience, and possible symptoms of sentiment might be analysed in laboratory settings. \\nThe rest of the survey is structured as follows. Section 2 suggests sentiment as a \\nchallenge to the EMH. Section 3 sketches sentiment as a candidate explanation for certain \\npuzzles and section 4 as an explanation for investors’ different evaluations of asset\\ncharacteristics. Section 5 outlines the above described directions for future research. Section 6\\nconcludes.', metadata={'source': 'data/investor-sentiment-in-financial-markets.pdf', 'page': 2})]}"
      ]
     },
     "execution_count": 2,
     "metadata": {},
     "output_type": "execute_result"
    }
   ],
   "source": [
    "DB_FAISS_PATH = 'vectorstores/db_faiss'\n",
    "\n",
    "custom_prompt_template = \"\"\"Use the following pieces of information to answer the user's question.\n",
    "If you don't know the answer, just say that you don't know, don't try to make up an answer.\n",
    "\n",
    "Context: {context}\n",
    "Question: {question}\n",
    "\n",
    "Only return the helpful answer below and nothing else.\n",
    "Helpful answer:\n",
    "\"\"\"\n",
    "\n",
    "def custom_prompt():\n",
    "    prompt = PromptTemplate(template=custom_prompt_template, \n",
    "                            input_variables=['context','question'])\n",
    "    return prompt\n",
    "\n",
    "def retrieval_qa(llm,prompt,db):\n",
    "    retrieval = RetrievalQA.from_chain_type(\n",
    "        llm = llm,\n",
    "        chain_type=\"stuff\",\n",
    "        retriever = db.as_retriever(search_kwargs={'k':2}),\n",
    "        return_source_documents=True,\n",
    "        chain_type_kwargs = {\"prompt\":prompt}\n",
    "    )\n",
    "    return retrieval\n",
    "\n",
    "def load_llm():\n",
    "    llm = CTransformers(model=\"TheBloke/Llama-2-7B-Chat-GGML\",\n",
    "                        model_type=\"llama\",\n",
    "                        max_new_tokens=512,\n",
    "                        temperature=0.5)\n",
    "    return llm\n",
    "    \n",
    "def qa_bot():\n",
    "    embeddings = HuggingFaceEmbeddings(model_name=\"sentence-transformers/all-MiniLM-L6-v2\",\n",
    "                                       model_kwargs={\"device\":\"cpu\"})\n",
    "    db = FAISS.load_local(DB_FAISS_PATH,embeddings,allow_dangerous_deserialization=True)\n",
    "    llm = load_llm()\n",
    "    qa_prompt = custom_prompt()\n",
    "    qa = retrieval_qa(llm, qa_prompt, db)\n",
    "    return qa\n",
    "\n",
    "def final_result():\n",
    "    qa_result = qa_bot()\n",
    "    response = qa_result({'query': \"Explain The Sentiment, corn net income drop 13 share fall and State why It is Negative Sentiment\"})\n",
    "    return response\n",
    "\n",
    "final_result()"
   ]
  },
  {
   "cell_type": "code",
   "execution_count": null,
   "id": "9a9e1827-28f0-4ec9-9702-aee0292c1da0",
   "metadata": {},
   "outputs": [],
   "source": []
  },
  {
   "cell_type": "code",
   "execution_count": null,
   "id": "5d098504-2149-413a-8c9d-7ed303057acf",
   "metadata": {},
   "outputs": [],
   "source": []
  }
 ],
 "metadata": {
  "kernelspec": {
   "display_name": "Python 3 (ipykernel)",
   "language": "python",
   "name": "python3"
  },
  "language_info": {
   "codemirror_mode": {
    "name": "ipython",
    "version": 3
   },
   "file_extension": ".py",
   "mimetype": "text/x-python",
   "name": "python",
   "nbconvert_exporter": "python",
   "pygments_lexer": "ipython3",
   "version": "3.10.12"
  }
 },
 "nbformat": 4,
 "nbformat_minor": 5
}
