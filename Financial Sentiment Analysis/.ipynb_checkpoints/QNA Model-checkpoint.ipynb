{
 "cells": [
  {
   "cell_type": "code",
   "execution_count": 1,
   "id": "b0bc9294-b950-457b-8d90-ec40b32c28f2",
   "metadata": {},
   "outputs": [],
   "source": [
    "from langchain_community.document_loaders import PyPDFLoader, DirectoryLoader\n",
    "from langchain.prompts import PromptTemplate\n",
    "from langchain_community.embeddings import HuggingFaceEmbeddings\n",
    "from langchain_community.vectorstores import FAISS\n",
    "from langchain_community.llms import CTransformers\n",
    "from langchain.chains import RetrievalQA\n",
    "import chainlit as cl"
   ]
  },
  {
   "cell_type": "code",
   "execution_count": 3,
   "id": "d6f83a43-94ab-4e96-9186-10076c69aa61",
   "metadata": {},
   "outputs": [
    {
     "name": "stdout",
     "output_type": "stream",
     "text": [
      "2024-08-31 23:51:25 - Load pretrained SentenceTransformer: sentence-transformers/all-MiniLM-L6-v2\n"
     ]
    },
    {
     "name": "stderr",
     "output_type": "stream",
     "text": [
      "/home/vulcan/.local/lib/python3.10/site-packages/huggingface_hub/file_download.py:1132: FutureWarning: `resume_download` is deprecated and will be removed in version 1.0.0. Downloads always resume when possible. If you want to force a new download, use `force_download=True`.\n",
      "  warnings.warn(\n"
     ]
    },
    {
     "data": {
      "application/vnd.jupyter.widget-view+json": {
       "model_id": "91af4950badf460bb582cf4cb2cb1a37",
       "version_major": 2,
       "version_minor": 0
      },
      "text/plain": [
       "Fetching 1 files:   0%|          | 0/1 [00:00<?, ?it/s]"
      ]
     },
     "metadata": {},
     "output_type": "display_data"
    },
    {
     "data": {
      "application/vnd.jupyter.widget-view+json": {
       "model_id": "0bf04cf5e207423fa18e35b762bd6dd3",
       "version_major": 2,
       "version_minor": 0
      },
      "text/plain": [
       "Fetching 1 files:   0%|          | 0/1 [00:00<?, ?it/s]"
      ]
     },
     "metadata": {},
     "output_type": "display_data"
    },
    {
     "name": "stderr",
     "output_type": "stream",
     "text": [
      "/home/vulcan/.local/lib/python3.10/site-packages/langchain_core/_api/deprecation.py:119: LangChainDeprecationWarning: The method `Chain.__call__` was deprecated in langchain 0.1.0 and will be removed in 0.3.0. Use invoke instead.\n",
      "  warn_deprecated(\n"
     ]
    },
    {
     "data": {
      "text/plain": [
       "{'query': 'maligant',\n",
       " 'result': '1. Can a single melanoma tumor infiltrate healthy tissue?',\n",
       " 'source_documents': [Document(page_content='either basal cell carcinomas, or malignant melanomas,two types of skin cancer. Malignant melanomas, whichdevelop from skin cells that produce the brown pigmentcalled melanin, are far more common on areas of thebody exposed to the sun.\\nApproximately 3,500 Americans will be diagnosed', metadata={'source': 'data/71763-gale-encyclopedia-of-medicine.-vol.-1.-2nd-ed.pdf', 'page': 183}),\n",
       "  Document(page_content='Mid-grade and high-grade tumors grow more rapid-\\nly than low-grade tumors. Described as “truly malig-nant,” these tumors usually infiltrate healthy tissue. Thegrowth pattern makes it difficult to remove the entiretumor, and these tumors recur more often than low-gradetumors.\\nA single brain tumor can contain several different', metadata={'source': 'data/71763-gale-encyclopedia-of-medicine.-vol.-1.-2nd-ed.pdf', 'page': 582})]}"
      ]
     },
     "execution_count": 3,
     "metadata": {},
     "output_type": "execute_result"
    }
   ],
   "source": [
    "DB_FAISS_PATH = 'vectorstores/db_faiss'\n",
    "\n",
    "custom_prompt_template = \"\"\"Use the following pieces of information to answer the user's question.\n",
    "If you don't know the answer, just say that you don't know, don't try to make up an answer.\n",
    "\n",
    "Context: {context}\n",
    "Question: {question}\n",
    "\n",
    "Only return the helpful answer below and nothing else.\n",
    "Helpful answer:\n",
    "\"\"\"\n",
    "\n",
    "def custom_prompt():\n",
    "    prompt = PromptTemplate(template=custom_prompt_template, \n",
    "                            input_variables=['context','question'])\n",
    "    return prompt\n",
    "\n",
    "def retrieval_qa(llm,prompt,db):\n",
    "    retrieval = RetrievalQA.from_chain_type(\n",
    "        llm = llm,\n",
    "        chain_type=\"stuff\",\n",
    "        retriever = db.as_retriever(search_kwargs={'k':2}),\n",
    "        return_source_documents=True,\n",
    "        chain_type_kwargs = {\"prompt\":prompt}\n",
    "    )\n",
    "    return retrieval\n",
    "\n",
    "def load_llm():\n",
    "    llm = CTransformers(model=\"TheBloke/Llama-2-7B-Chat-GGML\",\n",
    "                        model_type=\"llama\",\n",
    "                        max_new_tokens=512,\n",
    "                        temperature=0.5)\n",
    "    return llm\n",
    "    \n",
    "def qa_bot():\n",
    "    embeddings = HuggingFaceEmbeddings(model_name=\"sentence-transformers/all-MiniLM-L6-v2\",\n",
    "                                       model_kwargs={\"device\":\"cpu\"})\n",
    "    db = FAISS.load_local(DB_FAISS_PATH,embeddings,allow_dangerous_deserialization=True)\n",
    "    llm = load_llm()\n",
    "    qa_prompt = custom_prompt()\n",
    "    qa = retrieval_qa(llm, qa_prompt, db)\n",
    "    return qa\n",
    "\n",
    "def final_result():\n",
    "    qa_result = qa_bot()\n",
    "    response = qa_result({'query': \"maligant\"})\n",
    "    return response\n",
    "\n",
    "final_result()"
   ]
  },
  {
   "cell_type": "code",
   "execution_count": null,
   "id": "9a9e1827-28f0-4ec9-9702-aee0292c1da0",
   "metadata": {},
   "outputs": [],
   "source": []
  },
  {
   "cell_type": "code",
   "execution_count": null,
   "id": "5d098504-2149-413a-8c9d-7ed303057acf",
   "metadata": {},
   "outputs": [],
   "source": []
  }
 ],
 "metadata": {
  "kernelspec": {
   "display_name": "Python 3 (ipykernel)",
   "language": "python",
   "name": "python3"
  },
  "language_info": {
   "codemirror_mode": {
    "name": "ipython",
    "version": 3
   },
   "file_extension": ".py",
   "mimetype": "text/x-python",
   "name": "python",
   "nbconvert_exporter": "python",
   "pygments_lexer": "ipython3",
   "version": "3.10.12"
  }
 },
 "nbformat": 4,
 "nbformat_minor": 5
}
